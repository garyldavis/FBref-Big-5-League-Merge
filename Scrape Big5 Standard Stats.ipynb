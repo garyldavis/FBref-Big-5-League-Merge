{
 "cells": [
  {
   "cell_type": "markdown",
   "metadata": {
    "id": "0XFPIZmjtLbb"
   },
   "source": [
    "## How to Scrap Big 5 Standard Stats from FBREF - Soccer/Football\n"
   ]
  },
  {
   "cell_type": "markdown",
   "metadata": {
    "id": "-AQZU0n4StVq"
   },
   "source": [
    "Method 1\n",
    "\n",
    "We could modularize the URL and year strings of text that may be useful for programmatic access (in the subsequent code cell)."
   ]
  },
  {
   "cell_type": "code",
   "execution_count": null,
   "metadata": {
    "executionInfo": {
     "elapsed": 114,
     "status": "ok",
     "timestamp": 1642633621668,
     "user": {
      "displayName": "Gary Davis",
      "photoUrl": "https://lh3.googleusercontent.com/a/default-user=s64",
      "userId": "10026740531512816388"
     },
     "user_tz": 360
    },
    "id": "tZ82DBWaNNSD"
   },
   "outputs": [],
   "source": [
    "import requests\n",
    "import pandas as pd\n",
    "from unidecode import unidecode"
   ]
  },
  {
   "cell_type": "code",
   "execution_count": null,
   "metadata": {
    "executionInfo": {
     "elapsed": 1385,
     "status": "ok",
     "timestamp": 1642633623159,
     "user": {
      "displayName": "Gary Davis",
      "photoUrl": "https://lh3.googleusercontent.com/a/default-user=s64",
      "userId": "10026740531512816388"
     },
     "user_tz": 360
    },
    "id": "q6XTBpKn21WY"
   },
   "outputs": [],
   "source": [
    "url = 'https://fbref.com/en/comps/Big5/stats/players/Big-5-European-Leagues-Stats'\n",
    "html_content = requests.get(url).text.replace('<!--', '').replace('-->', '')\n",
    "df = pd.read_html(html_content)"
   ]
  },
  {
   "cell_type": "code",
   "execution_count": null,
   "metadata": {
    "colab": {
     "base_uri": "https://localhost:8080/",
     "height": 745
    },
    "executionInfo": {
     "elapsed": 124,
     "status": "ok",
     "timestamp": 1642633623279,
     "user": {
      "displayName": "Gary Davis",
      "photoUrl": "https://lh3.googleusercontent.com/a/default-user=s64",
      "userId": "10026740531512816388"
     },
     "user_tz": 360
    },
    "id": "FGtaYTguBG37",
    "outputId": "53c858e1-dad0-4654-d1e1-6dbfedcdbe18"
   },
   "outputs": [],
   "source": [
    "df[1].head(50)"
   ]
  },
  {
   "cell_type": "markdown",
   "metadata": {
    "id": "wlDt8TTxSvEz"
   },
   "source": [
    "Method 2"
   ]
  },
  {
   "cell_type": "code",
   "execution_count": null,
   "metadata": {
    "executionInfo": {
     "elapsed": 7,
     "status": "ok",
     "timestamp": 1642633623280,
     "user": {
      "displayName": "Gary Davis",
      "photoUrl": "https://lh3.googleusercontent.com/a/default-user=s64",
      "userId": "10026740531512816388"
     },
     "user_tz": 360
    },
    "id": "-x78Rt_iRmCa"
   },
   "outputs": [],
   "source": [
    "#url = 'https://fbref.com/en/comps/Big5/defense/players/Big-5-European-Leagues-Stats'"
   ]
  },
  {
   "cell_type": "markdown",
   "metadata": {
    "id": "fhVY2xJJS0FU"
   },
   "source": [
    "Read HTML webpage into pandas"
   ]
  },
  {
   "cell_type": "markdown",
   "metadata": {
    "id": "Sk1EUVeFUXPq"
   },
   "source": [
    "Using pd.read_html() function to read HTML webpage"
   ]
  },
  {
   "cell_type": "code",
   "execution_count": null,
   "metadata": {
    "colab": {
     "base_uri": "https://localhost:8080/"
    },
    "executionInfo": {
     "elapsed": 240,
     "status": "ok",
     "timestamp": 1642633623513,
     "user": {
      "displayName": "Gary Davis",
      "photoUrl": "https://lh3.googleusercontent.com/a/default-user=s64",
      "userId": "10026740531512816388"
     },
     "user_tz": 360
    },
    "id": "4sLS78K-S-r2",
    "outputId": "e21d4387-bd2e-4f27-fd73-d66d8ff8749a"
   },
   "outputs": [],
   "source": [
    "df"
   ]
  },
  {
   "cell_type": "markdown",
   "metadata": {
    "id": "iVtWB7zuUWIp"
   },
   "source": [
    "How many tables are there in the webpage?"
   ]
  },
  {
   "cell_type": "code",
   "execution_count": null,
   "metadata": {
    "colab": {
     "base_uri": "https://localhost:8080/"
    },
    "executionInfo": {
     "elapsed": 6,
     "status": "ok",
     "timestamp": 1642633623513,
     "user": {
      "displayName": "Gary Davis",
      "photoUrl": "https://lh3.googleusercontent.com/a/default-user=s64",
      "userId": "10026740531512816388"
     },
     "user_tz": 360
    },
    "id": "BdIXrthuTApH",
    "outputId": "ade325ef-5b53-40dc-c9f8-615283ed9081"
   },
   "outputs": [],
   "source": [
    "len(df)"
   ]
  },
  {
   "cell_type": "code",
   "execution_count": null,
   "metadata": {
    "executionInfo": {
     "elapsed": 114,
     "status": "ok",
     "timestamp": 1642633623625,
     "user": {
      "displayName": "Gary Davis",
      "photoUrl": "https://lh3.googleusercontent.com/a/default-user=s64",
      "userId": "10026740531512816388"
     },
     "user_tz": 360
    },
    "id": "mubGqqp04nmt"
   },
   "outputs": [],
   "source": [
    "df[1].columns = df[1].columns.droplevel(0) # drop top header row"
   ]
  },
  {
   "cell_type": "markdown",
   "metadata": {
    "id": "glCMVlkWU6ik"
   },
   "source": [
    "Select the first table"
   ]
  },
  {
   "cell_type": "code",
   "execution_count": null,
   "metadata": {
    "colab": {
     "base_uri": "https://localhost:8080/",
     "height": 696
    },
    "executionInfo": {
     "elapsed": 5,
     "status": "ok",
     "timestamp": 1642633623625,
     "user": {
      "displayName": "Gary Davis",
      "photoUrl": "https://lh3.googleusercontent.com/a/default-user=s64",
      "userId": "10026740531512816388"
     },
     "user_tz": 360
    },
    "id": "Pv0NHbFeTrEp",
    "outputId": "3f798c26-17eb-4ef3-f8e0-a66d63600a26"
   },
   "outputs": [],
   "source": [
    "df[1]"
   ]
  },
  {
   "cell_type": "code",
   "execution_count": null,
   "metadata": {
    "executionInfo": {
     "elapsed": 4,
     "status": "ok",
     "timestamp": 1642633623625,
     "user": {
      "displayName": "Gary Davis",
      "photoUrl": "https://lh3.googleusercontent.com/a/default-user=s64",
      "userId": "10026740531512816388"
     },
     "user_tz": 360
    },
    "id": "owwSCuZYU-sT"
   },
   "outputs": [],
   "source": [
    "dfdata = df[1]"
   ]
  },
  {
   "cell_type": "markdown",
   "metadata": {
    "id": "laW205ykvn0S"
   },
   "source": [
    "Data cleaning"
   ]
  },
  {
   "cell_type": "markdown",
   "metadata": {
    "id": "b-cH41xd54Tw"
   },
   "source": [
    "We can see that the table header is presented multiple times in several rows."
   ]
  },
  {
   "cell_type": "code",
   "execution_count": null,
   "metadata": {
    "colab": {
     "base_uri": "https://localhost:8080/",
     "height": 1000
    },
    "executionInfo": {
     "elapsed": 156,
     "status": "ok",
     "timestamp": 1642633623778,
     "user": {
      "displayName": "Gary Davis",
      "photoUrl": "https://lh3.googleusercontent.com/a/default-user=s64",
      "userId": "10026740531512816388"
     },
     "user_tz": 360
    },
    "id": "6St9yeuZg9rf",
    "outputId": "04b3bdd2-c60a-44a3-b2fa-2435c1404675"
   },
   "outputs": [],
   "source": [
    "dfdata[dfdata.Age == 'Age']"
   ]
  },
  {
   "cell_type": "code",
   "execution_count": null,
   "metadata": {
    "colab": {
     "base_uri": "https://localhost:8080/"
    },
    "executionInfo": {
     "elapsed": 5,
     "status": "ok",
     "timestamp": 1642633623778,
     "user": {
      "displayName": "Gary Davis",
      "photoUrl": "https://lh3.googleusercontent.com/a/default-user=s64",
      "userId": "10026740531512816388"
     },
     "user_tz": 360
    },
    "id": "rdRg9UDI5lus",
    "outputId": "a49923ae-aa19-4c67-f596-98d661aded10"
   },
   "outputs": [],
   "source": [
    "len(dfdata[dfdata.Age == 'Age'])"
   ]
  },
  {
   "cell_type": "code",
   "execution_count": null,
   "metadata": {
    "executionInfo": {
     "elapsed": 4,
     "status": "ok",
     "timestamp": 1642633623779,
     "user": {
      "displayName": "Gary Davis",
      "photoUrl": "https://lh3.googleusercontent.com/a/default-user=s64",
      "userId": "10026740531512816388"
     },
     "user_tz": 360
    },
    "id": "lG34yiD5e_Cs"
   },
   "outputs": [],
   "source": [
    "dfstandard = dfdata.drop(dfdata[dfdata.Age == 'Age'].index)"
   ]
  },
  {
   "cell_type": "code",
   "execution_count": null,
   "metadata": {
    "colab": {
     "base_uri": "https://localhost:8080/"
    },
    "executionInfo": {
     "elapsed": 119,
     "status": "ok",
     "timestamp": 1642633623894,
     "user": {
      "displayName": "Gary Davis",
      "photoUrl": "https://lh3.googleusercontent.com/a/default-user=s64",
      "userId": "10026740531512816388"
     },
     "user_tz": 360
    },
    "id": "QQHt_VHquyNJ",
    "outputId": "0b209e23-d6d5-4746-9b28-66626a1ba332"
   },
   "outputs": [],
   "source": [
    "dfstandard.shape"
   ]
  },
  {
   "cell_type": "code",
   "execution_count": null,
   "metadata": {
    "colab": {
     "base_uri": "https://localhost:8080/"
    },
    "executionInfo": {
     "elapsed": 7,
     "status": "ok",
     "timestamp": 1642633623895,
     "user": {
      "displayName": "Gary Davis",
      "photoUrl": "https://lh3.googleusercontent.com/a/default-user=s64",
      "userId": "10026740531512816388"
     },
     "user_tz": 360
    },
    "id": "oiqcguu_vWmR",
    "outputId": "d8c0e8eb-3722-4cf5-e701-18153a948476"
   },
   "outputs": [],
   "source": [
    "dfstandard.columns"
   ]
  },
  {
   "cell_type": "code",
   "execution_count": null,
   "metadata": {
    "executionInfo": {
     "elapsed": 6,
     "status": "ok",
     "timestamp": 1642633623895,
     "user": {
      "displayName": "Gary Davis",
      "photoUrl": "https://lh3.googleusercontent.com/a/default-user=s64",
      "userId": "10026740531512816388"
     },
     "user_tz": 360
    },
    "id": "cnn14aD0vHmU"
   },
   "outputs": [],
   "source": [
    "#Convert string to float\n",
    "dfstandard['90s'] = dfstandard['90s'].astype(float)\n",
    "dfstandard['Gls'] = dfstandard['Gls'].astype(float)\n",
    "dfstandard['Ast'] = dfstandard['Ast'].astype(float)\n",
    "dfstandard['G-PK'] = dfstandard['G-PK'].astype(float)\n",
    "dfstandard['PK'] = dfstandard['PK'].astype(float)\n",
    "dfstandard['PKatt'] = dfstandard['PKatt'].astype(float)\n",
    "dfstandard['CrdY'] = dfstandard['CrdY'].astype(float)\n",
    "dfstandard['CrdR'] = dfstandard['CrdR'].astype(float)\n",
    "dfstandard['Gls'] = dfstandard['Gls'].astype(float)\n",
    "dfstandard['Ast'] = dfstandard['Ast'].astype(float)\n",
    "dfstandard['G+A'] = dfstandard['G+A'].astype(float)\n",
    "dfstandard['G-PK'] = dfstandard['G-PK'].astype(float)\n",
    "dfstandard['G+A-PK'] = dfstandard['G+A-PK'].astype(float)\n",
    "dfstandard['xG'] = dfstandard['xG'].astype(float)\n",
    "dfstandard['npxG'] = dfstandard['npxG'].astype(float)\n",
    "dfstandard['xA'] = dfstandard['xA'].astype(float)\n",
    "dfstandard['npxG+xA'] = dfstandard['npxG+xA'].astype(float)\n",
    "dfstandard['xG'] = dfstandard['xG'].astype(float)\n",
    "dfstandard['xA'] = dfstandard['xA'].astype(float)\n",
    "dfstandard['xG+xA'] = dfstandard['xG+xA'].astype(float)\n",
    "dfstandard['npxG'] = dfstandard['npxG'].astype(float)\n",
    "dfstandard['npxG+xA'] = dfstandard['npxG+xA'].astype(float)"
   ]
  },
  {
   "cell_type": "code",
   "execution_count": null,
   "metadata": {
    "colab": {
     "base_uri": "https://localhost:8080/"
    },
    "executionInfo": {
     "elapsed": 6,
     "status": "ok",
     "timestamp": 1642633623895,
     "user": {
      "displayName": "Gary Davis",
      "photoUrl": "https://lh3.googleusercontent.com/a/default-user=s64",
      "userId": "10026740531512816388"
     },
     "user_tz": 360
    },
    "id": "CK79mVkp5biw",
    "outputId": "6d4add92-23f4-4300-a15c-e847746f4a70"
   },
   "outputs": [],
   "source": [
    "dfstandard.info()"
   ]
  },
  {
   "cell_type": "code",
   "execution_count": null,
   "metadata": {
    "executionInfo": {
     "elapsed": 158,
     "status": "ok",
     "timestamp": 1642633624049,
     "user": {
      "displayName": "Gary Davis",
      "photoUrl": "https://lh3.googleusercontent.com/a/default-user=s64",
      "userId": "10026740531512816388"
     },
     "user_tz": 360
    },
    "id": "uVLC-XRPrzVq"
   },
   "outputs": [],
   "source": [
    "#rename duplicate columns but not the first\n",
    "cols = []\n",
    "count = 1\n",
    "for column in dfstandard.columns:\n",
    "    if column == 'Gls':\n",
    "        cols.append(f'Gls_{count}')\n",
    "        count+=1\n",
    "        continue\n",
    "    cols.append(column)\n",
    "dfstandard.columns = cols"
   ]
  },
  {
   "cell_type": "code",
   "execution_count": null,
   "metadata": {
    "executionInfo": {
     "elapsed": 10,
     "status": "ok",
     "timestamp": 1642633624049,
     "user": {
      "displayName": "Gary Davis",
      "photoUrl": "https://lh3.googleusercontent.com/a/default-user=s64",
      "userId": "10026740531512816388"
     },
     "user_tz": 360
    },
    "id": "S_oQmVmbg-fu"
   },
   "outputs": [],
   "source": [
    "cols = []\n",
    "count = 1\n",
    "for column in dfstandard.columns:\n",
    "    if column == 'Ast':\n",
    "        cols.append(f'Ast_{count}')\n",
    "        count+=1\n",
    "        continue\n",
    "    cols.append(column)\n",
    "dfstandard.columns = cols"
   ]
  },
  {
   "cell_type": "code",
   "execution_count": null,
   "metadata": {
    "executionInfo": {
     "elapsed": 8,
     "status": "ok",
     "timestamp": 1642633624049,
     "user": {
      "displayName": "Gary Davis",
      "photoUrl": "https://lh3.googleusercontent.com/a/default-user=s64",
      "userId": "10026740531512816388"
     },
     "user_tz": 360
    },
    "id": "OsHU3HD6hEk4"
   },
   "outputs": [],
   "source": [
    "cols = []\n",
    "count = 1\n",
    "for column in dfstandard.columns:\n",
    "    if column == 'G-PK':\n",
    "        cols.append(f'G-PK_{count}')\n",
    "        count+=1\n",
    "        continue\n",
    "    cols.append(column)\n",
    "dfstandard.columns = cols"
   ]
  },
  {
   "cell_type": "code",
   "execution_count": null,
   "metadata": {
    "executionInfo": {
     "elapsed": 9,
     "status": "ok",
     "timestamp": 1642633624050,
     "user": {
      "displayName": "Gary Davis",
      "photoUrl": "https://lh3.googleusercontent.com/a/default-user=s64",
      "userId": "10026740531512816388"
     },
     "user_tz": 360
    },
    "id": "p_saVQyYhLKE"
   },
   "outputs": [],
   "source": [
    "cols = []\n",
    "count = 1\n",
    "for column in dfstandard.columns:\n",
    "    if column == 'xG':\n",
    "        cols.append(f'xG_{count}')\n",
    "        count+=1\n",
    "        continue\n",
    "    cols.append(column)\n",
    "dfstandard.columns = cols"
   ]
  },
  {
   "cell_type": "code",
   "execution_count": null,
   "metadata": {
    "executionInfo": {
     "elapsed": 8,
     "status": "ok",
     "timestamp": 1642633624050,
     "user": {
      "displayName": "Gary Davis",
      "photoUrl": "https://lh3.googleusercontent.com/a/default-user=s64",
      "userId": "10026740531512816388"
     },
     "user_tz": 360
    },
    "id": "4gvmqFGLhRIX"
   },
   "outputs": [],
   "source": [
    "cols = []\n",
    "count = 1\n",
    "for column in dfstandard.columns:\n",
    "    if column == 'npxG':\n",
    "        cols.append(f'npxG_{count}')\n",
    "        count+=1\n",
    "        continue\n",
    "    cols.append(column)\n",
    "dfstandard.columns = cols"
   ]
  },
  {
   "cell_type": "code",
   "execution_count": null,
   "metadata": {
    "executionInfo": {
     "elapsed": 7,
     "status": "ok",
     "timestamp": 1642633624050,
     "user": {
      "displayName": "Gary Davis",
      "photoUrl": "https://lh3.googleusercontent.com/a/default-user=s64",
      "userId": "10026740531512816388"
     },
     "user_tz": 360
    },
    "id": "uo_YuzWljBe9"
   },
   "outputs": [],
   "source": [
    "cols = []\n",
    "count = 1\n",
    "for column in dfstandard.columns:\n",
    "    if column == 'xA':\n",
    "        cols.append(f'xA_{count}')\n",
    "        count+=1\n",
    "        continue\n",
    "    cols.append(column)\n",
    "dfstandard.columns = cols"
   ]
  },
  {
   "cell_type": "code",
   "execution_count": null,
   "metadata": {
    "executionInfo": {
     "elapsed": 7,
     "status": "ok",
     "timestamp": 1642633624051,
     "user": {
      "displayName": "Gary Davis",
      "photoUrl": "https://lh3.googleusercontent.com/a/default-user=s64",
      "userId": "10026740531512816388"
     },
     "user_tz": 360
    },
    "id": "ljkibZp9hars"
   },
   "outputs": [],
   "source": [
    "cols = []\n",
    "count = 1\n",
    "for column in dfstandard.columns:\n",
    "    if column == 'npxG+xA':\n",
    "        cols.append(f'npxG+xA_{count}')\n",
    "        count+=1\n",
    "        continue\n",
    "    cols.append(column)\n",
    "dfstandard.columns = cols"
   ]
  },
  {
   "cell_type": "code",
   "execution_count": null,
   "metadata": {
    "executionInfo": {
     "elapsed": 114,
     "status": "ok",
     "timestamp": 1642633624158,
     "user": {
      "displayName": "Gary Davis",
      "photoUrl": "https://lh3.googleusercontent.com/a/default-user=s64",
      "userId": "10026740531512816388"
     },
     "user_tz": 360
    },
    "id": "Ysj-5e4l5GTv"
   },
   "outputs": [],
   "source": [
    "#turn data into p 90\n",
    "dfstandard['G-PK_1'] = dfstandard['G-PK_1'] / dfstandard['90s']\n",
    "dfstandard['PK'] = dfstandard['PK'] / dfstandard['90s']\n",
    "dfstandard['PKatt'] = dfstandard['PKatt'] / dfstandard['90s']\n",
    "dfstandard['CrdY'] = dfstandard['CrdY'] / dfstandard['90s']\n",
    "dfstandard['CrdR'] = dfstandard['CrdR'] / dfstandard['90s']\n",
    "dfstandard['xG_1'] = dfstandard['xG_1'] / dfstandard['90s']\n",
    "dfstandard['npxG_1'] = dfstandard['npxG_1'] / dfstandard['90s']\n",
    "dfstandard['xA_1'] = dfstandard['xA_1'] / dfstandard['90s']\n",
    "dfstandard['npxG+xA_1'] = dfstandard['npxG+xA_1'] / dfstandard['90s']"
   ]
  },
  {
   "cell_type": "code",
   "execution_count": null,
   "metadata": {
    "colab": {
     "base_uri": "https://localhost:8080/",
     "height": 392
    },
    "executionInfo": {
     "elapsed": 3,
     "status": "ok",
     "timestamp": 1642633624159,
     "user": {
      "displayName": "Gary Davis",
      "photoUrl": "https://lh3.googleusercontent.com/a/default-user=s64",
      "userId": "10026740531512816388"
     },
     "user_tz": 360
    },
    "id": "NXoH9Vn1uyWI",
    "outputId": "f03ae7f4-a488-4119-8b6e-4927e592c28c"
   },
   "outputs": [],
   "source": [
    "dfstandard.head()"
   ]
  },
  {
   "cell_type": "code",
   "execution_count": null,
   "metadata": {},
   "outputs": [],
   "source": [
    "dfstandard['PlSqu'] = dfstandard['Player'] + dfstandard['Squad']"
   ]
  },
  {
   "cell_type": "code",
   "execution_count": null,
   "metadata": {},
   "outputs": [],
   "source": [
    "dfstandard['Player'] = dfstandard['Player'].apply(unidecode)"
   ]
  },
  {
   "cell_type": "code",
   "execution_count": null,
   "metadata": {},
   "outputs": [],
   "source": [
    "dfstandard['Squad'] = dfstandard['Squad'].apply(unidecode)"
   ]
  },
  {
   "cell_type": "code",
   "execution_count": null,
   "metadata": {
    "executionInfo": {
     "elapsed": 109,
     "status": "ok",
     "timestamp": 1642633624266,
     "user": {
      "displayName": "Gary Davis",
      "photoUrl": "https://lh3.googleusercontent.com/a/default-user=s64",
      "userId": "10026740531512816388"
     },
     "user_tz": 360
    },
    "id": "xhSx7BPdvSjB"
   },
   "outputs": [],
   "source": [
    "dfstandard.to_csv('fbrefBig5standard.csv', encoding = 'utf-8', index=False)"
   ]
  },
  {
   "cell_type": "code",
   "execution_count": null,
   "metadata": {},
   "outputs": [],
   "source": []
  }
 ],
 "metadata": {
  "colab": {
   "collapsed_sections": [],
   "name": "Scrape MLS Standard Stats.ipynb",
   "provenance": []
  },
  "kernelspec": {
   "display_name": "Python 3 (ipykernel)",
   "language": "python",
   "name": "python3"
  },
  "language_info": {
   "codemirror_mode": {
    "name": "ipython",
    "version": 3
   },
   "file_extension": ".py",
   "mimetype": "text/x-python",
   "name": "python",
   "nbconvert_exporter": "python",
   "pygments_lexer": "ipython3",
   "version": "3.9.7"
  }
 },
 "nbformat": 4,
 "nbformat_minor": 1
}
