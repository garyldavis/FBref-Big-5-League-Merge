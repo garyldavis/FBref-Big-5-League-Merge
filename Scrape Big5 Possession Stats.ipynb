{
 "cells": [
  {
   "cell_type": "markdown",
   "metadata": {
    "id": "0XFPIZmjtLbb"
   },
   "source": [
    "## How to Scrap Big5 Possession Stats from FBREF - Soccer/Football\n"
   ]
  },
  {
   "cell_type": "markdown",
   "metadata": {
    "id": "-AQZU0n4StVq"
   },
   "source": [
    "Method 1\n",
    "\n",
    "We could modularize the URL and year strings of text that may be useful for programmatic access (in the subsequent code cell)."
   ]
  },
  {
   "cell_type": "code",
   "execution_count": 1,
   "metadata": {
    "executionInfo": {
     "elapsed": 7,
     "status": "ok",
     "timestamp": 1642638645097,
     "user": {
      "displayName": "Gary Davis",
      "photoUrl": "https://lh3.googleusercontent.com/a/default-user=s64",
      "userId": "10026740531512816388"
     },
     "user_tz": 360
    },
    "id": "eviHhQGkleOW"
   },
   "outputs": [],
   "source": [
    "import requests\n",
    "import pandas as pd\n",
    "from unidecode import unidecode"
   ]
  },
  {
   "cell_type": "code",
   "execution_count": 2,
   "metadata": {
    "executionInfo": {
     "elapsed": 1524,
     "status": "ok",
     "timestamp": 1642638646616,
     "user": {
      "displayName": "Gary Davis",
      "photoUrl": "https://lh3.googleusercontent.com/a/default-user=s64",
      "userId": "10026740531512816388"
     },
     "user_tz": 360
    },
    "id": "goV7r4FUlfMt"
   },
   "outputs": [],
   "source": [
    "url = 'https://fbref.com/en/comps/Big5/possession/players/Big-5-European-Leagues-Stats'\n",
    "html_content = requests.get(url).text.replace('<!--', '').replace('-->', '')\n",
    "df = pd.read_html(html_content)"
   ]
  },
  {
   "cell_type": "markdown",
   "metadata": {
    "id": "wlDt8TTxSvEz"
   },
   "source": [
    "Method 2"
   ]
  },
  {
   "cell_type": "code",
   "execution_count": 3,
   "metadata": {
    "executionInfo": {
     "elapsed": 7,
     "status": "ok",
     "timestamp": 1642638646617,
     "user": {
      "displayName": "Gary Davis",
      "photoUrl": "https://lh3.googleusercontent.com/a/default-user=s64",
      "userId": "10026740531512816388"
     },
     "user_tz": 360
    },
    "id": "-x78Rt_iRmCa"
   },
   "outputs": [],
   "source": [
    "#url = 'https://fbref.com/en/comps/Big5/defense/players/Big-5-European-Leagues-Stats'"
   ]
  },
  {
   "cell_type": "markdown",
   "metadata": {
    "id": "fhVY2xJJS0FU"
   },
   "source": [
    "Read HTML webpage into pandas"
   ]
  },
  {
   "cell_type": "markdown",
   "metadata": {
    "id": "Sk1EUVeFUXPq"
   },
   "source": [
    "Using pd.read_html() function to read HTML webpage"
   ]
  },
  {
   "cell_type": "code",
   "execution_count": 4,
   "metadata": {
    "colab": {
     "base_uri": "https://localhost:8080/"
    },
    "executionInfo": {
     "elapsed": 173,
     "status": "ok",
     "timestamp": 1642638646785,
     "user": {
      "displayName": "Gary Davis",
      "photoUrl": "https://lh3.googleusercontent.com/a/default-user=s64",
      "userId": "10026740531512816388"
     },
     "user_tz": 360
    },
    "id": "4sLS78K-S-r2",
    "outputId": "b08466f6-740f-4e07-b44f-f3cf072b99cd"
   },
   "outputs": [
    {
     "data": {
      "text/plain": [
       "[   Unnamed: 0_level_0 Unnamed: 1_level_0 Touches                          \\\n",
       "      Competition Name                 MP Touches Def Pen Def 3rd Mid 3rd   \n",
       " 0       de Bundesliga                612   613.8    72.8   222.7   284.3   \n",
       " 1          es La Liga                760   584.4    65.6   192.7   278.0   \n",
       " 2          fr Ligue 1                760   619.2    63.1   205.1   308.0   \n",
       " 3  eng Premier League                760   604.7    68.9   203.9   276.4   \n",
       " 4          it Serie A                760   596.6    69.9   203.2   279.7   \n",
       " \n",
       "                          Dribbles  ...             Carries                  \\\n",
       "   Att 3rd Att Pen   Live     Succ  ...   #Pl  Megs Carries TotDist PrgDist   \n",
       " 0   143.3    24.0  565.1      8.5  ...   9.4  0.86   372.4  1880.3   982.0   \n",
       " 1   148.3    22.0  535.6      8.1  ...   8.9  0.87   360.9  1830.0   984.2   \n",
       " 2   145.5    21.3  572.7      9.2  ...  10.0  0.79   400.7  2040.9  1116.2   \n",
       " 3   160.4    25.1  560.0      8.4  ...   9.2  0.86   378.6  1925.8  1038.9   \n",
       " 4   150.9    24.1  550.3      7.8  ...   8.6  0.79   376.6  1972.6  1041.5   \n",
       " \n",
       "                                 \n",
       "    Prog   1/3  CPA   Mis   Dis  \n",
       " 0  35.5  10.8  3.7  14.2  11.6  \n",
       " 1  38.5  11.8  3.7  12.7  10.7  \n",
       " 2  42.9  12.4  3.6  13.4  12.1  \n",
       " 3  41.7  12.6  4.6  12.0  11.4  \n",
       " 4  39.7  13.0  4.3  12.5  10.8  \n",
       " \n",
       " [5 rows x 22 columns],\n",
       "      Unnamed: 0_level_0 Unnamed: 1_level_0 Unnamed: 2_level_0  \\\n",
       "                      Rk             Player             Nation   \n",
       " 0                     1         Max Aarons            eng ENG   \n",
       " 1                     2   Yunis Abdelhamid             ma MAR   \n",
       " 2                     3  Salis Abdul Samed             gh GHA   \n",
       " 3                     4    Laurent Abergel             fr FRA   \n",
       " 4                     5        Charles Abi             fr FRA   \n",
       " ...                 ...                ...                ...   \n",
       " 3032               2917   Martín Zubimendi             es ESP   \n",
       " 3033               2918   Szymon Żurkowski             pl POL   \n",
       " 3034               2919    Martin Ødegaard             no NOR   \n",
       " 3035               2920        Milan Đurić             ba BIH   \n",
       " 3036               2921      Filip Đuričić             rs SRB   \n",
       " \n",
       "      Unnamed: 3_level_0 Unnamed: 4_level_0  Unnamed: 5_level_0  \\\n",
       "                     Pos              Squad                Comp   \n",
       " 0                    DF       Norwich City  eng Premier League   \n",
       " 1                    DF              Reims          fr Ligue 1   \n",
       " 2                    MF      Clermont Foot          fr Ligue 1   \n",
       " 3                    MF            Lorient          fr Ligue 1   \n",
       " 4                    FW      Saint-Étienne          fr Ligue 1   \n",
       " ...                 ...                ...                 ...   \n",
       " 3032                 MF      Real Sociedad          es La Liga   \n",
       " 3033                 MF             Empoli          it Serie A   \n",
       " 3034                 MF            Arsenal  eng Premier League   \n",
       " 3035                 FW        Salernitana          it Serie A   \n",
       " 3036              MF,FW           Sassuolo          it Serie A   \n",
       " \n",
       "      Unnamed: 6_level_0 Unnamed: 7_level_0 Unnamed: 8_level_0 Touches  ...  \\\n",
       "                     Age               Born                90s Touches  ...   \n",
       " 0                    21               2000               32.0    1855  ...   \n",
       " 1                    33               1987               33.1    1898  ...   \n",
       " 2                    21               2000               27.4    1930  ...   \n",
       " 3                    28               1993               32.8    2021  ...   \n",
       " 4                    21               2000                0.5      12  ...   \n",
       " ...                 ...                ...                ...     ...  ...   \n",
       " 3032                 22               1999               28.8    1726  ...   \n",
       " 3033                 23               1997               25.6    1323  ...   \n",
       " 3034                 22               1998               30.9    1870  ...   \n",
       " 3035                 31               1990               24.1     904  ...   \n",
       " 3036                 29               1992                7.5     318  ...   \n",
       " \n",
       "      Carries                 Receiving                  Unnamed: 33_level_0  \n",
       "         Prog 1/3 CPA Mis Dis      Targ   Rec  Rec% Prog             Matches  \n",
       " 0        174  53  13  27  30      1153  1037  89.9   41             Matches  \n",
       " 1         91  24   0  15  13      1240  1202  96.9   12             Matches  \n",
       " 2         78  20   4  23  40      1605  1484  92.5   47             Matches  \n",
       " 3         94  37   3  28  48      1518  1412  93.0   61             Matches  \n",
       " 4          0   1   0   4   0        12     8  66.7    2             Matches  \n",
       " ...      ...  ..  ..  ..  ..       ...   ...   ...  ...                 ...  \n",
       " 3032     109  31   0  18  10      1207  1169  96.9   24             Matches  \n",
       " 3033     166  61   6  52  60       995   861  86.5   86             Matches  \n",
       " 3034     201  63  13  43  49      1589  1391  87.5  117             Matches  \n",
       " 3035      13   4   4  47  27      1140   741  65.0  127             Matches  \n",
       " 3036      44  20   6  20  15       303   243  80.2   42             Matches  \n",
       " \n",
       " [3037 rows x 34 columns]]"
      ]
     },
     "execution_count": 4,
     "metadata": {},
     "output_type": "execute_result"
    }
   ],
   "source": [
    "df"
   ]
  },
  {
   "cell_type": "markdown",
   "metadata": {
    "id": "iVtWB7zuUWIp"
   },
   "source": [
    "How many tables are there in the webpage?"
   ]
  },
  {
   "cell_type": "code",
   "execution_count": 5,
   "metadata": {
    "colab": {
     "base_uri": "https://localhost:8080/"
    },
    "executionInfo": {
     "elapsed": 9,
     "status": "ok",
     "timestamp": 1642638646786,
     "user": {
      "displayName": "Gary Davis",
      "photoUrl": "https://lh3.googleusercontent.com/a/default-user=s64",
      "userId": "10026740531512816388"
     },
     "user_tz": 360
    },
    "id": "BdIXrthuTApH",
    "outputId": "5d9e9bcb-a43c-4a87-d2c8-b51b33dc2d22"
   },
   "outputs": [
    {
     "data": {
      "text/plain": [
       "2"
      ]
     },
     "execution_count": 5,
     "metadata": {},
     "output_type": "execute_result"
    }
   ],
   "source": [
    "len(df)"
   ]
  },
  {
   "cell_type": "code",
   "execution_count": 6,
   "metadata": {
    "executionInfo": {
     "elapsed": 3,
     "status": "ok",
     "timestamp": 1642638646786,
     "user": {
      "displayName": "Gary Davis",
      "photoUrl": "https://lh3.googleusercontent.com/a/default-user=s64",
      "userId": "10026740531512816388"
     },
     "user_tz": 360
    },
    "id": "_JF0jpfDmdj_"
   },
   "outputs": [],
   "source": [
    "df[1].columns = df[1].columns.droplevel(0) # drop top header row"
   ]
  },
  {
   "cell_type": "markdown",
   "metadata": {
    "id": "glCMVlkWU6ik"
   },
   "source": [
    "Select the first table"
   ]
  },
  {
   "cell_type": "code",
   "execution_count": 7,
   "metadata": {
    "colab": {
     "base_uri": "https://localhost:8080/",
     "height": 641
    },
    "executionInfo": {
     "elapsed": 179,
     "status": "ok",
     "timestamp": 1642638646963,
     "user": {
      "displayName": "Gary Davis",
      "photoUrl": "https://lh3.googleusercontent.com/a/default-user=s64",
      "userId": "10026740531512816388"
     },
     "user_tz": 360
    },
    "id": "Pv0NHbFeTrEp",
    "outputId": "1ae5b08c-1275-4b97-b060-78e5b0cbbe97"
   },
   "outputs": [
    {
     "data": {
      "text/html": [
       "<div>\n",
       "<style scoped>\n",
       "    .dataframe tbody tr th:only-of-type {\n",
       "        vertical-align: middle;\n",
       "    }\n",
       "\n",
       "    .dataframe tbody tr th {\n",
       "        vertical-align: top;\n",
       "    }\n",
       "\n",
       "    .dataframe thead th {\n",
       "        text-align: right;\n",
       "    }\n",
       "</style>\n",
       "<table border=\"1\" class=\"dataframe\">\n",
       "  <thead>\n",
       "    <tr style=\"text-align: right;\">\n",
       "      <th></th>\n",
       "      <th>Rk</th>\n",
       "      <th>Player</th>\n",
       "      <th>Nation</th>\n",
       "      <th>Pos</th>\n",
       "      <th>Squad</th>\n",
       "      <th>Comp</th>\n",
       "      <th>Age</th>\n",
       "      <th>Born</th>\n",
       "      <th>90s</th>\n",
       "      <th>Touches</th>\n",
       "      <th>...</th>\n",
       "      <th>Prog</th>\n",
       "      <th>1/3</th>\n",
       "      <th>CPA</th>\n",
       "      <th>Mis</th>\n",
       "      <th>Dis</th>\n",
       "      <th>Targ</th>\n",
       "      <th>Rec</th>\n",
       "      <th>Rec%</th>\n",
       "      <th>Prog</th>\n",
       "      <th>Matches</th>\n",
       "    </tr>\n",
       "  </thead>\n",
       "  <tbody>\n",
       "    <tr>\n",
       "      <th>0</th>\n",
       "      <td>1</td>\n",
       "      <td>Max Aarons</td>\n",
       "      <td>eng ENG</td>\n",
       "      <td>DF</td>\n",
       "      <td>Norwich City</td>\n",
       "      <td>eng Premier League</td>\n",
       "      <td>21</td>\n",
       "      <td>2000</td>\n",
       "      <td>32.0</td>\n",
       "      <td>1855</td>\n",
       "      <td>...</td>\n",
       "      <td>174</td>\n",
       "      <td>53</td>\n",
       "      <td>13</td>\n",
       "      <td>27</td>\n",
       "      <td>30</td>\n",
       "      <td>1153</td>\n",
       "      <td>1037</td>\n",
       "      <td>89.9</td>\n",
       "      <td>41</td>\n",
       "      <td>Matches</td>\n",
       "    </tr>\n",
       "    <tr>\n",
       "      <th>1</th>\n",
       "      <td>2</td>\n",
       "      <td>Yunis Abdelhamid</td>\n",
       "      <td>ma MAR</td>\n",
       "      <td>DF</td>\n",
       "      <td>Reims</td>\n",
       "      <td>fr Ligue 1</td>\n",
       "      <td>33</td>\n",
       "      <td>1987</td>\n",
       "      <td>33.1</td>\n",
       "      <td>1898</td>\n",
       "      <td>...</td>\n",
       "      <td>91</td>\n",
       "      <td>24</td>\n",
       "      <td>0</td>\n",
       "      <td>15</td>\n",
       "      <td>13</td>\n",
       "      <td>1240</td>\n",
       "      <td>1202</td>\n",
       "      <td>96.9</td>\n",
       "      <td>12</td>\n",
       "      <td>Matches</td>\n",
       "    </tr>\n",
       "    <tr>\n",
       "      <th>2</th>\n",
       "      <td>3</td>\n",
       "      <td>Salis Abdul Samed</td>\n",
       "      <td>gh GHA</td>\n",
       "      <td>MF</td>\n",
       "      <td>Clermont Foot</td>\n",
       "      <td>fr Ligue 1</td>\n",
       "      <td>21</td>\n",
       "      <td>2000</td>\n",
       "      <td>27.4</td>\n",
       "      <td>1930</td>\n",
       "      <td>...</td>\n",
       "      <td>78</td>\n",
       "      <td>20</td>\n",
       "      <td>4</td>\n",
       "      <td>23</td>\n",
       "      <td>40</td>\n",
       "      <td>1605</td>\n",
       "      <td>1484</td>\n",
       "      <td>92.5</td>\n",
       "      <td>47</td>\n",
       "      <td>Matches</td>\n",
       "    </tr>\n",
       "    <tr>\n",
       "      <th>3</th>\n",
       "      <td>4</td>\n",
       "      <td>Laurent Abergel</td>\n",
       "      <td>fr FRA</td>\n",
       "      <td>MF</td>\n",
       "      <td>Lorient</td>\n",
       "      <td>fr Ligue 1</td>\n",
       "      <td>28</td>\n",
       "      <td>1993</td>\n",
       "      <td>32.8</td>\n",
       "      <td>2021</td>\n",
       "      <td>...</td>\n",
       "      <td>94</td>\n",
       "      <td>37</td>\n",
       "      <td>3</td>\n",
       "      <td>28</td>\n",
       "      <td>48</td>\n",
       "      <td>1518</td>\n",
       "      <td>1412</td>\n",
       "      <td>93.0</td>\n",
       "      <td>61</td>\n",
       "      <td>Matches</td>\n",
       "    </tr>\n",
       "    <tr>\n",
       "      <th>4</th>\n",
       "      <td>5</td>\n",
       "      <td>Charles Abi</td>\n",
       "      <td>fr FRA</td>\n",
       "      <td>FW</td>\n",
       "      <td>Saint-Étienne</td>\n",
       "      <td>fr Ligue 1</td>\n",
       "      <td>21</td>\n",
       "      <td>2000</td>\n",
       "      <td>0.5</td>\n",
       "      <td>12</td>\n",
       "      <td>...</td>\n",
       "      <td>0</td>\n",
       "      <td>1</td>\n",
       "      <td>0</td>\n",
       "      <td>4</td>\n",
       "      <td>0</td>\n",
       "      <td>12</td>\n",
       "      <td>8</td>\n",
       "      <td>66.7</td>\n",
       "      <td>2</td>\n",
       "      <td>Matches</td>\n",
       "    </tr>\n",
       "    <tr>\n",
       "      <th>...</th>\n",
       "      <td>...</td>\n",
       "      <td>...</td>\n",
       "      <td>...</td>\n",
       "      <td>...</td>\n",
       "      <td>...</td>\n",
       "      <td>...</td>\n",
       "      <td>...</td>\n",
       "      <td>...</td>\n",
       "      <td>...</td>\n",
       "      <td>...</td>\n",
       "      <td>...</td>\n",
       "      <td>...</td>\n",
       "      <td>...</td>\n",
       "      <td>...</td>\n",
       "      <td>...</td>\n",
       "      <td>...</td>\n",
       "      <td>...</td>\n",
       "      <td>...</td>\n",
       "      <td>...</td>\n",
       "      <td>...</td>\n",
       "      <td>...</td>\n",
       "    </tr>\n",
       "    <tr>\n",
       "      <th>3032</th>\n",
       "      <td>2917</td>\n",
       "      <td>Martín Zubimendi</td>\n",
       "      <td>es ESP</td>\n",
       "      <td>MF</td>\n",
       "      <td>Real Sociedad</td>\n",
       "      <td>es La Liga</td>\n",
       "      <td>22</td>\n",
       "      <td>1999</td>\n",
       "      <td>28.8</td>\n",
       "      <td>1726</td>\n",
       "      <td>...</td>\n",
       "      <td>109</td>\n",
       "      <td>31</td>\n",
       "      <td>0</td>\n",
       "      <td>18</td>\n",
       "      <td>10</td>\n",
       "      <td>1207</td>\n",
       "      <td>1169</td>\n",
       "      <td>96.9</td>\n",
       "      <td>24</td>\n",
       "      <td>Matches</td>\n",
       "    </tr>\n",
       "    <tr>\n",
       "      <th>3033</th>\n",
       "      <td>2918</td>\n",
       "      <td>Szymon Żurkowski</td>\n",
       "      <td>pl POL</td>\n",
       "      <td>MF</td>\n",
       "      <td>Empoli</td>\n",
       "      <td>it Serie A</td>\n",
       "      <td>23</td>\n",
       "      <td>1997</td>\n",
       "      <td>25.6</td>\n",
       "      <td>1323</td>\n",
       "      <td>...</td>\n",
       "      <td>166</td>\n",
       "      <td>61</td>\n",
       "      <td>6</td>\n",
       "      <td>52</td>\n",
       "      <td>60</td>\n",
       "      <td>995</td>\n",
       "      <td>861</td>\n",
       "      <td>86.5</td>\n",
       "      <td>86</td>\n",
       "      <td>Matches</td>\n",
       "    </tr>\n",
       "    <tr>\n",
       "      <th>3034</th>\n",
       "      <td>2919</td>\n",
       "      <td>Martin Ødegaard</td>\n",
       "      <td>no NOR</td>\n",
       "      <td>MF</td>\n",
       "      <td>Arsenal</td>\n",
       "      <td>eng Premier League</td>\n",
       "      <td>22</td>\n",
       "      <td>1998</td>\n",
       "      <td>30.9</td>\n",
       "      <td>1870</td>\n",
       "      <td>...</td>\n",
       "      <td>201</td>\n",
       "      <td>63</td>\n",
       "      <td>13</td>\n",
       "      <td>43</td>\n",
       "      <td>49</td>\n",
       "      <td>1589</td>\n",
       "      <td>1391</td>\n",
       "      <td>87.5</td>\n",
       "      <td>117</td>\n",
       "      <td>Matches</td>\n",
       "    </tr>\n",
       "    <tr>\n",
       "      <th>3035</th>\n",
       "      <td>2920</td>\n",
       "      <td>Milan Đurić</td>\n",
       "      <td>ba BIH</td>\n",
       "      <td>FW</td>\n",
       "      <td>Salernitana</td>\n",
       "      <td>it Serie A</td>\n",
       "      <td>31</td>\n",
       "      <td>1990</td>\n",
       "      <td>24.1</td>\n",
       "      <td>904</td>\n",
       "      <td>...</td>\n",
       "      <td>13</td>\n",
       "      <td>4</td>\n",
       "      <td>4</td>\n",
       "      <td>47</td>\n",
       "      <td>27</td>\n",
       "      <td>1140</td>\n",
       "      <td>741</td>\n",
       "      <td>65.0</td>\n",
       "      <td>127</td>\n",
       "      <td>Matches</td>\n",
       "    </tr>\n",
       "    <tr>\n",
       "      <th>3036</th>\n",
       "      <td>2921</td>\n",
       "      <td>Filip Đuričić</td>\n",
       "      <td>rs SRB</td>\n",
       "      <td>MF,FW</td>\n",
       "      <td>Sassuolo</td>\n",
       "      <td>it Serie A</td>\n",
       "      <td>29</td>\n",
       "      <td>1992</td>\n",
       "      <td>7.5</td>\n",
       "      <td>318</td>\n",
       "      <td>...</td>\n",
       "      <td>44</td>\n",
       "      <td>20</td>\n",
       "      <td>6</td>\n",
       "      <td>20</td>\n",
       "      <td>15</td>\n",
       "      <td>303</td>\n",
       "      <td>243</td>\n",
       "      <td>80.2</td>\n",
       "      <td>42</td>\n",
       "      <td>Matches</td>\n",
       "    </tr>\n",
       "  </tbody>\n",
       "</table>\n",
       "<p>3037 rows × 34 columns</p>\n",
       "</div>"
      ],
      "text/plain": [
       "        Rk             Player   Nation    Pos          Squad  \\\n",
       "0        1         Max Aarons  eng ENG     DF   Norwich City   \n",
       "1        2   Yunis Abdelhamid   ma MAR     DF          Reims   \n",
       "2        3  Salis Abdul Samed   gh GHA     MF  Clermont Foot   \n",
       "3        4    Laurent Abergel   fr FRA     MF        Lorient   \n",
       "4        5        Charles Abi   fr FRA     FW  Saint-Étienne   \n",
       "...    ...                ...      ...    ...            ...   \n",
       "3032  2917   Martín Zubimendi   es ESP     MF  Real Sociedad   \n",
       "3033  2918   Szymon Żurkowski   pl POL     MF         Empoli   \n",
       "3034  2919    Martin Ødegaard   no NOR     MF        Arsenal   \n",
       "3035  2920        Milan Đurić   ba BIH     FW    Salernitana   \n",
       "3036  2921      Filip Đuričić   rs SRB  MF,FW       Sassuolo   \n",
       "\n",
       "                    Comp Age  Born   90s Touches  ... Prog 1/3 CPA Mis Dis  \\\n",
       "0     eng Premier League  21  2000  32.0    1855  ...  174  53  13  27  30   \n",
       "1             fr Ligue 1  33  1987  33.1    1898  ...   91  24   0  15  13   \n",
       "2             fr Ligue 1  21  2000  27.4    1930  ...   78  20   4  23  40   \n",
       "3             fr Ligue 1  28  1993  32.8    2021  ...   94  37   3  28  48   \n",
       "4             fr Ligue 1  21  2000   0.5      12  ...    0   1   0   4   0   \n",
       "...                  ...  ..   ...   ...     ...  ...  ...  ..  ..  ..  ..   \n",
       "3032          es La Liga  22  1999  28.8    1726  ...  109  31   0  18  10   \n",
       "3033          it Serie A  23  1997  25.6    1323  ...  166  61   6  52  60   \n",
       "3034  eng Premier League  22  1998  30.9    1870  ...  201  63  13  43  49   \n",
       "3035          it Serie A  31  1990  24.1     904  ...   13   4   4  47  27   \n",
       "3036          it Serie A  29  1992   7.5     318  ...   44  20   6  20  15   \n",
       "\n",
       "      Targ   Rec  Rec% Prog  Matches  \n",
       "0     1153  1037  89.9   41  Matches  \n",
       "1     1240  1202  96.9   12  Matches  \n",
       "2     1605  1484  92.5   47  Matches  \n",
       "3     1518  1412  93.0   61  Matches  \n",
       "4       12     8  66.7    2  Matches  \n",
       "...    ...   ...   ...  ...      ...  \n",
       "3032  1207  1169  96.9   24  Matches  \n",
       "3033   995   861  86.5   86  Matches  \n",
       "3034  1589  1391  87.5  117  Matches  \n",
       "3035  1140   741  65.0  127  Matches  \n",
       "3036   303   243  80.2   42  Matches  \n",
       "\n",
       "[3037 rows x 34 columns]"
      ]
     },
     "execution_count": 7,
     "metadata": {},
     "output_type": "execute_result"
    }
   ],
   "source": [
    "df[1]"
   ]
  },
  {
   "cell_type": "code",
   "execution_count": 8,
   "metadata": {
    "executionInfo": {
     "elapsed": 4,
     "status": "ok",
     "timestamp": 1642638646964,
     "user": {
      "displayName": "Gary Davis",
      "photoUrl": "https://lh3.googleusercontent.com/a/default-user=s64",
      "userId": "10026740531512816388"
     },
     "user_tz": 360
    },
    "id": "owwSCuZYU-sT"
   },
   "outputs": [],
   "source": [
    "dfdata = df[1]"
   ]
  },
  {
   "cell_type": "markdown",
   "metadata": {
    "id": "laW205ykvn0S"
   },
   "source": [
    "Data cleaning"
   ]
  },
  {
   "cell_type": "markdown",
   "metadata": {
    "id": "b-cH41xd54Tw"
   },
   "source": [
    "We can see that the table header is presented multiple times in several rows."
   ]
  },
  {
   "cell_type": "code",
   "execution_count": 9,
   "metadata": {
    "colab": {
     "base_uri": "https://localhost:8080/",
     "height": 1000
    },
    "executionInfo": {
     "elapsed": 233,
     "status": "ok",
     "timestamp": 1642638647194,
     "user": {
      "displayName": "Gary Davis",
      "photoUrl": "https://lh3.googleusercontent.com/a/default-user=s64",
      "userId": "10026740531512816388"
     },
     "user_tz": 360
    },
    "id": "6St9yeuZg9rf",
    "outputId": "c9781cf2-23f6-4277-a880-5f2f5b221c5c"
   },
   "outputs": [
    {
     "data": {
      "text/html": [
       "<div>\n",
       "<style scoped>\n",
       "    .dataframe tbody tr th:only-of-type {\n",
       "        vertical-align: middle;\n",
       "    }\n",
       "\n",
       "    .dataframe tbody tr th {\n",
       "        vertical-align: top;\n",
       "    }\n",
       "\n",
       "    .dataframe thead th {\n",
       "        text-align: right;\n",
       "    }\n",
       "</style>\n",
       "<table border=\"1\" class=\"dataframe\">\n",
       "  <thead>\n",
       "    <tr style=\"text-align: right;\">\n",
       "      <th></th>\n",
       "      <th>Rk</th>\n",
       "      <th>Player</th>\n",
       "      <th>Nation</th>\n",
       "      <th>Pos</th>\n",
       "      <th>Squad</th>\n",
       "      <th>Comp</th>\n",
       "      <th>Age</th>\n",
       "      <th>Born</th>\n",
       "      <th>90s</th>\n",
       "      <th>Touches</th>\n",
       "      <th>...</th>\n",
       "      <th>Prog</th>\n",
       "      <th>1/3</th>\n",
       "      <th>CPA</th>\n",
       "      <th>Mis</th>\n",
       "      <th>Dis</th>\n",
       "      <th>Targ</th>\n",
       "      <th>Rec</th>\n",
       "      <th>Rec%</th>\n",
       "      <th>Prog</th>\n",
       "      <th>Matches</th>\n",
       "    </tr>\n",
       "  </thead>\n",
       "  <tbody>\n",
       "    <tr>\n",
       "      <th>25</th>\n",
       "      <td>Rk</td>\n",
       "      <td>Player</td>\n",
       "      <td>Nation</td>\n",
       "      <td>Pos</td>\n",
       "      <td>Squad</td>\n",
       "      <td>Comp</td>\n",
       "      <td>Age</td>\n",
       "      <td>Born</td>\n",
       "      <td>90s</td>\n",
       "      <td>Touches</td>\n",
       "      <td>...</td>\n",
       "      <td>Prog</td>\n",
       "      <td>1/3</td>\n",
       "      <td>CPA</td>\n",
       "      <td>Mis</td>\n",
       "      <td>Dis</td>\n",
       "      <td>Targ</td>\n",
       "      <td>Rec</td>\n",
       "      <td>Rec%</td>\n",
       "      <td>Prog</td>\n",
       "      <td>Matches</td>\n",
       "    </tr>\n",
       "    <tr>\n",
       "      <th>51</th>\n",
       "      <td>Rk</td>\n",
       "      <td>Player</td>\n",
       "      <td>Nation</td>\n",
       "      <td>Pos</td>\n",
       "      <td>Squad</td>\n",
       "      <td>Comp</td>\n",
       "      <td>Age</td>\n",
       "      <td>Born</td>\n",
       "      <td>90s</td>\n",
       "      <td>Touches</td>\n",
       "      <td>...</td>\n",
       "      <td>Prog</td>\n",
       "      <td>1/3</td>\n",
       "      <td>CPA</td>\n",
       "      <td>Mis</td>\n",
       "      <td>Dis</td>\n",
       "      <td>Targ</td>\n",
       "      <td>Rec</td>\n",
       "      <td>Rec%</td>\n",
       "      <td>Prog</td>\n",
       "      <td>Matches</td>\n",
       "    </tr>\n",
       "    <tr>\n",
       "      <th>77</th>\n",
       "      <td>Rk</td>\n",
       "      <td>Player</td>\n",
       "      <td>Nation</td>\n",
       "      <td>Pos</td>\n",
       "      <td>Squad</td>\n",
       "      <td>Comp</td>\n",
       "      <td>Age</td>\n",
       "      <td>Born</td>\n",
       "      <td>90s</td>\n",
       "      <td>Touches</td>\n",
       "      <td>...</td>\n",
       "      <td>Prog</td>\n",
       "      <td>1/3</td>\n",
       "      <td>CPA</td>\n",
       "      <td>Mis</td>\n",
       "      <td>Dis</td>\n",
       "      <td>Targ</td>\n",
       "      <td>Rec</td>\n",
       "      <td>Rec%</td>\n",
       "      <td>Prog</td>\n",
       "      <td>Matches</td>\n",
       "    </tr>\n",
       "    <tr>\n",
       "      <th>103</th>\n",
       "      <td>Rk</td>\n",
       "      <td>Player</td>\n",
       "      <td>Nation</td>\n",
       "      <td>Pos</td>\n",
       "      <td>Squad</td>\n",
       "      <td>Comp</td>\n",
       "      <td>Age</td>\n",
       "      <td>Born</td>\n",
       "      <td>90s</td>\n",
       "      <td>Touches</td>\n",
       "      <td>...</td>\n",
       "      <td>Prog</td>\n",
       "      <td>1/3</td>\n",
       "      <td>CPA</td>\n",
       "      <td>Mis</td>\n",
       "      <td>Dis</td>\n",
       "      <td>Targ</td>\n",
       "      <td>Rec</td>\n",
       "      <td>Rec%</td>\n",
       "      <td>Prog</td>\n",
       "      <td>Matches</td>\n",
       "    </tr>\n",
       "    <tr>\n",
       "      <th>129</th>\n",
       "      <td>Rk</td>\n",
       "      <td>Player</td>\n",
       "      <td>Nation</td>\n",
       "      <td>Pos</td>\n",
       "      <td>Squad</td>\n",
       "      <td>Comp</td>\n",
       "      <td>Age</td>\n",
       "      <td>Born</td>\n",
       "      <td>90s</td>\n",
       "      <td>Touches</td>\n",
       "      <td>...</td>\n",
       "      <td>Prog</td>\n",
       "      <td>1/3</td>\n",
       "      <td>CPA</td>\n",
       "      <td>Mis</td>\n",
       "      <td>Dis</td>\n",
       "      <td>Targ</td>\n",
       "      <td>Rec</td>\n",
       "      <td>Rec%</td>\n",
       "      <td>Prog</td>\n",
       "      <td>Matches</td>\n",
       "    </tr>\n",
       "    <tr>\n",
       "      <th>...</th>\n",
       "      <td>...</td>\n",
       "      <td>...</td>\n",
       "      <td>...</td>\n",
       "      <td>...</td>\n",
       "      <td>...</td>\n",
       "      <td>...</td>\n",
       "      <td>...</td>\n",
       "      <td>...</td>\n",
       "      <td>...</td>\n",
       "      <td>...</td>\n",
       "      <td>...</td>\n",
       "      <td>...</td>\n",
       "      <td>...</td>\n",
       "      <td>...</td>\n",
       "      <td>...</td>\n",
       "      <td>...</td>\n",
       "      <td>...</td>\n",
       "      <td>...</td>\n",
       "      <td>...</td>\n",
       "      <td>...</td>\n",
       "      <td>...</td>\n",
       "    </tr>\n",
       "    <tr>\n",
       "      <th>2911</th>\n",
       "      <td>Rk</td>\n",
       "      <td>Player</td>\n",
       "      <td>Nation</td>\n",
       "      <td>Pos</td>\n",
       "      <td>Squad</td>\n",
       "      <td>Comp</td>\n",
       "      <td>Age</td>\n",
       "      <td>Born</td>\n",
       "      <td>90s</td>\n",
       "      <td>Touches</td>\n",
       "      <td>...</td>\n",
       "      <td>Prog</td>\n",
       "      <td>1/3</td>\n",
       "      <td>CPA</td>\n",
       "      <td>Mis</td>\n",
       "      <td>Dis</td>\n",
       "      <td>Targ</td>\n",
       "      <td>Rec</td>\n",
       "      <td>Rec%</td>\n",
       "      <td>Prog</td>\n",
       "      <td>Matches</td>\n",
       "    </tr>\n",
       "    <tr>\n",
       "      <th>2937</th>\n",
       "      <td>Rk</td>\n",
       "      <td>Player</td>\n",
       "      <td>Nation</td>\n",
       "      <td>Pos</td>\n",
       "      <td>Squad</td>\n",
       "      <td>Comp</td>\n",
       "      <td>Age</td>\n",
       "      <td>Born</td>\n",
       "      <td>90s</td>\n",
       "      <td>Touches</td>\n",
       "      <td>...</td>\n",
       "      <td>Prog</td>\n",
       "      <td>1/3</td>\n",
       "      <td>CPA</td>\n",
       "      <td>Mis</td>\n",
       "      <td>Dis</td>\n",
       "      <td>Targ</td>\n",
       "      <td>Rec</td>\n",
       "      <td>Rec%</td>\n",
       "      <td>Prog</td>\n",
       "      <td>Matches</td>\n",
       "    </tr>\n",
       "    <tr>\n",
       "      <th>2963</th>\n",
       "      <td>Rk</td>\n",
       "      <td>Player</td>\n",
       "      <td>Nation</td>\n",
       "      <td>Pos</td>\n",
       "      <td>Squad</td>\n",
       "      <td>Comp</td>\n",
       "      <td>Age</td>\n",
       "      <td>Born</td>\n",
       "      <td>90s</td>\n",
       "      <td>Touches</td>\n",
       "      <td>...</td>\n",
       "      <td>Prog</td>\n",
       "      <td>1/3</td>\n",
       "      <td>CPA</td>\n",
       "      <td>Mis</td>\n",
       "      <td>Dis</td>\n",
       "      <td>Targ</td>\n",
       "      <td>Rec</td>\n",
       "      <td>Rec%</td>\n",
       "      <td>Prog</td>\n",
       "      <td>Matches</td>\n",
       "    </tr>\n",
       "    <tr>\n",
       "      <th>2989</th>\n",
       "      <td>Rk</td>\n",
       "      <td>Player</td>\n",
       "      <td>Nation</td>\n",
       "      <td>Pos</td>\n",
       "      <td>Squad</td>\n",
       "      <td>Comp</td>\n",
       "      <td>Age</td>\n",
       "      <td>Born</td>\n",
       "      <td>90s</td>\n",
       "      <td>Touches</td>\n",
       "      <td>...</td>\n",
       "      <td>Prog</td>\n",
       "      <td>1/3</td>\n",
       "      <td>CPA</td>\n",
       "      <td>Mis</td>\n",
       "      <td>Dis</td>\n",
       "      <td>Targ</td>\n",
       "      <td>Rec</td>\n",
       "      <td>Rec%</td>\n",
       "      <td>Prog</td>\n",
       "      <td>Matches</td>\n",
       "    </tr>\n",
       "    <tr>\n",
       "      <th>3015</th>\n",
       "      <td>Rk</td>\n",
       "      <td>Player</td>\n",
       "      <td>Nation</td>\n",
       "      <td>Pos</td>\n",
       "      <td>Squad</td>\n",
       "      <td>Comp</td>\n",
       "      <td>Age</td>\n",
       "      <td>Born</td>\n",
       "      <td>90s</td>\n",
       "      <td>Touches</td>\n",
       "      <td>...</td>\n",
       "      <td>Prog</td>\n",
       "      <td>1/3</td>\n",
       "      <td>CPA</td>\n",
       "      <td>Mis</td>\n",
       "      <td>Dis</td>\n",
       "      <td>Targ</td>\n",
       "      <td>Rec</td>\n",
       "      <td>Rec%</td>\n",
       "      <td>Prog</td>\n",
       "      <td>Matches</td>\n",
       "    </tr>\n",
       "  </tbody>\n",
       "</table>\n",
       "<p>116 rows × 34 columns</p>\n",
       "</div>"
      ],
      "text/plain": [
       "      Rk  Player  Nation  Pos  Squad  Comp  Age  Born  90s  Touches  ...  \\\n",
       "25    Rk  Player  Nation  Pos  Squad  Comp  Age  Born  90s  Touches  ...   \n",
       "51    Rk  Player  Nation  Pos  Squad  Comp  Age  Born  90s  Touches  ...   \n",
       "77    Rk  Player  Nation  Pos  Squad  Comp  Age  Born  90s  Touches  ...   \n",
       "103   Rk  Player  Nation  Pos  Squad  Comp  Age  Born  90s  Touches  ...   \n",
       "129   Rk  Player  Nation  Pos  Squad  Comp  Age  Born  90s  Touches  ...   \n",
       "...   ..     ...     ...  ...    ...   ...  ...   ...  ...      ...  ...   \n",
       "2911  Rk  Player  Nation  Pos  Squad  Comp  Age  Born  90s  Touches  ...   \n",
       "2937  Rk  Player  Nation  Pos  Squad  Comp  Age  Born  90s  Touches  ...   \n",
       "2963  Rk  Player  Nation  Pos  Squad  Comp  Age  Born  90s  Touches  ...   \n",
       "2989  Rk  Player  Nation  Pos  Squad  Comp  Age  Born  90s  Touches  ...   \n",
       "3015  Rk  Player  Nation  Pos  Squad  Comp  Age  Born  90s  Touches  ...   \n",
       "\n",
       "      Prog  1/3  CPA  Mis  Dis  Targ  Rec  Rec%  Prog  Matches  \n",
       "25    Prog  1/3  CPA  Mis  Dis  Targ  Rec  Rec%  Prog  Matches  \n",
       "51    Prog  1/3  CPA  Mis  Dis  Targ  Rec  Rec%  Prog  Matches  \n",
       "77    Prog  1/3  CPA  Mis  Dis  Targ  Rec  Rec%  Prog  Matches  \n",
       "103   Prog  1/3  CPA  Mis  Dis  Targ  Rec  Rec%  Prog  Matches  \n",
       "129   Prog  1/3  CPA  Mis  Dis  Targ  Rec  Rec%  Prog  Matches  \n",
       "...    ...  ...  ...  ...  ...   ...  ...   ...   ...      ...  \n",
       "2911  Prog  1/3  CPA  Mis  Dis  Targ  Rec  Rec%  Prog  Matches  \n",
       "2937  Prog  1/3  CPA  Mis  Dis  Targ  Rec  Rec%  Prog  Matches  \n",
       "2963  Prog  1/3  CPA  Mis  Dis  Targ  Rec  Rec%  Prog  Matches  \n",
       "2989  Prog  1/3  CPA  Mis  Dis  Targ  Rec  Rec%  Prog  Matches  \n",
       "3015  Prog  1/3  CPA  Mis  Dis  Targ  Rec  Rec%  Prog  Matches  \n",
       "\n",
       "[116 rows x 34 columns]"
      ]
     },
     "execution_count": 9,
     "metadata": {},
     "output_type": "execute_result"
    }
   ],
   "source": [
    "dfdata[dfdata.Age == 'Age']"
   ]
  },
  {
   "cell_type": "code",
   "execution_count": 10,
   "metadata": {
    "colab": {
     "base_uri": "https://localhost:8080/"
    },
    "executionInfo": {
     "elapsed": 5,
     "status": "ok",
     "timestamp": 1642638647195,
     "user": {
      "displayName": "Gary Davis",
      "photoUrl": "https://lh3.googleusercontent.com/a/default-user=s64",
      "userId": "10026740531512816388"
     },
     "user_tz": 360
    },
    "id": "rdRg9UDI5lus",
    "outputId": "a741bf45-620b-471a-e510-25ed702ced13"
   },
   "outputs": [
    {
     "data": {
      "text/plain": [
       "116"
      ]
     },
     "execution_count": 10,
     "metadata": {},
     "output_type": "execute_result"
    }
   ],
   "source": [
    "len(dfdata[dfdata.Age == 'Age'])"
   ]
  },
  {
   "cell_type": "code",
   "execution_count": 11,
   "metadata": {
    "executionInfo": {
     "elapsed": 208,
     "status": "ok",
     "timestamp": 1642638647400,
     "user": {
      "displayName": "Gary Davis",
      "photoUrl": "https://lh3.googleusercontent.com/a/default-user=s64",
      "userId": "10026740531512816388"
     },
     "user_tz": 360
    },
    "id": "lG34yiD5e_Cs"
   },
   "outputs": [],
   "source": [
    "dfpossession = dfdata.drop(dfdata[dfdata.Age == 'Age'].index)"
   ]
  },
  {
   "cell_type": "code",
   "execution_count": 12,
   "metadata": {
    "colab": {
     "base_uri": "https://localhost:8080/"
    },
    "executionInfo": {
     "elapsed": 13,
     "status": "ok",
     "timestamp": 1642638647400,
     "user": {
      "displayName": "Gary Davis",
      "photoUrl": "https://lh3.googleusercontent.com/a/default-user=s64",
      "userId": "10026740531512816388"
     },
     "user_tz": 360
    },
    "id": "QQHt_VHquyNJ",
    "outputId": "91e15e0f-c5d9-42c6-bcc4-be84312a53dd"
   },
   "outputs": [
    {
     "data": {
      "text/plain": [
       "(2921, 34)"
      ]
     },
     "execution_count": 12,
     "metadata": {},
     "output_type": "execute_result"
    }
   ],
   "source": [
    "dfpossession.shape"
   ]
  },
  {
   "cell_type": "code",
   "execution_count": 13,
   "metadata": {
    "colab": {
     "base_uri": "https://localhost:8080/"
    },
    "executionInfo": {
     "elapsed": 12,
     "status": "ok",
     "timestamp": 1642638647401,
     "user": {
      "displayName": "Gary Davis",
      "photoUrl": "https://lh3.googleusercontent.com/a/default-user=s64",
      "userId": "10026740531512816388"
     },
     "user_tz": 360
    },
    "id": "vZqC36KF8YqE",
    "outputId": "97fb4982-2d71-4ca1-8c3a-c57dab3d3e9c"
   },
   "outputs": [
    {
     "data": {
      "text/plain": [
       "Index(['Rk', 'Player', 'Nation', 'Pos', 'Squad', 'Comp', 'Age', 'Born', '90s',\n",
       "       'Touches', 'Def Pen', 'Def 3rd', 'Mid 3rd', 'Att 3rd', 'Att Pen',\n",
       "       'Live', 'Succ', 'Att', 'Succ%', '#Pl', 'Megs', 'Carries', 'TotDist',\n",
       "       'PrgDist', 'Prog', '1/3', 'CPA', 'Mis', 'Dis', 'Targ', 'Rec', 'Rec%',\n",
       "       'Prog', 'Matches'],\n",
       "      dtype='object')"
      ]
     },
     "execution_count": 13,
     "metadata": {},
     "output_type": "execute_result"
    }
   ],
   "source": [
    "dfpossession.columns"
   ]
  },
  {
   "cell_type": "code",
   "execution_count": 14,
   "metadata": {
    "executionInfo": {
     "elapsed": 9,
     "status": "ok",
     "timestamp": 1642638647401,
     "user": {
      "displayName": "Gary Davis",
      "photoUrl": "https://lh3.googleusercontent.com/a/default-user=s64",
      "userId": "10026740531512816388"
     },
     "user_tz": 360
    },
    "id": "lE8fOs1T8Ywc"
   },
   "outputs": [],
   "source": [
    "#Convert string to float\n",
    "dfpossession['90s'] = dfpossession['90s'].astype(float)\n",
    "dfpossession['Touches'] = dfpossession['Touches'].astype(float)\n",
    "dfpossession['Def Pen'] = dfpossession['Def Pen'].astype(float)\n",
    "dfpossession['Def 3rd'] = dfpossession['Def 3rd'].astype(float)\n",
    "dfpossession['Mid 3rd'] = dfpossession['Mid 3rd'].astype(float)\n",
    "dfpossession['Att 3rd'] = dfpossession['Att 3rd'].astype(float)\n",
    "dfpossession['Att Pen'] = dfpossession['Att Pen'].astype(float)\n",
    "dfpossession['Live'] = dfpossession['Live'].astype(float)\n",
    "dfpossession['Succ'] = dfpossession['Succ'].astype(float)\n",
    "dfpossession['Att'] = dfpossession['Att'].astype(float)\n",
    "dfpossession['Succ%'] = dfpossession['Succ%'].astype(float)\n",
    "dfpossession['#Pl'] = dfpossession['#Pl'].astype(float)\n",
    "dfpossession['Megs'] = dfpossession['Megs'].astype(float)\n",
    "dfpossession['Carries'] = dfpossession['Carries'].astype(float)\n",
    "dfpossession['TotDist'] = dfpossession['TotDist'].astype(float)\n",
    "dfpossession['PrgDist'] = dfpossession['PrgDist'].astype(float)\n",
    "dfpossession['Prog'] = dfpossession['Prog'].astype(float)\n",
    "dfpossession['1/3'] = dfpossession['1/3'].astype(float)\n",
    "dfpossession['CPA'] = dfpossession['CPA'].astype(float)\n",
    "dfpossession['Mis'] = dfpossession['Mis'].astype(float)\n",
    "dfpossession['Dis'] = dfpossession['Dis'].astype(float)\n",
    "dfpossession['Targ'] = dfpossession['Targ'].astype(float)\n",
    "dfpossession['Rec'] = dfpossession['Rec'].astype(float)\n",
    "dfpossession['Rec%'] = dfpossession['Rec%'].astype(float)"
   ]
  },
  {
   "cell_type": "code",
   "execution_count": 15,
   "metadata": {
    "executionInfo": {
     "elapsed": 8,
     "status": "ok",
     "timestamp": 1642638647401,
     "user": {
      "displayName": "Gary Davis",
      "photoUrl": "https://lh3.googleusercontent.com/a/default-user=s64",
      "userId": "10026740531512816388"
     },
     "user_tz": 360
    },
    "id": "MxbQETvym0T6"
   },
   "outputs": [],
   "source": [
    "#rename duplicate columns but not the first\n",
    "cols = []\n",
    "count = 1\n",
    "for column in dfpossession.columns:\n",
    "    if column == 'Prog':\n",
    "        cols.append(f'Prog_{count}')\n",
    "        count+=1\n",
    "        continue\n",
    "    cols.append(column)\n",
    "dfpossession.columns = cols"
   ]
  },
  {
   "cell_type": "code",
   "execution_count": 16,
   "metadata": {
    "executionInfo": {
     "elapsed": 8,
     "status": "ok",
     "timestamp": 1642638647402,
     "user": {
      "displayName": "Gary Davis",
      "photoUrl": "https://lh3.googleusercontent.com/a/default-user=s64",
      "userId": "10026740531512816388"
     },
     "user_tz": 360
    },
    "id": "tAKvZSmo8c9F"
   },
   "outputs": [],
   "source": [
    "#turn data into p 90\n",
    "dfpossession['Touches'] = dfpossession['Touches'] / dfpossession['90s']\n",
    "dfpossession['Def Pen'] = dfpossession['Def Pen'] / dfpossession['90s']\n",
    "dfpossession['Def 3rd'] = dfpossession['Def 3rd'] / dfpossession['90s']\n",
    "dfpossession['Mid 3rd'] = dfpossession['Mid 3rd'] / dfpossession['90s']\n",
    "dfpossession['Att 3rd'] = dfpossession['Att 3rd'] / dfpossession['90s']\n",
    "dfpossession['Att Pen'] = dfpossession['Att Pen'] / dfpossession['90s']\n",
    "dfpossession['Live'] = dfpossession['Live'] / dfpossession['90s']\n",
    "dfpossession['Succ'] = dfpossession['Succ'] / dfpossession['90s']\n",
    "dfpossession['Att'] = dfpossession['Att'] / dfpossession['90s']\n",
    "dfpossession['#Pl'] = dfpossession['#Pl'] / dfpossession['90s']\n",
    "dfpossession['Megs'] = dfpossession['Megs'] / dfpossession['90s']\n",
    "dfpossession['Carries'] = dfpossession['Carries'] / dfpossession['90s']\n",
    "dfpossession['TotDist'] = dfpossession['TotDist'] / dfpossession['90s']\n",
    "dfpossession['PrgDist'] = dfpossession['PrgDist'] / dfpossession['90s']\n",
    "dfpossession['Prog_1'] = dfpossession['Prog_1'] / dfpossession['90s']\n",
    "dfpossession['1/3'] = dfpossession['1/3'] / dfpossession['90s']\n",
    "dfpossession['CPA'] = dfpossession['CPA'] / dfpossession['90s']\n",
    "dfpossession['Mis'] = dfpossession['Mis'] / dfpossession['90s']\n",
    "dfpossession['Dis'] = dfpossession['Dis'] / dfpossession['90s']\n",
    "dfpossession['Targ'] = dfpossession['Targ'] / dfpossession['90s']\n",
    "dfpossession['Rec'] = dfpossession['Rec'] / dfpossession['90s']\n",
    "dfpossession['Prog_2'] = dfpossession['Prog_2'] / dfpossession['90s']"
   ]
  },
  {
   "cell_type": "code",
   "execution_count": 17,
   "metadata": {
    "colab": {
     "base_uri": "https://localhost:8080/",
     "height": 374
    },
    "executionInfo": {
     "elapsed": 162,
     "status": "ok",
     "timestamp": 1642638647557,
     "user": {
      "displayName": "Gary Davis",
      "photoUrl": "https://lh3.googleusercontent.com/a/default-user=s64",
      "userId": "10026740531512816388"
     },
     "user_tz": 360
    },
    "id": "NXoH9Vn1uyWI",
    "outputId": "68882643-c40c-405e-be72-7cf43a02bb36"
   },
   "outputs": [
    {
     "data": {
      "text/html": [
       "<div>\n",
       "<style scoped>\n",
       "    .dataframe tbody tr th:only-of-type {\n",
       "        vertical-align: middle;\n",
       "    }\n",
       "\n",
       "    .dataframe tbody tr th {\n",
       "        vertical-align: top;\n",
       "    }\n",
       "\n",
       "    .dataframe thead th {\n",
       "        text-align: right;\n",
       "    }\n",
       "</style>\n",
       "<table border=\"1\" class=\"dataframe\">\n",
       "  <thead>\n",
       "    <tr style=\"text-align: right;\">\n",
       "      <th></th>\n",
       "      <th>Rk</th>\n",
       "      <th>Player</th>\n",
       "      <th>Nation</th>\n",
       "      <th>Pos</th>\n",
       "      <th>Squad</th>\n",
       "      <th>Comp</th>\n",
       "      <th>Age</th>\n",
       "      <th>Born</th>\n",
       "      <th>90s</th>\n",
       "      <th>Touches</th>\n",
       "      <th>...</th>\n",
       "      <th>Prog_1</th>\n",
       "      <th>1/3</th>\n",
       "      <th>CPA</th>\n",
       "      <th>Mis</th>\n",
       "      <th>Dis</th>\n",
       "      <th>Targ</th>\n",
       "      <th>Rec</th>\n",
       "      <th>Rec%</th>\n",
       "      <th>Prog_2</th>\n",
       "      <th>Matches</th>\n",
       "    </tr>\n",
       "  </thead>\n",
       "  <tbody>\n",
       "    <tr>\n",
       "      <th>0</th>\n",
       "      <td>1</td>\n",
       "      <td>Max Aarons</td>\n",
       "      <td>eng ENG</td>\n",
       "      <td>DF</td>\n",
       "      <td>Norwich City</td>\n",
       "      <td>eng Premier League</td>\n",
       "      <td>21</td>\n",
       "      <td>2000</td>\n",
       "      <td>32.0</td>\n",
       "      <td>57.968750</td>\n",
       "      <td>...</td>\n",
       "      <td>5.437500</td>\n",
       "      <td>1.656250</td>\n",
       "      <td>0.406250</td>\n",
       "      <td>0.843750</td>\n",
       "      <td>0.937500</td>\n",
       "      <td>36.031250</td>\n",
       "      <td>32.406250</td>\n",
       "      <td>89.9</td>\n",
       "      <td>1.281250</td>\n",
       "      <td>Matches</td>\n",
       "    </tr>\n",
       "    <tr>\n",
       "      <th>1</th>\n",
       "      <td>2</td>\n",
       "      <td>Yunis Abdelhamid</td>\n",
       "      <td>ma MAR</td>\n",
       "      <td>DF</td>\n",
       "      <td>Reims</td>\n",
       "      <td>fr Ligue 1</td>\n",
       "      <td>33</td>\n",
       "      <td>1987</td>\n",
       "      <td>33.1</td>\n",
       "      <td>57.341390</td>\n",
       "      <td>...</td>\n",
       "      <td>2.749245</td>\n",
       "      <td>0.725076</td>\n",
       "      <td>0.000000</td>\n",
       "      <td>0.453172</td>\n",
       "      <td>0.392749</td>\n",
       "      <td>37.462236</td>\n",
       "      <td>36.314199</td>\n",
       "      <td>96.9</td>\n",
       "      <td>0.362538</td>\n",
       "      <td>Matches</td>\n",
       "    </tr>\n",
       "    <tr>\n",
       "      <th>2</th>\n",
       "      <td>3</td>\n",
       "      <td>Salis Abdul Samed</td>\n",
       "      <td>gh GHA</td>\n",
       "      <td>MF</td>\n",
       "      <td>Clermont Foot</td>\n",
       "      <td>fr Ligue 1</td>\n",
       "      <td>21</td>\n",
       "      <td>2000</td>\n",
       "      <td>27.4</td>\n",
       "      <td>70.437956</td>\n",
       "      <td>...</td>\n",
       "      <td>2.846715</td>\n",
       "      <td>0.729927</td>\n",
       "      <td>0.145985</td>\n",
       "      <td>0.839416</td>\n",
       "      <td>1.459854</td>\n",
       "      <td>58.576642</td>\n",
       "      <td>54.160584</td>\n",
       "      <td>92.5</td>\n",
       "      <td>1.715328</td>\n",
       "      <td>Matches</td>\n",
       "    </tr>\n",
       "    <tr>\n",
       "      <th>3</th>\n",
       "      <td>4</td>\n",
       "      <td>Laurent Abergel</td>\n",
       "      <td>fr FRA</td>\n",
       "      <td>MF</td>\n",
       "      <td>Lorient</td>\n",
       "      <td>fr Ligue 1</td>\n",
       "      <td>28</td>\n",
       "      <td>1993</td>\n",
       "      <td>32.8</td>\n",
       "      <td>61.615854</td>\n",
       "      <td>...</td>\n",
       "      <td>2.865854</td>\n",
       "      <td>1.128049</td>\n",
       "      <td>0.091463</td>\n",
       "      <td>0.853659</td>\n",
       "      <td>1.463415</td>\n",
       "      <td>46.280488</td>\n",
       "      <td>43.048780</td>\n",
       "      <td>93.0</td>\n",
       "      <td>1.859756</td>\n",
       "      <td>Matches</td>\n",
       "    </tr>\n",
       "    <tr>\n",
       "      <th>4</th>\n",
       "      <td>5</td>\n",
       "      <td>Charles Abi</td>\n",
       "      <td>fr FRA</td>\n",
       "      <td>FW</td>\n",
       "      <td>Saint-Étienne</td>\n",
       "      <td>fr Ligue 1</td>\n",
       "      <td>21</td>\n",
       "      <td>2000</td>\n",
       "      <td>0.5</td>\n",
       "      <td>24.000000</td>\n",
       "      <td>...</td>\n",
       "      <td>0.000000</td>\n",
       "      <td>2.000000</td>\n",
       "      <td>0.000000</td>\n",
       "      <td>8.000000</td>\n",
       "      <td>0.000000</td>\n",
       "      <td>24.000000</td>\n",
       "      <td>16.000000</td>\n",
       "      <td>66.7</td>\n",
       "      <td>4.000000</td>\n",
       "      <td>Matches</td>\n",
       "    </tr>\n",
       "  </tbody>\n",
       "</table>\n",
       "<p>5 rows × 34 columns</p>\n",
       "</div>"
      ],
      "text/plain": [
       "  Rk             Player   Nation Pos          Squad                Comp Age  \\\n",
       "0  1         Max Aarons  eng ENG  DF   Norwich City  eng Premier League  21   \n",
       "1  2   Yunis Abdelhamid   ma MAR  DF          Reims          fr Ligue 1  33   \n",
       "2  3  Salis Abdul Samed   gh GHA  MF  Clermont Foot          fr Ligue 1  21   \n",
       "3  4    Laurent Abergel   fr FRA  MF        Lorient          fr Ligue 1  28   \n",
       "4  5        Charles Abi   fr FRA  FW  Saint-Étienne          fr Ligue 1  21   \n",
       "\n",
       "   Born   90s    Touches  ...    Prog_1       1/3       CPA       Mis  \\\n",
       "0  2000  32.0  57.968750  ...  5.437500  1.656250  0.406250  0.843750   \n",
       "1  1987  33.1  57.341390  ...  2.749245  0.725076  0.000000  0.453172   \n",
       "2  2000  27.4  70.437956  ...  2.846715  0.729927  0.145985  0.839416   \n",
       "3  1993  32.8  61.615854  ...  2.865854  1.128049  0.091463  0.853659   \n",
       "4  2000   0.5  24.000000  ...  0.000000  2.000000  0.000000  8.000000   \n",
       "\n",
       "        Dis       Targ        Rec  Rec%    Prog_2  Matches  \n",
       "0  0.937500  36.031250  32.406250  89.9  1.281250  Matches  \n",
       "1  0.392749  37.462236  36.314199  96.9  0.362538  Matches  \n",
       "2  1.459854  58.576642  54.160584  92.5  1.715328  Matches  \n",
       "3  1.463415  46.280488  43.048780  93.0  1.859756  Matches  \n",
       "4  0.000000  24.000000  16.000000  66.7  4.000000  Matches  \n",
       "\n",
       "[5 rows x 34 columns]"
      ]
     },
     "execution_count": 17,
     "metadata": {},
     "output_type": "execute_result"
    }
   ],
   "source": [
    "dfpossession.head()"
   ]
  },
  {
   "cell_type": "code",
   "execution_count": 18,
   "metadata": {},
   "outputs": [],
   "source": [
    "dfpossession['PlSqu'] = dfpossession['Player'] + dfpossession['Squad']"
   ]
  },
  {
   "cell_type": "code",
   "execution_count": 19,
   "metadata": {},
   "outputs": [],
   "source": [
    "dfpossession['Player'] = dfpossession['Player'].apply(unidecode)"
   ]
  },
  {
   "cell_type": "code",
   "execution_count": 20,
   "metadata": {},
   "outputs": [],
   "source": [
    "dfpossession['Squad'] = dfpossession['Squad'].apply(unidecode)"
   ]
  },
  {
   "cell_type": "code",
   "execution_count": 21,
   "metadata": {
    "executionInfo": {
     "elapsed": 3,
     "status": "ok",
     "timestamp": 1642638647558,
     "user": {
      "displayName": "Gary Davis",
      "photoUrl": "https://lh3.googleusercontent.com/a/default-user=s64",
      "userId": "10026740531512816388"
     },
     "user_tz": 360
    },
    "id": "xhSx7BPdvSjB"
   },
   "outputs": [],
   "source": [
    "dfpossession.to_csv('fbrefBig5Possession.csv', index=False)"
   ]
  }
 ],
 "metadata": {
  "colab": {
   "collapsed_sections": [],
   "name": "Scrape MLS Possession Stats.ipynb",
   "provenance": []
  },
  "kernelspec": {
   "display_name": "Python 3 (ipykernel)",
   "language": "python",
   "name": "python3"
  },
  "language_info": {
   "codemirror_mode": {
    "name": "ipython",
    "version": 3
   },
   "file_extension": ".py",
   "mimetype": "text/x-python",
   "name": "python",
   "nbconvert_exporter": "python",
   "pygments_lexer": "ipython3",
   "version": "3.9.7"
  }
 },
 "nbformat": 4,
 "nbformat_minor": 1
}
