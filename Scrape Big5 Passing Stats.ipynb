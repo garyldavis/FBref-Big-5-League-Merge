{
 "cells": [
  {
   "cell_type": "markdown",
   "metadata": {
    "id": "0XFPIZmjtLbb"
   },
   "source": [
    "## How to Scrap Big5 Passing Stats from FBREF - Soccer/Football\n"
   ]
  },
  {
   "cell_type": "markdown",
   "metadata": {
    "id": "-AQZU0n4StVq"
   },
   "source": [
    "Method 1\n",
    "\n",
    "We could modularize the URL and year strings of text that may be useful for programmatic access (in the subsequent code cell)."
   ]
  },
  {
   "cell_type": "code",
   "execution_count": 1,
   "metadata": {
    "executionInfo": {
     "elapsed": 338,
     "status": "ok",
     "timestamp": 1642638523120,
     "user": {
      "displayName": "Gary Davis",
      "photoUrl": "https://lh3.googleusercontent.com/a/default-user=s64",
      "userId": "10026740531512816388"
     },
     "user_tz": 360
    },
    "id": "eviHhQGkleOW"
   },
   "outputs": [],
   "source": [
    "import requests\n",
    "import pandas as pd\n",
    "from unidecode import unidecode"
   ]
  },
  {
   "cell_type": "code",
   "execution_count": 2,
   "metadata": {
    "executionInfo": {
     "elapsed": 1413,
     "status": "ok",
     "timestamp": 1642638524530,
     "user": {
      "displayName": "Gary Davis",
      "photoUrl": "https://lh3.googleusercontent.com/a/default-user=s64",
      "userId": "10026740531512816388"
     },
     "user_tz": 360
    },
    "id": "goV7r4FUlfMt"
   },
   "outputs": [],
   "source": [
    "url = 'https://fbref.com/en/comps/Big5/passing/players/Big-5-European-Leagues-Stats'\n",
    "html_content = requests.get(url).text.replace('<!--', '').replace('-->', '')\n",
    "df = pd.read_html(html_content)"
   ]
  },
  {
   "cell_type": "markdown",
   "metadata": {
    "id": "wlDt8TTxSvEz"
   },
   "source": [
    "Method 2"
   ]
  },
  {
   "cell_type": "code",
   "execution_count": 3,
   "metadata": {
    "executionInfo": {
     "elapsed": 10,
     "status": "ok",
     "timestamp": 1642638524531,
     "user": {
      "displayName": "Gary Davis",
      "photoUrl": "https://lh3.googleusercontent.com/a/default-user=s64",
      "userId": "10026740531512816388"
     },
     "user_tz": 360
    },
    "id": "-x78Rt_iRmCa"
   },
   "outputs": [],
   "source": [
    "#url = 'https://fbref.com/en/comps/Big5/defense/players/Big-5-European-Leagues-Stats'"
   ]
  },
  {
   "cell_type": "markdown",
   "metadata": {
    "id": "fhVY2xJJS0FU"
   },
   "source": [
    "Read HTML webpage into pandas"
   ]
  },
  {
   "cell_type": "markdown",
   "metadata": {
    "id": "Sk1EUVeFUXPq"
   },
   "source": [
    "Using pd.read_html() function to read HTML webpage"
   ]
  },
  {
   "cell_type": "code",
   "execution_count": 4,
   "metadata": {
    "colab": {
     "base_uri": "https://localhost:8080/"
    },
    "executionInfo": {
     "elapsed": 8,
     "status": "ok",
     "timestamp": 1642638524531,
     "user": {
      "displayName": "Gary Davis",
      "photoUrl": "https://lh3.googleusercontent.com/a/default-user=s64",
      "userId": "10026740531512816388"
     },
     "user_tz": 360
    },
    "id": "4sLS78K-S-r2",
    "outputId": "43606c05-92c1-4e5c-bde8-86364eb8d947"
   },
   "outputs": [
    {
     "data": {
      "text/plain": [
       "[   Unnamed: 0_level_0 Unnamed: 1_level_0  Total                               \\\n",
       "      Competition Name                 MP    Cmp    Att  Cmp% TotDist PrgDist   \n",
       " 0       de Bundesliga                612  381.9  489.9  78.0    7676    2732   \n",
       " 1          es La Liga                760  369.6  470.2  78.6    7375    2529   \n",
       " 2          fr Ligue 1                760  411.6  504.1  81.6    8016    2610   \n",
       " 3  eng Premier League                760  387.3  486.7  79.6    7542    2453   \n",
       " 4          it Serie A                760  387.7  483.2  80.2    7595    2575   \n",
       " \n",
       "    Short               ...   Long       Unnamed: 16_level_0  \\\n",
       "      Cmp    Att  Cmp%  ...    Att  Cmp%                 Ast   \n",
       " 0  145.0  169.5  85.5  ...  103.2  59.2                1.07   \n",
       " 1  149.1  170.2  87.6  ...  101.4  58.5                0.87   \n",
       " 2  166.4  187.6  88.7  ...   96.2  63.1                0.93   \n",
       " 3  158.0  179.6  87.9  ...   95.0  58.4                0.98   \n",
       " 4  156.2  178.2  87.6  ...   94.9  61.9                0.90   \n",
       " \n",
       "   Unnamed: 17_level_0 Unnamed: 18_level_0 Unnamed: 19_level_0  \\\n",
       "                    xA                A-xA                  KP   \n",
       " 0                1.01                0.06                 9.1   \n",
       " 1                0.83                0.04                 8.4   \n",
       " 2                0.91                0.02                 8.7   \n",
       " 3                0.93                0.05                 9.2   \n",
       " 4                0.91               -0.01                 9.5   \n",
       " \n",
       "   Unnamed: 20_level_0 Unnamed: 21_level_0 Unnamed: 22_level_0  \\\n",
       "                   1/3                 PPA               CrsPA   \n",
       " 0                26.5                 8.1                 2.3   \n",
       " 1                27.1                 7.6                 2.1   \n",
       " 2                28.3                 7.5                 2.1   \n",
       " 3                28.4                 8.3                 1.9   \n",
       " 4                26.6                 8.4                 2.2   \n",
       " \n",
       "   Unnamed: 23_level_0  \n",
       "                  Prog  \n",
       " 0                33.2  \n",
       " 1                30.0  \n",
       " 2                32.0  \n",
       " 3                31.0  \n",
       " 4                31.4  \n",
       " \n",
       " [5 rows x 24 columns],\n",
       "      Unnamed: 0_level_0 Unnamed: 1_level_0 Unnamed: 2_level_0  \\\n",
       "                      Rk             Player             Nation   \n",
       " 0                     1         Max Aarons            eng ENG   \n",
       " 1                     2   Yunis Abdelhamid             ma MAR   \n",
       " 2                     3  Salis Abdul Samed             gh GHA   \n",
       " 3                     4    Laurent Abergel             fr FRA   \n",
       " 4                     5        Charles Abi             fr FRA   \n",
       " ...                 ...                ...                ...   \n",
       " 3032               2917   Martín Zubimendi             es ESP   \n",
       " 3033               2918   Szymon Żurkowski             pl POL   \n",
       " 3034               2919    Martin Ødegaard             no NOR   \n",
       " 3035               2920        Milan Đurić             ba BIH   \n",
       " 3036               2921      Filip Đuričić             rs SRB   \n",
       " \n",
       "      Unnamed: 3_level_0 Unnamed: 4_level_0  Unnamed: 5_level_0  \\\n",
       "                     Pos              Squad                Comp   \n",
       " 0                    DF       Norwich City  eng Premier League   \n",
       " 1                    DF              Reims          fr Ligue 1   \n",
       " 2                    MF      Clermont Foot          fr Ligue 1   \n",
       " 3                    MF            Lorient          fr Ligue 1   \n",
       " 4                    FW      Saint-Étienne          fr Ligue 1   \n",
       " ...                 ...                ...                 ...   \n",
       " 3032                 MF      Real Sociedad          es La Liga   \n",
       " 3033                 MF             Empoli          it Serie A   \n",
       " 3034                 MF            Arsenal  eng Premier League   \n",
       " 3035                 FW        Salernitana          it Serie A   \n",
       " 3036              MF,FW           Sassuolo          it Serie A   \n",
       " \n",
       "      Unnamed: 6_level_0 Unnamed: 7_level_0 Unnamed: 8_level_0 Total  ...  \\\n",
       "                     Age               Born                90s   Cmp  ...   \n",
       " 0                    21               2000               32.0  1087  ...   \n",
       " 1                    33               1987               33.1  1281  ...   \n",
       " 2                    21               2000               27.4  1532  ...   \n",
       " 3                    28               1993               32.8  1334  ...   \n",
       " 4                    21               2000                0.5     2  ...   \n",
       " ...                 ...                ...                ...   ...  ...   \n",
       " 3032                 22               1999               28.8  1243  ...   \n",
       " 3033                 23               1997               25.6   733  ...   \n",
       " 3034                 22               1998               30.9  1355  ...   \n",
       " 3035                 31               1990               24.1   427  ...   \n",
       " 3036                 29               1992                7.5   184  ...   \n",
       " \n",
       "       Long Unnamed: 23_level_0 Unnamed: 24_level_0 Unnamed: 25_level_0  \\\n",
       "       Cmp%                 Ast                  xA                A-xA   \n",
       " 0     45.2                   2                 1.4                +0.6   \n",
       " 1     61.7                   0                 0.8                -0.8   \n",
       " 2     86.0                   0                 1.1                -1.1   \n",
       " 3     66.6                   2                 2.9                -0.9   \n",
       " 4      NaN                   0                 0.0                 0.0   \n",
       " ...    ...                 ...                 ...                 ...   \n",
       " 3032  70.6                   1                 1.0                 0.0   \n",
       " 3033  60.4                   2                 1.5                +0.5   \n",
       " 3034  68.6                   4                 6.8                -2.8   \n",
       " 3035  64.3                   4                 3.1                +0.9   \n",
       " 3036  85.7                   1                 1.3                -0.3   \n",
       " \n",
       "      Unnamed: 26_level_0 Unnamed: 27_level_0 Unnamed: 28_level_0  \\\n",
       "                       KP                 1/3                 PPA   \n",
       " 0                     19                  50                  36   \n",
       " 1                      8                  81                   6   \n",
       " 2                     15                  77                  13   \n",
       " 3                     30                 127                  19   \n",
       " 4                      0                   0                   0   \n",
       " ...                  ...                 ...                 ...   \n",
       " 3032                  15                 121                  10   \n",
       " 3033                  19                  53                  20   \n",
       " 3034                  76                 100                  65   \n",
       " 3035                  32                  18                   4   \n",
       " 3036                  11                  13                  18   \n",
       " \n",
       "      Unnamed: 29_level_0 Unnamed: 30_level_0 Unnamed: 31_level_0  \n",
       "                    CrsPA                Prog             Matches  \n",
       " 0                      8                  94             Matches  \n",
       " 1                      0                  90             Matches  \n",
       " 2                      1                  81             Matches  \n",
       " 3                      6                 137             Matches  \n",
       " 4                      0                   0             Matches  \n",
       " ...                  ...                 ...                 ...  \n",
       " 3032                   1                 106             Matches  \n",
       " 3033                   4                  68             Matches  \n",
       " 3034                   4                 158             Matches  \n",
       " 3035                   0                  30             Matches  \n",
       " 3036                   0                  34             Matches  \n",
       " \n",
       " [3037 rows x 32 columns]]"
      ]
     },
     "execution_count": 4,
     "metadata": {},
     "output_type": "execute_result"
    }
   ],
   "source": [
    "df"
   ]
  },
  {
   "cell_type": "markdown",
   "metadata": {
    "id": "iVtWB7zuUWIp"
   },
   "source": [
    "How many tables are there in the webpage?"
   ]
  },
  {
   "cell_type": "code",
   "execution_count": 5,
   "metadata": {
    "colab": {
     "base_uri": "https://localhost:8080/"
    },
    "executionInfo": {
     "elapsed": 7,
     "status": "ok",
     "timestamp": 1642638524532,
     "user": {
      "displayName": "Gary Davis",
      "photoUrl": "https://lh3.googleusercontent.com/a/default-user=s64",
      "userId": "10026740531512816388"
     },
     "user_tz": 360
    },
    "id": "BdIXrthuTApH",
    "outputId": "eb39e5ae-f755-41fe-ffbd-edf6150e6454"
   },
   "outputs": [
    {
     "data": {
      "text/plain": [
       "2"
      ]
     },
     "execution_count": 5,
     "metadata": {},
     "output_type": "execute_result"
    }
   ],
   "source": [
    "len(df)"
   ]
  },
  {
   "cell_type": "code",
   "execution_count": 6,
   "metadata": {
    "executionInfo": {
     "elapsed": 297,
     "status": "ok",
     "timestamp": 1642638524825,
     "user": {
      "displayName": "Gary Davis",
      "photoUrl": "https://lh3.googleusercontent.com/a/default-user=s64",
      "userId": "10026740531512816388"
     },
     "user_tz": 360
    },
    "id": "_JF0jpfDmdj_"
   },
   "outputs": [],
   "source": [
    "df[1].columns = df[1].columns.droplevel(0) # drop top header row"
   ]
  },
  {
   "cell_type": "markdown",
   "metadata": {
    "id": "glCMVlkWU6ik"
   },
   "source": [
    "Select the first table"
   ]
  },
  {
   "cell_type": "code",
   "execution_count": 7,
   "metadata": {
    "colab": {
     "base_uri": "https://localhost:8080/",
     "height": 424
    },
    "executionInfo": {
     "elapsed": 7,
     "status": "ok",
     "timestamp": 1642638524825,
     "user": {
      "displayName": "Gary Davis",
      "photoUrl": "https://lh3.googleusercontent.com/a/default-user=s64",
      "userId": "10026740531512816388"
     },
     "user_tz": 360
    },
    "id": "Pv0NHbFeTrEp",
    "outputId": "b0d66356-e8e6-432a-eed1-2c1bdbb175df"
   },
   "outputs": [
    {
     "data": {
      "text/html": [
       "<div>\n",
       "<style scoped>\n",
       "    .dataframe tbody tr th:only-of-type {\n",
       "        vertical-align: middle;\n",
       "    }\n",
       "\n",
       "    .dataframe tbody tr th {\n",
       "        vertical-align: top;\n",
       "    }\n",
       "\n",
       "    .dataframe thead th {\n",
       "        text-align: right;\n",
       "    }\n",
       "</style>\n",
       "<table border=\"1\" class=\"dataframe\">\n",
       "  <thead>\n",
       "    <tr style=\"text-align: right;\">\n",
       "      <th></th>\n",
       "      <th>Rk</th>\n",
       "      <th>Player</th>\n",
       "      <th>Nation</th>\n",
       "      <th>Pos</th>\n",
       "      <th>Squad</th>\n",
       "      <th>Comp</th>\n",
       "      <th>Age</th>\n",
       "      <th>Born</th>\n",
       "      <th>90s</th>\n",
       "      <th>Cmp</th>\n",
       "      <th>...</th>\n",
       "      <th>Cmp%</th>\n",
       "      <th>Ast</th>\n",
       "      <th>xA</th>\n",
       "      <th>A-xA</th>\n",
       "      <th>KP</th>\n",
       "      <th>1/3</th>\n",
       "      <th>PPA</th>\n",
       "      <th>CrsPA</th>\n",
       "      <th>Prog</th>\n",
       "      <th>Matches</th>\n",
       "    </tr>\n",
       "  </thead>\n",
       "  <tbody>\n",
       "    <tr>\n",
       "      <th>0</th>\n",
       "      <td>1</td>\n",
       "      <td>Max Aarons</td>\n",
       "      <td>eng ENG</td>\n",
       "      <td>DF</td>\n",
       "      <td>Norwich City</td>\n",
       "      <td>eng Premier League</td>\n",
       "      <td>21</td>\n",
       "      <td>2000</td>\n",
       "      <td>32.0</td>\n",
       "      <td>1087</td>\n",
       "      <td>...</td>\n",
       "      <td>45.2</td>\n",
       "      <td>2</td>\n",
       "      <td>1.4</td>\n",
       "      <td>+0.6</td>\n",
       "      <td>19</td>\n",
       "      <td>50</td>\n",
       "      <td>36</td>\n",
       "      <td>8</td>\n",
       "      <td>94</td>\n",
       "      <td>Matches</td>\n",
       "    </tr>\n",
       "    <tr>\n",
       "      <th>1</th>\n",
       "      <td>2</td>\n",
       "      <td>Yunis Abdelhamid</td>\n",
       "      <td>ma MAR</td>\n",
       "      <td>DF</td>\n",
       "      <td>Reims</td>\n",
       "      <td>fr Ligue 1</td>\n",
       "      <td>33</td>\n",
       "      <td>1987</td>\n",
       "      <td>33.1</td>\n",
       "      <td>1281</td>\n",
       "      <td>...</td>\n",
       "      <td>61.7</td>\n",
       "      <td>0</td>\n",
       "      <td>0.8</td>\n",
       "      <td>-0.8</td>\n",
       "      <td>8</td>\n",
       "      <td>81</td>\n",
       "      <td>6</td>\n",
       "      <td>0</td>\n",
       "      <td>90</td>\n",
       "      <td>Matches</td>\n",
       "    </tr>\n",
       "    <tr>\n",
       "      <th>2</th>\n",
       "      <td>3</td>\n",
       "      <td>Salis Abdul Samed</td>\n",
       "      <td>gh GHA</td>\n",
       "      <td>MF</td>\n",
       "      <td>Clermont Foot</td>\n",
       "      <td>fr Ligue 1</td>\n",
       "      <td>21</td>\n",
       "      <td>2000</td>\n",
       "      <td>27.4</td>\n",
       "      <td>1532</td>\n",
       "      <td>...</td>\n",
       "      <td>86.0</td>\n",
       "      <td>0</td>\n",
       "      <td>1.1</td>\n",
       "      <td>-1.1</td>\n",
       "      <td>15</td>\n",
       "      <td>77</td>\n",
       "      <td>13</td>\n",
       "      <td>1</td>\n",
       "      <td>81</td>\n",
       "      <td>Matches</td>\n",
       "    </tr>\n",
       "    <tr>\n",
       "      <th>3</th>\n",
       "      <td>4</td>\n",
       "      <td>Laurent Abergel</td>\n",
       "      <td>fr FRA</td>\n",
       "      <td>MF</td>\n",
       "      <td>Lorient</td>\n",
       "      <td>fr Ligue 1</td>\n",
       "      <td>28</td>\n",
       "      <td>1993</td>\n",
       "      <td>32.8</td>\n",
       "      <td>1334</td>\n",
       "      <td>...</td>\n",
       "      <td>66.6</td>\n",
       "      <td>2</td>\n",
       "      <td>2.9</td>\n",
       "      <td>-0.9</td>\n",
       "      <td>30</td>\n",
       "      <td>127</td>\n",
       "      <td>19</td>\n",
       "      <td>6</td>\n",
       "      <td>137</td>\n",
       "      <td>Matches</td>\n",
       "    </tr>\n",
       "    <tr>\n",
       "      <th>4</th>\n",
       "      <td>5</td>\n",
       "      <td>Charles Abi</td>\n",
       "      <td>fr FRA</td>\n",
       "      <td>FW</td>\n",
       "      <td>Saint-Étienne</td>\n",
       "      <td>fr Ligue 1</td>\n",
       "      <td>21</td>\n",
       "      <td>2000</td>\n",
       "      <td>0.5</td>\n",
       "      <td>2</td>\n",
       "      <td>...</td>\n",
       "      <td>NaN</td>\n",
       "      <td>0</td>\n",
       "      <td>0.0</td>\n",
       "      <td>0.0</td>\n",
       "      <td>0</td>\n",
       "      <td>0</td>\n",
       "      <td>0</td>\n",
       "      <td>0</td>\n",
       "      <td>0</td>\n",
       "      <td>Matches</td>\n",
       "    </tr>\n",
       "    <tr>\n",
       "      <th>...</th>\n",
       "      <td>...</td>\n",
       "      <td>...</td>\n",
       "      <td>...</td>\n",
       "      <td>...</td>\n",
       "      <td>...</td>\n",
       "      <td>...</td>\n",
       "      <td>...</td>\n",
       "      <td>...</td>\n",
       "      <td>...</td>\n",
       "      <td>...</td>\n",
       "      <td>...</td>\n",
       "      <td>...</td>\n",
       "      <td>...</td>\n",
       "      <td>...</td>\n",
       "      <td>...</td>\n",
       "      <td>...</td>\n",
       "      <td>...</td>\n",
       "      <td>...</td>\n",
       "      <td>...</td>\n",
       "      <td>...</td>\n",
       "      <td>...</td>\n",
       "    </tr>\n",
       "    <tr>\n",
       "      <th>3032</th>\n",
       "      <td>2917</td>\n",
       "      <td>Martín Zubimendi</td>\n",
       "      <td>es ESP</td>\n",
       "      <td>MF</td>\n",
       "      <td>Real Sociedad</td>\n",
       "      <td>es La Liga</td>\n",
       "      <td>22</td>\n",
       "      <td>1999</td>\n",
       "      <td>28.8</td>\n",
       "      <td>1243</td>\n",
       "      <td>...</td>\n",
       "      <td>70.6</td>\n",
       "      <td>1</td>\n",
       "      <td>1.0</td>\n",
       "      <td>0.0</td>\n",
       "      <td>15</td>\n",
       "      <td>121</td>\n",
       "      <td>10</td>\n",
       "      <td>1</td>\n",
       "      <td>106</td>\n",
       "      <td>Matches</td>\n",
       "    </tr>\n",
       "    <tr>\n",
       "      <th>3033</th>\n",
       "      <td>2918</td>\n",
       "      <td>Szymon Żurkowski</td>\n",
       "      <td>pl POL</td>\n",
       "      <td>MF</td>\n",
       "      <td>Empoli</td>\n",
       "      <td>it Serie A</td>\n",
       "      <td>23</td>\n",
       "      <td>1997</td>\n",
       "      <td>25.6</td>\n",
       "      <td>733</td>\n",
       "      <td>...</td>\n",
       "      <td>60.4</td>\n",
       "      <td>2</td>\n",
       "      <td>1.5</td>\n",
       "      <td>+0.5</td>\n",
       "      <td>19</td>\n",
       "      <td>53</td>\n",
       "      <td>20</td>\n",
       "      <td>4</td>\n",
       "      <td>68</td>\n",
       "      <td>Matches</td>\n",
       "    </tr>\n",
       "    <tr>\n",
       "      <th>3034</th>\n",
       "      <td>2919</td>\n",
       "      <td>Martin Ødegaard</td>\n",
       "      <td>no NOR</td>\n",
       "      <td>MF</td>\n",
       "      <td>Arsenal</td>\n",
       "      <td>eng Premier League</td>\n",
       "      <td>22</td>\n",
       "      <td>1998</td>\n",
       "      <td>30.9</td>\n",
       "      <td>1355</td>\n",
       "      <td>...</td>\n",
       "      <td>68.6</td>\n",
       "      <td>4</td>\n",
       "      <td>6.8</td>\n",
       "      <td>-2.8</td>\n",
       "      <td>76</td>\n",
       "      <td>100</td>\n",
       "      <td>65</td>\n",
       "      <td>4</td>\n",
       "      <td>158</td>\n",
       "      <td>Matches</td>\n",
       "    </tr>\n",
       "    <tr>\n",
       "      <th>3035</th>\n",
       "      <td>2920</td>\n",
       "      <td>Milan Đurić</td>\n",
       "      <td>ba BIH</td>\n",
       "      <td>FW</td>\n",
       "      <td>Salernitana</td>\n",
       "      <td>it Serie A</td>\n",
       "      <td>31</td>\n",
       "      <td>1990</td>\n",
       "      <td>24.1</td>\n",
       "      <td>427</td>\n",
       "      <td>...</td>\n",
       "      <td>64.3</td>\n",
       "      <td>4</td>\n",
       "      <td>3.1</td>\n",
       "      <td>+0.9</td>\n",
       "      <td>32</td>\n",
       "      <td>18</td>\n",
       "      <td>4</td>\n",
       "      <td>0</td>\n",
       "      <td>30</td>\n",
       "      <td>Matches</td>\n",
       "    </tr>\n",
       "    <tr>\n",
       "      <th>3036</th>\n",
       "      <td>2921</td>\n",
       "      <td>Filip Đuričić</td>\n",
       "      <td>rs SRB</td>\n",
       "      <td>MF,FW</td>\n",
       "      <td>Sassuolo</td>\n",
       "      <td>it Serie A</td>\n",
       "      <td>29</td>\n",
       "      <td>1992</td>\n",
       "      <td>7.5</td>\n",
       "      <td>184</td>\n",
       "      <td>...</td>\n",
       "      <td>85.7</td>\n",
       "      <td>1</td>\n",
       "      <td>1.3</td>\n",
       "      <td>-0.3</td>\n",
       "      <td>11</td>\n",
       "      <td>13</td>\n",
       "      <td>18</td>\n",
       "      <td>0</td>\n",
       "      <td>34</td>\n",
       "      <td>Matches</td>\n",
       "    </tr>\n",
       "  </tbody>\n",
       "</table>\n",
       "<p>3037 rows × 32 columns</p>\n",
       "</div>"
      ],
      "text/plain": [
       "        Rk             Player   Nation    Pos          Squad  \\\n",
       "0        1         Max Aarons  eng ENG     DF   Norwich City   \n",
       "1        2   Yunis Abdelhamid   ma MAR     DF          Reims   \n",
       "2        3  Salis Abdul Samed   gh GHA     MF  Clermont Foot   \n",
       "3        4    Laurent Abergel   fr FRA     MF        Lorient   \n",
       "4        5        Charles Abi   fr FRA     FW  Saint-Étienne   \n",
       "...    ...                ...      ...    ...            ...   \n",
       "3032  2917   Martín Zubimendi   es ESP     MF  Real Sociedad   \n",
       "3033  2918   Szymon Żurkowski   pl POL     MF         Empoli   \n",
       "3034  2919    Martin Ødegaard   no NOR     MF        Arsenal   \n",
       "3035  2920        Milan Đurić   ba BIH     FW    Salernitana   \n",
       "3036  2921      Filip Đuričić   rs SRB  MF,FW       Sassuolo   \n",
       "\n",
       "                    Comp Age  Born   90s   Cmp  ...  Cmp% Ast   xA  A-xA  KP  \\\n",
       "0     eng Premier League  21  2000  32.0  1087  ...  45.2   2  1.4  +0.6  19   \n",
       "1             fr Ligue 1  33  1987  33.1  1281  ...  61.7   0  0.8  -0.8   8   \n",
       "2             fr Ligue 1  21  2000  27.4  1532  ...  86.0   0  1.1  -1.1  15   \n",
       "3             fr Ligue 1  28  1993  32.8  1334  ...  66.6   2  2.9  -0.9  30   \n",
       "4             fr Ligue 1  21  2000   0.5     2  ...   NaN   0  0.0   0.0   0   \n",
       "...                  ...  ..   ...   ...   ...  ...   ...  ..  ...   ...  ..   \n",
       "3032          es La Liga  22  1999  28.8  1243  ...  70.6   1  1.0   0.0  15   \n",
       "3033          it Serie A  23  1997  25.6   733  ...  60.4   2  1.5  +0.5  19   \n",
       "3034  eng Premier League  22  1998  30.9  1355  ...  68.6   4  6.8  -2.8  76   \n",
       "3035          it Serie A  31  1990  24.1   427  ...  64.3   4  3.1  +0.9  32   \n",
       "3036          it Serie A  29  1992   7.5   184  ...  85.7   1  1.3  -0.3  11   \n",
       "\n",
       "      1/3 PPA CrsPA Prog  Matches  \n",
       "0      50  36     8   94  Matches  \n",
       "1      81   6     0   90  Matches  \n",
       "2      77  13     1   81  Matches  \n",
       "3     127  19     6  137  Matches  \n",
       "4       0   0     0    0  Matches  \n",
       "...   ...  ..   ...  ...      ...  \n",
       "3032  121  10     1  106  Matches  \n",
       "3033   53  20     4   68  Matches  \n",
       "3034  100  65     4  158  Matches  \n",
       "3035   18   4     0   30  Matches  \n",
       "3036   13  18     0   34  Matches  \n",
       "\n",
       "[3037 rows x 32 columns]"
      ]
     },
     "execution_count": 7,
     "metadata": {},
     "output_type": "execute_result"
    }
   ],
   "source": [
    "df[1]"
   ]
  },
  {
   "cell_type": "code",
   "execution_count": 8,
   "metadata": {
    "executionInfo": {
     "elapsed": 6,
     "status": "ok",
     "timestamp": 1642638524826,
     "user": {
      "displayName": "Gary Davis",
      "photoUrl": "https://lh3.googleusercontent.com/a/default-user=s64",
      "userId": "10026740531512816388"
     },
     "user_tz": 360
    },
    "id": "owwSCuZYU-sT"
   },
   "outputs": [],
   "source": [
    "dfdata = df[1]"
   ]
  },
  {
   "cell_type": "markdown",
   "metadata": {
    "id": "laW205ykvn0S"
   },
   "source": [
    "Data cleaning"
   ]
  },
  {
   "cell_type": "markdown",
   "metadata": {
    "id": "b-cH41xd54Tw"
   },
   "source": [
    "We can see that the table header is presented multiple times in several rows."
   ]
  },
  {
   "cell_type": "code",
   "execution_count": 9,
   "metadata": {
    "colab": {
     "base_uri": "https://localhost:8080/",
     "height": 959
    },
    "executionInfo": {
     "elapsed": 6,
     "status": "ok",
     "timestamp": 1642638524826,
     "user": {
      "displayName": "Gary Davis",
      "photoUrl": "https://lh3.googleusercontent.com/a/default-user=s64",
      "userId": "10026740531512816388"
     },
     "user_tz": 360
    },
    "id": "6St9yeuZg9rf",
    "outputId": "01e5c069-ae1d-47fe-ca65-db26981d78a5"
   },
   "outputs": [
    {
     "data": {
      "text/html": [
       "<div>\n",
       "<style scoped>\n",
       "    .dataframe tbody tr th:only-of-type {\n",
       "        vertical-align: middle;\n",
       "    }\n",
       "\n",
       "    .dataframe tbody tr th {\n",
       "        vertical-align: top;\n",
       "    }\n",
       "\n",
       "    .dataframe thead th {\n",
       "        text-align: right;\n",
       "    }\n",
       "</style>\n",
       "<table border=\"1\" class=\"dataframe\">\n",
       "  <thead>\n",
       "    <tr style=\"text-align: right;\">\n",
       "      <th></th>\n",
       "      <th>Rk</th>\n",
       "      <th>Player</th>\n",
       "      <th>Nation</th>\n",
       "      <th>Pos</th>\n",
       "      <th>Squad</th>\n",
       "      <th>Comp</th>\n",
       "      <th>Age</th>\n",
       "      <th>Born</th>\n",
       "      <th>90s</th>\n",
       "      <th>Cmp</th>\n",
       "      <th>...</th>\n",
       "      <th>Cmp%</th>\n",
       "      <th>Ast</th>\n",
       "      <th>xA</th>\n",
       "      <th>A-xA</th>\n",
       "      <th>KP</th>\n",
       "      <th>1/3</th>\n",
       "      <th>PPA</th>\n",
       "      <th>CrsPA</th>\n",
       "      <th>Prog</th>\n",
       "      <th>Matches</th>\n",
       "    </tr>\n",
       "  </thead>\n",
       "  <tbody>\n",
       "    <tr>\n",
       "      <th>25</th>\n",
       "      <td>Rk</td>\n",
       "      <td>Player</td>\n",
       "      <td>Nation</td>\n",
       "      <td>Pos</td>\n",
       "      <td>Squad</td>\n",
       "      <td>Comp</td>\n",
       "      <td>Age</td>\n",
       "      <td>Born</td>\n",
       "      <td>90s</td>\n",
       "      <td>Cmp</td>\n",
       "      <td>...</td>\n",
       "      <td>Cmp%</td>\n",
       "      <td>Ast</td>\n",
       "      <td>xA</td>\n",
       "      <td>A-xA</td>\n",
       "      <td>KP</td>\n",
       "      <td>1/3</td>\n",
       "      <td>PPA</td>\n",
       "      <td>CrsPA</td>\n",
       "      <td>Prog</td>\n",
       "      <td>Matches</td>\n",
       "    </tr>\n",
       "    <tr>\n",
       "      <th>51</th>\n",
       "      <td>Rk</td>\n",
       "      <td>Player</td>\n",
       "      <td>Nation</td>\n",
       "      <td>Pos</td>\n",
       "      <td>Squad</td>\n",
       "      <td>Comp</td>\n",
       "      <td>Age</td>\n",
       "      <td>Born</td>\n",
       "      <td>90s</td>\n",
       "      <td>Cmp</td>\n",
       "      <td>...</td>\n",
       "      <td>Cmp%</td>\n",
       "      <td>Ast</td>\n",
       "      <td>xA</td>\n",
       "      <td>A-xA</td>\n",
       "      <td>KP</td>\n",
       "      <td>1/3</td>\n",
       "      <td>PPA</td>\n",
       "      <td>CrsPA</td>\n",
       "      <td>Prog</td>\n",
       "      <td>Matches</td>\n",
       "    </tr>\n",
       "    <tr>\n",
       "      <th>77</th>\n",
       "      <td>Rk</td>\n",
       "      <td>Player</td>\n",
       "      <td>Nation</td>\n",
       "      <td>Pos</td>\n",
       "      <td>Squad</td>\n",
       "      <td>Comp</td>\n",
       "      <td>Age</td>\n",
       "      <td>Born</td>\n",
       "      <td>90s</td>\n",
       "      <td>Cmp</td>\n",
       "      <td>...</td>\n",
       "      <td>Cmp%</td>\n",
       "      <td>Ast</td>\n",
       "      <td>xA</td>\n",
       "      <td>A-xA</td>\n",
       "      <td>KP</td>\n",
       "      <td>1/3</td>\n",
       "      <td>PPA</td>\n",
       "      <td>CrsPA</td>\n",
       "      <td>Prog</td>\n",
       "      <td>Matches</td>\n",
       "    </tr>\n",
       "    <tr>\n",
       "      <th>103</th>\n",
       "      <td>Rk</td>\n",
       "      <td>Player</td>\n",
       "      <td>Nation</td>\n",
       "      <td>Pos</td>\n",
       "      <td>Squad</td>\n",
       "      <td>Comp</td>\n",
       "      <td>Age</td>\n",
       "      <td>Born</td>\n",
       "      <td>90s</td>\n",
       "      <td>Cmp</td>\n",
       "      <td>...</td>\n",
       "      <td>Cmp%</td>\n",
       "      <td>Ast</td>\n",
       "      <td>xA</td>\n",
       "      <td>A-xA</td>\n",
       "      <td>KP</td>\n",
       "      <td>1/3</td>\n",
       "      <td>PPA</td>\n",
       "      <td>CrsPA</td>\n",
       "      <td>Prog</td>\n",
       "      <td>Matches</td>\n",
       "    </tr>\n",
       "    <tr>\n",
       "      <th>129</th>\n",
       "      <td>Rk</td>\n",
       "      <td>Player</td>\n",
       "      <td>Nation</td>\n",
       "      <td>Pos</td>\n",
       "      <td>Squad</td>\n",
       "      <td>Comp</td>\n",
       "      <td>Age</td>\n",
       "      <td>Born</td>\n",
       "      <td>90s</td>\n",
       "      <td>Cmp</td>\n",
       "      <td>...</td>\n",
       "      <td>Cmp%</td>\n",
       "      <td>Ast</td>\n",
       "      <td>xA</td>\n",
       "      <td>A-xA</td>\n",
       "      <td>KP</td>\n",
       "      <td>1/3</td>\n",
       "      <td>PPA</td>\n",
       "      <td>CrsPA</td>\n",
       "      <td>Prog</td>\n",
       "      <td>Matches</td>\n",
       "    </tr>\n",
       "    <tr>\n",
       "      <th>...</th>\n",
       "      <td>...</td>\n",
       "      <td>...</td>\n",
       "      <td>...</td>\n",
       "      <td>...</td>\n",
       "      <td>...</td>\n",
       "      <td>...</td>\n",
       "      <td>...</td>\n",
       "      <td>...</td>\n",
       "      <td>...</td>\n",
       "      <td>...</td>\n",
       "      <td>...</td>\n",
       "      <td>...</td>\n",
       "      <td>...</td>\n",
       "      <td>...</td>\n",
       "      <td>...</td>\n",
       "      <td>...</td>\n",
       "      <td>...</td>\n",
       "      <td>...</td>\n",
       "      <td>...</td>\n",
       "      <td>...</td>\n",
       "      <td>...</td>\n",
       "    </tr>\n",
       "    <tr>\n",
       "      <th>2911</th>\n",
       "      <td>Rk</td>\n",
       "      <td>Player</td>\n",
       "      <td>Nation</td>\n",
       "      <td>Pos</td>\n",
       "      <td>Squad</td>\n",
       "      <td>Comp</td>\n",
       "      <td>Age</td>\n",
       "      <td>Born</td>\n",
       "      <td>90s</td>\n",
       "      <td>Cmp</td>\n",
       "      <td>...</td>\n",
       "      <td>Cmp%</td>\n",
       "      <td>Ast</td>\n",
       "      <td>xA</td>\n",
       "      <td>A-xA</td>\n",
       "      <td>KP</td>\n",
       "      <td>1/3</td>\n",
       "      <td>PPA</td>\n",
       "      <td>CrsPA</td>\n",
       "      <td>Prog</td>\n",
       "      <td>Matches</td>\n",
       "    </tr>\n",
       "    <tr>\n",
       "      <th>2937</th>\n",
       "      <td>Rk</td>\n",
       "      <td>Player</td>\n",
       "      <td>Nation</td>\n",
       "      <td>Pos</td>\n",
       "      <td>Squad</td>\n",
       "      <td>Comp</td>\n",
       "      <td>Age</td>\n",
       "      <td>Born</td>\n",
       "      <td>90s</td>\n",
       "      <td>Cmp</td>\n",
       "      <td>...</td>\n",
       "      <td>Cmp%</td>\n",
       "      <td>Ast</td>\n",
       "      <td>xA</td>\n",
       "      <td>A-xA</td>\n",
       "      <td>KP</td>\n",
       "      <td>1/3</td>\n",
       "      <td>PPA</td>\n",
       "      <td>CrsPA</td>\n",
       "      <td>Prog</td>\n",
       "      <td>Matches</td>\n",
       "    </tr>\n",
       "    <tr>\n",
       "      <th>2963</th>\n",
       "      <td>Rk</td>\n",
       "      <td>Player</td>\n",
       "      <td>Nation</td>\n",
       "      <td>Pos</td>\n",
       "      <td>Squad</td>\n",
       "      <td>Comp</td>\n",
       "      <td>Age</td>\n",
       "      <td>Born</td>\n",
       "      <td>90s</td>\n",
       "      <td>Cmp</td>\n",
       "      <td>...</td>\n",
       "      <td>Cmp%</td>\n",
       "      <td>Ast</td>\n",
       "      <td>xA</td>\n",
       "      <td>A-xA</td>\n",
       "      <td>KP</td>\n",
       "      <td>1/3</td>\n",
       "      <td>PPA</td>\n",
       "      <td>CrsPA</td>\n",
       "      <td>Prog</td>\n",
       "      <td>Matches</td>\n",
       "    </tr>\n",
       "    <tr>\n",
       "      <th>2989</th>\n",
       "      <td>Rk</td>\n",
       "      <td>Player</td>\n",
       "      <td>Nation</td>\n",
       "      <td>Pos</td>\n",
       "      <td>Squad</td>\n",
       "      <td>Comp</td>\n",
       "      <td>Age</td>\n",
       "      <td>Born</td>\n",
       "      <td>90s</td>\n",
       "      <td>Cmp</td>\n",
       "      <td>...</td>\n",
       "      <td>Cmp%</td>\n",
       "      <td>Ast</td>\n",
       "      <td>xA</td>\n",
       "      <td>A-xA</td>\n",
       "      <td>KP</td>\n",
       "      <td>1/3</td>\n",
       "      <td>PPA</td>\n",
       "      <td>CrsPA</td>\n",
       "      <td>Prog</td>\n",
       "      <td>Matches</td>\n",
       "    </tr>\n",
       "    <tr>\n",
       "      <th>3015</th>\n",
       "      <td>Rk</td>\n",
       "      <td>Player</td>\n",
       "      <td>Nation</td>\n",
       "      <td>Pos</td>\n",
       "      <td>Squad</td>\n",
       "      <td>Comp</td>\n",
       "      <td>Age</td>\n",
       "      <td>Born</td>\n",
       "      <td>90s</td>\n",
       "      <td>Cmp</td>\n",
       "      <td>...</td>\n",
       "      <td>Cmp%</td>\n",
       "      <td>Ast</td>\n",
       "      <td>xA</td>\n",
       "      <td>A-xA</td>\n",
       "      <td>KP</td>\n",
       "      <td>1/3</td>\n",
       "      <td>PPA</td>\n",
       "      <td>CrsPA</td>\n",
       "      <td>Prog</td>\n",
       "      <td>Matches</td>\n",
       "    </tr>\n",
       "  </tbody>\n",
       "</table>\n",
       "<p>116 rows × 32 columns</p>\n",
       "</div>"
      ],
      "text/plain": [
       "      Rk  Player  Nation  Pos  Squad  Comp  Age  Born  90s  Cmp  ...  Cmp%  \\\n",
       "25    Rk  Player  Nation  Pos  Squad  Comp  Age  Born  90s  Cmp  ...  Cmp%   \n",
       "51    Rk  Player  Nation  Pos  Squad  Comp  Age  Born  90s  Cmp  ...  Cmp%   \n",
       "77    Rk  Player  Nation  Pos  Squad  Comp  Age  Born  90s  Cmp  ...  Cmp%   \n",
       "103   Rk  Player  Nation  Pos  Squad  Comp  Age  Born  90s  Cmp  ...  Cmp%   \n",
       "129   Rk  Player  Nation  Pos  Squad  Comp  Age  Born  90s  Cmp  ...  Cmp%   \n",
       "...   ..     ...     ...  ...    ...   ...  ...   ...  ...  ...  ...   ...   \n",
       "2911  Rk  Player  Nation  Pos  Squad  Comp  Age  Born  90s  Cmp  ...  Cmp%   \n",
       "2937  Rk  Player  Nation  Pos  Squad  Comp  Age  Born  90s  Cmp  ...  Cmp%   \n",
       "2963  Rk  Player  Nation  Pos  Squad  Comp  Age  Born  90s  Cmp  ...  Cmp%   \n",
       "2989  Rk  Player  Nation  Pos  Squad  Comp  Age  Born  90s  Cmp  ...  Cmp%   \n",
       "3015  Rk  Player  Nation  Pos  Squad  Comp  Age  Born  90s  Cmp  ...  Cmp%   \n",
       "\n",
       "      Ast  xA  A-xA  KP  1/3  PPA  CrsPA  Prog  Matches  \n",
       "25    Ast  xA  A-xA  KP  1/3  PPA  CrsPA  Prog  Matches  \n",
       "51    Ast  xA  A-xA  KP  1/3  PPA  CrsPA  Prog  Matches  \n",
       "77    Ast  xA  A-xA  KP  1/3  PPA  CrsPA  Prog  Matches  \n",
       "103   Ast  xA  A-xA  KP  1/3  PPA  CrsPA  Prog  Matches  \n",
       "129   Ast  xA  A-xA  KP  1/3  PPA  CrsPA  Prog  Matches  \n",
       "...   ...  ..   ...  ..  ...  ...    ...   ...      ...  \n",
       "2911  Ast  xA  A-xA  KP  1/3  PPA  CrsPA  Prog  Matches  \n",
       "2937  Ast  xA  A-xA  KP  1/3  PPA  CrsPA  Prog  Matches  \n",
       "2963  Ast  xA  A-xA  KP  1/3  PPA  CrsPA  Prog  Matches  \n",
       "2989  Ast  xA  A-xA  KP  1/3  PPA  CrsPA  Prog  Matches  \n",
       "3015  Ast  xA  A-xA  KP  1/3  PPA  CrsPA  Prog  Matches  \n",
       "\n",
       "[116 rows x 32 columns]"
      ]
     },
     "execution_count": 9,
     "metadata": {},
     "output_type": "execute_result"
    }
   ],
   "source": [
    "dfdata[dfdata.Age == 'Age']"
   ]
  },
  {
   "cell_type": "code",
   "execution_count": 10,
   "metadata": {
    "colab": {
     "base_uri": "https://localhost:8080/"
    },
    "executionInfo": {
     "elapsed": 291,
     "status": "ok",
     "timestamp": 1642638525112,
     "user": {
      "displayName": "Gary Davis",
      "photoUrl": "https://lh3.googleusercontent.com/a/default-user=s64",
      "userId": "10026740531512816388"
     },
     "user_tz": 360
    },
    "id": "rdRg9UDI5lus",
    "outputId": "f746d3d4-08ff-4cbd-d376-21d1868385f3"
   },
   "outputs": [
    {
     "data": {
      "text/plain": [
       "116"
      ]
     },
     "execution_count": 10,
     "metadata": {},
     "output_type": "execute_result"
    }
   ],
   "source": [
    "len(dfdata[dfdata.Age == 'Age'])"
   ]
  },
  {
   "cell_type": "code",
   "execution_count": 11,
   "metadata": {
    "executionInfo": {
     "elapsed": 10,
     "status": "ok",
     "timestamp": 1642638525113,
     "user": {
      "displayName": "Gary Davis",
      "photoUrl": "https://lh3.googleusercontent.com/a/default-user=s64",
      "userId": "10026740531512816388"
     },
     "user_tz": 360
    },
    "id": "lG34yiD5e_Cs"
   },
   "outputs": [],
   "source": [
    "dfPassing = dfdata.drop(dfdata[dfdata.Age == 'Age'].index)"
   ]
  },
  {
   "cell_type": "code",
   "execution_count": 12,
   "metadata": {
    "colab": {
     "base_uri": "https://localhost:8080/"
    },
    "executionInfo": {
     "elapsed": 10,
     "status": "ok",
     "timestamp": 1642638525113,
     "user": {
      "displayName": "Gary Davis",
      "photoUrl": "https://lh3.googleusercontent.com/a/default-user=s64",
      "userId": "10026740531512816388"
     },
     "user_tz": 360
    },
    "id": "QQHt_VHquyNJ",
    "outputId": "49d6dd0c-d5e4-41fa-fbb2-137ae3852a92"
   },
   "outputs": [
    {
     "data": {
      "text/plain": [
       "(2921, 32)"
      ]
     },
     "execution_count": 12,
     "metadata": {},
     "output_type": "execute_result"
    }
   ],
   "source": [
    "dfPassing.shape"
   ]
  },
  {
   "cell_type": "code",
   "execution_count": 13,
   "metadata": {
    "colab": {
     "base_uri": "https://localhost:8080/"
    },
    "executionInfo": {
     "elapsed": 9,
     "status": "ok",
     "timestamp": 1642638525114,
     "user": {
      "displayName": "Gary Davis",
      "photoUrl": "https://lh3.googleusercontent.com/a/default-user=s64",
      "userId": "10026740531512816388"
     },
     "user_tz": 360
    },
    "id": "vZqC36KF8YqE",
    "outputId": "443d584c-bcfb-495a-a951-a13b93435562"
   },
   "outputs": [
    {
     "data": {
      "text/plain": [
       "Index(['Rk', 'Player', 'Nation', 'Pos', 'Squad', 'Comp', 'Age', 'Born', '90s',\n",
       "       'Cmp', 'Att', 'Cmp%', 'TotDist', 'PrgDist', 'Cmp', 'Att', 'Cmp%', 'Cmp',\n",
       "       'Att', 'Cmp%', 'Cmp', 'Att', 'Cmp%', 'Ast', 'xA', 'A-xA', 'KP', '1/3',\n",
       "       'PPA', 'CrsPA', 'Prog', 'Matches'],\n",
       "      dtype='object')"
      ]
     },
     "execution_count": 13,
     "metadata": {},
     "output_type": "execute_result"
    }
   ],
   "source": [
    "dfPassing.columns"
   ]
  },
  {
   "cell_type": "code",
   "execution_count": 14,
   "metadata": {
    "executionInfo": {
     "elapsed": 8,
     "status": "ok",
     "timestamp": 1642638525114,
     "user": {
      "displayName": "Gary Davis",
      "photoUrl": "https://lh3.googleusercontent.com/a/default-user=s64",
      "userId": "10026740531512816388"
     },
     "user_tz": 360
    },
    "id": "lE8fOs1T8Ywc"
   },
   "outputs": [],
   "source": [
    "#Convert string to float\n",
    "dfPassing['90s'] = dfPassing['90s'].astype(float)\n",
    "dfPassing['Cmp'] = dfPassing['Cmp'].astype(float)\n",
    "dfPassing['Att'] = dfPassing['Att'].astype(float)\n",
    "dfPassing['Cmp%'] = dfPassing['Cmp%'].astype(float)\n",
    "dfPassing['TotDist'] = dfPassing['TotDist'].astype(float)\n",
    "dfPassing['PrgDist'] = dfPassing['PrgDist'].astype(float)\n",
    "#dfPassing['Cmp.1'] = dfPassing['Cmp.1'].astype(float)\n",
    "#dfPassing['Att.1'] = dfPassing['Att.1'].astype(float)\n",
    "#dfPassing['Cmp%.1'] = dfPassing['Cmp%.1'].astype(float)\n",
    "#dfPassing['Cmp.2'] = dfPassing['Cmp.2'].astype(float)\n",
    "#dfPassing['Att.2'] = dfPassing['Att.2'].astype(float)\n",
    "#dfPassing['Cmp%.2'] = dfPassing['Cmp%.2'].astype(float)\n",
    "#dfPassing['Cmp.3'] = dfPassing['Cmp.3'].astype(float)\n",
    "#dfPassing['Att.3'] = dfPassing['Att.3'].astype(float)\n",
    "#dfPassing['Cmp%.3'] = dfPassing['Cmp%.3'].astype(float)\n",
    "dfPassing['Ast'] = dfPassing['Ast'].astype(float)\n",
    "dfPassing['xA'] = dfPassing['xA'].astype(float)\n",
    "dfPassing['A-xA'] = dfPassing['A-xA'].astype(float)\n",
    "dfPassing['KP'] = dfPassing['KP'].astype(float)\n",
    "dfPassing['1/3'] = dfPassing['1/3'].astype(float)\n",
    "dfPassing['PPA'] = dfPassing['PPA'].astype(float)\n",
    "dfPassing['CrsPA'] = dfPassing['CrsPA'].astype(float)\n",
    "dfPassing['Prog'] = dfPassing['Prog'].astype(float)"
   ]
  },
  {
   "cell_type": "code",
   "execution_count": 15,
   "metadata": {
    "executionInfo": {
     "elapsed": 8,
     "status": "ok",
     "timestamp": 1642638525114,
     "user": {
      "displayName": "Gary Davis",
      "photoUrl": "https://lh3.googleusercontent.com/a/default-user=s64",
      "userId": "10026740531512816388"
     },
     "user_tz": 360
    },
    "id": "MxbQETvym0T6"
   },
   "outputs": [],
   "source": [
    "#rename duplicate columns but not the first\n",
    "cols = []\n",
    "count = 1\n",
    "for column in dfPassing.columns:\n",
    "    if column == 'Cmp':\n",
    "        cols.append(f'Cmp_{count}')\n",
    "        count+=1\n",
    "        continue\n",
    "    cols.append(column)\n",
    "dfPassing.columns = cols"
   ]
  },
  {
   "cell_type": "code",
   "execution_count": 16,
   "metadata": {
    "executionInfo": {
     "elapsed": 8,
     "status": "ok",
     "timestamp": 1642638525115,
     "user": {
      "displayName": "Gary Davis",
      "photoUrl": "https://lh3.googleusercontent.com/a/default-user=s64",
      "userId": "10026740531512816388"
     },
     "user_tz": 360
    },
    "id": "MvK5RTPrm8Dv"
   },
   "outputs": [],
   "source": [
    "#rename duplicate columns but not the first\n",
    "cols = []\n",
    "count = 1\n",
    "for column in dfPassing.columns:\n",
    "    if column == 'Att':\n",
    "        cols.append(f'Att_{count}')\n",
    "        count+=1\n",
    "        continue\n",
    "    cols.append(column)\n",
    "dfPassing.columns = cols"
   ]
  },
  {
   "cell_type": "code",
   "execution_count": 17,
   "metadata": {
    "executionInfo": {
     "elapsed": 8,
     "status": "ok",
     "timestamp": 1642638525115,
     "user": {
      "displayName": "Gary Davis",
      "photoUrl": "https://lh3.googleusercontent.com/a/default-user=s64",
      "userId": "10026740531512816388"
     },
     "user_tz": 360
    },
    "id": "JLdrVpfLnCSb"
   },
   "outputs": [],
   "source": [
    "#rename duplicate columns but not the first\n",
    "cols = []\n",
    "count = 1\n",
    "for column in dfPassing.columns:\n",
    "    if column == 'Cmp%':\n",
    "        cols.append(f'Cmp%_{count}')\n",
    "        count+=1\n",
    "        continue\n",
    "    cols.append(column)\n",
    "dfPassing.columns = cols"
   ]
  },
  {
   "cell_type": "code",
   "execution_count": 18,
   "metadata": {
    "executionInfo": {
     "elapsed": 8,
     "status": "ok",
     "timestamp": 1642638525115,
     "user": {
      "displayName": "Gary Davis",
      "photoUrl": "https://lh3.googleusercontent.com/a/default-user=s64",
      "userId": "10026740531512816388"
     },
     "user_tz": 360
    },
    "id": "tAKvZSmo8c9F"
   },
   "outputs": [],
   "source": [
    "#turn data into p 90\n",
    "dfPassing['Cmp_1'] = dfPassing['Cmp_1'] / dfPassing['90s']\n",
    "dfPassing['Att_1'] = dfPassing['Att_1'] / dfPassing['90s']\n",
    "dfPassing['TotDist'] = dfPassing['TotDist'] / dfPassing['90s']\n",
    "dfPassing['PrgDist'] = dfPassing['PrgDist'] / dfPassing['90s']\n",
    "dfPassing['Cmp_2'] = dfPassing['Cmp_2'] / dfPassing['90s']\n",
    "dfPassing['Att_2'] = dfPassing['Att_2'] / dfPassing['90s']\n",
    "dfPassing['Cmp_3'] = dfPassing['Cmp_3'] / dfPassing['90s']\n",
    "dfPassing['Att_3'] = dfPassing['Att_3'] / dfPassing['90s']\n",
    "dfPassing['Cmp_4'] = dfPassing['Cmp_4'] / dfPassing['90s']\n",
    "dfPassing['Att_4'] = dfPassing['Att_4'] / dfPassing['90s']\n",
    "dfPassing['Ast'] = dfPassing['Ast'] / dfPassing['90s']\n",
    "dfPassing['xA'] = dfPassing['xA'] / dfPassing['90s']\n",
    "dfPassing['A-xA'] = dfPassing['A-xA'] / dfPassing['90s']\n",
    "dfPassing['KP'] = dfPassing['KP'] / dfPassing['90s']\n",
    "dfPassing['1/3'] = dfPassing['1/3'] / dfPassing['90s']\n",
    "dfPassing['PPA'] = dfPassing['PPA'] / dfPassing['90s']\n",
    "dfPassing['CrsPA'] = dfPassing['CrsPA'] / dfPassing['90s']\n",
    "dfPassing['Prog'] = dfPassing['Prog'] / dfPassing['90s']"
   ]
  },
  {
   "cell_type": "code",
   "execution_count": 19,
   "metadata": {
    "colab": {
     "base_uri": "https://localhost:8080/",
     "height": 374
    },
    "executionInfo": {
     "elapsed": 8,
     "status": "ok",
     "timestamp": 1642638525116,
     "user": {
      "displayName": "Gary Davis",
      "photoUrl": "https://lh3.googleusercontent.com/a/default-user=s64",
      "userId": "10026740531512816388"
     },
     "user_tz": 360
    },
    "id": "NXoH9Vn1uyWI",
    "outputId": "00cee7a8-9ede-43d8-fdd1-0cd61b7b996a"
   },
   "outputs": [
    {
     "data": {
      "text/html": [
       "<div>\n",
       "<style scoped>\n",
       "    .dataframe tbody tr th:only-of-type {\n",
       "        vertical-align: middle;\n",
       "    }\n",
       "\n",
       "    .dataframe tbody tr th {\n",
       "        vertical-align: top;\n",
       "    }\n",
       "\n",
       "    .dataframe thead th {\n",
       "        text-align: right;\n",
       "    }\n",
       "</style>\n",
       "<table border=\"1\" class=\"dataframe\">\n",
       "  <thead>\n",
       "    <tr style=\"text-align: right;\">\n",
       "      <th></th>\n",
       "      <th>Rk</th>\n",
       "      <th>Player</th>\n",
       "      <th>Nation</th>\n",
       "      <th>Pos</th>\n",
       "      <th>Squad</th>\n",
       "      <th>Comp</th>\n",
       "      <th>Age</th>\n",
       "      <th>Born</th>\n",
       "      <th>90s</th>\n",
       "      <th>Cmp_1</th>\n",
       "      <th>...</th>\n",
       "      <th>Cmp%_4</th>\n",
       "      <th>Ast</th>\n",
       "      <th>xA</th>\n",
       "      <th>A-xA</th>\n",
       "      <th>KP</th>\n",
       "      <th>1/3</th>\n",
       "      <th>PPA</th>\n",
       "      <th>CrsPA</th>\n",
       "      <th>Prog</th>\n",
       "      <th>Matches</th>\n",
       "    </tr>\n",
       "  </thead>\n",
       "  <tbody>\n",
       "    <tr>\n",
       "      <th>0</th>\n",
       "      <td>1</td>\n",
       "      <td>Max Aarons</td>\n",
       "      <td>eng ENG</td>\n",
       "      <td>DF</td>\n",
       "      <td>Norwich City</td>\n",
       "      <td>eng Premier League</td>\n",
       "      <td>21</td>\n",
       "      <td>2000</td>\n",
       "      <td>32.0</td>\n",
       "      <td>33.968750</td>\n",
       "      <td>...</td>\n",
       "      <td>45.2</td>\n",
       "      <td>0.062500</td>\n",
       "      <td>0.043750</td>\n",
       "      <td>0.018750</td>\n",
       "      <td>0.593750</td>\n",
       "      <td>1.562500</td>\n",
       "      <td>1.125000</td>\n",
       "      <td>0.250000</td>\n",
       "      <td>2.937500</td>\n",
       "      <td>Matches</td>\n",
       "    </tr>\n",
       "    <tr>\n",
       "      <th>1</th>\n",
       "      <td>2</td>\n",
       "      <td>Yunis Abdelhamid</td>\n",
       "      <td>ma MAR</td>\n",
       "      <td>DF</td>\n",
       "      <td>Reims</td>\n",
       "      <td>fr Ligue 1</td>\n",
       "      <td>33</td>\n",
       "      <td>1987</td>\n",
       "      <td>33.1</td>\n",
       "      <td>38.700906</td>\n",
       "      <td>...</td>\n",
       "      <td>61.7</td>\n",
       "      <td>0.000000</td>\n",
       "      <td>0.024169</td>\n",
       "      <td>-0.024169</td>\n",
       "      <td>0.241692</td>\n",
       "      <td>2.447130</td>\n",
       "      <td>0.181269</td>\n",
       "      <td>0.000000</td>\n",
       "      <td>2.719033</td>\n",
       "      <td>Matches</td>\n",
       "    </tr>\n",
       "    <tr>\n",
       "      <th>2</th>\n",
       "      <td>3</td>\n",
       "      <td>Salis Abdul Samed</td>\n",
       "      <td>gh GHA</td>\n",
       "      <td>MF</td>\n",
       "      <td>Clermont Foot</td>\n",
       "      <td>fr Ligue 1</td>\n",
       "      <td>21</td>\n",
       "      <td>2000</td>\n",
       "      <td>27.4</td>\n",
       "      <td>55.912409</td>\n",
       "      <td>...</td>\n",
       "      <td>86.0</td>\n",
       "      <td>0.000000</td>\n",
       "      <td>0.040146</td>\n",
       "      <td>-0.040146</td>\n",
       "      <td>0.547445</td>\n",
       "      <td>2.810219</td>\n",
       "      <td>0.474453</td>\n",
       "      <td>0.036496</td>\n",
       "      <td>2.956204</td>\n",
       "      <td>Matches</td>\n",
       "    </tr>\n",
       "    <tr>\n",
       "      <th>3</th>\n",
       "      <td>4</td>\n",
       "      <td>Laurent Abergel</td>\n",
       "      <td>fr FRA</td>\n",
       "      <td>MF</td>\n",
       "      <td>Lorient</td>\n",
       "      <td>fr Ligue 1</td>\n",
       "      <td>28</td>\n",
       "      <td>1993</td>\n",
       "      <td>32.8</td>\n",
       "      <td>40.670732</td>\n",
       "      <td>...</td>\n",
       "      <td>66.6</td>\n",
       "      <td>0.060976</td>\n",
       "      <td>0.088415</td>\n",
       "      <td>-0.027439</td>\n",
       "      <td>0.914634</td>\n",
       "      <td>3.871951</td>\n",
       "      <td>0.579268</td>\n",
       "      <td>0.182927</td>\n",
       "      <td>4.176829</td>\n",
       "      <td>Matches</td>\n",
       "    </tr>\n",
       "    <tr>\n",
       "      <th>4</th>\n",
       "      <td>5</td>\n",
       "      <td>Charles Abi</td>\n",
       "      <td>fr FRA</td>\n",
       "      <td>FW</td>\n",
       "      <td>Saint-Étienne</td>\n",
       "      <td>fr Ligue 1</td>\n",
       "      <td>21</td>\n",
       "      <td>2000</td>\n",
       "      <td>0.5</td>\n",
       "      <td>4.000000</td>\n",
       "      <td>...</td>\n",
       "      <td>NaN</td>\n",
       "      <td>0.000000</td>\n",
       "      <td>0.000000</td>\n",
       "      <td>0.000000</td>\n",
       "      <td>0.000000</td>\n",
       "      <td>0.000000</td>\n",
       "      <td>0.000000</td>\n",
       "      <td>0.000000</td>\n",
       "      <td>0.000000</td>\n",
       "      <td>Matches</td>\n",
       "    </tr>\n",
       "  </tbody>\n",
       "</table>\n",
       "<p>5 rows × 32 columns</p>\n",
       "</div>"
      ],
      "text/plain": [
       "  Rk             Player   Nation Pos          Squad                Comp Age  \\\n",
       "0  1         Max Aarons  eng ENG  DF   Norwich City  eng Premier League  21   \n",
       "1  2   Yunis Abdelhamid   ma MAR  DF          Reims          fr Ligue 1  33   \n",
       "2  3  Salis Abdul Samed   gh GHA  MF  Clermont Foot          fr Ligue 1  21   \n",
       "3  4    Laurent Abergel   fr FRA  MF        Lorient          fr Ligue 1  28   \n",
       "4  5        Charles Abi   fr FRA  FW  Saint-Étienne          fr Ligue 1  21   \n",
       "\n",
       "   Born   90s      Cmp_1  ...  Cmp%_4       Ast        xA      A-xA        KP  \\\n",
       "0  2000  32.0  33.968750  ...    45.2  0.062500  0.043750  0.018750  0.593750   \n",
       "1  1987  33.1  38.700906  ...    61.7  0.000000  0.024169 -0.024169  0.241692   \n",
       "2  2000  27.4  55.912409  ...    86.0  0.000000  0.040146 -0.040146  0.547445   \n",
       "3  1993  32.8  40.670732  ...    66.6  0.060976  0.088415 -0.027439  0.914634   \n",
       "4  2000   0.5   4.000000  ...     NaN  0.000000  0.000000  0.000000  0.000000   \n",
       "\n",
       "        1/3       PPA     CrsPA      Prog  Matches  \n",
       "0  1.562500  1.125000  0.250000  2.937500  Matches  \n",
       "1  2.447130  0.181269  0.000000  2.719033  Matches  \n",
       "2  2.810219  0.474453  0.036496  2.956204  Matches  \n",
       "3  3.871951  0.579268  0.182927  4.176829  Matches  \n",
       "4  0.000000  0.000000  0.000000  0.000000  Matches  \n",
       "\n",
       "[5 rows x 32 columns]"
      ]
     },
     "execution_count": 19,
     "metadata": {},
     "output_type": "execute_result"
    }
   ],
   "source": [
    "dfPassing.head()"
   ]
  },
  {
   "cell_type": "code",
   "execution_count": 20,
   "metadata": {},
   "outputs": [],
   "source": [
    "dfPassing['PlSqu'] = dfPassing['Player'] + dfPassing['Squad']"
   ]
  },
  {
   "cell_type": "code",
   "execution_count": 21,
   "metadata": {},
   "outputs": [],
   "source": [
    "dfPassing['Player'] = dfPassing['Player'].apply(unidecode)"
   ]
  },
  {
   "cell_type": "code",
   "execution_count": 22,
   "metadata": {},
   "outputs": [],
   "source": [
    "dfPassing['Squad'] = dfPassing['Squad'].apply(unidecode)"
   ]
  },
  {
   "cell_type": "code",
   "execution_count": 23,
   "metadata": {
    "executionInfo": {
     "elapsed": 593,
     "status": "ok",
     "timestamp": 1642638525701,
     "user": {
      "displayName": "Gary Davis",
      "photoUrl": "https://lh3.googleusercontent.com/a/default-user=s64",
      "userId": "10026740531512816388"
     },
     "user_tz": 360
    },
    "id": "xhSx7BPdvSjB"
   },
   "outputs": [],
   "source": [
    "dfPassing.to_csv('fbrefBig5Passing.csv', index=False)"
   ]
  },
  {
   "cell_type": "code",
   "execution_count": null,
   "metadata": {},
   "outputs": [],
   "source": []
  }
 ],
 "metadata": {
  "colab": {
   "collapsed_sections": [],
   "name": "Scrape MLS Passing Stats.ipynb",
   "provenance": []
  },
  "kernelspec": {
   "display_name": "Python 3 (ipykernel)",
   "language": "python",
   "name": "python3"
  },
  "language_info": {
   "codemirror_mode": {
    "name": "ipython",
    "version": 3
   },
   "file_extension": ".py",
   "mimetype": "text/x-python",
   "name": "python",
   "nbconvert_exporter": "python",
   "pygments_lexer": "ipython3",
   "version": "3.9.7"
  }
 },
 "nbformat": 4,
 "nbformat_minor": 1
}
