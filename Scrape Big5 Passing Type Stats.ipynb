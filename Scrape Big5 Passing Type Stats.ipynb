{
 "cells": [
  {
   "cell_type": "markdown",
   "metadata": {
    "id": "0XFPIZmjtLbb"
   },
   "source": [
    "## How to ScrapBig 5 Passing Type Stats from FBREF - Soccer/Football\n"
   ]
  },
  {
   "cell_type": "markdown",
   "metadata": {
    "id": "-AQZU0n4StVq"
   },
   "source": [
    "Method 1\n",
    "\n",
    "We could modularize the URL and year strings of text that may be useful for programmatic access (in the subsequent code cell)."
   ]
  },
  {
   "cell_type": "code",
   "execution_count": 1,
   "metadata": {
    "executionInfo": {
     "elapsed": 7,
     "status": "ok",
     "timestamp": 1642638549114,
     "user": {
      "displayName": "Gary Davis",
      "photoUrl": "https://lh3.googleusercontent.com/a/default-user=s64",
      "userId": "10026740531512816388"
     },
     "user_tz": 360
    },
    "id": "eviHhQGkleOW"
   },
   "outputs": [],
   "source": [
    "import requests\n",
    "import pandas as pd\n",
    "from unidecode import unidecode"
   ]
  },
  {
   "cell_type": "code",
   "execution_count": 2,
   "metadata": {
    "executionInfo": {
     "elapsed": 1557,
     "status": "ok",
     "timestamp": 1642638550665,
     "user": {
      "displayName": "Gary Davis",
      "photoUrl": "https://lh3.googleusercontent.com/a/default-user=s64",
      "userId": "10026740531512816388"
     },
     "user_tz": 360
    },
    "id": "goV7r4FUlfMt"
   },
   "outputs": [],
   "source": [
    "url = 'https://fbref.com/en/comps/Big5/passing_types/players/Big-5-European-Leagues-Stats'\n",
    "html_content = requests.get(url).text.replace('<!--', '').replace('-->', '')\n",
    "df = pd.read_html(html_content)"
   ]
  },
  {
   "cell_type": "markdown",
   "metadata": {
    "id": "wlDt8TTxSvEz"
   },
   "source": [
    "Method 2"
   ]
  },
  {
   "cell_type": "code",
   "execution_count": 3,
   "metadata": {
    "executionInfo": {
     "elapsed": 4,
     "status": "ok",
     "timestamp": 1642638550666,
     "user": {
      "displayName": "Gary Davis",
      "photoUrl": "https://lh3.googleusercontent.com/a/default-user=s64",
      "userId": "10026740531512816388"
     },
     "user_tz": 360
    },
    "id": "-x78Rt_iRmCa"
   },
   "outputs": [],
   "source": [
    "#url = 'https://fbref.com/en/comps/Big5/defense/players/Big-5-European-Leagues-Stats'"
   ]
  },
  {
   "cell_type": "markdown",
   "metadata": {
    "id": "fhVY2xJJS0FU"
   },
   "source": [
    "Read HTML webpage into pandas"
   ]
  },
  {
   "cell_type": "markdown",
   "metadata": {
    "id": "Sk1EUVeFUXPq"
   },
   "source": [
    "Using pd.read_html() function to read HTML webpage"
   ]
  },
  {
   "cell_type": "code",
   "execution_count": 4,
   "metadata": {
    "colab": {
     "base_uri": "https://localhost:8080/"
    },
    "executionInfo": {
     "elapsed": 173,
     "status": "ok",
     "timestamp": 1642638550836,
     "user": {
      "displayName": "Gary Davis",
      "photoUrl": "https://lh3.googleusercontent.com/a/default-user=s64",
      "userId": "10026740531512816388"
     },
     "user_tz": 360
    },
    "id": "4sLS78K-S-r2",
    "outputId": "7aa65802-95bd-4160-e586-1712467a845a"
   },
   "outputs": [
    {
     "data": {
      "text/plain": [
       "[   Unnamed: 0_level_0 Unnamed: 1_level_0 Unnamed: 2_level_0 Pass Types        \\\n",
       "      Competition Name                 MP                Att       Live  Dead   \n",
       " 0       de Bundesliga                612              489.9      439.6  50.3   \n",
       " 1          es La Liga                760              470.2      419.8  50.4   \n",
       " 2          fr Ligue 1                760              504.1      456.0  48.1   \n",
       " 3  eng Premier League                760              486.7      441.0  45.7   \n",
       " 4          it Serie A                760              483.2      435.4  47.8   \n",
       " \n",
       "                                 ... Body Parts                           \\\n",
       "      FK   TB Press    Sw   Crs  ...       Left  Right  Head    TI Other   \n",
       " 0  13.2  0.8  78.0  12.6  11.5  ...      141.7  282.6  21.3  22.0   7.5   \n",
       " 1  14.6  0.7  68.7  16.2  12.5  ...      134.0  273.7  20.4  21.0   6.5   \n",
       " 2  12.6  0.9  68.4  15.2  11.4  ...      147.0  303.2  15.8  20.6   7.1   \n",
       " 3  11.2  0.9  69.6  13.5  11.7  ...      139.0  288.6  19.6  19.7   6.5   \n",
       " 4  14.4  0.6  67.3  13.3  11.2  ...      141.1  286.1  17.6  18.8   6.9   \n",
       " \n",
       "   Outcomes                         \n",
       "        Cmp  Off  Out   Int Blocks  \n",
       " 0    381.9  1.7  8.6  15.9   12.9  \n",
       " 1    369.6  1.8  9.3  13.2   11.6  \n",
       " 2    411.6  1.5  8.6  15.5   10.8  \n",
       " 3    387.3  1.5  8.1  14.5   11.6  \n",
       " 4    387.7  1.6  7.4  14.0   11.5  \n",
       " \n",
       " [5 rows x 27 columns],\n",
       "      Unnamed: 0_level_0 Unnamed: 1_level_0 Unnamed: 2_level_0  \\\n",
       "                      Rk             Player             Nation   \n",
       " 0                     1         Max Aarons            eng ENG   \n",
       " 1                     2   Yunis Abdelhamid             ma MAR   \n",
       " 2                     3  Salis Abdul Samed             gh GHA   \n",
       " 3                     4    Laurent Abergel             fr FRA   \n",
       " 4                     5        Charles Abi             fr FRA   \n",
       " ...                 ...                ...                ...   \n",
       " 3032               2917   Martín Zubimendi             es ESP   \n",
       " 3033               2918   Szymon Żurkowski             pl POL   \n",
       " 3034               2919    Martin Ødegaard             no NOR   \n",
       " 3035               2920        Milan Đurić             ba BIH   \n",
       " 3036               2921      Filip Đuričić             rs SRB   \n",
       " \n",
       "      Unnamed: 3_level_0 Unnamed: 4_level_0  Unnamed: 5_level_0  \\\n",
       "                     Pos              Squad                Comp   \n",
       " 0                    DF       Norwich City  eng Premier League   \n",
       " 1                    DF              Reims          fr Ligue 1   \n",
       " 2                    MF      Clermont Foot          fr Ligue 1   \n",
       " 3                    MF            Lorient          fr Ligue 1   \n",
       " 4                    FW      Saint-Étienne          fr Ligue 1   \n",
       " ...                 ...                ...                 ...   \n",
       " 3032                 MF      Real Sociedad          es La Liga   \n",
       " 3033                 MF             Empoli          it Serie A   \n",
       " 3034                 MF            Arsenal  eng Premier League   \n",
       " 3035                 FW        Salernitana          it Serie A   \n",
       " 3036              MF,FW           Sassuolo          it Serie A   \n",
       " \n",
       "      Unnamed: 6_level_0 Unnamed: 7_level_0 Unnamed: 8_level_0  \\\n",
       "                     Age               Born                90s   \n",
       " 0                    21               2000               32.0   \n",
       " 1                    33               1987               33.1   \n",
       " 2                    21               2000               27.4   \n",
       " 3                    28               1993               32.8   \n",
       " 4                    21               2000                0.5   \n",
       " ...                 ...                ...                ...   \n",
       " 3032                 22               1999               28.8   \n",
       " 3033                 23               1997               25.6   \n",
       " 3034                 22               1998               30.9   \n",
       " 3035                 31               1990               24.1   \n",
       " 3036                 29               1992                7.5   \n",
       " \n",
       "      Unnamed: 9_level_0  ... Body Parts                 Outcomes              \\\n",
       "                     Att  ...      Right Head   TI Other      Cmp Off Out Int   \n",
       " 0                  1440  ...        929   29  311     2     1087   7  28  52   \n",
       " 1                  1555  ...        402   49   14     4     1281   5  32  41   \n",
       " 2                  1671  ...       1454   52    4     8     1532   2  16  34   \n",
       " 3                  1635  ...       1441   24    5     5     1334   7  18  60   \n",
       " 4                     6  ...          0    0    0     0        2   0   0   2   \n",
       " ...                 ...  ...        ...  ...  ...   ...      ...  ..  ..  ..   \n",
       " 3032               1453  ...       1021   52    0     8     1243   5  24  38   \n",
       " 3033                915  ...        719   18    5     4      733   2  16  36   \n",
       " 3034               1598  ...        129   34   11    13     1355   7  15  54   \n",
       " 3035                682  ...        216  122    2    50      427   2  10  31   \n",
       " 3036                226  ...        198    5    4     0      184   0   1  10   \n",
       " \n",
       "             Unnamed: 34_level_0  \n",
       "      Blocks             Matches  \n",
       " 0        56             Matches  \n",
       " 1        29             Matches  \n",
       " 2        23             Matches  \n",
       " 3        55             Matches  \n",
       " 4         0             Matches  \n",
       " ...     ...                 ...  \n",
       " 3032     23             Matches  \n",
       " 3033     30             Matches  \n",
       " 3034     34             Matches  \n",
       " 3035     10             Matches  \n",
       " 3036     14             Matches  \n",
       " \n",
       " [3037 rows x 35 columns]]"
      ]
     },
     "execution_count": 4,
     "metadata": {},
     "output_type": "execute_result"
    }
   ],
   "source": [
    "df"
   ]
  },
  {
   "cell_type": "markdown",
   "metadata": {
    "id": "iVtWB7zuUWIp"
   },
   "source": [
    "How many tables are there in the webpage?"
   ]
  },
  {
   "cell_type": "code",
   "execution_count": 5,
   "metadata": {
    "colab": {
     "base_uri": "https://localhost:8080/"
    },
    "executionInfo": {
     "elapsed": 222,
     "status": "ok",
     "timestamp": 1642638551057,
     "user": {
      "displayName": "Gary Davis",
      "photoUrl": "https://lh3.googleusercontent.com/a/default-user=s64",
      "userId": "10026740531512816388"
     },
     "user_tz": 360
    },
    "id": "BdIXrthuTApH",
    "outputId": "7570288d-e056-43fb-c752-31b24877c40c"
   },
   "outputs": [
    {
     "data": {
      "text/plain": [
       "2"
      ]
     },
     "execution_count": 5,
     "metadata": {},
     "output_type": "execute_result"
    }
   ],
   "source": [
    "len(df)"
   ]
  },
  {
   "cell_type": "code",
   "execution_count": 6,
   "metadata": {
    "executionInfo": {
     "elapsed": 6,
     "status": "ok",
     "timestamp": 1642638551058,
     "user": {
      "displayName": "Gary Davis",
      "photoUrl": "https://lh3.googleusercontent.com/a/default-user=s64",
      "userId": "10026740531512816388"
     },
     "user_tz": 360
    },
    "id": "_JF0jpfDmdj_"
   },
   "outputs": [],
   "source": [
    "df[1].columns = df[1].columns.droplevel(0) # drop top header row"
   ]
  },
  {
   "cell_type": "markdown",
   "metadata": {
    "id": "glCMVlkWU6ik"
   },
   "source": [
    "Select the first table"
   ]
  },
  {
   "cell_type": "code",
   "execution_count": 7,
   "metadata": {
    "colab": {
     "base_uri": "https://localhost:8080/",
     "height": 468
    },
    "executionInfo": {
     "elapsed": 6,
     "status": "ok",
     "timestamp": 1642638551058,
     "user": {
      "displayName": "Gary Davis",
      "photoUrl": "https://lh3.googleusercontent.com/a/default-user=s64",
      "userId": "10026740531512816388"
     },
     "user_tz": 360
    },
    "id": "Pv0NHbFeTrEp",
    "outputId": "79dbecf5-899c-4983-ce75-0d98668f0df6"
   },
   "outputs": [
    {
     "data": {
      "text/html": [
       "<div>\n",
       "<style scoped>\n",
       "    .dataframe tbody tr th:only-of-type {\n",
       "        vertical-align: middle;\n",
       "    }\n",
       "\n",
       "    .dataframe tbody tr th {\n",
       "        vertical-align: top;\n",
       "    }\n",
       "\n",
       "    .dataframe thead th {\n",
       "        text-align: right;\n",
       "    }\n",
       "</style>\n",
       "<table border=\"1\" class=\"dataframe\">\n",
       "  <thead>\n",
       "    <tr style=\"text-align: right;\">\n",
       "      <th></th>\n",
       "      <th>Rk</th>\n",
       "      <th>Player</th>\n",
       "      <th>Nation</th>\n",
       "      <th>Pos</th>\n",
       "      <th>Squad</th>\n",
       "      <th>Comp</th>\n",
       "      <th>Age</th>\n",
       "      <th>Born</th>\n",
       "      <th>90s</th>\n",
       "      <th>Att</th>\n",
       "      <th>...</th>\n",
       "      <th>Right</th>\n",
       "      <th>Head</th>\n",
       "      <th>TI</th>\n",
       "      <th>Other</th>\n",
       "      <th>Cmp</th>\n",
       "      <th>Off</th>\n",
       "      <th>Out</th>\n",
       "      <th>Int</th>\n",
       "      <th>Blocks</th>\n",
       "      <th>Matches</th>\n",
       "    </tr>\n",
       "  </thead>\n",
       "  <tbody>\n",
       "    <tr>\n",
       "      <th>0</th>\n",
       "      <td>1</td>\n",
       "      <td>Max Aarons</td>\n",
       "      <td>eng ENG</td>\n",
       "      <td>DF</td>\n",
       "      <td>Norwich City</td>\n",
       "      <td>eng Premier League</td>\n",
       "      <td>21</td>\n",
       "      <td>2000</td>\n",
       "      <td>32.0</td>\n",
       "      <td>1440</td>\n",
       "      <td>...</td>\n",
       "      <td>929</td>\n",
       "      <td>29</td>\n",
       "      <td>311</td>\n",
       "      <td>2</td>\n",
       "      <td>1087</td>\n",
       "      <td>7</td>\n",
       "      <td>28</td>\n",
       "      <td>52</td>\n",
       "      <td>56</td>\n",
       "      <td>Matches</td>\n",
       "    </tr>\n",
       "    <tr>\n",
       "      <th>1</th>\n",
       "      <td>2</td>\n",
       "      <td>Yunis Abdelhamid</td>\n",
       "      <td>ma MAR</td>\n",
       "      <td>DF</td>\n",
       "      <td>Reims</td>\n",
       "      <td>fr Ligue 1</td>\n",
       "      <td>33</td>\n",
       "      <td>1987</td>\n",
       "      <td>33.1</td>\n",
       "      <td>1555</td>\n",
       "      <td>...</td>\n",
       "      <td>402</td>\n",
       "      <td>49</td>\n",
       "      <td>14</td>\n",
       "      <td>4</td>\n",
       "      <td>1281</td>\n",
       "      <td>5</td>\n",
       "      <td>32</td>\n",
       "      <td>41</td>\n",
       "      <td>29</td>\n",
       "      <td>Matches</td>\n",
       "    </tr>\n",
       "    <tr>\n",
       "      <th>2</th>\n",
       "      <td>3</td>\n",
       "      <td>Salis Abdul Samed</td>\n",
       "      <td>gh GHA</td>\n",
       "      <td>MF</td>\n",
       "      <td>Clermont Foot</td>\n",
       "      <td>fr Ligue 1</td>\n",
       "      <td>21</td>\n",
       "      <td>2000</td>\n",
       "      <td>27.4</td>\n",
       "      <td>1671</td>\n",
       "      <td>...</td>\n",
       "      <td>1454</td>\n",
       "      <td>52</td>\n",
       "      <td>4</td>\n",
       "      <td>8</td>\n",
       "      <td>1532</td>\n",
       "      <td>2</td>\n",
       "      <td>16</td>\n",
       "      <td>34</td>\n",
       "      <td>23</td>\n",
       "      <td>Matches</td>\n",
       "    </tr>\n",
       "    <tr>\n",
       "      <th>3</th>\n",
       "      <td>4</td>\n",
       "      <td>Laurent Abergel</td>\n",
       "      <td>fr FRA</td>\n",
       "      <td>MF</td>\n",
       "      <td>Lorient</td>\n",
       "      <td>fr Ligue 1</td>\n",
       "      <td>28</td>\n",
       "      <td>1993</td>\n",
       "      <td>32.8</td>\n",
       "      <td>1635</td>\n",
       "      <td>...</td>\n",
       "      <td>1441</td>\n",
       "      <td>24</td>\n",
       "      <td>5</td>\n",
       "      <td>5</td>\n",
       "      <td>1334</td>\n",
       "      <td>7</td>\n",
       "      <td>18</td>\n",
       "      <td>60</td>\n",
       "      <td>55</td>\n",
       "      <td>Matches</td>\n",
       "    </tr>\n",
       "    <tr>\n",
       "      <th>4</th>\n",
       "      <td>5</td>\n",
       "      <td>Charles Abi</td>\n",
       "      <td>fr FRA</td>\n",
       "      <td>FW</td>\n",
       "      <td>Saint-Étienne</td>\n",
       "      <td>fr Ligue 1</td>\n",
       "      <td>21</td>\n",
       "      <td>2000</td>\n",
       "      <td>0.5</td>\n",
       "      <td>6</td>\n",
       "      <td>...</td>\n",
       "      <td>0</td>\n",
       "      <td>0</td>\n",
       "      <td>0</td>\n",
       "      <td>0</td>\n",
       "      <td>2</td>\n",
       "      <td>0</td>\n",
       "      <td>0</td>\n",
       "      <td>2</td>\n",
       "      <td>0</td>\n",
       "      <td>Matches</td>\n",
       "    </tr>\n",
       "    <tr>\n",
       "      <th>...</th>\n",
       "      <td>...</td>\n",
       "      <td>...</td>\n",
       "      <td>...</td>\n",
       "      <td>...</td>\n",
       "      <td>...</td>\n",
       "      <td>...</td>\n",
       "      <td>...</td>\n",
       "      <td>...</td>\n",
       "      <td>...</td>\n",
       "      <td>...</td>\n",
       "      <td>...</td>\n",
       "      <td>...</td>\n",
       "      <td>...</td>\n",
       "      <td>...</td>\n",
       "      <td>...</td>\n",
       "      <td>...</td>\n",
       "      <td>...</td>\n",
       "      <td>...</td>\n",
       "      <td>...</td>\n",
       "      <td>...</td>\n",
       "      <td>...</td>\n",
       "    </tr>\n",
       "    <tr>\n",
       "      <th>3032</th>\n",
       "      <td>2917</td>\n",
       "      <td>Martín Zubimendi</td>\n",
       "      <td>es ESP</td>\n",
       "      <td>MF</td>\n",
       "      <td>Real Sociedad</td>\n",
       "      <td>es La Liga</td>\n",
       "      <td>22</td>\n",
       "      <td>1999</td>\n",
       "      <td>28.8</td>\n",
       "      <td>1453</td>\n",
       "      <td>...</td>\n",
       "      <td>1021</td>\n",
       "      <td>52</td>\n",
       "      <td>0</td>\n",
       "      <td>8</td>\n",
       "      <td>1243</td>\n",
       "      <td>5</td>\n",
       "      <td>24</td>\n",
       "      <td>38</td>\n",
       "      <td>23</td>\n",
       "      <td>Matches</td>\n",
       "    </tr>\n",
       "    <tr>\n",
       "      <th>3033</th>\n",
       "      <td>2918</td>\n",
       "      <td>Szymon Żurkowski</td>\n",
       "      <td>pl POL</td>\n",
       "      <td>MF</td>\n",
       "      <td>Empoli</td>\n",
       "      <td>it Serie A</td>\n",
       "      <td>23</td>\n",
       "      <td>1997</td>\n",
       "      <td>25.6</td>\n",
       "      <td>915</td>\n",
       "      <td>...</td>\n",
       "      <td>719</td>\n",
       "      <td>18</td>\n",
       "      <td>5</td>\n",
       "      <td>4</td>\n",
       "      <td>733</td>\n",
       "      <td>2</td>\n",
       "      <td>16</td>\n",
       "      <td>36</td>\n",
       "      <td>30</td>\n",
       "      <td>Matches</td>\n",
       "    </tr>\n",
       "    <tr>\n",
       "      <th>3034</th>\n",
       "      <td>2919</td>\n",
       "      <td>Martin Ødegaard</td>\n",
       "      <td>no NOR</td>\n",
       "      <td>MF</td>\n",
       "      <td>Arsenal</td>\n",
       "      <td>eng Premier League</td>\n",
       "      <td>22</td>\n",
       "      <td>1998</td>\n",
       "      <td>30.9</td>\n",
       "      <td>1598</td>\n",
       "      <td>...</td>\n",
       "      <td>129</td>\n",
       "      <td>34</td>\n",
       "      <td>11</td>\n",
       "      <td>13</td>\n",
       "      <td>1355</td>\n",
       "      <td>7</td>\n",
       "      <td>15</td>\n",
       "      <td>54</td>\n",
       "      <td>34</td>\n",
       "      <td>Matches</td>\n",
       "    </tr>\n",
       "    <tr>\n",
       "      <th>3035</th>\n",
       "      <td>2920</td>\n",
       "      <td>Milan Đurić</td>\n",
       "      <td>ba BIH</td>\n",
       "      <td>FW</td>\n",
       "      <td>Salernitana</td>\n",
       "      <td>it Serie A</td>\n",
       "      <td>31</td>\n",
       "      <td>1990</td>\n",
       "      <td>24.1</td>\n",
       "      <td>682</td>\n",
       "      <td>...</td>\n",
       "      <td>216</td>\n",
       "      <td>122</td>\n",
       "      <td>2</td>\n",
       "      <td>50</td>\n",
       "      <td>427</td>\n",
       "      <td>2</td>\n",
       "      <td>10</td>\n",
       "      <td>31</td>\n",
       "      <td>10</td>\n",
       "      <td>Matches</td>\n",
       "    </tr>\n",
       "    <tr>\n",
       "      <th>3036</th>\n",
       "      <td>2921</td>\n",
       "      <td>Filip Đuričić</td>\n",
       "      <td>rs SRB</td>\n",
       "      <td>MF,FW</td>\n",
       "      <td>Sassuolo</td>\n",
       "      <td>it Serie A</td>\n",
       "      <td>29</td>\n",
       "      <td>1992</td>\n",
       "      <td>7.5</td>\n",
       "      <td>226</td>\n",
       "      <td>...</td>\n",
       "      <td>198</td>\n",
       "      <td>5</td>\n",
       "      <td>4</td>\n",
       "      <td>0</td>\n",
       "      <td>184</td>\n",
       "      <td>0</td>\n",
       "      <td>1</td>\n",
       "      <td>10</td>\n",
       "      <td>14</td>\n",
       "      <td>Matches</td>\n",
       "    </tr>\n",
       "  </tbody>\n",
       "</table>\n",
       "<p>3037 rows × 35 columns</p>\n",
       "</div>"
      ],
      "text/plain": [
       "        Rk             Player   Nation    Pos          Squad  \\\n",
       "0        1         Max Aarons  eng ENG     DF   Norwich City   \n",
       "1        2   Yunis Abdelhamid   ma MAR     DF          Reims   \n",
       "2        3  Salis Abdul Samed   gh GHA     MF  Clermont Foot   \n",
       "3        4    Laurent Abergel   fr FRA     MF        Lorient   \n",
       "4        5        Charles Abi   fr FRA     FW  Saint-Étienne   \n",
       "...    ...                ...      ...    ...            ...   \n",
       "3032  2917   Martín Zubimendi   es ESP     MF  Real Sociedad   \n",
       "3033  2918   Szymon Żurkowski   pl POL     MF         Empoli   \n",
       "3034  2919    Martin Ødegaard   no NOR     MF        Arsenal   \n",
       "3035  2920        Milan Đurić   ba BIH     FW    Salernitana   \n",
       "3036  2921      Filip Đuričić   rs SRB  MF,FW       Sassuolo   \n",
       "\n",
       "                    Comp Age  Born   90s   Att  ... Right Head   TI Other  \\\n",
       "0     eng Premier League  21  2000  32.0  1440  ...   929   29  311     2   \n",
       "1             fr Ligue 1  33  1987  33.1  1555  ...   402   49   14     4   \n",
       "2             fr Ligue 1  21  2000  27.4  1671  ...  1454   52    4     8   \n",
       "3             fr Ligue 1  28  1993  32.8  1635  ...  1441   24    5     5   \n",
       "4             fr Ligue 1  21  2000   0.5     6  ...     0    0    0     0   \n",
       "...                  ...  ..   ...   ...   ...  ...   ...  ...  ...   ...   \n",
       "3032          es La Liga  22  1999  28.8  1453  ...  1021   52    0     8   \n",
       "3033          it Serie A  23  1997  25.6   915  ...   719   18    5     4   \n",
       "3034  eng Premier League  22  1998  30.9  1598  ...   129   34   11    13   \n",
       "3035          it Serie A  31  1990  24.1   682  ...   216  122    2    50   \n",
       "3036          it Serie A  29  1992   7.5   226  ...   198    5    4     0   \n",
       "\n",
       "       Cmp Off Out Int Blocks  Matches  \n",
       "0     1087   7  28  52     56  Matches  \n",
       "1     1281   5  32  41     29  Matches  \n",
       "2     1532   2  16  34     23  Matches  \n",
       "3     1334   7  18  60     55  Matches  \n",
       "4        2   0   0   2      0  Matches  \n",
       "...    ...  ..  ..  ..    ...      ...  \n",
       "3032  1243   5  24  38     23  Matches  \n",
       "3033   733   2  16  36     30  Matches  \n",
       "3034  1355   7  15  54     34  Matches  \n",
       "3035   427   2  10  31     10  Matches  \n",
       "3036   184   0   1  10     14  Matches  \n",
       "\n",
       "[3037 rows x 35 columns]"
      ]
     },
     "execution_count": 7,
     "metadata": {},
     "output_type": "execute_result"
    }
   ],
   "source": [
    "df[1]"
   ]
  },
  {
   "cell_type": "code",
   "execution_count": 8,
   "metadata": {
    "executionInfo": {
     "elapsed": 5,
     "status": "ok",
     "timestamp": 1642638551058,
     "user": {
      "displayName": "Gary Davis",
      "photoUrl": "https://lh3.googleusercontent.com/a/default-user=s64",
      "userId": "10026740531512816388"
     },
     "user_tz": 360
    },
    "id": "owwSCuZYU-sT"
   },
   "outputs": [],
   "source": [
    "dfdata = df[1]"
   ]
  },
  {
   "cell_type": "markdown",
   "metadata": {
    "id": "laW205ykvn0S"
   },
   "source": [
    "Data cleaning"
   ]
  },
  {
   "cell_type": "markdown",
   "metadata": {
    "id": "b-cH41xd54Tw"
   },
   "source": [
    "We can see that the table header is presented multiple times in several rows."
   ]
  },
  {
   "cell_type": "code",
   "execution_count": 9,
   "metadata": {
    "colab": {
     "base_uri": "https://localhost:8080/",
     "height": 959
    },
    "executionInfo": {
     "elapsed": 8,
     "status": "ok",
     "timestamp": 1642638551203,
     "user": {
      "displayName": "Gary Davis",
      "photoUrl": "https://lh3.googleusercontent.com/a/default-user=s64",
      "userId": "10026740531512816388"
     },
     "user_tz": 360
    },
    "id": "6St9yeuZg9rf",
    "outputId": "8268a8cd-e5bc-4c5a-afe7-84e9fa48aada"
   },
   "outputs": [
    {
     "data": {
      "text/html": [
       "<div>\n",
       "<style scoped>\n",
       "    .dataframe tbody tr th:only-of-type {\n",
       "        vertical-align: middle;\n",
       "    }\n",
       "\n",
       "    .dataframe tbody tr th {\n",
       "        vertical-align: top;\n",
       "    }\n",
       "\n",
       "    .dataframe thead th {\n",
       "        text-align: right;\n",
       "    }\n",
       "</style>\n",
       "<table border=\"1\" class=\"dataframe\">\n",
       "  <thead>\n",
       "    <tr style=\"text-align: right;\">\n",
       "      <th></th>\n",
       "      <th>Rk</th>\n",
       "      <th>Player</th>\n",
       "      <th>Nation</th>\n",
       "      <th>Pos</th>\n",
       "      <th>Squad</th>\n",
       "      <th>Comp</th>\n",
       "      <th>Age</th>\n",
       "      <th>Born</th>\n",
       "      <th>90s</th>\n",
       "      <th>Att</th>\n",
       "      <th>...</th>\n",
       "      <th>Right</th>\n",
       "      <th>Head</th>\n",
       "      <th>TI</th>\n",
       "      <th>Other</th>\n",
       "      <th>Cmp</th>\n",
       "      <th>Off</th>\n",
       "      <th>Out</th>\n",
       "      <th>Int</th>\n",
       "      <th>Blocks</th>\n",
       "      <th>Matches</th>\n",
       "    </tr>\n",
       "  </thead>\n",
       "  <tbody>\n",
       "    <tr>\n",
       "      <th>25</th>\n",
       "      <td>Rk</td>\n",
       "      <td>Player</td>\n",
       "      <td>Nation</td>\n",
       "      <td>Pos</td>\n",
       "      <td>Squad</td>\n",
       "      <td>Comp</td>\n",
       "      <td>Age</td>\n",
       "      <td>Born</td>\n",
       "      <td>90s</td>\n",
       "      <td>Att</td>\n",
       "      <td>...</td>\n",
       "      <td>Right</td>\n",
       "      <td>Head</td>\n",
       "      <td>TI</td>\n",
       "      <td>Other</td>\n",
       "      <td>Cmp</td>\n",
       "      <td>Off</td>\n",
       "      <td>Out</td>\n",
       "      <td>Int</td>\n",
       "      <td>Blocks</td>\n",
       "      <td>Matches</td>\n",
       "    </tr>\n",
       "    <tr>\n",
       "      <th>51</th>\n",
       "      <td>Rk</td>\n",
       "      <td>Player</td>\n",
       "      <td>Nation</td>\n",
       "      <td>Pos</td>\n",
       "      <td>Squad</td>\n",
       "      <td>Comp</td>\n",
       "      <td>Age</td>\n",
       "      <td>Born</td>\n",
       "      <td>90s</td>\n",
       "      <td>Att</td>\n",
       "      <td>...</td>\n",
       "      <td>Right</td>\n",
       "      <td>Head</td>\n",
       "      <td>TI</td>\n",
       "      <td>Other</td>\n",
       "      <td>Cmp</td>\n",
       "      <td>Off</td>\n",
       "      <td>Out</td>\n",
       "      <td>Int</td>\n",
       "      <td>Blocks</td>\n",
       "      <td>Matches</td>\n",
       "    </tr>\n",
       "    <tr>\n",
       "      <th>77</th>\n",
       "      <td>Rk</td>\n",
       "      <td>Player</td>\n",
       "      <td>Nation</td>\n",
       "      <td>Pos</td>\n",
       "      <td>Squad</td>\n",
       "      <td>Comp</td>\n",
       "      <td>Age</td>\n",
       "      <td>Born</td>\n",
       "      <td>90s</td>\n",
       "      <td>Att</td>\n",
       "      <td>...</td>\n",
       "      <td>Right</td>\n",
       "      <td>Head</td>\n",
       "      <td>TI</td>\n",
       "      <td>Other</td>\n",
       "      <td>Cmp</td>\n",
       "      <td>Off</td>\n",
       "      <td>Out</td>\n",
       "      <td>Int</td>\n",
       "      <td>Blocks</td>\n",
       "      <td>Matches</td>\n",
       "    </tr>\n",
       "    <tr>\n",
       "      <th>103</th>\n",
       "      <td>Rk</td>\n",
       "      <td>Player</td>\n",
       "      <td>Nation</td>\n",
       "      <td>Pos</td>\n",
       "      <td>Squad</td>\n",
       "      <td>Comp</td>\n",
       "      <td>Age</td>\n",
       "      <td>Born</td>\n",
       "      <td>90s</td>\n",
       "      <td>Att</td>\n",
       "      <td>...</td>\n",
       "      <td>Right</td>\n",
       "      <td>Head</td>\n",
       "      <td>TI</td>\n",
       "      <td>Other</td>\n",
       "      <td>Cmp</td>\n",
       "      <td>Off</td>\n",
       "      <td>Out</td>\n",
       "      <td>Int</td>\n",
       "      <td>Blocks</td>\n",
       "      <td>Matches</td>\n",
       "    </tr>\n",
       "    <tr>\n",
       "      <th>129</th>\n",
       "      <td>Rk</td>\n",
       "      <td>Player</td>\n",
       "      <td>Nation</td>\n",
       "      <td>Pos</td>\n",
       "      <td>Squad</td>\n",
       "      <td>Comp</td>\n",
       "      <td>Age</td>\n",
       "      <td>Born</td>\n",
       "      <td>90s</td>\n",
       "      <td>Att</td>\n",
       "      <td>...</td>\n",
       "      <td>Right</td>\n",
       "      <td>Head</td>\n",
       "      <td>TI</td>\n",
       "      <td>Other</td>\n",
       "      <td>Cmp</td>\n",
       "      <td>Off</td>\n",
       "      <td>Out</td>\n",
       "      <td>Int</td>\n",
       "      <td>Blocks</td>\n",
       "      <td>Matches</td>\n",
       "    </tr>\n",
       "    <tr>\n",
       "      <th>...</th>\n",
       "      <td>...</td>\n",
       "      <td>...</td>\n",
       "      <td>...</td>\n",
       "      <td>...</td>\n",
       "      <td>...</td>\n",
       "      <td>...</td>\n",
       "      <td>...</td>\n",
       "      <td>...</td>\n",
       "      <td>...</td>\n",
       "      <td>...</td>\n",
       "      <td>...</td>\n",
       "      <td>...</td>\n",
       "      <td>...</td>\n",
       "      <td>...</td>\n",
       "      <td>...</td>\n",
       "      <td>...</td>\n",
       "      <td>...</td>\n",
       "      <td>...</td>\n",
       "      <td>...</td>\n",
       "      <td>...</td>\n",
       "      <td>...</td>\n",
       "    </tr>\n",
       "    <tr>\n",
       "      <th>2911</th>\n",
       "      <td>Rk</td>\n",
       "      <td>Player</td>\n",
       "      <td>Nation</td>\n",
       "      <td>Pos</td>\n",
       "      <td>Squad</td>\n",
       "      <td>Comp</td>\n",
       "      <td>Age</td>\n",
       "      <td>Born</td>\n",
       "      <td>90s</td>\n",
       "      <td>Att</td>\n",
       "      <td>...</td>\n",
       "      <td>Right</td>\n",
       "      <td>Head</td>\n",
       "      <td>TI</td>\n",
       "      <td>Other</td>\n",
       "      <td>Cmp</td>\n",
       "      <td>Off</td>\n",
       "      <td>Out</td>\n",
       "      <td>Int</td>\n",
       "      <td>Blocks</td>\n",
       "      <td>Matches</td>\n",
       "    </tr>\n",
       "    <tr>\n",
       "      <th>2937</th>\n",
       "      <td>Rk</td>\n",
       "      <td>Player</td>\n",
       "      <td>Nation</td>\n",
       "      <td>Pos</td>\n",
       "      <td>Squad</td>\n",
       "      <td>Comp</td>\n",
       "      <td>Age</td>\n",
       "      <td>Born</td>\n",
       "      <td>90s</td>\n",
       "      <td>Att</td>\n",
       "      <td>...</td>\n",
       "      <td>Right</td>\n",
       "      <td>Head</td>\n",
       "      <td>TI</td>\n",
       "      <td>Other</td>\n",
       "      <td>Cmp</td>\n",
       "      <td>Off</td>\n",
       "      <td>Out</td>\n",
       "      <td>Int</td>\n",
       "      <td>Blocks</td>\n",
       "      <td>Matches</td>\n",
       "    </tr>\n",
       "    <tr>\n",
       "      <th>2963</th>\n",
       "      <td>Rk</td>\n",
       "      <td>Player</td>\n",
       "      <td>Nation</td>\n",
       "      <td>Pos</td>\n",
       "      <td>Squad</td>\n",
       "      <td>Comp</td>\n",
       "      <td>Age</td>\n",
       "      <td>Born</td>\n",
       "      <td>90s</td>\n",
       "      <td>Att</td>\n",
       "      <td>...</td>\n",
       "      <td>Right</td>\n",
       "      <td>Head</td>\n",
       "      <td>TI</td>\n",
       "      <td>Other</td>\n",
       "      <td>Cmp</td>\n",
       "      <td>Off</td>\n",
       "      <td>Out</td>\n",
       "      <td>Int</td>\n",
       "      <td>Blocks</td>\n",
       "      <td>Matches</td>\n",
       "    </tr>\n",
       "    <tr>\n",
       "      <th>2989</th>\n",
       "      <td>Rk</td>\n",
       "      <td>Player</td>\n",
       "      <td>Nation</td>\n",
       "      <td>Pos</td>\n",
       "      <td>Squad</td>\n",
       "      <td>Comp</td>\n",
       "      <td>Age</td>\n",
       "      <td>Born</td>\n",
       "      <td>90s</td>\n",
       "      <td>Att</td>\n",
       "      <td>...</td>\n",
       "      <td>Right</td>\n",
       "      <td>Head</td>\n",
       "      <td>TI</td>\n",
       "      <td>Other</td>\n",
       "      <td>Cmp</td>\n",
       "      <td>Off</td>\n",
       "      <td>Out</td>\n",
       "      <td>Int</td>\n",
       "      <td>Blocks</td>\n",
       "      <td>Matches</td>\n",
       "    </tr>\n",
       "    <tr>\n",
       "      <th>3015</th>\n",
       "      <td>Rk</td>\n",
       "      <td>Player</td>\n",
       "      <td>Nation</td>\n",
       "      <td>Pos</td>\n",
       "      <td>Squad</td>\n",
       "      <td>Comp</td>\n",
       "      <td>Age</td>\n",
       "      <td>Born</td>\n",
       "      <td>90s</td>\n",
       "      <td>Att</td>\n",
       "      <td>...</td>\n",
       "      <td>Right</td>\n",
       "      <td>Head</td>\n",
       "      <td>TI</td>\n",
       "      <td>Other</td>\n",
       "      <td>Cmp</td>\n",
       "      <td>Off</td>\n",
       "      <td>Out</td>\n",
       "      <td>Int</td>\n",
       "      <td>Blocks</td>\n",
       "      <td>Matches</td>\n",
       "    </tr>\n",
       "  </tbody>\n",
       "</table>\n",
       "<p>116 rows × 35 columns</p>\n",
       "</div>"
      ],
      "text/plain": [
       "      Rk  Player  Nation  Pos  Squad  Comp  Age  Born  90s  Att  ...  Right  \\\n",
       "25    Rk  Player  Nation  Pos  Squad  Comp  Age  Born  90s  Att  ...  Right   \n",
       "51    Rk  Player  Nation  Pos  Squad  Comp  Age  Born  90s  Att  ...  Right   \n",
       "77    Rk  Player  Nation  Pos  Squad  Comp  Age  Born  90s  Att  ...  Right   \n",
       "103   Rk  Player  Nation  Pos  Squad  Comp  Age  Born  90s  Att  ...  Right   \n",
       "129   Rk  Player  Nation  Pos  Squad  Comp  Age  Born  90s  Att  ...  Right   \n",
       "...   ..     ...     ...  ...    ...   ...  ...   ...  ...  ...  ...    ...   \n",
       "2911  Rk  Player  Nation  Pos  Squad  Comp  Age  Born  90s  Att  ...  Right   \n",
       "2937  Rk  Player  Nation  Pos  Squad  Comp  Age  Born  90s  Att  ...  Right   \n",
       "2963  Rk  Player  Nation  Pos  Squad  Comp  Age  Born  90s  Att  ...  Right   \n",
       "2989  Rk  Player  Nation  Pos  Squad  Comp  Age  Born  90s  Att  ...  Right   \n",
       "3015  Rk  Player  Nation  Pos  Squad  Comp  Age  Born  90s  Att  ...  Right   \n",
       "\n",
       "      Head  TI  Other  Cmp  Off  Out  Int  Blocks  Matches  \n",
       "25    Head  TI  Other  Cmp  Off  Out  Int  Blocks  Matches  \n",
       "51    Head  TI  Other  Cmp  Off  Out  Int  Blocks  Matches  \n",
       "77    Head  TI  Other  Cmp  Off  Out  Int  Blocks  Matches  \n",
       "103   Head  TI  Other  Cmp  Off  Out  Int  Blocks  Matches  \n",
       "129   Head  TI  Other  Cmp  Off  Out  Int  Blocks  Matches  \n",
       "...    ...  ..    ...  ...  ...  ...  ...     ...      ...  \n",
       "2911  Head  TI  Other  Cmp  Off  Out  Int  Blocks  Matches  \n",
       "2937  Head  TI  Other  Cmp  Off  Out  Int  Blocks  Matches  \n",
       "2963  Head  TI  Other  Cmp  Off  Out  Int  Blocks  Matches  \n",
       "2989  Head  TI  Other  Cmp  Off  Out  Int  Blocks  Matches  \n",
       "3015  Head  TI  Other  Cmp  Off  Out  Int  Blocks  Matches  \n",
       "\n",
       "[116 rows x 35 columns]"
      ]
     },
     "execution_count": 9,
     "metadata": {},
     "output_type": "execute_result"
    }
   ],
   "source": [
    "dfdata[dfdata.Age == 'Age']"
   ]
  },
  {
   "cell_type": "code",
   "execution_count": 10,
   "metadata": {
    "colab": {
     "base_uri": "https://localhost:8080/"
    },
    "executionInfo": {
     "elapsed": 182,
     "status": "ok",
     "timestamp": 1642638551380,
     "user": {
      "displayName": "Gary Davis",
      "photoUrl": "https://lh3.googleusercontent.com/a/default-user=s64",
      "userId": "10026740531512816388"
     },
     "user_tz": 360
    },
    "id": "rdRg9UDI5lus",
    "outputId": "02c5a224-3b1e-464e-d985-f322fb97243b"
   },
   "outputs": [
    {
     "data": {
      "text/plain": [
       "116"
      ]
     },
     "execution_count": 10,
     "metadata": {},
     "output_type": "execute_result"
    }
   ],
   "source": [
    "len(dfdata[dfdata.Age == 'Age'])"
   ]
  },
  {
   "cell_type": "code",
   "execution_count": 11,
   "metadata": {
    "executionInfo": {
     "elapsed": 6,
     "status": "ok",
     "timestamp": 1642638551380,
     "user": {
      "displayName": "Gary Davis",
      "photoUrl": "https://lh3.googleusercontent.com/a/default-user=s64",
      "userId": "10026740531512816388"
     },
     "user_tz": 360
    },
    "id": "lG34yiD5e_Cs"
   },
   "outputs": [],
   "source": [
    "dfpassingtypes = dfdata.drop(dfdata[dfdata.Age == 'Age'].index)"
   ]
  },
  {
   "cell_type": "code",
   "execution_count": 12,
   "metadata": {
    "colab": {
     "base_uri": "https://localhost:8080/"
    },
    "executionInfo": {
     "elapsed": 6,
     "status": "ok",
     "timestamp": 1642638551380,
     "user": {
      "displayName": "Gary Davis",
      "photoUrl": "https://lh3.googleusercontent.com/a/default-user=s64",
      "userId": "10026740531512816388"
     },
     "user_tz": 360
    },
    "id": "QQHt_VHquyNJ",
    "outputId": "c72d920a-1553-42d8-80fc-e618cad11a4e"
   },
   "outputs": [
    {
     "data": {
      "text/plain": [
       "(2921, 35)"
      ]
     },
     "execution_count": 12,
     "metadata": {},
     "output_type": "execute_result"
    }
   ],
   "source": [
    "dfpassingtypes.shape"
   ]
  },
  {
   "cell_type": "code",
   "execution_count": 13,
   "metadata": {
    "colab": {
     "base_uri": "https://localhost:8080/"
    },
    "executionInfo": {
     "elapsed": 6,
     "status": "ok",
     "timestamp": 1642638551381,
     "user": {
      "displayName": "Gary Davis",
      "photoUrl": "https://lh3.googleusercontent.com/a/default-user=s64",
      "userId": "10026740531512816388"
     },
     "user_tz": 360
    },
    "id": "vZqC36KF8YqE",
    "outputId": "35c1178c-a94e-4bef-fa71-389c39ff2acb"
   },
   "outputs": [
    {
     "data": {
      "text/plain": [
       "Index(['Rk', 'Player', 'Nation', 'Pos', 'Squad', 'Comp', 'Age', 'Born', '90s',\n",
       "       'Att', 'Live', 'Dead', 'FK', 'TB', 'Press', 'Sw', 'Crs', 'CK', 'In',\n",
       "       'Out', 'Str', 'Ground', 'Low', 'High', 'Left', 'Right', 'Head', 'TI',\n",
       "       'Other', 'Cmp', 'Off', 'Out', 'Int', 'Blocks', 'Matches'],\n",
       "      dtype='object')"
      ]
     },
     "execution_count": 13,
     "metadata": {},
     "output_type": "execute_result"
    }
   ],
   "source": [
    "dfpassingtypes.columns"
   ]
  },
  {
   "cell_type": "code",
   "execution_count": 14,
   "metadata": {
    "executionInfo": {
     "elapsed": 5,
     "status": "ok",
     "timestamp": 1642638551381,
     "user": {
      "displayName": "Gary Davis",
      "photoUrl": "https://lh3.googleusercontent.com/a/default-user=s64",
      "userId": "10026740531512816388"
     },
     "user_tz": 360
    },
    "id": "lE8fOs1T8Ywc"
   },
   "outputs": [],
   "source": [
    "dfpassingtypes['90s'] = dfpassingtypes['90s'].astype(float)\n",
    "dfpassingtypes['Att'] = dfpassingtypes['Att'].astype(float)\n",
    "dfpassingtypes['Live'] = dfpassingtypes['Live'].astype(float)\n",
    "dfpassingtypes['Dead'] = dfpassingtypes['Dead'].astype(float)\n",
    "dfpassingtypes['FK'] = dfpassingtypes['FK'].astype(float)\n",
    "dfpassingtypes['TB'] = dfpassingtypes['TB'].astype(float)\n",
    "dfpassingtypes['Press'] = dfpassingtypes['Press'].astype(float)\n",
    "dfpassingtypes['Sw'] = dfpassingtypes['Sw'].astype(float)\n",
    "dfpassingtypes['Crs'] = dfpassingtypes['Crs'].astype(float)\n",
    "dfpassingtypes['CK'] = dfpassingtypes['CK'].astype(float)\n",
    "dfpassingtypes['In'] = dfpassingtypes['In'].astype(float)\n",
    "dfpassingtypes['Out'] = dfpassingtypes['Out'].astype(float)\n",
    "dfpassingtypes['Str'] = dfpassingtypes['Str'].astype(float)\n",
    "dfpassingtypes['Ground'] = dfpassingtypes['Ground'].astype(float)\n",
    "dfpassingtypes['Low'] = dfpassingtypes['Low'].astype(float)\n",
    "dfpassingtypes['High'] = dfpassingtypes['High'].astype(float)\n",
    "dfpassingtypes['Left'] = dfpassingtypes['Left'].astype(float)\n",
    "dfpassingtypes['Right'] = dfpassingtypes['Right'].astype(float)\n",
    "dfpassingtypes['Head'] = dfpassingtypes['Head'].astype(float)\n",
    "dfpassingtypes['TI'] = dfpassingtypes['TI'].astype(float)\n",
    "dfpassingtypes['Other'] = dfpassingtypes['Other'].astype(float)\n",
    "dfpassingtypes['Cmp'] = dfpassingtypes['Cmp'].astype(float)\n",
    "dfpassingtypes['Off'] = dfpassingtypes['Off'].astype(float)\n",
    "dfpassingtypes['Int'] = dfpassingtypes['Int'].astype(float)\n",
    "dfpassingtypes['Blocks'] = dfpassingtypes['Blocks'].astype(float)"
   ]
  },
  {
   "cell_type": "code",
   "execution_count": 15,
   "metadata": {
    "executionInfo": {
     "elapsed": 192,
     "status": "ok",
     "timestamp": 1642638551568,
     "user": {
      "displayName": "Gary Davis",
      "photoUrl": "https://lh3.googleusercontent.com/a/default-user=s64",
      "userId": "10026740531512816388"
     },
     "user_tz": 360
    },
    "id": "MxbQETvym0T6"
   },
   "outputs": [],
   "source": [
    "#rename duplicate columns but not the first\n",
    "cols = []\n",
    "count = 1\n",
    "for column in dfpassingtypes.columns:\n",
    "    if column == 'Out':\n",
    "        cols.append(f'Out_{count}')\n",
    "        count+=1\n",
    "        continue\n",
    "    cols.append(column)\n",
    "dfpassingtypes.columns = cols"
   ]
  },
  {
   "cell_type": "code",
   "execution_count": 16,
   "metadata": {
    "executionInfo": {
     "elapsed": 5,
     "status": "ok",
     "timestamp": 1642638551569,
     "user": {
      "displayName": "Gary Davis",
      "photoUrl": "https://lh3.googleusercontent.com/a/default-user=s64",
      "userId": "10026740531512816388"
     },
     "user_tz": 360
    },
    "id": "tAKvZSmo8c9F"
   },
   "outputs": [],
   "source": [
    "#turn data into p 90\n",
    "dfpassingtypes['Att'] = dfpassingtypes['Att'] / dfpassingtypes['90s']\n",
    "dfpassingtypes['Live'] = dfpassingtypes['Live'] / dfpassingtypes['90s']\n",
    "dfpassingtypes['Dead'] = dfpassingtypes['Dead'] / dfpassingtypes['90s']\n",
    "dfpassingtypes['FK'] = dfpassingtypes['FK'] / dfpassingtypes['90s']\n",
    "dfpassingtypes['TB'] = dfpassingtypes['TB'] / dfpassingtypes['90s']\n",
    "dfpassingtypes['Press'] = dfpassingtypes['Press'] / dfpassingtypes['90s']\n",
    "dfpassingtypes['Sw'] = dfpassingtypes['Sw'] / dfpassingtypes['90s']\n",
    "dfpassingtypes['Crs'] = dfpassingtypes['Crs'] / dfpassingtypes['90s']\n",
    "dfpassingtypes['CK'] = dfpassingtypes['CK'] / dfpassingtypes['90s']\n",
    "dfpassingtypes['In'] = dfpassingtypes['In'] / dfpassingtypes['90s']\n",
    "dfpassingtypes['Out_1'] = dfpassingtypes['Out_1'] / dfpassingtypes['90s']\n",
    "dfpassingtypes['Str'] = dfpassingtypes['Str'] / dfpassingtypes['90s']\n",
    "dfpassingtypes['Ground'] = dfpassingtypes['Ground'] / dfpassingtypes['90s']\n",
    "dfpassingtypes['Low'] = dfpassingtypes['Low'] / dfpassingtypes['90s']\n",
    "dfpassingtypes['High'] = dfpassingtypes['High'] / dfpassingtypes['90s']\n",
    "dfpassingtypes['Left'] = dfpassingtypes['Left'] / dfpassingtypes['90s']\n",
    "dfpassingtypes['Right'] = dfpassingtypes['Right'] / dfpassingtypes['90s']\n",
    "dfpassingtypes['Head'] = dfpassingtypes['Head'] / dfpassingtypes['90s']\n",
    "dfpassingtypes['TI'] = dfpassingtypes['TI'] / dfpassingtypes['90s']\n",
    "dfpassingtypes['Other'] = dfpassingtypes['Other'] / dfpassingtypes['90s']\n",
    "dfpassingtypes['Cmp'] = dfpassingtypes['Cmp'] / dfpassingtypes['90s']\n",
    "dfpassingtypes['Off'] = dfpassingtypes['Off'] / dfpassingtypes['90s']\n",
    "dfpassingtypes['Out_2'] = dfpassingtypes['Out_2'] / dfpassingtypes['90s']\n",
    "dfpassingtypes['Int'] = dfpassingtypes['Int'] / dfpassingtypes['90s']\n",
    "dfpassingtypes['Blocks'] = dfpassingtypes['Blocks'] / dfpassingtypes['90s']"
   ]
  },
  {
   "cell_type": "code",
   "execution_count": 17,
   "metadata": {
    "colab": {
     "base_uri": "https://localhost:8080/",
     "height": 374
    },
    "executionInfo": {
     "elapsed": 4,
     "status": "ok",
     "timestamp": 1642638551569,
     "user": {
      "displayName": "Gary Davis",
      "photoUrl": "https://lh3.googleusercontent.com/a/default-user=s64",
      "userId": "10026740531512816388"
     },
     "user_tz": 360
    },
    "id": "NXoH9Vn1uyWI",
    "outputId": "d67057c8-4379-434d-9e55-208a01419fa9"
   },
   "outputs": [
    {
     "data": {
      "text/html": [
       "<div>\n",
       "<style scoped>\n",
       "    .dataframe tbody tr th:only-of-type {\n",
       "        vertical-align: middle;\n",
       "    }\n",
       "\n",
       "    .dataframe tbody tr th {\n",
       "        vertical-align: top;\n",
       "    }\n",
       "\n",
       "    .dataframe thead th {\n",
       "        text-align: right;\n",
       "    }\n",
       "</style>\n",
       "<table border=\"1\" class=\"dataframe\">\n",
       "  <thead>\n",
       "    <tr style=\"text-align: right;\">\n",
       "      <th></th>\n",
       "      <th>Rk</th>\n",
       "      <th>Player</th>\n",
       "      <th>Nation</th>\n",
       "      <th>Pos</th>\n",
       "      <th>Squad</th>\n",
       "      <th>Comp</th>\n",
       "      <th>Age</th>\n",
       "      <th>Born</th>\n",
       "      <th>90s</th>\n",
       "      <th>Att</th>\n",
       "      <th>...</th>\n",
       "      <th>Right</th>\n",
       "      <th>Head</th>\n",
       "      <th>TI</th>\n",
       "      <th>Other</th>\n",
       "      <th>Cmp</th>\n",
       "      <th>Off</th>\n",
       "      <th>Out_2</th>\n",
       "      <th>Int</th>\n",
       "      <th>Blocks</th>\n",
       "      <th>Matches</th>\n",
       "    </tr>\n",
       "  </thead>\n",
       "  <tbody>\n",
       "    <tr>\n",
       "      <th>0</th>\n",
       "      <td>1</td>\n",
       "      <td>Max Aarons</td>\n",
       "      <td>eng ENG</td>\n",
       "      <td>DF</td>\n",
       "      <td>Norwich City</td>\n",
       "      <td>eng Premier League</td>\n",
       "      <td>21</td>\n",
       "      <td>2000</td>\n",
       "      <td>32.0</td>\n",
       "      <td>45.000000</td>\n",
       "      <td>...</td>\n",
       "      <td>29.031250</td>\n",
       "      <td>0.906250</td>\n",
       "      <td>9.718750</td>\n",
       "      <td>0.062500</td>\n",
       "      <td>33.968750</td>\n",
       "      <td>0.218750</td>\n",
       "      <td>0.875000</td>\n",
       "      <td>1.625000</td>\n",
       "      <td>1.750000</td>\n",
       "      <td>Matches</td>\n",
       "    </tr>\n",
       "    <tr>\n",
       "      <th>1</th>\n",
       "      <td>2</td>\n",
       "      <td>Yunis Abdelhamid</td>\n",
       "      <td>ma MAR</td>\n",
       "      <td>DF</td>\n",
       "      <td>Reims</td>\n",
       "      <td>fr Ligue 1</td>\n",
       "      <td>33</td>\n",
       "      <td>1987</td>\n",
       "      <td>33.1</td>\n",
       "      <td>46.978852</td>\n",
       "      <td>...</td>\n",
       "      <td>12.145015</td>\n",
       "      <td>1.480363</td>\n",
       "      <td>0.422961</td>\n",
       "      <td>0.120846</td>\n",
       "      <td>38.700906</td>\n",
       "      <td>0.151057</td>\n",
       "      <td>0.966767</td>\n",
       "      <td>1.238671</td>\n",
       "      <td>0.876133</td>\n",
       "      <td>Matches</td>\n",
       "    </tr>\n",
       "    <tr>\n",
       "      <th>2</th>\n",
       "      <td>3</td>\n",
       "      <td>Salis Abdul Samed</td>\n",
       "      <td>gh GHA</td>\n",
       "      <td>MF</td>\n",
       "      <td>Clermont Foot</td>\n",
       "      <td>fr Ligue 1</td>\n",
       "      <td>21</td>\n",
       "      <td>2000</td>\n",
       "      <td>27.4</td>\n",
       "      <td>60.985401</td>\n",
       "      <td>...</td>\n",
       "      <td>53.065693</td>\n",
       "      <td>1.897810</td>\n",
       "      <td>0.145985</td>\n",
       "      <td>0.291971</td>\n",
       "      <td>55.912409</td>\n",
       "      <td>0.072993</td>\n",
       "      <td>0.583942</td>\n",
       "      <td>1.240876</td>\n",
       "      <td>0.839416</td>\n",
       "      <td>Matches</td>\n",
       "    </tr>\n",
       "    <tr>\n",
       "      <th>3</th>\n",
       "      <td>4</td>\n",
       "      <td>Laurent Abergel</td>\n",
       "      <td>fr FRA</td>\n",
       "      <td>MF</td>\n",
       "      <td>Lorient</td>\n",
       "      <td>fr Ligue 1</td>\n",
       "      <td>28</td>\n",
       "      <td>1993</td>\n",
       "      <td>32.8</td>\n",
       "      <td>49.847561</td>\n",
       "      <td>...</td>\n",
       "      <td>43.932927</td>\n",
       "      <td>0.731707</td>\n",
       "      <td>0.152439</td>\n",
       "      <td>0.152439</td>\n",
       "      <td>40.670732</td>\n",
       "      <td>0.213415</td>\n",
       "      <td>0.548780</td>\n",
       "      <td>1.829268</td>\n",
       "      <td>1.676829</td>\n",
       "      <td>Matches</td>\n",
       "    </tr>\n",
       "    <tr>\n",
       "      <th>4</th>\n",
       "      <td>5</td>\n",
       "      <td>Charles Abi</td>\n",
       "      <td>fr FRA</td>\n",
       "      <td>FW</td>\n",
       "      <td>Saint-Étienne</td>\n",
       "      <td>fr Ligue 1</td>\n",
       "      <td>21</td>\n",
       "      <td>2000</td>\n",
       "      <td>0.5</td>\n",
       "      <td>12.000000</td>\n",
       "      <td>...</td>\n",
       "      <td>0.000000</td>\n",
       "      <td>0.000000</td>\n",
       "      <td>0.000000</td>\n",
       "      <td>0.000000</td>\n",
       "      <td>4.000000</td>\n",
       "      <td>0.000000</td>\n",
       "      <td>0.000000</td>\n",
       "      <td>4.000000</td>\n",
       "      <td>0.000000</td>\n",
       "      <td>Matches</td>\n",
       "    </tr>\n",
       "  </tbody>\n",
       "</table>\n",
       "<p>5 rows × 35 columns</p>\n",
       "</div>"
      ],
      "text/plain": [
       "  Rk             Player   Nation Pos          Squad                Comp Age  \\\n",
       "0  1         Max Aarons  eng ENG  DF   Norwich City  eng Premier League  21   \n",
       "1  2   Yunis Abdelhamid   ma MAR  DF          Reims          fr Ligue 1  33   \n",
       "2  3  Salis Abdul Samed   gh GHA  MF  Clermont Foot          fr Ligue 1  21   \n",
       "3  4    Laurent Abergel   fr FRA  MF        Lorient          fr Ligue 1  28   \n",
       "4  5        Charles Abi   fr FRA  FW  Saint-Étienne          fr Ligue 1  21   \n",
       "\n",
       "   Born   90s        Att  ...      Right      Head        TI     Other  \\\n",
       "0  2000  32.0  45.000000  ...  29.031250  0.906250  9.718750  0.062500   \n",
       "1  1987  33.1  46.978852  ...  12.145015  1.480363  0.422961  0.120846   \n",
       "2  2000  27.4  60.985401  ...  53.065693  1.897810  0.145985  0.291971   \n",
       "3  1993  32.8  49.847561  ...  43.932927  0.731707  0.152439  0.152439   \n",
       "4  2000   0.5  12.000000  ...   0.000000  0.000000  0.000000  0.000000   \n",
       "\n",
       "         Cmp       Off     Out_2       Int    Blocks  Matches  \n",
       "0  33.968750  0.218750  0.875000  1.625000  1.750000  Matches  \n",
       "1  38.700906  0.151057  0.966767  1.238671  0.876133  Matches  \n",
       "2  55.912409  0.072993  0.583942  1.240876  0.839416  Matches  \n",
       "3  40.670732  0.213415  0.548780  1.829268  1.676829  Matches  \n",
       "4   4.000000  0.000000  0.000000  4.000000  0.000000  Matches  \n",
       "\n",
       "[5 rows x 35 columns]"
      ]
     },
     "execution_count": 17,
     "metadata": {},
     "output_type": "execute_result"
    }
   ],
   "source": [
    "dfpassingtypes.head()"
   ]
  },
  {
   "cell_type": "code",
   "execution_count": 18,
   "metadata": {},
   "outputs": [],
   "source": [
    "dfpassingtypes['PlSqu'] = dfpassingtypes['Player'] + dfpassingtypes['Squad']"
   ]
  },
  {
   "cell_type": "code",
   "execution_count": 19,
   "metadata": {},
   "outputs": [],
   "source": [
    "dfpassingtypes['Player'] = dfpassingtypes['Player'].apply(unidecode)"
   ]
  },
  {
   "cell_type": "code",
   "execution_count": 20,
   "metadata": {},
   "outputs": [],
   "source": [
    "dfpassingtypes['Squad'] = dfpassingtypes['Squad'].apply(unidecode)"
   ]
  },
  {
   "cell_type": "code",
   "execution_count": 21,
   "metadata": {
    "executionInfo": {
     "elapsed": 164,
     "status": "ok",
     "timestamp": 1642638551730,
     "user": {
      "displayName": "Gary Davis",
      "photoUrl": "https://lh3.googleusercontent.com/a/default-user=s64",
      "userId": "10026740531512816388"
     },
     "user_tz": 360
    },
    "id": "xhSx7BPdvSjB"
   },
   "outputs": [],
   "source": [
    "dfpassingtypes.to_csv('fbrefBig5PassingType.csv', index=False)"
   ]
  }
 ],
 "metadata": {
  "colab": {
   "collapsed_sections": [],
   "name": "Scrape MLS Passing Type Stats.ipynb",
   "provenance": []
  },
  "kernelspec": {
   "display_name": "Python 3 (ipykernel)",
   "language": "python",
   "name": "python3"
  },
  "language_info": {
   "codemirror_mode": {
    "name": "ipython",
    "version": 3
   },
   "file_extension": ".py",
   "mimetype": "text/x-python",
   "name": "python",
   "nbconvert_exporter": "python",
   "pygments_lexer": "ipython3",
   "version": "3.9.7"
  }
 },
 "nbformat": 4,
 "nbformat_minor": 1
}
