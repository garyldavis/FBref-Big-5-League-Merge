{
 "cells": [
  {
   "cell_type": "markdown",
   "metadata": {
    "id": "0XFPIZmjtLbb"
   },
   "source": [
    "## How to Scrap Big 5 Shooting Stats from FBREF - Soccer/Football\n"
   ]
  },
  {
   "cell_type": "markdown",
   "metadata": {
    "id": "-AQZU0n4StVq"
   },
   "source": [
    "Method 1\n",
    "\n",
    "We could modularize the URL and year strings of text that may be useful for programmatic access (in the subsequent code cell)."
   ]
  },
  {
   "cell_type": "code",
   "execution_count": 1,
   "metadata": {
    "executionInfo": {
     "elapsed": 4,
     "status": "ok",
     "timestamp": 1642638708867,
     "user": {
      "displayName": "Gary Davis",
      "photoUrl": "https://lh3.googleusercontent.com/a/default-user=s64",
      "userId": "10026740531512816388"
     },
     "user_tz": 360
    },
    "id": "eviHhQGkleOW"
   },
   "outputs": [],
   "source": [
    "import requests\n",
    "import pandas as pd\n",
    "from unidecode import unidecode"
   ]
  },
  {
   "cell_type": "code",
   "execution_count": 2,
   "metadata": {
    "executionInfo": {
     "elapsed": 1540,
     "status": "ok",
     "timestamp": 1642638710404,
     "user": {
      "displayName": "Gary Davis",
      "photoUrl": "https://lh3.googleusercontent.com/a/default-user=s64",
      "userId": "10026740531512816388"
     },
     "user_tz": 360
    },
    "id": "goV7r4FUlfMt"
   },
   "outputs": [],
   "source": [
    "url = 'https://fbref.com/en/comps/Big5/shooting/players/Big-5-European-Leagues-Stats'\n",
    "html_content = requests.get(url).text.replace('<!--', '').replace('-->', '')\n",
    "df = pd.read_html(html_content)"
   ]
  },
  {
   "cell_type": "markdown",
   "metadata": {
    "id": "wlDt8TTxSvEz"
   },
   "source": [
    "Method 2"
   ]
  },
  {
   "cell_type": "code",
   "execution_count": 3,
   "metadata": {
    "executionInfo": {
     "elapsed": 10,
     "status": "ok",
     "timestamp": 1642638710405,
     "user": {
      "displayName": "Gary Davis",
      "photoUrl": "https://lh3.googleusercontent.com/a/default-user=s64",
      "userId": "10026740531512816388"
     },
     "user_tz": 360
    },
    "id": "-x78Rt_iRmCa"
   },
   "outputs": [],
   "source": [
    "#url = 'https://fbref.com/en/comps/Big5/defense/players/Big-5-European-Leagues-Stats'"
   ]
  },
  {
   "cell_type": "markdown",
   "metadata": {
    "id": "fhVY2xJJS0FU"
   },
   "source": [
    "Read HTML webpage into pandas"
   ]
  },
  {
   "cell_type": "markdown",
   "metadata": {
    "id": "Sk1EUVeFUXPq"
   },
   "source": [
    "Using pd.read_html() function to read HTML webpage"
   ]
  },
  {
   "cell_type": "code",
   "execution_count": 4,
   "metadata": {
    "colab": {
     "base_uri": "https://localhost:8080/"
    },
    "executionInfo": {
     "elapsed": 9,
     "status": "ok",
     "timestamp": 1642638710405,
     "user": {
      "displayName": "Gary Davis",
      "photoUrl": "https://lh3.googleusercontent.com/a/default-user=s64",
      "userId": "10026740531512816388"
     },
     "user_tz": 360
    },
    "id": "4sLS78K-S-r2",
    "outputId": "05e6604b-c18f-47ee-8917-7162d473c1c8"
   },
   "outputs": [
    {
     "data": {
      "text/plain": [
       "[   Unnamed: 0_level_0 Unnamed: 1_level_0 Standard                           \\\n",
       "      Competition Name                 MP      Gls     Sh   SoT  SoT%  G/Sh   \n",
       " 0       de Bundesliga                612     1.51  12.91  4.42  34.2  0.11   \n",
       " 1          es La Liga                760     1.22  11.69  3.73  31.9  0.09   \n",
       " 2          fr Ligue 1                760     1.36  11.91  3.97  33.4  0.10   \n",
       " 3  eng Premier League                760     1.36  12.74  4.16  32.6  0.10   \n",
       " 4          it Serie A                760     1.38  12.92  4.18  32.4  0.10   \n",
       " \n",
       "                                Expected                              \n",
       "   G/SoT Dist    FK    PK PKatt       xG  npxG npxG/Sh  G-xG np:G-xG  \n",
       " 0  0.32  NaN  0.41  0.11  0.14     1.48  1.37    0.11  0.01    0.00  \n",
       " 1  0.29  NaN  0.41  0.13  0.18     1.24  1.10    0.10 -0.03   -0.03  \n",
       " 2  0.31  NaN  0.46  0.14  0.16     1.33  1.21    0.10  0.01   -0.01  \n",
       " 3  0.30  NaN  0.43  0.11  0.14     1.36  1.26    0.10 -0.02   -0.03  \n",
       " 4  0.30  NaN  0.45  0.14  0.19     1.35  1.21    0.10  0.01    0.01  ,\n",
       "      Unnamed: 0_level_0 Unnamed: 1_level_0 Unnamed: 2_level_0  \\\n",
       "                      Rk             Player             Nation   \n",
       " 0                     1         Max Aarons            eng ENG   \n",
       " 1                     2   Yunis Abdelhamid             ma MAR   \n",
       " 2                     3  Salis Abdul Samed             gh GHA   \n",
       " 3                     4    Laurent Abergel             fr FRA   \n",
       " 4                     5        Charles Abi             fr FRA   \n",
       " ...                 ...                ...                ...   \n",
       " 3032               2917   Martín Zubimendi             es ESP   \n",
       " 3033               2918   Szymon Żurkowski             pl POL   \n",
       " 3034               2919    Martin Ødegaard             no NOR   \n",
       " 3035               2920        Milan Đurić             ba BIH   \n",
       " 3036               2921      Filip Đuričić             rs SRB   \n",
       " \n",
       "      Unnamed: 3_level_0 Unnamed: 4_level_0  Unnamed: 5_level_0  \\\n",
       "                     Pos              Squad                Comp   \n",
       " 0                    DF       Norwich City  eng Premier League   \n",
       " 1                    DF              Reims          fr Ligue 1   \n",
       " 2                    MF      Clermont Foot          fr Ligue 1   \n",
       " 3                    MF            Lorient          fr Ligue 1   \n",
       " 4                    FW      Saint-Étienne          fr Ligue 1   \n",
       " ...                 ...                ...                 ...   \n",
       " 3032                 MF      Real Sociedad          es La Liga   \n",
       " 3033                 MF             Empoli          it Serie A   \n",
       " 3034                 MF            Arsenal  eng Premier League   \n",
       " 3035                 FW        Salernitana          it Serie A   \n",
       " 3036              MF,FW           Sassuolo          it Serie A   \n",
       " \n",
       "      Unnamed: 6_level_0 Unnamed: 7_level_0 Unnamed: 8_level_0 Standard  ...  \\\n",
       "                     Age               Born                90s      Gls  ...   \n",
       " 0                    21               2000               32.0        0  ...   \n",
       " 1                    33               1987               33.1        2  ...   \n",
       " 2                    21               2000               27.4        1  ...   \n",
       " 3                    28               1993               32.8        0  ...   \n",
       " 4                    21               2000                0.5        0  ...   \n",
       " ...                 ...                ...                ...      ...  ...   \n",
       " 3032                 22               1999               28.8        2  ...   \n",
       " 3033                 23               1997               25.6        6  ...   \n",
       " 3034                 22               1998               30.9        7  ...   \n",
       " 3035                 31               1990               24.1        5  ...   \n",
       " 3036                 29               1992                7.5        2  ...   \n",
       " \n",
       "                         Expected                             \\\n",
       "       Dist  FK PK PKatt       xG npxG npxG/Sh  G-xG np:G-xG   \n",
       " 0     20.5   0  0     0      0.7  0.7    0.05  -0.7    -0.7   \n",
       " 1     18.7   0  0     0      1.2  1.2    0.07  +0.8    +0.8   \n",
       " 2     20.3   0  0     0      0.8  0.8    0.04  +0.2    +0.2   \n",
       " 3     22.6   0  0     0      2.0  2.0    0.07  -2.0    -2.0   \n",
       " 4      NaN   0  0     0      0.0  0.0     NaN   0.0     0.0   \n",
       " ...    ...  .. ..   ...      ...  ...     ...   ...     ...   \n",
       " 3032  13.7   0  0     0      2.0  2.0    0.09   0.0     0.0   \n",
       " 3033  18.8   0  0     0      4.1  4.1    0.09  +1.9    +1.9   \n",
       " 3034  20.1  12  0     0      4.8  4.8    0.09  +2.2    +2.2   \n",
       " 3035  10.1   0  1     1      5.8  5.0    0.10  -0.8    -1.0   \n",
       " 3036  15.7   0  0     0      2.0  2.0    0.11   0.0     0.0   \n",
       " \n",
       "      Unnamed: 26_level_0  \n",
       "                  Matches  \n",
       " 0                Matches  \n",
       " 1                Matches  \n",
       " 2                Matches  \n",
       " 3                Matches  \n",
       " 4                Matches  \n",
       " ...                  ...  \n",
       " 3032             Matches  \n",
       " 3033             Matches  \n",
       " 3034             Matches  \n",
       " 3035             Matches  \n",
       " 3036             Matches  \n",
       " \n",
       " [3037 rows x 27 columns]]"
      ]
     },
     "execution_count": 4,
     "metadata": {},
     "output_type": "execute_result"
    }
   ],
   "source": [
    "df"
   ]
  },
  {
   "cell_type": "markdown",
   "metadata": {
    "id": "iVtWB7zuUWIp"
   },
   "source": [
    "How many tables are there in the webpage?"
   ]
  },
  {
   "cell_type": "code",
   "execution_count": 5,
   "metadata": {
    "colab": {
     "base_uri": "https://localhost:8080/"
    },
    "executionInfo": {
     "elapsed": 6,
     "status": "ok",
     "timestamp": 1642638710405,
     "user": {
      "displayName": "Gary Davis",
      "photoUrl": "https://lh3.googleusercontent.com/a/default-user=s64",
      "userId": "10026740531512816388"
     },
     "user_tz": 360
    },
    "id": "BdIXrthuTApH",
    "outputId": "6e82bf46-6b40-41a3-927d-7f611acf85c7"
   },
   "outputs": [
    {
     "data": {
      "text/plain": [
       "2"
      ]
     },
     "execution_count": 5,
     "metadata": {},
     "output_type": "execute_result"
    }
   ],
   "source": [
    "len(df)"
   ]
  },
  {
   "cell_type": "code",
   "execution_count": 6,
   "metadata": {
    "executionInfo": {
     "elapsed": 324,
     "status": "ok",
     "timestamp": 1642638710726,
     "user": {
      "displayName": "Gary Davis",
      "photoUrl": "https://lh3.googleusercontent.com/a/default-user=s64",
      "userId": "10026740531512816388"
     },
     "user_tz": 360
    },
    "id": "_JF0jpfDmdj_"
   },
   "outputs": [],
   "source": [
    "df[1].columns = df[1].columns.droplevel(0) # drop top header row"
   ]
  },
  {
   "cell_type": "markdown",
   "metadata": {
    "id": "glCMVlkWU6ik"
   },
   "source": [
    "Select the first table"
   ]
  },
  {
   "cell_type": "code",
   "execution_count": 7,
   "metadata": {
    "colab": {
     "base_uri": "https://localhost:8080/",
     "height": 424
    },
    "executionInfo": {
     "elapsed": 17,
     "status": "ok",
     "timestamp": 1642638710727,
     "user": {
      "displayName": "Gary Davis",
      "photoUrl": "https://lh3.googleusercontent.com/a/default-user=s64",
      "userId": "10026740531512816388"
     },
     "user_tz": 360
    },
    "id": "Pv0NHbFeTrEp",
    "outputId": "da342231-6da5-497f-b6bd-7eb22c910d3d"
   },
   "outputs": [
    {
     "data": {
      "text/html": [
       "<div>\n",
       "<style scoped>\n",
       "    .dataframe tbody tr th:only-of-type {\n",
       "        vertical-align: middle;\n",
       "    }\n",
       "\n",
       "    .dataframe tbody tr th {\n",
       "        vertical-align: top;\n",
       "    }\n",
       "\n",
       "    .dataframe thead th {\n",
       "        text-align: right;\n",
       "    }\n",
       "</style>\n",
       "<table border=\"1\" class=\"dataframe\">\n",
       "  <thead>\n",
       "    <tr style=\"text-align: right;\">\n",
       "      <th></th>\n",
       "      <th>Rk</th>\n",
       "      <th>Player</th>\n",
       "      <th>Nation</th>\n",
       "      <th>Pos</th>\n",
       "      <th>Squad</th>\n",
       "      <th>Comp</th>\n",
       "      <th>Age</th>\n",
       "      <th>Born</th>\n",
       "      <th>90s</th>\n",
       "      <th>Gls</th>\n",
       "      <th>...</th>\n",
       "      <th>Dist</th>\n",
       "      <th>FK</th>\n",
       "      <th>PK</th>\n",
       "      <th>PKatt</th>\n",
       "      <th>xG</th>\n",
       "      <th>npxG</th>\n",
       "      <th>npxG/Sh</th>\n",
       "      <th>G-xG</th>\n",
       "      <th>np:G-xG</th>\n",
       "      <th>Matches</th>\n",
       "    </tr>\n",
       "  </thead>\n",
       "  <tbody>\n",
       "    <tr>\n",
       "      <th>0</th>\n",
       "      <td>1</td>\n",
       "      <td>Max Aarons</td>\n",
       "      <td>eng ENG</td>\n",
       "      <td>DF</td>\n",
       "      <td>Norwich City</td>\n",
       "      <td>eng Premier League</td>\n",
       "      <td>21</td>\n",
       "      <td>2000</td>\n",
       "      <td>32.0</td>\n",
       "      <td>0</td>\n",
       "      <td>...</td>\n",
       "      <td>20.5</td>\n",
       "      <td>0</td>\n",
       "      <td>0</td>\n",
       "      <td>0</td>\n",
       "      <td>0.7</td>\n",
       "      <td>0.7</td>\n",
       "      <td>0.05</td>\n",
       "      <td>-0.7</td>\n",
       "      <td>-0.7</td>\n",
       "      <td>Matches</td>\n",
       "    </tr>\n",
       "    <tr>\n",
       "      <th>1</th>\n",
       "      <td>2</td>\n",
       "      <td>Yunis Abdelhamid</td>\n",
       "      <td>ma MAR</td>\n",
       "      <td>DF</td>\n",
       "      <td>Reims</td>\n",
       "      <td>fr Ligue 1</td>\n",
       "      <td>33</td>\n",
       "      <td>1987</td>\n",
       "      <td>33.1</td>\n",
       "      <td>2</td>\n",
       "      <td>...</td>\n",
       "      <td>18.7</td>\n",
       "      <td>0</td>\n",
       "      <td>0</td>\n",
       "      <td>0</td>\n",
       "      <td>1.2</td>\n",
       "      <td>1.2</td>\n",
       "      <td>0.07</td>\n",
       "      <td>+0.8</td>\n",
       "      <td>+0.8</td>\n",
       "      <td>Matches</td>\n",
       "    </tr>\n",
       "    <tr>\n",
       "      <th>2</th>\n",
       "      <td>3</td>\n",
       "      <td>Salis Abdul Samed</td>\n",
       "      <td>gh GHA</td>\n",
       "      <td>MF</td>\n",
       "      <td>Clermont Foot</td>\n",
       "      <td>fr Ligue 1</td>\n",
       "      <td>21</td>\n",
       "      <td>2000</td>\n",
       "      <td>27.4</td>\n",
       "      <td>1</td>\n",
       "      <td>...</td>\n",
       "      <td>20.3</td>\n",
       "      <td>0</td>\n",
       "      <td>0</td>\n",
       "      <td>0</td>\n",
       "      <td>0.8</td>\n",
       "      <td>0.8</td>\n",
       "      <td>0.04</td>\n",
       "      <td>+0.2</td>\n",
       "      <td>+0.2</td>\n",
       "      <td>Matches</td>\n",
       "    </tr>\n",
       "    <tr>\n",
       "      <th>3</th>\n",
       "      <td>4</td>\n",
       "      <td>Laurent Abergel</td>\n",
       "      <td>fr FRA</td>\n",
       "      <td>MF</td>\n",
       "      <td>Lorient</td>\n",
       "      <td>fr Ligue 1</td>\n",
       "      <td>28</td>\n",
       "      <td>1993</td>\n",
       "      <td>32.8</td>\n",
       "      <td>0</td>\n",
       "      <td>...</td>\n",
       "      <td>22.6</td>\n",
       "      <td>0</td>\n",
       "      <td>0</td>\n",
       "      <td>0</td>\n",
       "      <td>2.0</td>\n",
       "      <td>2.0</td>\n",
       "      <td>0.07</td>\n",
       "      <td>-2.0</td>\n",
       "      <td>-2.0</td>\n",
       "      <td>Matches</td>\n",
       "    </tr>\n",
       "    <tr>\n",
       "      <th>4</th>\n",
       "      <td>5</td>\n",
       "      <td>Charles Abi</td>\n",
       "      <td>fr FRA</td>\n",
       "      <td>FW</td>\n",
       "      <td>Saint-Étienne</td>\n",
       "      <td>fr Ligue 1</td>\n",
       "      <td>21</td>\n",
       "      <td>2000</td>\n",
       "      <td>0.5</td>\n",
       "      <td>0</td>\n",
       "      <td>...</td>\n",
       "      <td>NaN</td>\n",
       "      <td>0</td>\n",
       "      <td>0</td>\n",
       "      <td>0</td>\n",
       "      <td>0.0</td>\n",
       "      <td>0.0</td>\n",
       "      <td>NaN</td>\n",
       "      <td>0.0</td>\n",
       "      <td>0.0</td>\n",
       "      <td>Matches</td>\n",
       "    </tr>\n",
       "    <tr>\n",
       "      <th>...</th>\n",
       "      <td>...</td>\n",
       "      <td>...</td>\n",
       "      <td>...</td>\n",
       "      <td>...</td>\n",
       "      <td>...</td>\n",
       "      <td>...</td>\n",
       "      <td>...</td>\n",
       "      <td>...</td>\n",
       "      <td>...</td>\n",
       "      <td>...</td>\n",
       "      <td>...</td>\n",
       "      <td>...</td>\n",
       "      <td>...</td>\n",
       "      <td>...</td>\n",
       "      <td>...</td>\n",
       "      <td>...</td>\n",
       "      <td>...</td>\n",
       "      <td>...</td>\n",
       "      <td>...</td>\n",
       "      <td>...</td>\n",
       "      <td>...</td>\n",
       "    </tr>\n",
       "    <tr>\n",
       "      <th>3032</th>\n",
       "      <td>2917</td>\n",
       "      <td>Martín Zubimendi</td>\n",
       "      <td>es ESP</td>\n",
       "      <td>MF</td>\n",
       "      <td>Real Sociedad</td>\n",
       "      <td>es La Liga</td>\n",
       "      <td>22</td>\n",
       "      <td>1999</td>\n",
       "      <td>28.8</td>\n",
       "      <td>2</td>\n",
       "      <td>...</td>\n",
       "      <td>13.7</td>\n",
       "      <td>0</td>\n",
       "      <td>0</td>\n",
       "      <td>0</td>\n",
       "      <td>2.0</td>\n",
       "      <td>2.0</td>\n",
       "      <td>0.09</td>\n",
       "      <td>0.0</td>\n",
       "      <td>0.0</td>\n",
       "      <td>Matches</td>\n",
       "    </tr>\n",
       "    <tr>\n",
       "      <th>3033</th>\n",
       "      <td>2918</td>\n",
       "      <td>Szymon Żurkowski</td>\n",
       "      <td>pl POL</td>\n",
       "      <td>MF</td>\n",
       "      <td>Empoli</td>\n",
       "      <td>it Serie A</td>\n",
       "      <td>23</td>\n",
       "      <td>1997</td>\n",
       "      <td>25.6</td>\n",
       "      <td>6</td>\n",
       "      <td>...</td>\n",
       "      <td>18.8</td>\n",
       "      <td>0</td>\n",
       "      <td>0</td>\n",
       "      <td>0</td>\n",
       "      <td>4.1</td>\n",
       "      <td>4.1</td>\n",
       "      <td>0.09</td>\n",
       "      <td>+1.9</td>\n",
       "      <td>+1.9</td>\n",
       "      <td>Matches</td>\n",
       "    </tr>\n",
       "    <tr>\n",
       "      <th>3034</th>\n",
       "      <td>2919</td>\n",
       "      <td>Martin Ødegaard</td>\n",
       "      <td>no NOR</td>\n",
       "      <td>MF</td>\n",
       "      <td>Arsenal</td>\n",
       "      <td>eng Premier League</td>\n",
       "      <td>22</td>\n",
       "      <td>1998</td>\n",
       "      <td>30.9</td>\n",
       "      <td>7</td>\n",
       "      <td>...</td>\n",
       "      <td>20.1</td>\n",
       "      <td>12</td>\n",
       "      <td>0</td>\n",
       "      <td>0</td>\n",
       "      <td>4.8</td>\n",
       "      <td>4.8</td>\n",
       "      <td>0.09</td>\n",
       "      <td>+2.2</td>\n",
       "      <td>+2.2</td>\n",
       "      <td>Matches</td>\n",
       "    </tr>\n",
       "    <tr>\n",
       "      <th>3035</th>\n",
       "      <td>2920</td>\n",
       "      <td>Milan Đurić</td>\n",
       "      <td>ba BIH</td>\n",
       "      <td>FW</td>\n",
       "      <td>Salernitana</td>\n",
       "      <td>it Serie A</td>\n",
       "      <td>31</td>\n",
       "      <td>1990</td>\n",
       "      <td>24.1</td>\n",
       "      <td>5</td>\n",
       "      <td>...</td>\n",
       "      <td>10.1</td>\n",
       "      <td>0</td>\n",
       "      <td>1</td>\n",
       "      <td>1</td>\n",
       "      <td>5.8</td>\n",
       "      <td>5.0</td>\n",
       "      <td>0.10</td>\n",
       "      <td>-0.8</td>\n",
       "      <td>-1.0</td>\n",
       "      <td>Matches</td>\n",
       "    </tr>\n",
       "    <tr>\n",
       "      <th>3036</th>\n",
       "      <td>2921</td>\n",
       "      <td>Filip Đuričić</td>\n",
       "      <td>rs SRB</td>\n",
       "      <td>MF,FW</td>\n",
       "      <td>Sassuolo</td>\n",
       "      <td>it Serie A</td>\n",
       "      <td>29</td>\n",
       "      <td>1992</td>\n",
       "      <td>7.5</td>\n",
       "      <td>2</td>\n",
       "      <td>...</td>\n",
       "      <td>15.7</td>\n",
       "      <td>0</td>\n",
       "      <td>0</td>\n",
       "      <td>0</td>\n",
       "      <td>2.0</td>\n",
       "      <td>2.0</td>\n",
       "      <td>0.11</td>\n",
       "      <td>0.0</td>\n",
       "      <td>0.0</td>\n",
       "      <td>Matches</td>\n",
       "    </tr>\n",
       "  </tbody>\n",
       "</table>\n",
       "<p>3037 rows × 27 columns</p>\n",
       "</div>"
      ],
      "text/plain": [
       "        Rk             Player   Nation    Pos          Squad  \\\n",
       "0        1         Max Aarons  eng ENG     DF   Norwich City   \n",
       "1        2   Yunis Abdelhamid   ma MAR     DF          Reims   \n",
       "2        3  Salis Abdul Samed   gh GHA     MF  Clermont Foot   \n",
       "3        4    Laurent Abergel   fr FRA     MF        Lorient   \n",
       "4        5        Charles Abi   fr FRA     FW  Saint-Étienne   \n",
       "...    ...                ...      ...    ...            ...   \n",
       "3032  2917   Martín Zubimendi   es ESP     MF  Real Sociedad   \n",
       "3033  2918   Szymon Żurkowski   pl POL     MF         Empoli   \n",
       "3034  2919    Martin Ødegaard   no NOR     MF        Arsenal   \n",
       "3035  2920        Milan Đurić   ba BIH     FW    Salernitana   \n",
       "3036  2921      Filip Đuričić   rs SRB  MF,FW       Sassuolo   \n",
       "\n",
       "                    Comp Age  Born   90s Gls  ...  Dist  FK PK PKatt   xG  \\\n",
       "0     eng Premier League  21  2000  32.0   0  ...  20.5   0  0     0  0.7   \n",
       "1             fr Ligue 1  33  1987  33.1   2  ...  18.7   0  0     0  1.2   \n",
       "2             fr Ligue 1  21  2000  27.4   1  ...  20.3   0  0     0  0.8   \n",
       "3             fr Ligue 1  28  1993  32.8   0  ...  22.6   0  0     0  2.0   \n",
       "4             fr Ligue 1  21  2000   0.5   0  ...   NaN   0  0     0  0.0   \n",
       "...                  ...  ..   ...   ...  ..  ...   ...  .. ..   ...  ...   \n",
       "3032          es La Liga  22  1999  28.8   2  ...  13.7   0  0     0  2.0   \n",
       "3033          it Serie A  23  1997  25.6   6  ...  18.8   0  0     0  4.1   \n",
       "3034  eng Premier League  22  1998  30.9   7  ...  20.1  12  0     0  4.8   \n",
       "3035          it Serie A  31  1990  24.1   5  ...  10.1   0  1     1  5.8   \n",
       "3036          it Serie A  29  1992   7.5   2  ...  15.7   0  0     0  2.0   \n",
       "\n",
       "     npxG npxG/Sh  G-xG np:G-xG  Matches  \n",
       "0     0.7    0.05  -0.7    -0.7  Matches  \n",
       "1     1.2    0.07  +0.8    +0.8  Matches  \n",
       "2     0.8    0.04  +0.2    +0.2  Matches  \n",
       "3     2.0    0.07  -2.0    -2.0  Matches  \n",
       "4     0.0     NaN   0.0     0.0  Matches  \n",
       "...   ...     ...   ...     ...      ...  \n",
       "3032  2.0    0.09   0.0     0.0  Matches  \n",
       "3033  4.1    0.09  +1.9    +1.9  Matches  \n",
       "3034  4.8    0.09  +2.2    +2.2  Matches  \n",
       "3035  5.0    0.10  -0.8    -1.0  Matches  \n",
       "3036  2.0    0.11   0.0     0.0  Matches  \n",
       "\n",
       "[3037 rows x 27 columns]"
      ]
     },
     "execution_count": 7,
     "metadata": {},
     "output_type": "execute_result"
    }
   ],
   "source": [
    "df[1]"
   ]
  },
  {
   "cell_type": "code",
   "execution_count": 8,
   "metadata": {
    "executionInfo": {
     "elapsed": 15,
     "status": "ok",
     "timestamp": 1642638710727,
     "user": {
      "displayName": "Gary Davis",
      "photoUrl": "https://lh3.googleusercontent.com/a/default-user=s64",
      "userId": "10026740531512816388"
     },
     "user_tz": 360
    },
    "id": "owwSCuZYU-sT"
   },
   "outputs": [],
   "source": [
    "dfdata = df[1]"
   ]
  },
  {
   "cell_type": "markdown",
   "metadata": {
    "id": "laW205ykvn0S"
   },
   "source": [
    "Data cleaning"
   ]
  },
  {
   "cell_type": "markdown",
   "metadata": {
    "id": "b-cH41xd54Tw"
   },
   "source": [
    "We can see that the table header is presented multiple times in several rows."
   ]
  },
  {
   "cell_type": "code",
   "execution_count": 9,
   "metadata": {
    "colab": {
     "base_uri": "https://localhost:8080/",
     "height": 959
    },
    "executionInfo": {
     "elapsed": 15,
     "status": "ok",
     "timestamp": 1642638710728,
     "user": {
      "displayName": "Gary Davis",
      "photoUrl": "https://lh3.googleusercontent.com/a/default-user=s64",
      "userId": "10026740531512816388"
     },
     "user_tz": 360
    },
    "id": "6St9yeuZg9rf",
    "outputId": "ea8b9054-ed37-4613-fe0a-bc08f2e96851"
   },
   "outputs": [
    {
     "data": {
      "text/html": [
       "<div>\n",
       "<style scoped>\n",
       "    .dataframe tbody tr th:only-of-type {\n",
       "        vertical-align: middle;\n",
       "    }\n",
       "\n",
       "    .dataframe tbody tr th {\n",
       "        vertical-align: top;\n",
       "    }\n",
       "\n",
       "    .dataframe thead th {\n",
       "        text-align: right;\n",
       "    }\n",
       "</style>\n",
       "<table border=\"1\" class=\"dataframe\">\n",
       "  <thead>\n",
       "    <tr style=\"text-align: right;\">\n",
       "      <th></th>\n",
       "      <th>Rk</th>\n",
       "      <th>Player</th>\n",
       "      <th>Nation</th>\n",
       "      <th>Pos</th>\n",
       "      <th>Squad</th>\n",
       "      <th>Comp</th>\n",
       "      <th>Age</th>\n",
       "      <th>Born</th>\n",
       "      <th>90s</th>\n",
       "      <th>Gls</th>\n",
       "      <th>...</th>\n",
       "      <th>Dist</th>\n",
       "      <th>FK</th>\n",
       "      <th>PK</th>\n",
       "      <th>PKatt</th>\n",
       "      <th>xG</th>\n",
       "      <th>npxG</th>\n",
       "      <th>npxG/Sh</th>\n",
       "      <th>G-xG</th>\n",
       "      <th>np:G-xG</th>\n",
       "      <th>Matches</th>\n",
       "    </tr>\n",
       "  </thead>\n",
       "  <tbody>\n",
       "    <tr>\n",
       "      <th>25</th>\n",
       "      <td>Rk</td>\n",
       "      <td>Player</td>\n",
       "      <td>Nation</td>\n",
       "      <td>Pos</td>\n",
       "      <td>Squad</td>\n",
       "      <td>Comp</td>\n",
       "      <td>Age</td>\n",
       "      <td>Born</td>\n",
       "      <td>90s</td>\n",
       "      <td>Gls</td>\n",
       "      <td>...</td>\n",
       "      <td>Dist</td>\n",
       "      <td>FK</td>\n",
       "      <td>PK</td>\n",
       "      <td>PKatt</td>\n",
       "      <td>xG</td>\n",
       "      <td>npxG</td>\n",
       "      <td>npxG/Sh</td>\n",
       "      <td>G-xG</td>\n",
       "      <td>np:G-xG</td>\n",
       "      <td>Matches</td>\n",
       "    </tr>\n",
       "    <tr>\n",
       "      <th>51</th>\n",
       "      <td>Rk</td>\n",
       "      <td>Player</td>\n",
       "      <td>Nation</td>\n",
       "      <td>Pos</td>\n",
       "      <td>Squad</td>\n",
       "      <td>Comp</td>\n",
       "      <td>Age</td>\n",
       "      <td>Born</td>\n",
       "      <td>90s</td>\n",
       "      <td>Gls</td>\n",
       "      <td>...</td>\n",
       "      <td>Dist</td>\n",
       "      <td>FK</td>\n",
       "      <td>PK</td>\n",
       "      <td>PKatt</td>\n",
       "      <td>xG</td>\n",
       "      <td>npxG</td>\n",
       "      <td>npxG/Sh</td>\n",
       "      <td>G-xG</td>\n",
       "      <td>np:G-xG</td>\n",
       "      <td>Matches</td>\n",
       "    </tr>\n",
       "    <tr>\n",
       "      <th>77</th>\n",
       "      <td>Rk</td>\n",
       "      <td>Player</td>\n",
       "      <td>Nation</td>\n",
       "      <td>Pos</td>\n",
       "      <td>Squad</td>\n",
       "      <td>Comp</td>\n",
       "      <td>Age</td>\n",
       "      <td>Born</td>\n",
       "      <td>90s</td>\n",
       "      <td>Gls</td>\n",
       "      <td>...</td>\n",
       "      <td>Dist</td>\n",
       "      <td>FK</td>\n",
       "      <td>PK</td>\n",
       "      <td>PKatt</td>\n",
       "      <td>xG</td>\n",
       "      <td>npxG</td>\n",
       "      <td>npxG/Sh</td>\n",
       "      <td>G-xG</td>\n",
       "      <td>np:G-xG</td>\n",
       "      <td>Matches</td>\n",
       "    </tr>\n",
       "    <tr>\n",
       "      <th>103</th>\n",
       "      <td>Rk</td>\n",
       "      <td>Player</td>\n",
       "      <td>Nation</td>\n",
       "      <td>Pos</td>\n",
       "      <td>Squad</td>\n",
       "      <td>Comp</td>\n",
       "      <td>Age</td>\n",
       "      <td>Born</td>\n",
       "      <td>90s</td>\n",
       "      <td>Gls</td>\n",
       "      <td>...</td>\n",
       "      <td>Dist</td>\n",
       "      <td>FK</td>\n",
       "      <td>PK</td>\n",
       "      <td>PKatt</td>\n",
       "      <td>xG</td>\n",
       "      <td>npxG</td>\n",
       "      <td>npxG/Sh</td>\n",
       "      <td>G-xG</td>\n",
       "      <td>np:G-xG</td>\n",
       "      <td>Matches</td>\n",
       "    </tr>\n",
       "    <tr>\n",
       "      <th>129</th>\n",
       "      <td>Rk</td>\n",
       "      <td>Player</td>\n",
       "      <td>Nation</td>\n",
       "      <td>Pos</td>\n",
       "      <td>Squad</td>\n",
       "      <td>Comp</td>\n",
       "      <td>Age</td>\n",
       "      <td>Born</td>\n",
       "      <td>90s</td>\n",
       "      <td>Gls</td>\n",
       "      <td>...</td>\n",
       "      <td>Dist</td>\n",
       "      <td>FK</td>\n",
       "      <td>PK</td>\n",
       "      <td>PKatt</td>\n",
       "      <td>xG</td>\n",
       "      <td>npxG</td>\n",
       "      <td>npxG/Sh</td>\n",
       "      <td>G-xG</td>\n",
       "      <td>np:G-xG</td>\n",
       "      <td>Matches</td>\n",
       "    </tr>\n",
       "    <tr>\n",
       "      <th>...</th>\n",
       "      <td>...</td>\n",
       "      <td>...</td>\n",
       "      <td>...</td>\n",
       "      <td>...</td>\n",
       "      <td>...</td>\n",
       "      <td>...</td>\n",
       "      <td>...</td>\n",
       "      <td>...</td>\n",
       "      <td>...</td>\n",
       "      <td>...</td>\n",
       "      <td>...</td>\n",
       "      <td>...</td>\n",
       "      <td>...</td>\n",
       "      <td>...</td>\n",
       "      <td>...</td>\n",
       "      <td>...</td>\n",
       "      <td>...</td>\n",
       "      <td>...</td>\n",
       "      <td>...</td>\n",
       "      <td>...</td>\n",
       "      <td>...</td>\n",
       "    </tr>\n",
       "    <tr>\n",
       "      <th>2911</th>\n",
       "      <td>Rk</td>\n",
       "      <td>Player</td>\n",
       "      <td>Nation</td>\n",
       "      <td>Pos</td>\n",
       "      <td>Squad</td>\n",
       "      <td>Comp</td>\n",
       "      <td>Age</td>\n",
       "      <td>Born</td>\n",
       "      <td>90s</td>\n",
       "      <td>Gls</td>\n",
       "      <td>...</td>\n",
       "      <td>Dist</td>\n",
       "      <td>FK</td>\n",
       "      <td>PK</td>\n",
       "      <td>PKatt</td>\n",
       "      <td>xG</td>\n",
       "      <td>npxG</td>\n",
       "      <td>npxG/Sh</td>\n",
       "      <td>G-xG</td>\n",
       "      <td>np:G-xG</td>\n",
       "      <td>Matches</td>\n",
       "    </tr>\n",
       "    <tr>\n",
       "      <th>2937</th>\n",
       "      <td>Rk</td>\n",
       "      <td>Player</td>\n",
       "      <td>Nation</td>\n",
       "      <td>Pos</td>\n",
       "      <td>Squad</td>\n",
       "      <td>Comp</td>\n",
       "      <td>Age</td>\n",
       "      <td>Born</td>\n",
       "      <td>90s</td>\n",
       "      <td>Gls</td>\n",
       "      <td>...</td>\n",
       "      <td>Dist</td>\n",
       "      <td>FK</td>\n",
       "      <td>PK</td>\n",
       "      <td>PKatt</td>\n",
       "      <td>xG</td>\n",
       "      <td>npxG</td>\n",
       "      <td>npxG/Sh</td>\n",
       "      <td>G-xG</td>\n",
       "      <td>np:G-xG</td>\n",
       "      <td>Matches</td>\n",
       "    </tr>\n",
       "    <tr>\n",
       "      <th>2963</th>\n",
       "      <td>Rk</td>\n",
       "      <td>Player</td>\n",
       "      <td>Nation</td>\n",
       "      <td>Pos</td>\n",
       "      <td>Squad</td>\n",
       "      <td>Comp</td>\n",
       "      <td>Age</td>\n",
       "      <td>Born</td>\n",
       "      <td>90s</td>\n",
       "      <td>Gls</td>\n",
       "      <td>...</td>\n",
       "      <td>Dist</td>\n",
       "      <td>FK</td>\n",
       "      <td>PK</td>\n",
       "      <td>PKatt</td>\n",
       "      <td>xG</td>\n",
       "      <td>npxG</td>\n",
       "      <td>npxG/Sh</td>\n",
       "      <td>G-xG</td>\n",
       "      <td>np:G-xG</td>\n",
       "      <td>Matches</td>\n",
       "    </tr>\n",
       "    <tr>\n",
       "      <th>2989</th>\n",
       "      <td>Rk</td>\n",
       "      <td>Player</td>\n",
       "      <td>Nation</td>\n",
       "      <td>Pos</td>\n",
       "      <td>Squad</td>\n",
       "      <td>Comp</td>\n",
       "      <td>Age</td>\n",
       "      <td>Born</td>\n",
       "      <td>90s</td>\n",
       "      <td>Gls</td>\n",
       "      <td>...</td>\n",
       "      <td>Dist</td>\n",
       "      <td>FK</td>\n",
       "      <td>PK</td>\n",
       "      <td>PKatt</td>\n",
       "      <td>xG</td>\n",
       "      <td>npxG</td>\n",
       "      <td>npxG/Sh</td>\n",
       "      <td>G-xG</td>\n",
       "      <td>np:G-xG</td>\n",
       "      <td>Matches</td>\n",
       "    </tr>\n",
       "    <tr>\n",
       "      <th>3015</th>\n",
       "      <td>Rk</td>\n",
       "      <td>Player</td>\n",
       "      <td>Nation</td>\n",
       "      <td>Pos</td>\n",
       "      <td>Squad</td>\n",
       "      <td>Comp</td>\n",
       "      <td>Age</td>\n",
       "      <td>Born</td>\n",
       "      <td>90s</td>\n",
       "      <td>Gls</td>\n",
       "      <td>...</td>\n",
       "      <td>Dist</td>\n",
       "      <td>FK</td>\n",
       "      <td>PK</td>\n",
       "      <td>PKatt</td>\n",
       "      <td>xG</td>\n",
       "      <td>npxG</td>\n",
       "      <td>npxG/Sh</td>\n",
       "      <td>G-xG</td>\n",
       "      <td>np:G-xG</td>\n",
       "      <td>Matches</td>\n",
       "    </tr>\n",
       "  </tbody>\n",
       "</table>\n",
       "<p>116 rows × 27 columns</p>\n",
       "</div>"
      ],
      "text/plain": [
       "      Rk  Player  Nation  Pos  Squad  Comp  Age  Born  90s  Gls  ...  Dist  \\\n",
       "25    Rk  Player  Nation  Pos  Squad  Comp  Age  Born  90s  Gls  ...  Dist   \n",
       "51    Rk  Player  Nation  Pos  Squad  Comp  Age  Born  90s  Gls  ...  Dist   \n",
       "77    Rk  Player  Nation  Pos  Squad  Comp  Age  Born  90s  Gls  ...  Dist   \n",
       "103   Rk  Player  Nation  Pos  Squad  Comp  Age  Born  90s  Gls  ...  Dist   \n",
       "129   Rk  Player  Nation  Pos  Squad  Comp  Age  Born  90s  Gls  ...  Dist   \n",
       "...   ..     ...     ...  ...    ...   ...  ...   ...  ...  ...  ...   ...   \n",
       "2911  Rk  Player  Nation  Pos  Squad  Comp  Age  Born  90s  Gls  ...  Dist   \n",
       "2937  Rk  Player  Nation  Pos  Squad  Comp  Age  Born  90s  Gls  ...  Dist   \n",
       "2963  Rk  Player  Nation  Pos  Squad  Comp  Age  Born  90s  Gls  ...  Dist   \n",
       "2989  Rk  Player  Nation  Pos  Squad  Comp  Age  Born  90s  Gls  ...  Dist   \n",
       "3015  Rk  Player  Nation  Pos  Squad  Comp  Age  Born  90s  Gls  ...  Dist   \n",
       "\n",
       "      FK  PK  PKatt  xG  npxG  npxG/Sh  G-xG  np:G-xG  Matches  \n",
       "25    FK  PK  PKatt  xG  npxG  npxG/Sh  G-xG  np:G-xG  Matches  \n",
       "51    FK  PK  PKatt  xG  npxG  npxG/Sh  G-xG  np:G-xG  Matches  \n",
       "77    FK  PK  PKatt  xG  npxG  npxG/Sh  G-xG  np:G-xG  Matches  \n",
       "103   FK  PK  PKatt  xG  npxG  npxG/Sh  G-xG  np:G-xG  Matches  \n",
       "129   FK  PK  PKatt  xG  npxG  npxG/Sh  G-xG  np:G-xG  Matches  \n",
       "...   ..  ..    ...  ..   ...      ...   ...      ...      ...  \n",
       "2911  FK  PK  PKatt  xG  npxG  npxG/Sh  G-xG  np:G-xG  Matches  \n",
       "2937  FK  PK  PKatt  xG  npxG  npxG/Sh  G-xG  np:G-xG  Matches  \n",
       "2963  FK  PK  PKatt  xG  npxG  npxG/Sh  G-xG  np:G-xG  Matches  \n",
       "2989  FK  PK  PKatt  xG  npxG  npxG/Sh  G-xG  np:G-xG  Matches  \n",
       "3015  FK  PK  PKatt  xG  npxG  npxG/Sh  G-xG  np:G-xG  Matches  \n",
       "\n",
       "[116 rows x 27 columns]"
      ]
     },
     "execution_count": 9,
     "metadata": {},
     "output_type": "execute_result"
    }
   ],
   "source": [
    "dfdata[dfdata.Age == 'Age']"
   ]
  },
  {
   "cell_type": "code",
   "execution_count": 10,
   "metadata": {
    "colab": {
     "base_uri": "https://localhost:8080/"
    },
    "executionInfo": {
     "elapsed": 14,
     "status": "ok",
     "timestamp": 1642638710728,
     "user": {
      "displayName": "Gary Davis",
      "photoUrl": "https://lh3.googleusercontent.com/a/default-user=s64",
      "userId": "10026740531512816388"
     },
     "user_tz": 360
    },
    "id": "rdRg9UDI5lus",
    "outputId": "666226b6-71fe-493e-f752-d6ae56239012"
   },
   "outputs": [
    {
     "data": {
      "text/plain": [
       "116"
      ]
     },
     "execution_count": 10,
     "metadata": {},
     "output_type": "execute_result"
    }
   ],
   "source": [
    "len(dfdata[dfdata.Age == 'Age'])"
   ]
  },
  {
   "cell_type": "code",
   "execution_count": 11,
   "metadata": {
    "executionInfo": {
     "elapsed": 11,
     "status": "ok",
     "timestamp": 1642638710728,
     "user": {
      "displayName": "Gary Davis",
      "photoUrl": "https://lh3.googleusercontent.com/a/default-user=s64",
      "userId": "10026740531512816388"
     },
     "user_tz": 360
    },
    "id": "lG34yiD5e_Cs"
   },
   "outputs": [],
   "source": [
    "dfshoot = dfdata.drop(dfdata[dfdata.Age == 'Age'].index)"
   ]
  },
  {
   "cell_type": "code",
   "execution_count": 12,
   "metadata": {
    "colab": {
     "base_uri": "https://localhost:8080/"
    },
    "executionInfo": {
     "elapsed": 11,
     "status": "ok",
     "timestamp": 1642638710729,
     "user": {
      "displayName": "Gary Davis",
      "photoUrl": "https://lh3.googleusercontent.com/a/default-user=s64",
      "userId": "10026740531512816388"
     },
     "user_tz": 360
    },
    "id": "QQHt_VHquyNJ",
    "outputId": "1728e1c6-b031-4081-b599-14e54c17dd61"
   },
   "outputs": [
    {
     "data": {
      "text/plain": [
       "(2921, 27)"
      ]
     },
     "execution_count": 12,
     "metadata": {},
     "output_type": "execute_result"
    }
   ],
   "source": [
    "dfshoot.shape"
   ]
  },
  {
   "cell_type": "code",
   "execution_count": 13,
   "metadata": {
    "colab": {
     "base_uri": "https://localhost:8080/"
    },
    "executionInfo": {
     "elapsed": 10,
     "status": "ok",
     "timestamp": 1642638710729,
     "user": {
      "displayName": "Gary Davis",
      "photoUrl": "https://lh3.googleusercontent.com/a/default-user=s64",
      "userId": "10026740531512816388"
     },
     "user_tz": 360
    },
    "id": "vZqC36KF8YqE",
    "outputId": "cefcb541-2fe2-405e-bc9e-f8f1dfc9797b"
   },
   "outputs": [
    {
     "data": {
      "text/plain": [
       "Index(['Rk', 'Player', 'Nation', 'Pos', 'Squad', 'Comp', 'Age', 'Born', '90s',\n",
       "       'Gls', 'Sh', 'SoT', 'SoT%', 'Sh/90', 'SoT/90', 'G/Sh', 'G/SoT', 'Dist',\n",
       "       'FK', 'PK', 'PKatt', 'xG', 'npxG', 'npxG/Sh', 'G-xG', 'np:G-xG',\n",
       "       'Matches'],\n",
       "      dtype='object')"
      ]
     },
     "execution_count": 13,
     "metadata": {},
     "output_type": "execute_result"
    }
   ],
   "source": [
    "dfshoot.columns"
   ]
  },
  {
   "cell_type": "code",
   "execution_count": 14,
   "metadata": {
    "executionInfo": {
     "elapsed": 9,
     "status": "ok",
     "timestamp": 1642638710729,
     "user": {
      "displayName": "Gary Davis",
      "photoUrl": "https://lh3.googleusercontent.com/a/default-user=s64",
      "userId": "10026740531512816388"
     },
     "user_tz": 360
    },
    "id": "lE8fOs1T8Ywc"
   },
   "outputs": [],
   "source": [
    "#Convert string to float\n",
    "dfshoot['90s'] = dfshoot['90s'].astype(float)\n",
    "dfshoot['Gls'] = dfshoot['Gls'].astype(float)\n",
    "dfshoot['Sh'] = dfshoot['Sh'].astype(float)\n",
    "dfshoot['SoT'] = dfshoot['SoT'].astype(float)\n",
    "dfshoot['SoT%'] = dfshoot['SoT%'].astype(float)\n",
    "dfshoot['Sh/90'] = dfshoot['Sh/90'].astype(float)\n",
    "dfshoot['SoT/90'] = dfshoot['SoT/90'].astype(float)\n",
    "dfshoot['G/Sh'] = dfshoot['G/Sh'].astype(float)\n",
    "dfshoot['G/SoT'] = dfshoot['G/SoT'].astype(float)\n",
    "dfshoot['Dist'] = dfshoot['Dist'].astype(float)\n",
    "dfshoot['FK'] = dfshoot['FK'].astype(float)\n",
    "dfshoot['PK'] = dfshoot['PK'].astype(float)\n",
    "dfshoot['PKatt'] = dfshoot['PKatt'].astype(float)\n",
    "dfshoot['xG'] = dfshoot['xG'].astype(float)\n",
    "dfshoot['npxG'] = dfshoot['npxG'].astype(float)\n",
    "dfshoot['npxG/Sh'] = dfshoot['npxG/Sh'].astype(float)\n",
    "dfshoot['G-xG'] = dfshoot['G-xG'].astype(float)\n",
    "dfshoot['np:G-xG'] = dfshoot['np:G-xG'].astype(float)"
   ]
  },
  {
   "cell_type": "code",
   "execution_count": 15,
   "metadata": {
    "executionInfo": {
     "elapsed": 9,
     "status": "ok",
     "timestamp": 1642638710729,
     "user": {
      "displayName": "Gary Davis",
      "photoUrl": "https://lh3.googleusercontent.com/a/default-user=s64",
      "userId": "10026740531512816388"
     },
     "user_tz": 360
    },
    "id": "tAKvZSmo8c9F"
   },
   "outputs": [],
   "source": [
    "#turn data into p 90\n",
    "dfshoot['Gls'] = dfshoot['Gls'] / dfshoot['90s']\n",
    "dfshoot['Sh'] = dfshoot['Sh'] / dfshoot['90s']\n",
    "dfshoot['SoT'] = dfshoot['SoT'] / dfshoot['90s']\n",
    "dfshoot['FK'] = dfshoot['FK'] / dfshoot['90s']\n",
    "dfshoot['PK'] = dfshoot['PK'] / dfshoot['90s']\n",
    "dfshoot['PKatt'] = dfshoot['PKatt'] / dfshoot['90s']\n",
    "dfshoot['xG'] = dfshoot['xG'] / dfshoot['90s']\n",
    "dfshoot['npxG'] = dfshoot['npxG'] / dfshoot['90s']\n",
    "dfshoot['G-xG'] = dfshoot['G-xG'] / dfshoot['90s']\n",
    "dfshoot['np:G-xG'] = dfshoot['np:G-xG'] / dfshoot['90s']"
   ]
  },
  {
   "cell_type": "code",
   "execution_count": 16,
   "metadata": {
    "colab": {
     "base_uri": "https://localhost:8080/",
     "height": 206
    },
    "executionInfo": {
     "elapsed": 9,
     "status": "ok",
     "timestamp": 1642638710730,
     "user": {
      "displayName": "Gary Davis",
      "photoUrl": "https://lh3.googleusercontent.com/a/default-user=s64",
      "userId": "10026740531512816388"
     },
     "user_tz": 360
    },
    "id": "NXoH9Vn1uyWI",
    "outputId": "91da7400-0398-4bbe-c0ac-53757d09b421"
   },
   "outputs": [
    {
     "data": {
      "text/html": [
       "<div>\n",
       "<style scoped>\n",
       "    .dataframe tbody tr th:only-of-type {\n",
       "        vertical-align: middle;\n",
       "    }\n",
       "\n",
       "    .dataframe tbody tr th {\n",
       "        vertical-align: top;\n",
       "    }\n",
       "\n",
       "    .dataframe thead th {\n",
       "        text-align: right;\n",
       "    }\n",
       "</style>\n",
       "<table border=\"1\" class=\"dataframe\">\n",
       "  <thead>\n",
       "    <tr style=\"text-align: right;\">\n",
       "      <th></th>\n",
       "      <th>Rk</th>\n",
       "      <th>Player</th>\n",
       "      <th>Nation</th>\n",
       "      <th>Pos</th>\n",
       "      <th>Squad</th>\n",
       "      <th>Comp</th>\n",
       "      <th>Age</th>\n",
       "      <th>Born</th>\n",
       "      <th>90s</th>\n",
       "      <th>Gls</th>\n",
       "      <th>...</th>\n",
       "      <th>Dist</th>\n",
       "      <th>FK</th>\n",
       "      <th>PK</th>\n",
       "      <th>PKatt</th>\n",
       "      <th>xG</th>\n",
       "      <th>npxG</th>\n",
       "      <th>npxG/Sh</th>\n",
       "      <th>G-xG</th>\n",
       "      <th>np:G-xG</th>\n",
       "      <th>Matches</th>\n",
       "    </tr>\n",
       "  </thead>\n",
       "  <tbody>\n",
       "    <tr>\n",
       "      <th>0</th>\n",
       "      <td>1</td>\n",
       "      <td>Max Aarons</td>\n",
       "      <td>eng ENG</td>\n",
       "      <td>DF</td>\n",
       "      <td>Norwich City</td>\n",
       "      <td>eng Premier League</td>\n",
       "      <td>21</td>\n",
       "      <td>2000</td>\n",
       "      <td>32.0</td>\n",
       "      <td>0.000000</td>\n",
       "      <td>...</td>\n",
       "      <td>20.5</td>\n",
       "      <td>0.0</td>\n",
       "      <td>0.0</td>\n",
       "      <td>0.0</td>\n",
       "      <td>0.021875</td>\n",
       "      <td>0.021875</td>\n",
       "      <td>0.05</td>\n",
       "      <td>-0.021875</td>\n",
       "      <td>-0.021875</td>\n",
       "      <td>Matches</td>\n",
       "    </tr>\n",
       "    <tr>\n",
       "      <th>1</th>\n",
       "      <td>2</td>\n",
       "      <td>Yunis Abdelhamid</td>\n",
       "      <td>ma MAR</td>\n",
       "      <td>DF</td>\n",
       "      <td>Reims</td>\n",
       "      <td>fr Ligue 1</td>\n",
       "      <td>33</td>\n",
       "      <td>1987</td>\n",
       "      <td>33.1</td>\n",
       "      <td>0.060423</td>\n",
       "      <td>...</td>\n",
       "      <td>18.7</td>\n",
       "      <td>0.0</td>\n",
       "      <td>0.0</td>\n",
       "      <td>0.0</td>\n",
       "      <td>0.036254</td>\n",
       "      <td>0.036254</td>\n",
       "      <td>0.07</td>\n",
       "      <td>0.024169</td>\n",
       "      <td>0.024169</td>\n",
       "      <td>Matches</td>\n",
       "    </tr>\n",
       "    <tr>\n",
       "      <th>2</th>\n",
       "      <td>3</td>\n",
       "      <td>Salis Abdul Samed</td>\n",
       "      <td>gh GHA</td>\n",
       "      <td>MF</td>\n",
       "      <td>Clermont Foot</td>\n",
       "      <td>fr Ligue 1</td>\n",
       "      <td>21</td>\n",
       "      <td>2000</td>\n",
       "      <td>27.4</td>\n",
       "      <td>0.036496</td>\n",
       "      <td>...</td>\n",
       "      <td>20.3</td>\n",
       "      <td>0.0</td>\n",
       "      <td>0.0</td>\n",
       "      <td>0.0</td>\n",
       "      <td>0.029197</td>\n",
       "      <td>0.029197</td>\n",
       "      <td>0.04</td>\n",
       "      <td>0.007299</td>\n",
       "      <td>0.007299</td>\n",
       "      <td>Matches</td>\n",
       "    </tr>\n",
       "    <tr>\n",
       "      <th>3</th>\n",
       "      <td>4</td>\n",
       "      <td>Laurent Abergel</td>\n",
       "      <td>fr FRA</td>\n",
       "      <td>MF</td>\n",
       "      <td>Lorient</td>\n",
       "      <td>fr Ligue 1</td>\n",
       "      <td>28</td>\n",
       "      <td>1993</td>\n",
       "      <td>32.8</td>\n",
       "      <td>0.000000</td>\n",
       "      <td>...</td>\n",
       "      <td>22.6</td>\n",
       "      <td>0.0</td>\n",
       "      <td>0.0</td>\n",
       "      <td>0.0</td>\n",
       "      <td>0.060976</td>\n",
       "      <td>0.060976</td>\n",
       "      <td>0.07</td>\n",
       "      <td>-0.060976</td>\n",
       "      <td>-0.060976</td>\n",
       "      <td>Matches</td>\n",
       "    </tr>\n",
       "    <tr>\n",
       "      <th>4</th>\n",
       "      <td>5</td>\n",
       "      <td>Charles Abi</td>\n",
       "      <td>fr FRA</td>\n",
       "      <td>FW</td>\n",
       "      <td>Saint-Étienne</td>\n",
       "      <td>fr Ligue 1</td>\n",
       "      <td>21</td>\n",
       "      <td>2000</td>\n",
       "      <td>0.5</td>\n",
       "      <td>0.000000</td>\n",
       "      <td>...</td>\n",
       "      <td>NaN</td>\n",
       "      <td>0.0</td>\n",
       "      <td>0.0</td>\n",
       "      <td>0.0</td>\n",
       "      <td>0.000000</td>\n",
       "      <td>0.000000</td>\n",
       "      <td>NaN</td>\n",
       "      <td>0.000000</td>\n",
       "      <td>0.000000</td>\n",
       "      <td>Matches</td>\n",
       "    </tr>\n",
       "  </tbody>\n",
       "</table>\n",
       "<p>5 rows × 27 columns</p>\n",
       "</div>"
      ],
      "text/plain": [
       "  Rk             Player   Nation Pos          Squad                Comp Age  \\\n",
       "0  1         Max Aarons  eng ENG  DF   Norwich City  eng Premier League  21   \n",
       "1  2   Yunis Abdelhamid   ma MAR  DF          Reims          fr Ligue 1  33   \n",
       "2  3  Salis Abdul Samed   gh GHA  MF  Clermont Foot          fr Ligue 1  21   \n",
       "3  4    Laurent Abergel   fr FRA  MF        Lorient          fr Ligue 1  28   \n",
       "4  5        Charles Abi   fr FRA  FW  Saint-Étienne          fr Ligue 1  21   \n",
       "\n",
       "   Born   90s       Gls  ...  Dist   FK   PK  PKatt        xG      npxG  \\\n",
       "0  2000  32.0  0.000000  ...  20.5  0.0  0.0    0.0  0.021875  0.021875   \n",
       "1  1987  33.1  0.060423  ...  18.7  0.0  0.0    0.0  0.036254  0.036254   \n",
       "2  2000  27.4  0.036496  ...  20.3  0.0  0.0    0.0  0.029197  0.029197   \n",
       "3  1993  32.8  0.000000  ...  22.6  0.0  0.0    0.0  0.060976  0.060976   \n",
       "4  2000   0.5  0.000000  ...   NaN  0.0  0.0    0.0  0.000000  0.000000   \n",
       "\n",
       "   npxG/Sh      G-xG   np:G-xG  Matches  \n",
       "0     0.05 -0.021875 -0.021875  Matches  \n",
       "1     0.07  0.024169  0.024169  Matches  \n",
       "2     0.04  0.007299  0.007299  Matches  \n",
       "3     0.07 -0.060976 -0.060976  Matches  \n",
       "4      NaN  0.000000  0.000000  Matches  \n",
       "\n",
       "[5 rows x 27 columns]"
      ]
     },
     "execution_count": 16,
     "metadata": {},
     "output_type": "execute_result"
    }
   ],
   "source": [
    "dfshoot.head()"
   ]
  },
  {
   "cell_type": "code",
   "execution_count": 17,
   "metadata": {},
   "outputs": [],
   "source": [
    "dfshoot['PlSqu'] = dfshoot['Player'] + dfshoot['Squad']"
   ]
  },
  {
   "cell_type": "code",
   "execution_count": 18,
   "metadata": {},
   "outputs": [],
   "source": [
    "dfshoot['Player'] = dfshoot['Player'].apply(unidecode)"
   ]
  },
  {
   "cell_type": "code",
   "execution_count": 19,
   "metadata": {},
   "outputs": [],
   "source": [
    "dfshoot['Squad'] = dfshoot['Squad'].apply(unidecode)"
   ]
  },
  {
   "cell_type": "code",
   "execution_count": 20,
   "metadata": {
    "executionInfo": {
     "elapsed": 2,
     "status": "ok",
     "timestamp": 1642638710950,
     "user": {
      "displayName": "Gary Davis",
      "photoUrl": "https://lh3.googleusercontent.com/a/default-user=s64",
      "userId": "10026740531512816388"
     },
     "user_tz": 360
    },
    "id": "xhSx7BPdvSjB"
   },
   "outputs": [],
   "source": [
    "dfshoot.to_csv('fbrefBig5Shoot.csv', index=False)"
   ]
  }
 ],
 "metadata": {
  "colab": {
   "collapsed_sections": [],
   "name": "Scrape MLS Shooting Stats.ipynb",
   "provenance": []
  },
  "kernelspec": {
   "display_name": "Python 3 (ipykernel)",
   "language": "python",
   "name": "python3"
  },
  "language_info": {
   "codemirror_mode": {
    "name": "ipython",
    "version": 3
   },
   "file_extension": ".py",
   "mimetype": "text/x-python",
   "name": "python",
   "nbconvert_exporter": "python",
   "pygments_lexer": "ipython3",
   "version": "3.9.7"
  }
 },
 "nbformat": 4,
 "nbformat_minor": 1
}
