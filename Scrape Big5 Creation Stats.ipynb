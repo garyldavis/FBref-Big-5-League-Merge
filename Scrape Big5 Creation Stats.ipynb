{
 "cells": [
  {
   "cell_type": "markdown",
   "metadata": {
    "id": "0XFPIZmjtLbb"
   },
   "source": [
    "## How to Scrap Big 5 Shooting Stats from FBREF - Soccer/Football\n"
   ]
  },
  {
   "cell_type": "markdown",
   "metadata": {
    "id": "-AQZU0n4StVq"
   },
   "source": [
    "Method 1\n",
    "\n",
    "We could modularize the URL and year strings of text that may be useful for programmatic access (in the subsequent code cell)."
   ]
  },
  {
   "cell_type": "code",
   "execution_count": 1,
   "metadata": {
    "executionInfo": {
     "elapsed": 161,
     "status": "ok",
     "timestamp": 1642638458874,
     "user": {
      "displayName": "Gary Davis",
      "photoUrl": "https://lh3.googleusercontent.com/a/default-user=s64",
      "userId": "10026740531512816388"
     },
     "user_tz": 360
    },
    "id": "eviHhQGkleOW"
   },
   "outputs": [],
   "source": [
    "import requests\n",
    "import pandas as pd\n",
    "from unidecode import unidecode"
   ]
  },
  {
   "cell_type": "code",
   "execution_count": 2,
   "metadata": {
    "executionInfo": {
     "elapsed": 839,
     "status": "ok",
     "timestamp": 1642638459806,
     "user": {
      "displayName": "Gary Davis",
      "photoUrl": "https://lh3.googleusercontent.com/a/default-user=s64",
      "userId": "10026740531512816388"
     },
     "user_tz": 360
    },
    "id": "goV7r4FUlfMt"
   },
   "outputs": [],
   "source": [
    "url = 'https://fbref.com/en/comps/Big5/gca/players/Big-5-European-Leagues-Stats'\n",
    "html_content = requests.get(url).text.replace('<!--', '').replace('-->', '')\n",
    "df = pd.read_html(html_content)"
   ]
  },
  {
   "cell_type": "markdown",
   "metadata": {
    "id": "wlDt8TTxSvEz"
   },
   "source": [
    "Method 2"
   ]
  },
  {
   "cell_type": "code",
   "execution_count": 3,
   "metadata": {
    "executionInfo": {
     "elapsed": 2,
     "status": "ok",
     "timestamp": 1642638459806,
     "user": {
      "displayName": "Gary Davis",
      "photoUrl": "https://lh3.googleusercontent.com/a/default-user=s64",
      "userId": "10026740531512816388"
     },
     "user_tz": 360
    },
    "id": "-x78Rt_iRmCa"
   },
   "outputs": [],
   "source": [
    "#url = 'https://fbref.com/en/comps/Big5/defense/players/Big-5-European-Leagues-Stats'"
   ]
  },
  {
   "cell_type": "markdown",
   "metadata": {
    "id": "fhVY2xJJS0FU"
   },
   "source": [
    "Read HTML webpage into pandas"
   ]
  },
  {
   "cell_type": "markdown",
   "metadata": {
    "id": "Sk1EUVeFUXPq"
   },
   "source": [
    "Using pd.read_html() function to read HTML webpage"
   ]
  },
  {
   "cell_type": "code",
   "execution_count": 4,
   "metadata": {
    "colab": {
     "base_uri": "https://localhost:8080/"
    },
    "executionInfo": {
     "elapsed": 12,
     "status": "ok",
     "timestamp": 1642638459950,
     "user": {
      "displayName": "Gary Davis",
      "photoUrl": "https://lh3.googleusercontent.com/a/default-user=s64",
      "userId": "10026740531512816388"
     },
     "user_tz": 360
    },
    "id": "4sLS78K-S-r2",
    "outputId": "9d13f72b-b915-4b43-da04-ed5774895284"
   },
   "outputs": [
    {
     "data": {
      "text/plain": [
       "[   Unnamed: 0_level_0 Unnamed: 1_level_0 SCA Types                          \\\n",
       "      Competition Name                 MP       SCA PassLive PassDead  Drib   \n",
       " 0       de Bundesliga                612     19.53    13.86     1.98  0.92   \n",
       " 1          es La Liga                760     18.12    12.91     1.81  0.93   \n",
       " 2          fr Ligue 1                760     18.83    13.42     1.76  1.11   \n",
       " 3  eng Premier League                760     19.70    14.26     1.71  1.12   \n",
       " 4          it Serie A                760     20.32    14.81     1.78  0.99   \n",
       " \n",
       "                     GCA Types                                            \n",
       "      Sh   Fld   Def       GCA PassLive PassDead  Drib    Sh   Fld   Def  \n",
       " 0  1.15  1.09  0.53      2.39     1.66     0.17  0.12  0.22  0.16  0.06  \n",
       " 1  0.90  1.05  0.51      1.99     1.35     0.14  0.13  0.16  0.14  0.06  \n",
       " 2  1.00  0.99  0.56      2.17     1.50     0.14  0.14  0.18  0.17  0.04  \n",
       " 3  1.11  1.02  0.48      2.19     1.51     0.15  0.12  0.20  0.15  0.06  \n",
       " 4  1.18  1.04  0.53      2.20     1.53     0.13  0.13  0.20  0.16  0.04  ,\n",
       "      Unnamed: 0_level_0 Unnamed: 1_level_0 Unnamed: 2_level_0  \\\n",
       "                      Rk             Player             Nation   \n",
       " 0                     1         Max Aarons            eng ENG   \n",
       " 1                     2   Yunis Abdelhamid             ma MAR   \n",
       " 2                     3  Salis Abdul Samed             gh GHA   \n",
       " 3                     4    Laurent Abergel             fr FRA   \n",
       " 4                     5        Charles Abi             fr FRA   \n",
       " ...                 ...                ...                ...   \n",
       " 3032               2917   Martín Zubimendi             es ESP   \n",
       " 3033               2918   Szymon Żurkowski             pl POL   \n",
       " 3034               2919    Martin Ødegaard             no NOR   \n",
       " 3035               2920        Milan Đurić             ba BIH   \n",
       " 3036               2921      Filip Đuričić             rs SRB   \n",
       " \n",
       "      Unnamed: 3_level_0 Unnamed: 4_level_0  Unnamed: 5_level_0  \\\n",
       "                     Pos              Squad                Comp   \n",
       " 0                    DF       Norwich City  eng Premier League   \n",
       " 1                    DF              Reims          fr Ligue 1   \n",
       " 2                    MF      Clermont Foot          fr Ligue 1   \n",
       " 3                    MF            Lorient          fr Ligue 1   \n",
       " 4                    FW      Saint-Étienne          fr Ligue 1   \n",
       " ...                 ...                ...                 ...   \n",
       " 3032                 MF      Real Sociedad          es La Liga   \n",
       " 3033                 MF             Empoli          it Serie A   \n",
       " 3034                 MF            Arsenal  eng Premier League   \n",
       " 3035                 FW        Salernitana          it Serie A   \n",
       " 3036              MF,FW           Sassuolo          it Serie A   \n",
       " \n",
       "      Unnamed: 6_level_0 Unnamed: 7_level_0 Unnamed: 8_level_0  SCA  ...  \\\n",
       "                     Age               Born                90s  SCA  ...   \n",
       " 0                    21               2000               32.0   38  ...   \n",
       " 1                    33               1987               33.1   21  ...   \n",
       " 2                    21               2000               27.4   40  ...   \n",
       " 3                    28               1993               32.8   66  ...   \n",
       " 4                    21               2000                0.5    0  ...   \n",
       " ...                 ...                ...                ...  ...  ...   \n",
       " 3032                 22               1999               28.8   34  ...   \n",
       " 3033                 23               1997               25.6   60  ...   \n",
       " 3034                 22               1998               30.9  134  ...   \n",
       " 3035                 31               1990               24.1   56  ...   \n",
       " 3036                 29               1992                7.5   23  ...   \n",
       " \n",
       "      SCA Types GCA       GCA Types                           \\\n",
       "            Def GCA GCA90  PassLive PassDead Drib Sh Fld Def   \n",
       " 0            0   5  0.16         5        0    0  0   0   0   \n",
       " 1            3   1  0.03         0        0    1  0   0   0   \n",
       " 2            2   1  0.04         1        0    0  0   0   0   \n",
       " 3            6   5  0.15         4        0    0  0   1   0   \n",
       " 4            0   0  0.00         0        0    0  0   0   0   \n",
       " ...        ...  ..   ...       ...      ...  ... ..  ..  ..   \n",
       " 3032         3   1  0.03         1        0    0  0   0   0   \n",
       " 3033         0   4  0.16         3        0    0  1   0   0   \n",
       " 3034         1  12  0.39        12        0    0  0   0   0   \n",
       " 3035         0   8  0.33         5        0    0  2   1   0   \n",
       " 3036         1   2  0.27         2        0    0  0   0   0   \n",
       " \n",
       "      Unnamed: 25_level_0  \n",
       "                  Matches  \n",
       " 0                Matches  \n",
       " 1                Matches  \n",
       " 2                Matches  \n",
       " 3                Matches  \n",
       " 4                Matches  \n",
       " ...                  ...  \n",
       " 3032             Matches  \n",
       " 3033             Matches  \n",
       " 3034             Matches  \n",
       " 3035             Matches  \n",
       " 3036             Matches  \n",
       " \n",
       " [3037 rows x 26 columns]]"
      ]
     },
     "execution_count": 4,
     "metadata": {},
     "output_type": "execute_result"
    }
   ],
   "source": [
    "df"
   ]
  },
  {
   "cell_type": "markdown",
   "metadata": {
    "id": "iVtWB7zuUWIp"
   },
   "source": [
    "How many tables are there in the webpage?"
   ]
  },
  {
   "cell_type": "code",
   "execution_count": 5,
   "metadata": {
    "colab": {
     "base_uri": "https://localhost:8080/"
    },
    "executionInfo": {
     "elapsed": 8,
     "status": "ok",
     "timestamp": 1642638459951,
     "user": {
      "displayName": "Gary Davis",
      "photoUrl": "https://lh3.googleusercontent.com/a/default-user=s64",
      "userId": "10026740531512816388"
     },
     "user_tz": 360
    },
    "id": "BdIXrthuTApH",
    "outputId": "9b4f2bff-58fe-4f99-859a-ab82ab8eaa91"
   },
   "outputs": [
    {
     "data": {
      "text/plain": [
       "2"
      ]
     },
     "execution_count": 5,
     "metadata": {},
     "output_type": "execute_result"
    }
   ],
   "source": [
    "len(df)"
   ]
  },
  {
   "cell_type": "code",
   "execution_count": 6,
   "metadata": {
    "executionInfo": {
     "elapsed": 108,
     "status": "ok",
     "timestamp": 1642638460054,
     "user": {
      "displayName": "Gary Davis",
      "photoUrl": "https://lh3.googleusercontent.com/a/default-user=s64",
      "userId": "10026740531512816388"
     },
     "user_tz": 360
    },
    "id": "_JF0jpfDmdj_"
   },
   "outputs": [],
   "source": [
    "df[1].columns = df[1].columns.droplevel(0) # drop top header row"
   ]
  },
  {
   "cell_type": "markdown",
   "metadata": {
    "id": "glCMVlkWU6ik"
   },
   "source": [
    "Select the first table"
   ]
  },
  {
   "cell_type": "code",
   "execution_count": 7,
   "metadata": {
    "colab": {
     "base_uri": "https://localhost:8080/",
     "height": 537
    },
    "executionInfo": {
     "elapsed": 6,
     "status": "ok",
     "timestamp": 1642638460055,
     "user": {
      "displayName": "Gary Davis",
      "photoUrl": "https://lh3.googleusercontent.com/a/default-user=s64",
      "userId": "10026740531512816388"
     },
     "user_tz": 360
    },
    "id": "Pv0NHbFeTrEp",
    "outputId": "b9e64e21-c38a-4669-b2e6-23ec543b4d1a"
   },
   "outputs": [
    {
     "data": {
      "text/html": [
       "<div>\n",
       "<style scoped>\n",
       "    .dataframe tbody tr th:only-of-type {\n",
       "        vertical-align: middle;\n",
       "    }\n",
       "\n",
       "    .dataframe tbody tr th {\n",
       "        vertical-align: top;\n",
       "    }\n",
       "\n",
       "    .dataframe thead th {\n",
       "        text-align: right;\n",
       "    }\n",
       "</style>\n",
       "<table border=\"1\" class=\"dataframe\">\n",
       "  <thead>\n",
       "    <tr style=\"text-align: right;\">\n",
       "      <th></th>\n",
       "      <th>Rk</th>\n",
       "      <th>Player</th>\n",
       "      <th>Nation</th>\n",
       "      <th>Pos</th>\n",
       "      <th>Squad</th>\n",
       "      <th>Comp</th>\n",
       "      <th>Age</th>\n",
       "      <th>Born</th>\n",
       "      <th>90s</th>\n",
       "      <th>SCA</th>\n",
       "      <th>...</th>\n",
       "      <th>Def</th>\n",
       "      <th>GCA</th>\n",
       "      <th>GCA90</th>\n",
       "      <th>PassLive</th>\n",
       "      <th>PassDead</th>\n",
       "      <th>Drib</th>\n",
       "      <th>Sh</th>\n",
       "      <th>Fld</th>\n",
       "      <th>Def</th>\n",
       "      <th>Matches</th>\n",
       "    </tr>\n",
       "  </thead>\n",
       "  <tbody>\n",
       "    <tr>\n",
       "      <th>0</th>\n",
       "      <td>1</td>\n",
       "      <td>Max Aarons</td>\n",
       "      <td>eng ENG</td>\n",
       "      <td>DF</td>\n",
       "      <td>Norwich City</td>\n",
       "      <td>eng Premier League</td>\n",
       "      <td>21</td>\n",
       "      <td>2000</td>\n",
       "      <td>32.0</td>\n",
       "      <td>38</td>\n",
       "      <td>...</td>\n",
       "      <td>0</td>\n",
       "      <td>5</td>\n",
       "      <td>0.16</td>\n",
       "      <td>5</td>\n",
       "      <td>0</td>\n",
       "      <td>0</td>\n",
       "      <td>0</td>\n",
       "      <td>0</td>\n",
       "      <td>0</td>\n",
       "      <td>Matches</td>\n",
       "    </tr>\n",
       "    <tr>\n",
       "      <th>1</th>\n",
       "      <td>2</td>\n",
       "      <td>Yunis Abdelhamid</td>\n",
       "      <td>ma MAR</td>\n",
       "      <td>DF</td>\n",
       "      <td>Reims</td>\n",
       "      <td>fr Ligue 1</td>\n",
       "      <td>33</td>\n",
       "      <td>1987</td>\n",
       "      <td>33.1</td>\n",
       "      <td>21</td>\n",
       "      <td>...</td>\n",
       "      <td>3</td>\n",
       "      <td>1</td>\n",
       "      <td>0.03</td>\n",
       "      <td>0</td>\n",
       "      <td>0</td>\n",
       "      <td>1</td>\n",
       "      <td>0</td>\n",
       "      <td>0</td>\n",
       "      <td>0</td>\n",
       "      <td>Matches</td>\n",
       "    </tr>\n",
       "    <tr>\n",
       "      <th>2</th>\n",
       "      <td>3</td>\n",
       "      <td>Salis Abdul Samed</td>\n",
       "      <td>gh GHA</td>\n",
       "      <td>MF</td>\n",
       "      <td>Clermont Foot</td>\n",
       "      <td>fr Ligue 1</td>\n",
       "      <td>21</td>\n",
       "      <td>2000</td>\n",
       "      <td>27.4</td>\n",
       "      <td>40</td>\n",
       "      <td>...</td>\n",
       "      <td>2</td>\n",
       "      <td>1</td>\n",
       "      <td>0.04</td>\n",
       "      <td>1</td>\n",
       "      <td>0</td>\n",
       "      <td>0</td>\n",
       "      <td>0</td>\n",
       "      <td>0</td>\n",
       "      <td>0</td>\n",
       "      <td>Matches</td>\n",
       "    </tr>\n",
       "    <tr>\n",
       "      <th>3</th>\n",
       "      <td>4</td>\n",
       "      <td>Laurent Abergel</td>\n",
       "      <td>fr FRA</td>\n",
       "      <td>MF</td>\n",
       "      <td>Lorient</td>\n",
       "      <td>fr Ligue 1</td>\n",
       "      <td>28</td>\n",
       "      <td>1993</td>\n",
       "      <td>32.8</td>\n",
       "      <td>66</td>\n",
       "      <td>...</td>\n",
       "      <td>6</td>\n",
       "      <td>5</td>\n",
       "      <td>0.15</td>\n",
       "      <td>4</td>\n",
       "      <td>0</td>\n",
       "      <td>0</td>\n",
       "      <td>0</td>\n",
       "      <td>1</td>\n",
       "      <td>0</td>\n",
       "      <td>Matches</td>\n",
       "    </tr>\n",
       "    <tr>\n",
       "      <th>4</th>\n",
       "      <td>5</td>\n",
       "      <td>Charles Abi</td>\n",
       "      <td>fr FRA</td>\n",
       "      <td>FW</td>\n",
       "      <td>Saint-Étienne</td>\n",
       "      <td>fr Ligue 1</td>\n",
       "      <td>21</td>\n",
       "      <td>2000</td>\n",
       "      <td>0.5</td>\n",
       "      <td>0</td>\n",
       "      <td>...</td>\n",
       "      <td>0</td>\n",
       "      <td>0</td>\n",
       "      <td>0.00</td>\n",
       "      <td>0</td>\n",
       "      <td>0</td>\n",
       "      <td>0</td>\n",
       "      <td>0</td>\n",
       "      <td>0</td>\n",
       "      <td>0</td>\n",
       "      <td>Matches</td>\n",
       "    </tr>\n",
       "    <tr>\n",
       "      <th>...</th>\n",
       "      <td>...</td>\n",
       "      <td>...</td>\n",
       "      <td>...</td>\n",
       "      <td>...</td>\n",
       "      <td>...</td>\n",
       "      <td>...</td>\n",
       "      <td>...</td>\n",
       "      <td>...</td>\n",
       "      <td>...</td>\n",
       "      <td>...</td>\n",
       "      <td>...</td>\n",
       "      <td>...</td>\n",
       "      <td>...</td>\n",
       "      <td>...</td>\n",
       "      <td>...</td>\n",
       "      <td>...</td>\n",
       "      <td>...</td>\n",
       "      <td>...</td>\n",
       "      <td>...</td>\n",
       "      <td>...</td>\n",
       "      <td>...</td>\n",
       "    </tr>\n",
       "    <tr>\n",
       "      <th>3032</th>\n",
       "      <td>2917</td>\n",
       "      <td>Martín Zubimendi</td>\n",
       "      <td>es ESP</td>\n",
       "      <td>MF</td>\n",
       "      <td>Real Sociedad</td>\n",
       "      <td>es La Liga</td>\n",
       "      <td>22</td>\n",
       "      <td>1999</td>\n",
       "      <td>28.8</td>\n",
       "      <td>34</td>\n",
       "      <td>...</td>\n",
       "      <td>3</td>\n",
       "      <td>1</td>\n",
       "      <td>0.03</td>\n",
       "      <td>1</td>\n",
       "      <td>0</td>\n",
       "      <td>0</td>\n",
       "      <td>0</td>\n",
       "      <td>0</td>\n",
       "      <td>0</td>\n",
       "      <td>Matches</td>\n",
       "    </tr>\n",
       "    <tr>\n",
       "      <th>3033</th>\n",
       "      <td>2918</td>\n",
       "      <td>Szymon Żurkowski</td>\n",
       "      <td>pl POL</td>\n",
       "      <td>MF</td>\n",
       "      <td>Empoli</td>\n",
       "      <td>it Serie A</td>\n",
       "      <td>23</td>\n",
       "      <td>1997</td>\n",
       "      <td>25.6</td>\n",
       "      <td>60</td>\n",
       "      <td>...</td>\n",
       "      <td>0</td>\n",
       "      <td>4</td>\n",
       "      <td>0.16</td>\n",
       "      <td>3</td>\n",
       "      <td>0</td>\n",
       "      <td>0</td>\n",
       "      <td>1</td>\n",
       "      <td>0</td>\n",
       "      <td>0</td>\n",
       "      <td>Matches</td>\n",
       "    </tr>\n",
       "    <tr>\n",
       "      <th>3034</th>\n",
       "      <td>2919</td>\n",
       "      <td>Martin Ødegaard</td>\n",
       "      <td>no NOR</td>\n",
       "      <td>MF</td>\n",
       "      <td>Arsenal</td>\n",
       "      <td>eng Premier League</td>\n",
       "      <td>22</td>\n",
       "      <td>1998</td>\n",
       "      <td>30.9</td>\n",
       "      <td>134</td>\n",
       "      <td>...</td>\n",
       "      <td>1</td>\n",
       "      <td>12</td>\n",
       "      <td>0.39</td>\n",
       "      <td>12</td>\n",
       "      <td>0</td>\n",
       "      <td>0</td>\n",
       "      <td>0</td>\n",
       "      <td>0</td>\n",
       "      <td>0</td>\n",
       "      <td>Matches</td>\n",
       "    </tr>\n",
       "    <tr>\n",
       "      <th>3035</th>\n",
       "      <td>2920</td>\n",
       "      <td>Milan Đurić</td>\n",
       "      <td>ba BIH</td>\n",
       "      <td>FW</td>\n",
       "      <td>Salernitana</td>\n",
       "      <td>it Serie A</td>\n",
       "      <td>31</td>\n",
       "      <td>1990</td>\n",
       "      <td>24.1</td>\n",
       "      <td>56</td>\n",
       "      <td>...</td>\n",
       "      <td>0</td>\n",
       "      <td>8</td>\n",
       "      <td>0.33</td>\n",
       "      <td>5</td>\n",
       "      <td>0</td>\n",
       "      <td>0</td>\n",
       "      <td>2</td>\n",
       "      <td>1</td>\n",
       "      <td>0</td>\n",
       "      <td>Matches</td>\n",
       "    </tr>\n",
       "    <tr>\n",
       "      <th>3036</th>\n",
       "      <td>2921</td>\n",
       "      <td>Filip Đuričić</td>\n",
       "      <td>rs SRB</td>\n",
       "      <td>MF,FW</td>\n",
       "      <td>Sassuolo</td>\n",
       "      <td>it Serie A</td>\n",
       "      <td>29</td>\n",
       "      <td>1992</td>\n",
       "      <td>7.5</td>\n",
       "      <td>23</td>\n",
       "      <td>...</td>\n",
       "      <td>1</td>\n",
       "      <td>2</td>\n",
       "      <td>0.27</td>\n",
       "      <td>2</td>\n",
       "      <td>0</td>\n",
       "      <td>0</td>\n",
       "      <td>0</td>\n",
       "      <td>0</td>\n",
       "      <td>0</td>\n",
       "      <td>Matches</td>\n",
       "    </tr>\n",
       "  </tbody>\n",
       "</table>\n",
       "<p>3037 rows × 26 columns</p>\n",
       "</div>"
      ],
      "text/plain": [
       "        Rk             Player   Nation    Pos          Squad  \\\n",
       "0        1         Max Aarons  eng ENG     DF   Norwich City   \n",
       "1        2   Yunis Abdelhamid   ma MAR     DF          Reims   \n",
       "2        3  Salis Abdul Samed   gh GHA     MF  Clermont Foot   \n",
       "3        4    Laurent Abergel   fr FRA     MF        Lorient   \n",
       "4        5        Charles Abi   fr FRA     FW  Saint-Étienne   \n",
       "...    ...                ...      ...    ...            ...   \n",
       "3032  2917   Martín Zubimendi   es ESP     MF  Real Sociedad   \n",
       "3033  2918   Szymon Żurkowski   pl POL     MF         Empoli   \n",
       "3034  2919    Martin Ødegaard   no NOR     MF        Arsenal   \n",
       "3035  2920        Milan Đurić   ba BIH     FW    Salernitana   \n",
       "3036  2921      Filip Đuričić   rs SRB  MF,FW       Sassuolo   \n",
       "\n",
       "                    Comp Age  Born   90s  SCA  ... Def GCA GCA90 PassLive  \\\n",
       "0     eng Premier League  21  2000  32.0   38  ...   0   5  0.16        5   \n",
       "1             fr Ligue 1  33  1987  33.1   21  ...   3   1  0.03        0   \n",
       "2             fr Ligue 1  21  2000  27.4   40  ...   2   1  0.04        1   \n",
       "3             fr Ligue 1  28  1993  32.8   66  ...   6   5  0.15        4   \n",
       "4             fr Ligue 1  21  2000   0.5    0  ...   0   0  0.00        0   \n",
       "...                  ...  ..   ...   ...  ...  ...  ..  ..   ...      ...   \n",
       "3032          es La Liga  22  1999  28.8   34  ...   3   1  0.03        1   \n",
       "3033          it Serie A  23  1997  25.6   60  ...   0   4  0.16        3   \n",
       "3034  eng Premier League  22  1998  30.9  134  ...   1  12  0.39       12   \n",
       "3035          it Serie A  31  1990  24.1   56  ...   0   8  0.33        5   \n",
       "3036          it Serie A  29  1992   7.5   23  ...   1   2  0.27        2   \n",
       "\n",
       "     PassDead Drib Sh Fld Def  Matches  \n",
       "0           0    0  0   0   0  Matches  \n",
       "1           0    1  0   0   0  Matches  \n",
       "2           0    0  0   0   0  Matches  \n",
       "3           0    0  0   1   0  Matches  \n",
       "4           0    0  0   0   0  Matches  \n",
       "...       ...  ... ..  ..  ..      ...  \n",
       "3032        0    0  0   0   0  Matches  \n",
       "3033        0    0  1   0   0  Matches  \n",
       "3034        0    0  0   0   0  Matches  \n",
       "3035        0    0  2   1   0  Matches  \n",
       "3036        0    0  0   0   0  Matches  \n",
       "\n",
       "[3037 rows x 26 columns]"
      ]
     },
     "execution_count": 7,
     "metadata": {},
     "output_type": "execute_result"
    }
   ],
   "source": [
    "df[1]"
   ]
  },
  {
   "cell_type": "code",
   "execution_count": 8,
   "metadata": {
    "executionInfo": {
     "elapsed": 4,
     "status": "ok",
     "timestamp": 1642638460055,
     "user": {
      "displayName": "Gary Davis",
      "photoUrl": "https://lh3.googleusercontent.com/a/default-user=s64",
      "userId": "10026740531512816388"
     },
     "user_tz": 360
    },
    "id": "owwSCuZYU-sT"
   },
   "outputs": [],
   "source": [
    "dfdata = df[1]"
   ]
  },
  {
   "cell_type": "markdown",
   "metadata": {
    "id": "laW205ykvn0S"
   },
   "source": [
    "Data cleaning"
   ]
  },
  {
   "cell_type": "markdown",
   "metadata": {
    "id": "b-cH41xd54Tw"
   },
   "source": [
    "We can see that the table header is presented multiple times in several rows."
   ]
  },
  {
   "cell_type": "code",
   "execution_count": 9,
   "metadata": {
    "colab": {
     "base_uri": "https://localhost:8080/",
     "height": 959
    },
    "executionInfo": {
     "elapsed": 114,
     "status": "ok",
     "timestamp": 1642638460165,
     "user": {
      "displayName": "Gary Davis",
      "photoUrl": "https://lh3.googleusercontent.com/a/default-user=s64",
      "userId": "10026740531512816388"
     },
     "user_tz": 360
    },
    "id": "6St9yeuZg9rf",
    "outputId": "6f2e658f-5843-4681-efd2-d4c76095620a"
   },
   "outputs": [
    {
     "data": {
      "text/html": [
       "<div>\n",
       "<style scoped>\n",
       "    .dataframe tbody tr th:only-of-type {\n",
       "        vertical-align: middle;\n",
       "    }\n",
       "\n",
       "    .dataframe tbody tr th {\n",
       "        vertical-align: top;\n",
       "    }\n",
       "\n",
       "    .dataframe thead th {\n",
       "        text-align: right;\n",
       "    }\n",
       "</style>\n",
       "<table border=\"1\" class=\"dataframe\">\n",
       "  <thead>\n",
       "    <tr style=\"text-align: right;\">\n",
       "      <th></th>\n",
       "      <th>Rk</th>\n",
       "      <th>Player</th>\n",
       "      <th>Nation</th>\n",
       "      <th>Pos</th>\n",
       "      <th>Squad</th>\n",
       "      <th>Comp</th>\n",
       "      <th>Age</th>\n",
       "      <th>Born</th>\n",
       "      <th>90s</th>\n",
       "      <th>SCA</th>\n",
       "      <th>...</th>\n",
       "      <th>Def</th>\n",
       "      <th>GCA</th>\n",
       "      <th>GCA90</th>\n",
       "      <th>PassLive</th>\n",
       "      <th>PassDead</th>\n",
       "      <th>Drib</th>\n",
       "      <th>Sh</th>\n",
       "      <th>Fld</th>\n",
       "      <th>Def</th>\n",
       "      <th>Matches</th>\n",
       "    </tr>\n",
       "  </thead>\n",
       "  <tbody>\n",
       "    <tr>\n",
       "      <th>25</th>\n",
       "      <td>Rk</td>\n",
       "      <td>Player</td>\n",
       "      <td>Nation</td>\n",
       "      <td>Pos</td>\n",
       "      <td>Squad</td>\n",
       "      <td>Comp</td>\n",
       "      <td>Age</td>\n",
       "      <td>Born</td>\n",
       "      <td>90s</td>\n",
       "      <td>SCA</td>\n",
       "      <td>...</td>\n",
       "      <td>Def</td>\n",
       "      <td>GCA</td>\n",
       "      <td>GCA90</td>\n",
       "      <td>PassLive</td>\n",
       "      <td>PassDead</td>\n",
       "      <td>Drib</td>\n",
       "      <td>Sh</td>\n",
       "      <td>Fld</td>\n",
       "      <td>Def</td>\n",
       "      <td>Matches</td>\n",
       "    </tr>\n",
       "    <tr>\n",
       "      <th>51</th>\n",
       "      <td>Rk</td>\n",
       "      <td>Player</td>\n",
       "      <td>Nation</td>\n",
       "      <td>Pos</td>\n",
       "      <td>Squad</td>\n",
       "      <td>Comp</td>\n",
       "      <td>Age</td>\n",
       "      <td>Born</td>\n",
       "      <td>90s</td>\n",
       "      <td>SCA</td>\n",
       "      <td>...</td>\n",
       "      <td>Def</td>\n",
       "      <td>GCA</td>\n",
       "      <td>GCA90</td>\n",
       "      <td>PassLive</td>\n",
       "      <td>PassDead</td>\n",
       "      <td>Drib</td>\n",
       "      <td>Sh</td>\n",
       "      <td>Fld</td>\n",
       "      <td>Def</td>\n",
       "      <td>Matches</td>\n",
       "    </tr>\n",
       "    <tr>\n",
       "      <th>77</th>\n",
       "      <td>Rk</td>\n",
       "      <td>Player</td>\n",
       "      <td>Nation</td>\n",
       "      <td>Pos</td>\n",
       "      <td>Squad</td>\n",
       "      <td>Comp</td>\n",
       "      <td>Age</td>\n",
       "      <td>Born</td>\n",
       "      <td>90s</td>\n",
       "      <td>SCA</td>\n",
       "      <td>...</td>\n",
       "      <td>Def</td>\n",
       "      <td>GCA</td>\n",
       "      <td>GCA90</td>\n",
       "      <td>PassLive</td>\n",
       "      <td>PassDead</td>\n",
       "      <td>Drib</td>\n",
       "      <td>Sh</td>\n",
       "      <td>Fld</td>\n",
       "      <td>Def</td>\n",
       "      <td>Matches</td>\n",
       "    </tr>\n",
       "    <tr>\n",
       "      <th>103</th>\n",
       "      <td>Rk</td>\n",
       "      <td>Player</td>\n",
       "      <td>Nation</td>\n",
       "      <td>Pos</td>\n",
       "      <td>Squad</td>\n",
       "      <td>Comp</td>\n",
       "      <td>Age</td>\n",
       "      <td>Born</td>\n",
       "      <td>90s</td>\n",
       "      <td>SCA</td>\n",
       "      <td>...</td>\n",
       "      <td>Def</td>\n",
       "      <td>GCA</td>\n",
       "      <td>GCA90</td>\n",
       "      <td>PassLive</td>\n",
       "      <td>PassDead</td>\n",
       "      <td>Drib</td>\n",
       "      <td>Sh</td>\n",
       "      <td>Fld</td>\n",
       "      <td>Def</td>\n",
       "      <td>Matches</td>\n",
       "    </tr>\n",
       "    <tr>\n",
       "      <th>129</th>\n",
       "      <td>Rk</td>\n",
       "      <td>Player</td>\n",
       "      <td>Nation</td>\n",
       "      <td>Pos</td>\n",
       "      <td>Squad</td>\n",
       "      <td>Comp</td>\n",
       "      <td>Age</td>\n",
       "      <td>Born</td>\n",
       "      <td>90s</td>\n",
       "      <td>SCA</td>\n",
       "      <td>...</td>\n",
       "      <td>Def</td>\n",
       "      <td>GCA</td>\n",
       "      <td>GCA90</td>\n",
       "      <td>PassLive</td>\n",
       "      <td>PassDead</td>\n",
       "      <td>Drib</td>\n",
       "      <td>Sh</td>\n",
       "      <td>Fld</td>\n",
       "      <td>Def</td>\n",
       "      <td>Matches</td>\n",
       "    </tr>\n",
       "    <tr>\n",
       "      <th>...</th>\n",
       "      <td>...</td>\n",
       "      <td>...</td>\n",
       "      <td>...</td>\n",
       "      <td>...</td>\n",
       "      <td>...</td>\n",
       "      <td>...</td>\n",
       "      <td>...</td>\n",
       "      <td>...</td>\n",
       "      <td>...</td>\n",
       "      <td>...</td>\n",
       "      <td>...</td>\n",
       "      <td>...</td>\n",
       "      <td>...</td>\n",
       "      <td>...</td>\n",
       "      <td>...</td>\n",
       "      <td>...</td>\n",
       "      <td>...</td>\n",
       "      <td>...</td>\n",
       "      <td>...</td>\n",
       "      <td>...</td>\n",
       "      <td>...</td>\n",
       "    </tr>\n",
       "    <tr>\n",
       "      <th>2911</th>\n",
       "      <td>Rk</td>\n",
       "      <td>Player</td>\n",
       "      <td>Nation</td>\n",
       "      <td>Pos</td>\n",
       "      <td>Squad</td>\n",
       "      <td>Comp</td>\n",
       "      <td>Age</td>\n",
       "      <td>Born</td>\n",
       "      <td>90s</td>\n",
       "      <td>SCA</td>\n",
       "      <td>...</td>\n",
       "      <td>Def</td>\n",
       "      <td>GCA</td>\n",
       "      <td>GCA90</td>\n",
       "      <td>PassLive</td>\n",
       "      <td>PassDead</td>\n",
       "      <td>Drib</td>\n",
       "      <td>Sh</td>\n",
       "      <td>Fld</td>\n",
       "      <td>Def</td>\n",
       "      <td>Matches</td>\n",
       "    </tr>\n",
       "    <tr>\n",
       "      <th>2937</th>\n",
       "      <td>Rk</td>\n",
       "      <td>Player</td>\n",
       "      <td>Nation</td>\n",
       "      <td>Pos</td>\n",
       "      <td>Squad</td>\n",
       "      <td>Comp</td>\n",
       "      <td>Age</td>\n",
       "      <td>Born</td>\n",
       "      <td>90s</td>\n",
       "      <td>SCA</td>\n",
       "      <td>...</td>\n",
       "      <td>Def</td>\n",
       "      <td>GCA</td>\n",
       "      <td>GCA90</td>\n",
       "      <td>PassLive</td>\n",
       "      <td>PassDead</td>\n",
       "      <td>Drib</td>\n",
       "      <td>Sh</td>\n",
       "      <td>Fld</td>\n",
       "      <td>Def</td>\n",
       "      <td>Matches</td>\n",
       "    </tr>\n",
       "    <tr>\n",
       "      <th>2963</th>\n",
       "      <td>Rk</td>\n",
       "      <td>Player</td>\n",
       "      <td>Nation</td>\n",
       "      <td>Pos</td>\n",
       "      <td>Squad</td>\n",
       "      <td>Comp</td>\n",
       "      <td>Age</td>\n",
       "      <td>Born</td>\n",
       "      <td>90s</td>\n",
       "      <td>SCA</td>\n",
       "      <td>...</td>\n",
       "      <td>Def</td>\n",
       "      <td>GCA</td>\n",
       "      <td>GCA90</td>\n",
       "      <td>PassLive</td>\n",
       "      <td>PassDead</td>\n",
       "      <td>Drib</td>\n",
       "      <td>Sh</td>\n",
       "      <td>Fld</td>\n",
       "      <td>Def</td>\n",
       "      <td>Matches</td>\n",
       "    </tr>\n",
       "    <tr>\n",
       "      <th>2989</th>\n",
       "      <td>Rk</td>\n",
       "      <td>Player</td>\n",
       "      <td>Nation</td>\n",
       "      <td>Pos</td>\n",
       "      <td>Squad</td>\n",
       "      <td>Comp</td>\n",
       "      <td>Age</td>\n",
       "      <td>Born</td>\n",
       "      <td>90s</td>\n",
       "      <td>SCA</td>\n",
       "      <td>...</td>\n",
       "      <td>Def</td>\n",
       "      <td>GCA</td>\n",
       "      <td>GCA90</td>\n",
       "      <td>PassLive</td>\n",
       "      <td>PassDead</td>\n",
       "      <td>Drib</td>\n",
       "      <td>Sh</td>\n",
       "      <td>Fld</td>\n",
       "      <td>Def</td>\n",
       "      <td>Matches</td>\n",
       "    </tr>\n",
       "    <tr>\n",
       "      <th>3015</th>\n",
       "      <td>Rk</td>\n",
       "      <td>Player</td>\n",
       "      <td>Nation</td>\n",
       "      <td>Pos</td>\n",
       "      <td>Squad</td>\n",
       "      <td>Comp</td>\n",
       "      <td>Age</td>\n",
       "      <td>Born</td>\n",
       "      <td>90s</td>\n",
       "      <td>SCA</td>\n",
       "      <td>...</td>\n",
       "      <td>Def</td>\n",
       "      <td>GCA</td>\n",
       "      <td>GCA90</td>\n",
       "      <td>PassLive</td>\n",
       "      <td>PassDead</td>\n",
       "      <td>Drib</td>\n",
       "      <td>Sh</td>\n",
       "      <td>Fld</td>\n",
       "      <td>Def</td>\n",
       "      <td>Matches</td>\n",
       "    </tr>\n",
       "  </tbody>\n",
       "</table>\n",
       "<p>116 rows × 26 columns</p>\n",
       "</div>"
      ],
      "text/plain": [
       "      Rk  Player  Nation  Pos  Squad  Comp  Age  Born  90s  SCA  ...  Def  \\\n",
       "25    Rk  Player  Nation  Pos  Squad  Comp  Age  Born  90s  SCA  ...  Def   \n",
       "51    Rk  Player  Nation  Pos  Squad  Comp  Age  Born  90s  SCA  ...  Def   \n",
       "77    Rk  Player  Nation  Pos  Squad  Comp  Age  Born  90s  SCA  ...  Def   \n",
       "103   Rk  Player  Nation  Pos  Squad  Comp  Age  Born  90s  SCA  ...  Def   \n",
       "129   Rk  Player  Nation  Pos  Squad  Comp  Age  Born  90s  SCA  ...  Def   \n",
       "...   ..     ...     ...  ...    ...   ...  ...   ...  ...  ...  ...  ...   \n",
       "2911  Rk  Player  Nation  Pos  Squad  Comp  Age  Born  90s  SCA  ...  Def   \n",
       "2937  Rk  Player  Nation  Pos  Squad  Comp  Age  Born  90s  SCA  ...  Def   \n",
       "2963  Rk  Player  Nation  Pos  Squad  Comp  Age  Born  90s  SCA  ...  Def   \n",
       "2989  Rk  Player  Nation  Pos  Squad  Comp  Age  Born  90s  SCA  ...  Def   \n",
       "3015  Rk  Player  Nation  Pos  Squad  Comp  Age  Born  90s  SCA  ...  Def   \n",
       "\n",
       "      GCA  GCA90  PassLive  PassDead  Drib  Sh  Fld  Def  Matches  \n",
       "25    GCA  GCA90  PassLive  PassDead  Drib  Sh  Fld  Def  Matches  \n",
       "51    GCA  GCA90  PassLive  PassDead  Drib  Sh  Fld  Def  Matches  \n",
       "77    GCA  GCA90  PassLive  PassDead  Drib  Sh  Fld  Def  Matches  \n",
       "103   GCA  GCA90  PassLive  PassDead  Drib  Sh  Fld  Def  Matches  \n",
       "129   GCA  GCA90  PassLive  PassDead  Drib  Sh  Fld  Def  Matches  \n",
       "...   ...    ...       ...       ...   ...  ..  ...  ...      ...  \n",
       "2911  GCA  GCA90  PassLive  PassDead  Drib  Sh  Fld  Def  Matches  \n",
       "2937  GCA  GCA90  PassLive  PassDead  Drib  Sh  Fld  Def  Matches  \n",
       "2963  GCA  GCA90  PassLive  PassDead  Drib  Sh  Fld  Def  Matches  \n",
       "2989  GCA  GCA90  PassLive  PassDead  Drib  Sh  Fld  Def  Matches  \n",
       "3015  GCA  GCA90  PassLive  PassDead  Drib  Sh  Fld  Def  Matches  \n",
       "\n",
       "[116 rows x 26 columns]"
      ]
     },
     "execution_count": 9,
     "metadata": {},
     "output_type": "execute_result"
    }
   ],
   "source": [
    "dfdata[dfdata.Age == 'Age']"
   ]
  },
  {
   "cell_type": "code",
   "execution_count": 10,
   "metadata": {
    "colab": {
     "base_uri": "https://localhost:8080/"
    },
    "executionInfo": {
     "elapsed": 6,
     "status": "ok",
     "timestamp": 1642638460165,
     "user": {
      "displayName": "Gary Davis",
      "photoUrl": "https://lh3.googleusercontent.com/a/default-user=s64",
      "userId": "10026740531512816388"
     },
     "user_tz": 360
    },
    "id": "rdRg9UDI5lus",
    "outputId": "37697484-b8d1-47e1-e9ba-713d46573302"
   },
   "outputs": [
    {
     "data": {
      "text/plain": [
       "116"
      ]
     },
     "execution_count": 10,
     "metadata": {},
     "output_type": "execute_result"
    }
   ],
   "source": [
    "len(dfdata[dfdata.Age == 'Age'])"
   ]
  },
  {
   "cell_type": "code",
   "execution_count": 11,
   "metadata": {
    "executionInfo": {
     "elapsed": 5,
     "status": "ok",
     "timestamp": 1642638460166,
     "user": {
      "displayName": "Gary Davis",
      "photoUrl": "https://lh3.googleusercontent.com/a/default-user=s64",
      "userId": "10026740531512816388"
     },
     "user_tz": 360
    },
    "id": "lG34yiD5e_Cs"
   },
   "outputs": [],
   "source": [
    "dfcreation = dfdata.drop(dfdata[dfdata.Age == 'Age'].index)"
   ]
  },
  {
   "cell_type": "code",
   "execution_count": 12,
   "metadata": {
    "colab": {
     "base_uri": "https://localhost:8080/"
    },
    "executionInfo": {
     "elapsed": 100,
     "status": "ok",
     "timestamp": 1642638460261,
     "user": {
      "displayName": "Gary Davis",
      "photoUrl": "https://lh3.googleusercontent.com/a/default-user=s64",
      "userId": "10026740531512816388"
     },
     "user_tz": 360
    },
    "id": "QQHt_VHquyNJ",
    "outputId": "a7b586e6-43af-4701-d67e-4077b2160079"
   },
   "outputs": [
    {
     "data": {
      "text/plain": [
       "(2921, 26)"
      ]
     },
     "execution_count": 12,
     "metadata": {},
     "output_type": "execute_result"
    }
   ],
   "source": [
    "dfcreation.shape"
   ]
  },
  {
   "cell_type": "code",
   "execution_count": 13,
   "metadata": {
    "colab": {
     "base_uri": "https://localhost:8080/"
    },
    "executionInfo": {
     "elapsed": 6,
     "status": "ok",
     "timestamp": 1642638460262,
     "user": {
      "displayName": "Gary Davis",
      "photoUrl": "https://lh3.googleusercontent.com/a/default-user=s64",
      "userId": "10026740531512816388"
     },
     "user_tz": 360
    },
    "id": "vZqC36KF8YqE",
    "outputId": "eb21f3b4-48e7-443f-fbde-45bea4e6af8f"
   },
   "outputs": [
    {
     "data": {
      "text/plain": [
       "Index(['Rk', 'Player', 'Nation', 'Pos', 'Squad', 'Comp', 'Age', 'Born', '90s',\n",
       "       'SCA', 'SCA90', 'PassLive', 'PassDead', 'Drib', 'Sh', 'Fld', 'Def',\n",
       "       'GCA', 'GCA90', 'PassLive', 'PassDead', 'Drib', 'Sh', 'Fld', 'Def',\n",
       "       'Matches'],\n",
       "      dtype='object')"
      ]
     },
     "execution_count": 13,
     "metadata": {},
     "output_type": "execute_result"
    }
   ],
   "source": [
    "dfcreation.columns"
   ]
  },
  {
   "cell_type": "code",
   "execution_count": 14,
   "metadata": {
    "executionInfo": {
     "elapsed": 5,
     "status": "ok",
     "timestamp": 1642638460263,
     "user": {
      "displayName": "Gary Davis",
      "photoUrl": "https://lh3.googleusercontent.com/a/default-user=s64",
      "userId": "10026740531512816388"
     },
     "user_tz": 360
    },
    "id": "lE8fOs1T8Ywc"
   },
   "outputs": [],
   "source": [
    "#Convert string to float\n",
    "dfcreation['90s'] = dfcreation['90s'].astype(float)\n",
    "dfcreation['SCA'] = dfcreation['SCA'].astype(float)\n",
    "dfcreation['PassLive'] = dfcreation['PassLive'].astype(float)\n",
    "dfcreation['PassDead'] = dfcreation['PassDead'].astype(float)\n",
    "dfcreation['Drib'] = dfcreation['Drib'].astype(float)\n",
    "dfcreation['Sh'] = dfcreation['Sh'].astype(float)\n",
    "dfcreation['Fld'] = dfcreation['Fld'].astype(float)\n",
    "dfcreation['Def'] = dfcreation['Def'].astype(float)\n",
    "dfcreation['GCA'] = dfcreation['GCA'].astype(float)"
   ]
  },
  {
   "cell_type": "code",
   "execution_count": 15,
   "metadata": {
    "executionInfo": {
     "elapsed": 5,
     "status": "ok",
     "timestamp": 1642638460263,
     "user": {
      "displayName": "Gary Davis",
      "photoUrl": "https://lh3.googleusercontent.com/a/default-user=s64",
      "userId": "10026740531512816388"
     },
     "user_tz": 360
    },
    "id": "MxbQETvym0T6"
   },
   "outputs": [],
   "source": [
    "#rename duplicate columns but not the first\n",
    "cols = []\n",
    "count = 1\n",
    "for column in dfcreation.columns:\n",
    "    if column == 'PassLive':\n",
    "        cols.append(f'PassLive_{count}')\n",
    "        count+=1\n",
    "        continue\n",
    "    cols.append(column)\n",
    "dfcreation.columns = cols"
   ]
  },
  {
   "cell_type": "code",
   "execution_count": 16,
   "metadata": {
    "executionInfo": {
     "elapsed": 4,
     "status": "ok",
     "timestamp": 1642638460263,
     "user": {
      "displayName": "Gary Davis",
      "photoUrl": "https://lh3.googleusercontent.com/a/default-user=s64",
      "userId": "10026740531512816388"
     },
     "user_tz": 360
    },
    "id": "MvK5RTPrm8Dv"
   },
   "outputs": [],
   "source": [
    "#rename duplicate columns but not the first\n",
    "cols = []\n",
    "count = 1\n",
    "for column in dfcreation.columns:\n",
    "    if column == 'PassDead':\n",
    "        cols.append(f'PassDead_{count}')\n",
    "        count+=1\n",
    "        continue\n",
    "    cols.append(column)\n",
    "dfcreation.columns = cols"
   ]
  },
  {
   "cell_type": "code",
   "execution_count": 17,
   "metadata": {
    "executionInfo": {
     "elapsed": 110,
     "status": "ok",
     "timestamp": 1642638460368,
     "user": {
      "displayName": "Gary Davis",
      "photoUrl": "https://lh3.googleusercontent.com/a/default-user=s64",
      "userId": "10026740531512816388"
     },
     "user_tz": 360
    },
    "id": "JLdrVpfLnCSb"
   },
   "outputs": [],
   "source": [
    "#rename duplicate columns but not the first\n",
    "cols = []\n",
    "count = 1\n",
    "for column in dfcreation.columns:\n",
    "    if column == 'Drib':\n",
    "        cols.append(f'Drib_{count}')\n",
    "        count+=1\n",
    "        continue\n",
    "    cols.append(column)\n",
    "dfcreation.columns = cols"
   ]
  },
  {
   "cell_type": "code",
   "execution_count": 18,
   "metadata": {
    "executionInfo": {
     "elapsed": 6,
     "status": "ok",
     "timestamp": 1642638460369,
     "user": {
      "displayName": "Gary Davis",
      "photoUrl": "https://lh3.googleusercontent.com/a/default-user=s64",
      "userId": "10026740531512816388"
     },
     "user_tz": 360
    },
    "id": "LLT_mpWanKOY"
   },
   "outputs": [],
   "source": [
    "#rename duplicate columns but not the first\n",
    "cols = []\n",
    "count = 1\n",
    "for column in dfcreation.columns:\n",
    "    if column == 'Sh':\n",
    "        cols.append(f'Sh_{count}')\n",
    "        count+=1\n",
    "        continue\n",
    "    cols.append(column)\n",
    "dfcreation.columns = cols"
   ]
  },
  {
   "cell_type": "code",
   "execution_count": 19,
   "metadata": {
    "executionInfo": {
     "elapsed": 6,
     "status": "ok",
     "timestamp": 1642638460370,
     "user": {
      "displayName": "Gary Davis",
      "photoUrl": "https://lh3.googleusercontent.com/a/default-user=s64",
      "userId": "10026740531512816388"
     },
     "user_tz": 360
    },
    "id": "t1t89pKBnRJB"
   },
   "outputs": [],
   "source": [
    "#rename duplicate columns but not the first\n",
    "cols = []\n",
    "count = 1\n",
    "for column in dfcreation.columns:\n",
    "    if column == 'Fld':\n",
    "        cols.append(f'Fld_{count}')\n",
    "        count+=1\n",
    "        continue\n",
    "    cols.append(column)\n",
    "dfcreation.columns = cols"
   ]
  },
  {
   "cell_type": "code",
   "execution_count": 20,
   "metadata": {
    "executionInfo": {
     "elapsed": 6,
     "status": "ok",
     "timestamp": 1642638460370,
     "user": {
      "displayName": "Gary Davis",
      "photoUrl": "https://lh3.googleusercontent.com/a/default-user=s64",
      "userId": "10026740531512816388"
     },
     "user_tz": 360
    },
    "id": "o73NCoiZnUjO"
   },
   "outputs": [],
   "source": [
    "#rename duplicate columns but not the first\n",
    "cols = []\n",
    "count = 1\n",
    "for column in dfcreation.columns:\n",
    "    if column == 'Def':\n",
    "        cols.append(f'Def_{count}')\n",
    "        count+=1\n",
    "        continue\n",
    "    cols.append(column)\n",
    "dfcreation.columns = cols"
   ]
  },
  {
   "cell_type": "code",
   "execution_count": 21,
   "metadata": {
    "executionInfo": {
     "elapsed": 7,
     "status": "ok",
     "timestamp": 1642638460371,
     "user": {
      "displayName": "Gary Davis",
      "photoUrl": "https://lh3.googleusercontent.com/a/default-user=s64",
      "userId": "10026740531512816388"
     },
     "user_tz": 360
    },
    "id": "tAKvZSmo8c9F"
   },
   "outputs": [],
   "source": [
    "#turn data into p 90\n",
    "dfcreation['SCA'] = dfcreation['SCA'] / dfcreation['90s']\n",
    "dfcreation['PassLive_1'] = dfcreation['PassLive_1'] / dfcreation['90s']\n",
    "dfcreation['PassDead_1'] = dfcreation['PassDead_1'] / dfcreation['90s']\n",
    "dfcreation['Drib_1'] = dfcreation['Drib_1'] / dfcreation['90s']\n",
    "dfcreation['Sh_1'] = dfcreation['Sh_1'] / dfcreation['90s']\n",
    "dfcreation['Fld_1'] = dfcreation['Fld_1'] / dfcreation['90s']\n",
    "dfcreation['Def_1'] = dfcreation['Def_1'] / dfcreation['90s']\n",
    "dfcreation['GCA'] = dfcreation['GCA'] / dfcreation['90s']\n",
    "dfcreation['PassLive_2'] = dfcreation['PassLive_2'] / dfcreation['90s']\n",
    "dfcreation['PassDead_1'] = dfcreation['PassDead_2'] / dfcreation['90s']\n",
    "dfcreation['Drib_2'] = dfcreation['Drib_2'] / dfcreation['90s']\n",
    "dfcreation['Sh_2'] = dfcreation['Sh_2'] / dfcreation['90s']\n",
    "dfcreation['Fld_2'] = dfcreation['Fld_2'] / dfcreation['90s']\n",
    "dfcreation['Def_2'] = dfcreation['Def_2'] / dfcreation['90s']"
   ]
  },
  {
   "cell_type": "code",
   "execution_count": 22,
   "metadata": {
    "colab": {
     "base_uri": "https://localhost:8080/",
     "height": 374
    },
    "executionInfo": {
     "elapsed": 7,
     "status": "ok",
     "timestamp": 1642638460371,
     "user": {
      "displayName": "Gary Davis",
      "photoUrl": "https://lh3.googleusercontent.com/a/default-user=s64",
      "userId": "10026740531512816388"
     },
     "user_tz": 360
    },
    "id": "NXoH9Vn1uyWI",
    "outputId": "23d29133-8ba9-41cd-9009-0a4991d16b0e"
   },
   "outputs": [
    {
     "data": {
      "text/html": [
       "<div>\n",
       "<style scoped>\n",
       "    .dataframe tbody tr th:only-of-type {\n",
       "        vertical-align: middle;\n",
       "    }\n",
       "\n",
       "    .dataframe tbody tr th {\n",
       "        vertical-align: top;\n",
       "    }\n",
       "\n",
       "    .dataframe thead th {\n",
       "        text-align: right;\n",
       "    }\n",
       "</style>\n",
       "<table border=\"1\" class=\"dataframe\">\n",
       "  <thead>\n",
       "    <tr style=\"text-align: right;\">\n",
       "      <th></th>\n",
       "      <th>Rk</th>\n",
       "      <th>Player</th>\n",
       "      <th>Nation</th>\n",
       "      <th>Pos</th>\n",
       "      <th>Squad</th>\n",
       "      <th>Comp</th>\n",
       "      <th>Age</th>\n",
       "      <th>Born</th>\n",
       "      <th>90s</th>\n",
       "      <th>SCA</th>\n",
       "      <th>...</th>\n",
       "      <th>Def_1</th>\n",
       "      <th>GCA</th>\n",
       "      <th>GCA90</th>\n",
       "      <th>PassLive_2</th>\n",
       "      <th>PassDead_2</th>\n",
       "      <th>Drib_2</th>\n",
       "      <th>Sh_2</th>\n",
       "      <th>Fld_2</th>\n",
       "      <th>Def_2</th>\n",
       "      <th>Matches</th>\n",
       "    </tr>\n",
       "  </thead>\n",
       "  <tbody>\n",
       "    <tr>\n",
       "      <th>0</th>\n",
       "      <td>1</td>\n",
       "      <td>Max Aarons</td>\n",
       "      <td>eng ENG</td>\n",
       "      <td>DF</td>\n",
       "      <td>Norwich City</td>\n",
       "      <td>eng Premier League</td>\n",
       "      <td>21</td>\n",
       "      <td>2000</td>\n",
       "      <td>32.0</td>\n",
       "      <td>1.187500</td>\n",
       "      <td>...</td>\n",
       "      <td>0.000000</td>\n",
       "      <td>0.156250</td>\n",
       "      <td>0.16</td>\n",
       "      <td>0.156250</td>\n",
       "      <td>0.0</td>\n",
       "      <td>0.000000</td>\n",
       "      <td>0.0</td>\n",
       "      <td>0.000000</td>\n",
       "      <td>0.0</td>\n",
       "      <td>Matches</td>\n",
       "    </tr>\n",
       "    <tr>\n",
       "      <th>1</th>\n",
       "      <td>2</td>\n",
       "      <td>Yunis Abdelhamid</td>\n",
       "      <td>ma MAR</td>\n",
       "      <td>DF</td>\n",
       "      <td>Reims</td>\n",
       "      <td>fr Ligue 1</td>\n",
       "      <td>33</td>\n",
       "      <td>1987</td>\n",
       "      <td>33.1</td>\n",
       "      <td>0.634441</td>\n",
       "      <td>...</td>\n",
       "      <td>0.090634</td>\n",
       "      <td>0.030211</td>\n",
       "      <td>0.03</td>\n",
       "      <td>0.000000</td>\n",
       "      <td>0.0</td>\n",
       "      <td>0.030211</td>\n",
       "      <td>0.0</td>\n",
       "      <td>0.000000</td>\n",
       "      <td>0.0</td>\n",
       "      <td>Matches</td>\n",
       "    </tr>\n",
       "    <tr>\n",
       "      <th>2</th>\n",
       "      <td>3</td>\n",
       "      <td>Salis Abdul Samed</td>\n",
       "      <td>gh GHA</td>\n",
       "      <td>MF</td>\n",
       "      <td>Clermont Foot</td>\n",
       "      <td>fr Ligue 1</td>\n",
       "      <td>21</td>\n",
       "      <td>2000</td>\n",
       "      <td>27.4</td>\n",
       "      <td>1.459854</td>\n",
       "      <td>...</td>\n",
       "      <td>0.072993</td>\n",
       "      <td>0.036496</td>\n",
       "      <td>0.04</td>\n",
       "      <td>0.036496</td>\n",
       "      <td>0.0</td>\n",
       "      <td>0.000000</td>\n",
       "      <td>0.0</td>\n",
       "      <td>0.000000</td>\n",
       "      <td>0.0</td>\n",
       "      <td>Matches</td>\n",
       "    </tr>\n",
       "    <tr>\n",
       "      <th>3</th>\n",
       "      <td>4</td>\n",
       "      <td>Laurent Abergel</td>\n",
       "      <td>fr FRA</td>\n",
       "      <td>MF</td>\n",
       "      <td>Lorient</td>\n",
       "      <td>fr Ligue 1</td>\n",
       "      <td>28</td>\n",
       "      <td>1993</td>\n",
       "      <td>32.8</td>\n",
       "      <td>2.012195</td>\n",
       "      <td>...</td>\n",
       "      <td>0.182927</td>\n",
       "      <td>0.152439</td>\n",
       "      <td>0.15</td>\n",
       "      <td>0.121951</td>\n",
       "      <td>0.0</td>\n",
       "      <td>0.000000</td>\n",
       "      <td>0.0</td>\n",
       "      <td>0.030488</td>\n",
       "      <td>0.0</td>\n",
       "      <td>Matches</td>\n",
       "    </tr>\n",
       "    <tr>\n",
       "      <th>4</th>\n",
       "      <td>5</td>\n",
       "      <td>Charles Abi</td>\n",
       "      <td>fr FRA</td>\n",
       "      <td>FW</td>\n",
       "      <td>Saint-Étienne</td>\n",
       "      <td>fr Ligue 1</td>\n",
       "      <td>21</td>\n",
       "      <td>2000</td>\n",
       "      <td>0.5</td>\n",
       "      <td>0.000000</td>\n",
       "      <td>...</td>\n",
       "      <td>0.000000</td>\n",
       "      <td>0.000000</td>\n",
       "      <td>0.00</td>\n",
       "      <td>0.000000</td>\n",
       "      <td>0.0</td>\n",
       "      <td>0.000000</td>\n",
       "      <td>0.0</td>\n",
       "      <td>0.000000</td>\n",
       "      <td>0.0</td>\n",
       "      <td>Matches</td>\n",
       "    </tr>\n",
       "  </tbody>\n",
       "</table>\n",
       "<p>5 rows × 26 columns</p>\n",
       "</div>"
      ],
      "text/plain": [
       "  Rk             Player   Nation Pos          Squad                Comp Age  \\\n",
       "0  1         Max Aarons  eng ENG  DF   Norwich City  eng Premier League  21   \n",
       "1  2   Yunis Abdelhamid   ma MAR  DF          Reims          fr Ligue 1  33   \n",
       "2  3  Salis Abdul Samed   gh GHA  MF  Clermont Foot          fr Ligue 1  21   \n",
       "3  4    Laurent Abergel   fr FRA  MF        Lorient          fr Ligue 1  28   \n",
       "4  5        Charles Abi   fr FRA  FW  Saint-Étienne          fr Ligue 1  21   \n",
       "\n",
       "   Born   90s       SCA  ...     Def_1       GCA  GCA90  PassLive_2  \\\n",
       "0  2000  32.0  1.187500  ...  0.000000  0.156250   0.16    0.156250   \n",
       "1  1987  33.1  0.634441  ...  0.090634  0.030211   0.03    0.000000   \n",
       "2  2000  27.4  1.459854  ...  0.072993  0.036496   0.04    0.036496   \n",
       "3  1993  32.8  2.012195  ...  0.182927  0.152439   0.15    0.121951   \n",
       "4  2000   0.5  0.000000  ...  0.000000  0.000000   0.00    0.000000   \n",
       "\n",
       "   PassDead_2    Drib_2  Sh_2     Fld_2 Def_2  Matches  \n",
       "0         0.0  0.000000   0.0  0.000000   0.0  Matches  \n",
       "1         0.0  0.030211   0.0  0.000000   0.0  Matches  \n",
       "2         0.0  0.000000   0.0  0.000000   0.0  Matches  \n",
       "3         0.0  0.000000   0.0  0.030488   0.0  Matches  \n",
       "4         0.0  0.000000   0.0  0.000000   0.0  Matches  \n",
       "\n",
       "[5 rows x 26 columns]"
      ]
     },
     "execution_count": 22,
     "metadata": {},
     "output_type": "execute_result"
    }
   ],
   "source": [
    "dfcreation.head()"
   ]
  },
  {
   "cell_type": "code",
   "execution_count": 23,
   "metadata": {},
   "outputs": [],
   "source": [
    "dfcreation['PlSqu'] = dfcreation['Player'] + dfcreation['Squad']"
   ]
  },
  {
   "cell_type": "code",
   "execution_count": 24,
   "metadata": {},
   "outputs": [],
   "source": [
    "dfcreation['Player'] = dfcreation['Player'].apply(unidecode)"
   ]
  },
  {
   "cell_type": "code",
   "execution_count": 25,
   "metadata": {},
   "outputs": [],
   "source": [
    "dfcreation['Squad'] = dfcreation['Squad'].apply(unidecode)"
   ]
  },
  {
   "cell_type": "code",
   "execution_count": 26,
   "metadata": {
    "executionInfo": {
     "elapsed": 123,
     "status": "ok",
     "timestamp": 1642638460488,
     "user": {
      "displayName": "Gary Davis",
      "photoUrl": "https://lh3.googleusercontent.com/a/default-user=s64",
      "userId": "10026740531512816388"
     },
     "user_tz": 360
    },
    "id": "xhSx7BPdvSjB"
   },
   "outputs": [],
   "source": [
    "dfcreation.to_csv('fbrefBig5Creation.csv', index=False)"
   ]
  },
  {
   "cell_type": "code",
   "execution_count": null,
   "metadata": {},
   "outputs": [],
   "source": []
  }
 ],
 "metadata": {
  "colab": {
   "collapsed_sections": [],
   "name": "Scrape MLS Creation Stats.ipynb",
   "provenance": []
  },
  "kernelspec": {
   "display_name": "Python 3 (ipykernel)",
   "language": "python",
   "name": "python3"
  },
  "language_info": {
   "codemirror_mode": {
    "name": "ipython",
    "version": 3
   },
   "file_extension": ".py",
   "mimetype": "text/x-python",
   "name": "python",
   "nbconvert_exporter": "python",
   "pygments_lexer": "ipython3",
   "version": "3.9.7"
  }
 },
 "nbformat": 4,
 "nbformat_minor": 1
}
