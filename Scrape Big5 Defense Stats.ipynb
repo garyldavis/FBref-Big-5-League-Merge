{
 "cells": [
  {
   "cell_type": "markdown",
   "metadata": {
    "id": "0XFPIZmjtLbb"
   },
   "source": [
    "## How to Scrap Big5 Defense Stats from FBREF - Soccer/Football\n"
   ]
  },
  {
   "cell_type": "markdown",
   "metadata": {
    "id": "-AQZU0n4StVq"
   },
   "source": [
    "Method 1\n",
    "\n",
    "We could modularize the URL and year strings of text that may be useful for programmatic access (in the subsequent code cell)."
   ]
  },
  {
   "cell_type": "code",
   "execution_count": 1,
   "metadata": {
    "executionInfo": {
     "elapsed": 114,
     "status": "ok",
     "timestamp": 1642638405830,
     "user": {
      "displayName": "Gary Davis",
      "photoUrl": "https://lh3.googleusercontent.com/a/default-user=s64",
      "userId": "10026740531512816388"
     },
     "user_tz": 360
    },
    "id": "eviHhQGkleOW"
   },
   "outputs": [],
   "source": [
    "import requests\n",
    "import pandas as pd\n",
    "from unidecode import unidecode"
   ]
  },
  {
   "cell_type": "code",
   "execution_count": 2,
   "metadata": {
    "executionInfo": {
     "elapsed": 927,
     "status": "ok",
     "timestamp": 1642638406869,
     "user": {
      "displayName": "Gary Davis",
      "photoUrl": "https://lh3.googleusercontent.com/a/default-user=s64",
      "userId": "10026740531512816388"
     },
     "user_tz": 360
    },
    "id": "goV7r4FUlfMt"
   },
   "outputs": [],
   "source": [
    "url = 'https://fbref.com/en/comps/Big5/defense/players/Big-5-European-Leagues-Stats'\n",
    "html_content = requests.get(url).text.replace('<!--', '').replace('-->', '')\n",
    "df = pd.read_html(html_content)"
   ]
  },
  {
   "cell_type": "markdown",
   "metadata": {
    "id": "wlDt8TTxSvEz"
   },
   "source": [
    "Method 2"
   ]
  },
  {
   "cell_type": "code",
   "execution_count": 3,
   "metadata": {
    "executionInfo": {
     "elapsed": 8,
     "status": "ok",
     "timestamp": 1642638406870,
     "user": {
      "displayName": "Gary Davis",
      "photoUrl": "https://lh3.googleusercontent.com/a/default-user=s64",
      "userId": "10026740531512816388"
     },
     "user_tz": 360
    },
    "id": "-x78Rt_iRmCa"
   },
   "outputs": [],
   "source": [
    "#url = 'https://fbref.com/en/comps/Big5/defense/players/Big-5-European-Leagues-Stats'"
   ]
  },
  {
   "cell_type": "markdown",
   "metadata": {
    "id": "fhVY2xJJS0FU"
   },
   "source": [
    "Read HTML webpage into pandas"
   ]
  },
  {
   "cell_type": "markdown",
   "metadata": {
    "id": "Sk1EUVeFUXPq"
   },
   "source": [
    "Using pd.read_html() function to read HTML webpage"
   ]
  },
  {
   "cell_type": "code",
   "execution_count": 4,
   "metadata": {
    "colab": {
     "base_uri": "https://localhost:8080/"
    },
    "executionInfo": {
     "elapsed": 162,
     "status": "ok",
     "timestamp": 1642638407026,
     "user": {
      "displayName": "Gary Davis",
      "photoUrl": "https://lh3.googleusercontent.com/a/default-user=s64",
      "userId": "10026740531512816388"
     },
     "user_tz": 360
    },
    "id": "4sLS78K-S-r2",
    "outputId": "bad694fb-87c5-4a59-9387-1338953a4303"
   },
   "outputs": [
    {
     "data": {
      "text/plain": [
       "[   Unnamed: 0_level_0 Unnamed: 1_level_0 Tackles                         \\\n",
       "      Competition Name                 MP     Tkl   TklW Def 3rd Mid 3rd   \n",
       " 0       de Bundesliga                612   18.38  11.06    8.79    7.25   \n",
       " 1          es La Liga                760   16.93  10.51    8.23    6.52   \n",
       " 2          fr Ligue 1                760   18.81  11.69    9.01    7.41   \n",
       " 3  eng Premier League                760   17.76  10.59    8.63    6.78   \n",
       " 4          it Serie A                760   16.76  10.28    7.95    6.45   \n",
       " \n",
       "           Vs Dribbles               ... Pressures         Blocks              \\\n",
       "   Att 3rd         Tkl    Att  Tkl%  ...   Mid 3rd Att 3rd Blocks    Sh  ShSv   \n",
       " 0    2.33        6.74  16.10  41.8  ...     70.70   38.25  16.25  3.39  0.06   \n",
       " 1    2.18        6.23  15.10  41.2  ...     65.73   32.64  14.80  3.24  0.05   \n",
       " 2    2.40        6.71  16.73  40.1  ...     69.11   34.41  14.00  3.19  0.08   \n",
       " 3    2.35        6.37  15.58  40.9  ...     62.76   34.81  15.68  4.10  0.10   \n",
       " 4    2.36        6.01  14.64  41.1  ...     63.84   34.10  15.29  3.79  0.07   \n",
       " \n",
       "          Unnamed: 21_level_0 Unnamed: 22_level_0 Unnamed: 23_level_0  \\\n",
       "     Pass                 Int             Tkl+Int                 Clr   \n",
       " 0  12.87               16.68               35.06               20.73   \n",
       " 1  11.55               13.88               30.81               20.11   \n",
       " 2  10.82               16.23               35.04               16.85   \n",
       " 3  11.59               15.13               32.88               20.48   \n",
       " 4  11.50               14.65               31.41               17.56   \n",
       " \n",
       "   Unnamed: 24_level_0  \n",
       "                   Err  \n",
       " 0                0.28  \n",
       " 1                0.24  \n",
       " 2                0.21  \n",
       " 3                0.25  \n",
       " 4                0.19  \n",
       " \n",
       " [5 rows x 25 columns],\n",
       "      Unnamed: 0_level_0 Unnamed: 1_level_0 Unnamed: 2_level_0  \\\n",
       "                      Rk             Player             Nation   \n",
       " 0                     1         Max Aarons            eng ENG   \n",
       " 1                     2   Yunis Abdelhamid             ma MAR   \n",
       " 2                     3  Salis Abdul Samed             gh GHA   \n",
       " 3                     4    Laurent Abergel             fr FRA   \n",
       " 4                     5        Charles Abi             fr FRA   \n",
       " ...                 ...                ...                ...   \n",
       " 3032               2917   Martín Zubimendi             es ESP   \n",
       " 3033               2918   Szymon Żurkowski             pl POL   \n",
       " 3034               2919    Martin Ødegaard             no NOR   \n",
       " 3035               2920        Milan Đurić             ba BIH   \n",
       " 3036               2921      Filip Đuričić             rs SRB   \n",
       " \n",
       "      Unnamed: 3_level_0 Unnamed: 4_level_0  Unnamed: 5_level_0  \\\n",
       "                     Pos              Squad                Comp   \n",
       " 0                    DF       Norwich City  eng Premier League   \n",
       " 1                    DF              Reims          fr Ligue 1   \n",
       " 2                    MF      Clermont Foot          fr Ligue 1   \n",
       " 3                    MF            Lorient          fr Ligue 1   \n",
       " 4                    FW      Saint-Étienne          fr Ligue 1   \n",
       " ...                 ...                ...                 ...   \n",
       " 3032                 MF      Real Sociedad          es La Liga   \n",
       " 3033                 MF             Empoli          it Serie A   \n",
       " 3034                 MF            Arsenal  eng Premier League   \n",
       " 3035                 FW        Salernitana          it Serie A   \n",
       " 3036              MF,FW           Sassuolo          it Serie A   \n",
       " \n",
       "      Unnamed: 6_level_0 Unnamed: 7_level_0 Unnamed: 8_level_0 Tackles  ...  \\\n",
       "                     Age               Born                90s     Tkl  ...   \n",
       " 0                    21               2000               32.0      69  ...   \n",
       " 1                    33               1987               33.1      62  ...   \n",
       " 2                    21               2000               27.4      55  ...   \n",
       " 3                    28               1993               32.8     117  ...   \n",
       " 4                    21               2000                0.5       0  ...   \n",
       " ...                 ...                ...                ...     ...  ...   \n",
       " 3032                 22               1999               28.8      61  ...   \n",
       " 3033                 23               1997               25.6      71  ...   \n",
       " 3034                 22               1998               30.9      43  ...   \n",
       " 3035                 31               1990               24.1       6  ...   \n",
       " 3036                 29               1992                7.5      12  ...   \n",
       " \n",
       "      Pressures Blocks               Unnamed: 28_level_0 Unnamed: 29_level_0  \\\n",
       "        Att 3rd Blocks  Sh ShSv Pass                 Int             Tkl+Int   \n",
       " 0           39     86  22    1   64                  56                 125   \n",
       " 1           29     62  26    2   36                 103                 165   \n",
       " 2          108     27   1    0   26                  51                 106   \n",
       " 3          112     55   3    0   52                  84                 201   \n",
       " 4            3      1   0    0    1                   0                   0   \n",
       " ...        ...    ...  ..  ...  ...                 ...                 ...   \n",
       " 3032        46     39  14    0   25                  50                 111   \n",
       " 3033       116     52  11    1   41                  57                 128   \n",
       " 3034       205     18   1    0   17                  22                  65   \n",
       " 3035       141     10   3    0    7                   2                   8   \n",
       " 3036        29      9   1    0    8                   5                  17   \n",
       " \n",
       "      Unnamed: 30_level_0 Unnamed: 31_level_0 Unnamed: 32_level_0  \n",
       "                      Clr                 Err             Matches  \n",
       " 0                     70                   0             Matches  \n",
       " 1                    106                   0             Matches  \n",
       " 2                     15                   0             Matches  \n",
       " 3                     11                   0             Matches  \n",
       " 4                      0                   0             Matches  \n",
       " ...                  ...                 ...                 ...  \n",
       " 3032                  64                   0             Matches  \n",
       " 3033                  30                   2             Matches  \n",
       " 3034                  12                   1             Matches  \n",
       " 3035                  35                   0             Matches  \n",
       " 3036                   0                   0             Matches  \n",
       " \n",
       " [3037 rows x 33 columns]]"
      ]
     },
     "execution_count": 4,
     "metadata": {},
     "output_type": "execute_result"
    }
   ],
   "source": [
    "df"
   ]
  },
  {
   "cell_type": "markdown",
   "metadata": {
    "id": "iVtWB7zuUWIp"
   },
   "source": [
    "How many tables are there in the webpage?"
   ]
  },
  {
   "cell_type": "code",
   "execution_count": 5,
   "metadata": {
    "colab": {
     "base_uri": "https://localhost:8080/"
    },
    "executionInfo": {
     "elapsed": 5,
     "status": "ok",
     "timestamp": 1642638407027,
     "user": {
      "displayName": "Gary Davis",
      "photoUrl": "https://lh3.googleusercontent.com/a/default-user=s64",
      "userId": "10026740531512816388"
     },
     "user_tz": 360
    },
    "id": "BdIXrthuTApH",
    "outputId": "a20f860d-ae95-4226-c4aa-55fe5b9b77a7"
   },
   "outputs": [
    {
     "data": {
      "text/plain": [
       "2"
      ]
     },
     "execution_count": 5,
     "metadata": {},
     "output_type": "execute_result"
    }
   ],
   "source": [
    "len(df)"
   ]
  },
  {
   "cell_type": "code",
   "execution_count": 6,
   "metadata": {
    "executionInfo": {
     "elapsed": 3,
     "status": "ok",
     "timestamp": 1642638407027,
     "user": {
      "displayName": "Gary Davis",
      "photoUrl": "https://lh3.googleusercontent.com/a/default-user=s64",
      "userId": "10026740531512816388"
     },
     "user_tz": 360
    },
    "id": "_JF0jpfDmdj_"
   },
   "outputs": [],
   "source": [
    "df[1].columns = df[1].columns.droplevel(0) # drop top header row"
   ]
  },
  {
   "cell_type": "markdown",
   "metadata": {
    "id": "glCMVlkWU6ik"
   },
   "source": [
    "Select the first table"
   ]
  },
  {
   "cell_type": "code",
   "execution_count": 7,
   "metadata": {
    "colab": {
     "base_uri": "https://localhost:8080/",
     "height": 554
    },
    "executionInfo": {
     "elapsed": 121,
     "status": "ok",
     "timestamp": 1642638407146,
     "user": {
      "displayName": "Gary Davis",
      "photoUrl": "https://lh3.googleusercontent.com/a/default-user=s64",
      "userId": "10026740531512816388"
     },
     "user_tz": 360
    },
    "id": "Pv0NHbFeTrEp",
    "outputId": "982bef0d-4ec8-45da-8e07-4d58001539bd"
   },
   "outputs": [
    {
     "data": {
      "text/html": [
       "<div>\n",
       "<style scoped>\n",
       "    .dataframe tbody tr th:only-of-type {\n",
       "        vertical-align: middle;\n",
       "    }\n",
       "\n",
       "    .dataframe tbody tr th {\n",
       "        vertical-align: top;\n",
       "    }\n",
       "\n",
       "    .dataframe thead th {\n",
       "        text-align: right;\n",
       "    }\n",
       "</style>\n",
       "<table border=\"1\" class=\"dataframe\">\n",
       "  <thead>\n",
       "    <tr style=\"text-align: right;\">\n",
       "      <th></th>\n",
       "      <th>Rk</th>\n",
       "      <th>Player</th>\n",
       "      <th>Nation</th>\n",
       "      <th>Pos</th>\n",
       "      <th>Squad</th>\n",
       "      <th>Comp</th>\n",
       "      <th>Age</th>\n",
       "      <th>Born</th>\n",
       "      <th>90s</th>\n",
       "      <th>Tkl</th>\n",
       "      <th>...</th>\n",
       "      <th>Att 3rd</th>\n",
       "      <th>Blocks</th>\n",
       "      <th>Sh</th>\n",
       "      <th>ShSv</th>\n",
       "      <th>Pass</th>\n",
       "      <th>Int</th>\n",
       "      <th>Tkl+Int</th>\n",
       "      <th>Clr</th>\n",
       "      <th>Err</th>\n",
       "      <th>Matches</th>\n",
       "    </tr>\n",
       "  </thead>\n",
       "  <tbody>\n",
       "    <tr>\n",
       "      <th>0</th>\n",
       "      <td>1</td>\n",
       "      <td>Max Aarons</td>\n",
       "      <td>eng ENG</td>\n",
       "      <td>DF</td>\n",
       "      <td>Norwich City</td>\n",
       "      <td>eng Premier League</td>\n",
       "      <td>21</td>\n",
       "      <td>2000</td>\n",
       "      <td>32.0</td>\n",
       "      <td>69</td>\n",
       "      <td>...</td>\n",
       "      <td>39</td>\n",
       "      <td>86</td>\n",
       "      <td>22</td>\n",
       "      <td>1</td>\n",
       "      <td>64</td>\n",
       "      <td>56</td>\n",
       "      <td>125</td>\n",
       "      <td>70</td>\n",
       "      <td>0</td>\n",
       "      <td>Matches</td>\n",
       "    </tr>\n",
       "    <tr>\n",
       "      <th>1</th>\n",
       "      <td>2</td>\n",
       "      <td>Yunis Abdelhamid</td>\n",
       "      <td>ma MAR</td>\n",
       "      <td>DF</td>\n",
       "      <td>Reims</td>\n",
       "      <td>fr Ligue 1</td>\n",
       "      <td>33</td>\n",
       "      <td>1987</td>\n",
       "      <td>33.1</td>\n",
       "      <td>62</td>\n",
       "      <td>...</td>\n",
       "      <td>29</td>\n",
       "      <td>62</td>\n",
       "      <td>26</td>\n",
       "      <td>2</td>\n",
       "      <td>36</td>\n",
       "      <td>103</td>\n",
       "      <td>165</td>\n",
       "      <td>106</td>\n",
       "      <td>0</td>\n",
       "      <td>Matches</td>\n",
       "    </tr>\n",
       "    <tr>\n",
       "      <th>2</th>\n",
       "      <td>3</td>\n",
       "      <td>Salis Abdul Samed</td>\n",
       "      <td>gh GHA</td>\n",
       "      <td>MF</td>\n",
       "      <td>Clermont Foot</td>\n",
       "      <td>fr Ligue 1</td>\n",
       "      <td>21</td>\n",
       "      <td>2000</td>\n",
       "      <td>27.4</td>\n",
       "      <td>55</td>\n",
       "      <td>...</td>\n",
       "      <td>108</td>\n",
       "      <td>27</td>\n",
       "      <td>1</td>\n",
       "      <td>0</td>\n",
       "      <td>26</td>\n",
       "      <td>51</td>\n",
       "      <td>106</td>\n",
       "      <td>15</td>\n",
       "      <td>0</td>\n",
       "      <td>Matches</td>\n",
       "    </tr>\n",
       "    <tr>\n",
       "      <th>3</th>\n",
       "      <td>4</td>\n",
       "      <td>Laurent Abergel</td>\n",
       "      <td>fr FRA</td>\n",
       "      <td>MF</td>\n",
       "      <td>Lorient</td>\n",
       "      <td>fr Ligue 1</td>\n",
       "      <td>28</td>\n",
       "      <td>1993</td>\n",
       "      <td>32.8</td>\n",
       "      <td>117</td>\n",
       "      <td>...</td>\n",
       "      <td>112</td>\n",
       "      <td>55</td>\n",
       "      <td>3</td>\n",
       "      <td>0</td>\n",
       "      <td>52</td>\n",
       "      <td>84</td>\n",
       "      <td>201</td>\n",
       "      <td>11</td>\n",
       "      <td>0</td>\n",
       "      <td>Matches</td>\n",
       "    </tr>\n",
       "    <tr>\n",
       "      <th>4</th>\n",
       "      <td>5</td>\n",
       "      <td>Charles Abi</td>\n",
       "      <td>fr FRA</td>\n",
       "      <td>FW</td>\n",
       "      <td>Saint-Étienne</td>\n",
       "      <td>fr Ligue 1</td>\n",
       "      <td>21</td>\n",
       "      <td>2000</td>\n",
       "      <td>0.5</td>\n",
       "      <td>0</td>\n",
       "      <td>...</td>\n",
       "      <td>3</td>\n",
       "      <td>1</td>\n",
       "      <td>0</td>\n",
       "      <td>0</td>\n",
       "      <td>1</td>\n",
       "      <td>0</td>\n",
       "      <td>0</td>\n",
       "      <td>0</td>\n",
       "      <td>0</td>\n",
       "      <td>Matches</td>\n",
       "    </tr>\n",
       "    <tr>\n",
       "      <th>...</th>\n",
       "      <td>...</td>\n",
       "      <td>...</td>\n",
       "      <td>...</td>\n",
       "      <td>...</td>\n",
       "      <td>...</td>\n",
       "      <td>...</td>\n",
       "      <td>...</td>\n",
       "      <td>...</td>\n",
       "      <td>...</td>\n",
       "      <td>...</td>\n",
       "      <td>...</td>\n",
       "      <td>...</td>\n",
       "      <td>...</td>\n",
       "      <td>...</td>\n",
       "      <td>...</td>\n",
       "      <td>...</td>\n",
       "      <td>...</td>\n",
       "      <td>...</td>\n",
       "      <td>...</td>\n",
       "      <td>...</td>\n",
       "      <td>...</td>\n",
       "    </tr>\n",
       "    <tr>\n",
       "      <th>3032</th>\n",
       "      <td>2917</td>\n",
       "      <td>Martín Zubimendi</td>\n",
       "      <td>es ESP</td>\n",
       "      <td>MF</td>\n",
       "      <td>Real Sociedad</td>\n",
       "      <td>es La Liga</td>\n",
       "      <td>22</td>\n",
       "      <td>1999</td>\n",
       "      <td>28.8</td>\n",
       "      <td>61</td>\n",
       "      <td>...</td>\n",
       "      <td>46</td>\n",
       "      <td>39</td>\n",
       "      <td>14</td>\n",
       "      <td>0</td>\n",
       "      <td>25</td>\n",
       "      <td>50</td>\n",
       "      <td>111</td>\n",
       "      <td>64</td>\n",
       "      <td>0</td>\n",
       "      <td>Matches</td>\n",
       "    </tr>\n",
       "    <tr>\n",
       "      <th>3033</th>\n",
       "      <td>2918</td>\n",
       "      <td>Szymon Żurkowski</td>\n",
       "      <td>pl POL</td>\n",
       "      <td>MF</td>\n",
       "      <td>Empoli</td>\n",
       "      <td>it Serie A</td>\n",
       "      <td>23</td>\n",
       "      <td>1997</td>\n",
       "      <td>25.6</td>\n",
       "      <td>71</td>\n",
       "      <td>...</td>\n",
       "      <td>116</td>\n",
       "      <td>52</td>\n",
       "      <td>11</td>\n",
       "      <td>1</td>\n",
       "      <td>41</td>\n",
       "      <td>57</td>\n",
       "      <td>128</td>\n",
       "      <td>30</td>\n",
       "      <td>2</td>\n",
       "      <td>Matches</td>\n",
       "    </tr>\n",
       "    <tr>\n",
       "      <th>3034</th>\n",
       "      <td>2919</td>\n",
       "      <td>Martin Ødegaard</td>\n",
       "      <td>no NOR</td>\n",
       "      <td>MF</td>\n",
       "      <td>Arsenal</td>\n",
       "      <td>eng Premier League</td>\n",
       "      <td>22</td>\n",
       "      <td>1998</td>\n",
       "      <td>30.9</td>\n",
       "      <td>43</td>\n",
       "      <td>...</td>\n",
       "      <td>205</td>\n",
       "      <td>18</td>\n",
       "      <td>1</td>\n",
       "      <td>0</td>\n",
       "      <td>17</td>\n",
       "      <td>22</td>\n",
       "      <td>65</td>\n",
       "      <td>12</td>\n",
       "      <td>1</td>\n",
       "      <td>Matches</td>\n",
       "    </tr>\n",
       "    <tr>\n",
       "      <th>3035</th>\n",
       "      <td>2920</td>\n",
       "      <td>Milan Đurić</td>\n",
       "      <td>ba BIH</td>\n",
       "      <td>FW</td>\n",
       "      <td>Salernitana</td>\n",
       "      <td>it Serie A</td>\n",
       "      <td>31</td>\n",
       "      <td>1990</td>\n",
       "      <td>24.1</td>\n",
       "      <td>6</td>\n",
       "      <td>...</td>\n",
       "      <td>141</td>\n",
       "      <td>10</td>\n",
       "      <td>3</td>\n",
       "      <td>0</td>\n",
       "      <td>7</td>\n",
       "      <td>2</td>\n",
       "      <td>8</td>\n",
       "      <td>35</td>\n",
       "      <td>0</td>\n",
       "      <td>Matches</td>\n",
       "    </tr>\n",
       "    <tr>\n",
       "      <th>3036</th>\n",
       "      <td>2921</td>\n",
       "      <td>Filip Đuričić</td>\n",
       "      <td>rs SRB</td>\n",
       "      <td>MF,FW</td>\n",
       "      <td>Sassuolo</td>\n",
       "      <td>it Serie A</td>\n",
       "      <td>29</td>\n",
       "      <td>1992</td>\n",
       "      <td>7.5</td>\n",
       "      <td>12</td>\n",
       "      <td>...</td>\n",
       "      <td>29</td>\n",
       "      <td>9</td>\n",
       "      <td>1</td>\n",
       "      <td>0</td>\n",
       "      <td>8</td>\n",
       "      <td>5</td>\n",
       "      <td>17</td>\n",
       "      <td>0</td>\n",
       "      <td>0</td>\n",
       "      <td>Matches</td>\n",
       "    </tr>\n",
       "  </tbody>\n",
       "</table>\n",
       "<p>3037 rows × 33 columns</p>\n",
       "</div>"
      ],
      "text/plain": [
       "        Rk             Player   Nation    Pos          Squad  \\\n",
       "0        1         Max Aarons  eng ENG     DF   Norwich City   \n",
       "1        2   Yunis Abdelhamid   ma MAR     DF          Reims   \n",
       "2        3  Salis Abdul Samed   gh GHA     MF  Clermont Foot   \n",
       "3        4    Laurent Abergel   fr FRA     MF        Lorient   \n",
       "4        5        Charles Abi   fr FRA     FW  Saint-Étienne   \n",
       "...    ...                ...      ...    ...            ...   \n",
       "3032  2917   Martín Zubimendi   es ESP     MF  Real Sociedad   \n",
       "3033  2918   Szymon Żurkowski   pl POL     MF         Empoli   \n",
       "3034  2919    Martin Ødegaard   no NOR     MF        Arsenal   \n",
       "3035  2920        Milan Đurić   ba BIH     FW    Salernitana   \n",
       "3036  2921      Filip Đuričić   rs SRB  MF,FW       Sassuolo   \n",
       "\n",
       "                    Comp Age  Born   90s  Tkl  ... Att 3rd Blocks  Sh ShSv  \\\n",
       "0     eng Premier League  21  2000  32.0   69  ...      39     86  22    1   \n",
       "1             fr Ligue 1  33  1987  33.1   62  ...      29     62  26    2   \n",
       "2             fr Ligue 1  21  2000  27.4   55  ...     108     27   1    0   \n",
       "3             fr Ligue 1  28  1993  32.8  117  ...     112     55   3    0   \n",
       "4             fr Ligue 1  21  2000   0.5    0  ...       3      1   0    0   \n",
       "...                  ...  ..   ...   ...  ...  ...     ...    ...  ..  ...   \n",
       "3032          es La Liga  22  1999  28.8   61  ...      46     39  14    0   \n",
       "3033          it Serie A  23  1997  25.6   71  ...     116     52  11    1   \n",
       "3034  eng Premier League  22  1998  30.9   43  ...     205     18   1    0   \n",
       "3035          it Serie A  31  1990  24.1    6  ...     141     10   3    0   \n",
       "3036          it Serie A  29  1992   7.5   12  ...      29      9   1    0   \n",
       "\n",
       "     Pass  Int Tkl+Int  Clr Err  Matches  \n",
       "0      64   56     125   70   0  Matches  \n",
       "1      36  103     165  106   0  Matches  \n",
       "2      26   51     106   15   0  Matches  \n",
       "3      52   84     201   11   0  Matches  \n",
       "4       1    0       0    0   0  Matches  \n",
       "...   ...  ...     ...  ...  ..      ...  \n",
       "3032   25   50     111   64   0  Matches  \n",
       "3033   41   57     128   30   2  Matches  \n",
       "3034   17   22      65   12   1  Matches  \n",
       "3035    7    2       8   35   0  Matches  \n",
       "3036    8    5      17    0   0  Matches  \n",
       "\n",
       "[3037 rows x 33 columns]"
      ]
     },
     "execution_count": 7,
     "metadata": {},
     "output_type": "execute_result"
    }
   ],
   "source": [
    "df[1]"
   ]
  },
  {
   "cell_type": "code",
   "execution_count": 8,
   "metadata": {
    "executionInfo": {
     "elapsed": 7,
     "status": "ok",
     "timestamp": 1642638407147,
     "user": {
      "displayName": "Gary Davis",
      "photoUrl": "https://lh3.googleusercontent.com/a/default-user=s64",
      "userId": "10026740531512816388"
     },
     "user_tz": 360
    },
    "id": "owwSCuZYU-sT"
   },
   "outputs": [],
   "source": [
    "dfdata = df[1]"
   ]
  },
  {
   "cell_type": "markdown",
   "metadata": {
    "id": "laW205ykvn0S"
   },
   "source": [
    "Data cleaning"
   ]
  },
  {
   "cell_type": "markdown",
   "metadata": {
    "id": "b-cH41xd54Tw"
   },
   "source": [
    "We can see that the table header is presented multiple times in several rows."
   ]
  },
  {
   "cell_type": "code",
   "execution_count": 9,
   "metadata": {
    "colab": {
     "base_uri": "https://localhost:8080/",
     "height": 959
    },
    "executionInfo": {
     "elapsed": 141,
     "status": "ok",
     "timestamp": 1642638407281,
     "user": {
      "displayName": "Gary Davis",
      "photoUrl": "https://lh3.googleusercontent.com/a/default-user=s64",
      "userId": "10026740531512816388"
     },
     "user_tz": 360
    },
    "id": "6St9yeuZg9rf",
    "outputId": "fc53516e-6809-4a04-89cc-b0e8f08b98d0"
   },
   "outputs": [
    {
     "data": {
      "text/html": [
       "<div>\n",
       "<style scoped>\n",
       "    .dataframe tbody tr th:only-of-type {\n",
       "        vertical-align: middle;\n",
       "    }\n",
       "\n",
       "    .dataframe tbody tr th {\n",
       "        vertical-align: top;\n",
       "    }\n",
       "\n",
       "    .dataframe thead th {\n",
       "        text-align: right;\n",
       "    }\n",
       "</style>\n",
       "<table border=\"1\" class=\"dataframe\">\n",
       "  <thead>\n",
       "    <tr style=\"text-align: right;\">\n",
       "      <th></th>\n",
       "      <th>Rk</th>\n",
       "      <th>Player</th>\n",
       "      <th>Nation</th>\n",
       "      <th>Pos</th>\n",
       "      <th>Squad</th>\n",
       "      <th>Comp</th>\n",
       "      <th>Age</th>\n",
       "      <th>Born</th>\n",
       "      <th>90s</th>\n",
       "      <th>Tkl</th>\n",
       "      <th>...</th>\n",
       "      <th>Att 3rd</th>\n",
       "      <th>Blocks</th>\n",
       "      <th>Sh</th>\n",
       "      <th>ShSv</th>\n",
       "      <th>Pass</th>\n",
       "      <th>Int</th>\n",
       "      <th>Tkl+Int</th>\n",
       "      <th>Clr</th>\n",
       "      <th>Err</th>\n",
       "      <th>Matches</th>\n",
       "    </tr>\n",
       "  </thead>\n",
       "  <tbody>\n",
       "    <tr>\n",
       "      <th>25</th>\n",
       "      <td>Rk</td>\n",
       "      <td>Player</td>\n",
       "      <td>Nation</td>\n",
       "      <td>Pos</td>\n",
       "      <td>Squad</td>\n",
       "      <td>Comp</td>\n",
       "      <td>Age</td>\n",
       "      <td>Born</td>\n",
       "      <td>90s</td>\n",
       "      <td>Tkl</td>\n",
       "      <td>...</td>\n",
       "      <td>Att 3rd</td>\n",
       "      <td>Blocks</td>\n",
       "      <td>Sh</td>\n",
       "      <td>ShSv</td>\n",
       "      <td>Pass</td>\n",
       "      <td>Int</td>\n",
       "      <td>Tkl+Int</td>\n",
       "      <td>Clr</td>\n",
       "      <td>Err</td>\n",
       "      <td>Matches</td>\n",
       "    </tr>\n",
       "    <tr>\n",
       "      <th>51</th>\n",
       "      <td>Rk</td>\n",
       "      <td>Player</td>\n",
       "      <td>Nation</td>\n",
       "      <td>Pos</td>\n",
       "      <td>Squad</td>\n",
       "      <td>Comp</td>\n",
       "      <td>Age</td>\n",
       "      <td>Born</td>\n",
       "      <td>90s</td>\n",
       "      <td>Tkl</td>\n",
       "      <td>...</td>\n",
       "      <td>Att 3rd</td>\n",
       "      <td>Blocks</td>\n",
       "      <td>Sh</td>\n",
       "      <td>ShSv</td>\n",
       "      <td>Pass</td>\n",
       "      <td>Int</td>\n",
       "      <td>Tkl+Int</td>\n",
       "      <td>Clr</td>\n",
       "      <td>Err</td>\n",
       "      <td>Matches</td>\n",
       "    </tr>\n",
       "    <tr>\n",
       "      <th>77</th>\n",
       "      <td>Rk</td>\n",
       "      <td>Player</td>\n",
       "      <td>Nation</td>\n",
       "      <td>Pos</td>\n",
       "      <td>Squad</td>\n",
       "      <td>Comp</td>\n",
       "      <td>Age</td>\n",
       "      <td>Born</td>\n",
       "      <td>90s</td>\n",
       "      <td>Tkl</td>\n",
       "      <td>...</td>\n",
       "      <td>Att 3rd</td>\n",
       "      <td>Blocks</td>\n",
       "      <td>Sh</td>\n",
       "      <td>ShSv</td>\n",
       "      <td>Pass</td>\n",
       "      <td>Int</td>\n",
       "      <td>Tkl+Int</td>\n",
       "      <td>Clr</td>\n",
       "      <td>Err</td>\n",
       "      <td>Matches</td>\n",
       "    </tr>\n",
       "    <tr>\n",
       "      <th>103</th>\n",
       "      <td>Rk</td>\n",
       "      <td>Player</td>\n",
       "      <td>Nation</td>\n",
       "      <td>Pos</td>\n",
       "      <td>Squad</td>\n",
       "      <td>Comp</td>\n",
       "      <td>Age</td>\n",
       "      <td>Born</td>\n",
       "      <td>90s</td>\n",
       "      <td>Tkl</td>\n",
       "      <td>...</td>\n",
       "      <td>Att 3rd</td>\n",
       "      <td>Blocks</td>\n",
       "      <td>Sh</td>\n",
       "      <td>ShSv</td>\n",
       "      <td>Pass</td>\n",
       "      <td>Int</td>\n",
       "      <td>Tkl+Int</td>\n",
       "      <td>Clr</td>\n",
       "      <td>Err</td>\n",
       "      <td>Matches</td>\n",
       "    </tr>\n",
       "    <tr>\n",
       "      <th>129</th>\n",
       "      <td>Rk</td>\n",
       "      <td>Player</td>\n",
       "      <td>Nation</td>\n",
       "      <td>Pos</td>\n",
       "      <td>Squad</td>\n",
       "      <td>Comp</td>\n",
       "      <td>Age</td>\n",
       "      <td>Born</td>\n",
       "      <td>90s</td>\n",
       "      <td>Tkl</td>\n",
       "      <td>...</td>\n",
       "      <td>Att 3rd</td>\n",
       "      <td>Blocks</td>\n",
       "      <td>Sh</td>\n",
       "      <td>ShSv</td>\n",
       "      <td>Pass</td>\n",
       "      <td>Int</td>\n",
       "      <td>Tkl+Int</td>\n",
       "      <td>Clr</td>\n",
       "      <td>Err</td>\n",
       "      <td>Matches</td>\n",
       "    </tr>\n",
       "    <tr>\n",
       "      <th>...</th>\n",
       "      <td>...</td>\n",
       "      <td>...</td>\n",
       "      <td>...</td>\n",
       "      <td>...</td>\n",
       "      <td>...</td>\n",
       "      <td>...</td>\n",
       "      <td>...</td>\n",
       "      <td>...</td>\n",
       "      <td>...</td>\n",
       "      <td>...</td>\n",
       "      <td>...</td>\n",
       "      <td>...</td>\n",
       "      <td>...</td>\n",
       "      <td>...</td>\n",
       "      <td>...</td>\n",
       "      <td>...</td>\n",
       "      <td>...</td>\n",
       "      <td>...</td>\n",
       "      <td>...</td>\n",
       "      <td>...</td>\n",
       "      <td>...</td>\n",
       "    </tr>\n",
       "    <tr>\n",
       "      <th>2911</th>\n",
       "      <td>Rk</td>\n",
       "      <td>Player</td>\n",
       "      <td>Nation</td>\n",
       "      <td>Pos</td>\n",
       "      <td>Squad</td>\n",
       "      <td>Comp</td>\n",
       "      <td>Age</td>\n",
       "      <td>Born</td>\n",
       "      <td>90s</td>\n",
       "      <td>Tkl</td>\n",
       "      <td>...</td>\n",
       "      <td>Att 3rd</td>\n",
       "      <td>Blocks</td>\n",
       "      <td>Sh</td>\n",
       "      <td>ShSv</td>\n",
       "      <td>Pass</td>\n",
       "      <td>Int</td>\n",
       "      <td>Tkl+Int</td>\n",
       "      <td>Clr</td>\n",
       "      <td>Err</td>\n",
       "      <td>Matches</td>\n",
       "    </tr>\n",
       "    <tr>\n",
       "      <th>2937</th>\n",
       "      <td>Rk</td>\n",
       "      <td>Player</td>\n",
       "      <td>Nation</td>\n",
       "      <td>Pos</td>\n",
       "      <td>Squad</td>\n",
       "      <td>Comp</td>\n",
       "      <td>Age</td>\n",
       "      <td>Born</td>\n",
       "      <td>90s</td>\n",
       "      <td>Tkl</td>\n",
       "      <td>...</td>\n",
       "      <td>Att 3rd</td>\n",
       "      <td>Blocks</td>\n",
       "      <td>Sh</td>\n",
       "      <td>ShSv</td>\n",
       "      <td>Pass</td>\n",
       "      <td>Int</td>\n",
       "      <td>Tkl+Int</td>\n",
       "      <td>Clr</td>\n",
       "      <td>Err</td>\n",
       "      <td>Matches</td>\n",
       "    </tr>\n",
       "    <tr>\n",
       "      <th>2963</th>\n",
       "      <td>Rk</td>\n",
       "      <td>Player</td>\n",
       "      <td>Nation</td>\n",
       "      <td>Pos</td>\n",
       "      <td>Squad</td>\n",
       "      <td>Comp</td>\n",
       "      <td>Age</td>\n",
       "      <td>Born</td>\n",
       "      <td>90s</td>\n",
       "      <td>Tkl</td>\n",
       "      <td>...</td>\n",
       "      <td>Att 3rd</td>\n",
       "      <td>Blocks</td>\n",
       "      <td>Sh</td>\n",
       "      <td>ShSv</td>\n",
       "      <td>Pass</td>\n",
       "      <td>Int</td>\n",
       "      <td>Tkl+Int</td>\n",
       "      <td>Clr</td>\n",
       "      <td>Err</td>\n",
       "      <td>Matches</td>\n",
       "    </tr>\n",
       "    <tr>\n",
       "      <th>2989</th>\n",
       "      <td>Rk</td>\n",
       "      <td>Player</td>\n",
       "      <td>Nation</td>\n",
       "      <td>Pos</td>\n",
       "      <td>Squad</td>\n",
       "      <td>Comp</td>\n",
       "      <td>Age</td>\n",
       "      <td>Born</td>\n",
       "      <td>90s</td>\n",
       "      <td>Tkl</td>\n",
       "      <td>...</td>\n",
       "      <td>Att 3rd</td>\n",
       "      <td>Blocks</td>\n",
       "      <td>Sh</td>\n",
       "      <td>ShSv</td>\n",
       "      <td>Pass</td>\n",
       "      <td>Int</td>\n",
       "      <td>Tkl+Int</td>\n",
       "      <td>Clr</td>\n",
       "      <td>Err</td>\n",
       "      <td>Matches</td>\n",
       "    </tr>\n",
       "    <tr>\n",
       "      <th>3015</th>\n",
       "      <td>Rk</td>\n",
       "      <td>Player</td>\n",
       "      <td>Nation</td>\n",
       "      <td>Pos</td>\n",
       "      <td>Squad</td>\n",
       "      <td>Comp</td>\n",
       "      <td>Age</td>\n",
       "      <td>Born</td>\n",
       "      <td>90s</td>\n",
       "      <td>Tkl</td>\n",
       "      <td>...</td>\n",
       "      <td>Att 3rd</td>\n",
       "      <td>Blocks</td>\n",
       "      <td>Sh</td>\n",
       "      <td>ShSv</td>\n",
       "      <td>Pass</td>\n",
       "      <td>Int</td>\n",
       "      <td>Tkl+Int</td>\n",
       "      <td>Clr</td>\n",
       "      <td>Err</td>\n",
       "      <td>Matches</td>\n",
       "    </tr>\n",
       "  </tbody>\n",
       "</table>\n",
       "<p>116 rows × 33 columns</p>\n",
       "</div>"
      ],
      "text/plain": [
       "      Rk  Player  Nation  Pos  Squad  Comp  Age  Born  90s  Tkl  ...  Att 3rd  \\\n",
       "25    Rk  Player  Nation  Pos  Squad  Comp  Age  Born  90s  Tkl  ...  Att 3rd   \n",
       "51    Rk  Player  Nation  Pos  Squad  Comp  Age  Born  90s  Tkl  ...  Att 3rd   \n",
       "77    Rk  Player  Nation  Pos  Squad  Comp  Age  Born  90s  Tkl  ...  Att 3rd   \n",
       "103   Rk  Player  Nation  Pos  Squad  Comp  Age  Born  90s  Tkl  ...  Att 3rd   \n",
       "129   Rk  Player  Nation  Pos  Squad  Comp  Age  Born  90s  Tkl  ...  Att 3rd   \n",
       "...   ..     ...     ...  ...    ...   ...  ...   ...  ...  ...  ...      ...   \n",
       "2911  Rk  Player  Nation  Pos  Squad  Comp  Age  Born  90s  Tkl  ...  Att 3rd   \n",
       "2937  Rk  Player  Nation  Pos  Squad  Comp  Age  Born  90s  Tkl  ...  Att 3rd   \n",
       "2963  Rk  Player  Nation  Pos  Squad  Comp  Age  Born  90s  Tkl  ...  Att 3rd   \n",
       "2989  Rk  Player  Nation  Pos  Squad  Comp  Age  Born  90s  Tkl  ...  Att 3rd   \n",
       "3015  Rk  Player  Nation  Pos  Squad  Comp  Age  Born  90s  Tkl  ...  Att 3rd   \n",
       "\n",
       "      Blocks  Sh  ShSv  Pass  Int  Tkl+Int  Clr  Err  Matches  \n",
       "25    Blocks  Sh  ShSv  Pass  Int  Tkl+Int  Clr  Err  Matches  \n",
       "51    Blocks  Sh  ShSv  Pass  Int  Tkl+Int  Clr  Err  Matches  \n",
       "77    Blocks  Sh  ShSv  Pass  Int  Tkl+Int  Clr  Err  Matches  \n",
       "103   Blocks  Sh  ShSv  Pass  Int  Tkl+Int  Clr  Err  Matches  \n",
       "129   Blocks  Sh  ShSv  Pass  Int  Tkl+Int  Clr  Err  Matches  \n",
       "...      ...  ..   ...   ...  ...      ...  ...  ...      ...  \n",
       "2911  Blocks  Sh  ShSv  Pass  Int  Tkl+Int  Clr  Err  Matches  \n",
       "2937  Blocks  Sh  ShSv  Pass  Int  Tkl+Int  Clr  Err  Matches  \n",
       "2963  Blocks  Sh  ShSv  Pass  Int  Tkl+Int  Clr  Err  Matches  \n",
       "2989  Blocks  Sh  ShSv  Pass  Int  Tkl+Int  Clr  Err  Matches  \n",
       "3015  Blocks  Sh  ShSv  Pass  Int  Tkl+Int  Clr  Err  Matches  \n",
       "\n",
       "[116 rows x 33 columns]"
      ]
     },
     "execution_count": 9,
     "metadata": {},
     "output_type": "execute_result"
    }
   ],
   "source": [
    "dfdata[dfdata.Age == 'Age']"
   ]
  },
  {
   "cell_type": "code",
   "execution_count": 10,
   "metadata": {
    "colab": {
     "base_uri": "https://localhost:8080/"
    },
    "executionInfo": {
     "elapsed": 8,
     "status": "ok",
     "timestamp": 1642638407282,
     "user": {
      "displayName": "Gary Davis",
      "photoUrl": "https://lh3.googleusercontent.com/a/default-user=s64",
      "userId": "10026740531512816388"
     },
     "user_tz": 360
    },
    "id": "rdRg9UDI5lus",
    "outputId": "a3859fc3-4f8e-465f-e050-faf20fe09cf9"
   },
   "outputs": [
    {
     "data": {
      "text/plain": [
       "116"
      ]
     },
     "execution_count": 10,
     "metadata": {},
     "output_type": "execute_result"
    }
   ],
   "source": [
    "len(dfdata[dfdata.Age == 'Age'])"
   ]
  },
  {
   "cell_type": "code",
   "execution_count": 11,
   "metadata": {
    "executionInfo": {
     "elapsed": 6,
     "status": "ok",
     "timestamp": 1642638407283,
     "user": {
      "displayName": "Gary Davis",
      "photoUrl": "https://lh3.googleusercontent.com/a/default-user=s64",
      "userId": "10026740531512816388"
     },
     "user_tz": 360
    },
    "id": "lG34yiD5e_Cs"
   },
   "outputs": [],
   "source": [
    "dfdefense = dfdata.drop(dfdata[dfdata.Age == 'Age'].index)"
   ]
  },
  {
   "cell_type": "code",
   "execution_count": 12,
   "metadata": {
    "colab": {
     "base_uri": "https://localhost:8080/"
    },
    "executionInfo": {
     "elapsed": 125,
     "status": "ok",
     "timestamp": 1642638407403,
     "user": {
      "displayName": "Gary Davis",
      "photoUrl": "https://lh3.googleusercontent.com/a/default-user=s64",
      "userId": "10026740531512816388"
     },
     "user_tz": 360
    },
    "id": "QQHt_VHquyNJ",
    "outputId": "1f0038aa-9c19-49bc-8325-dc67d39fd092"
   },
   "outputs": [
    {
     "data": {
      "text/plain": [
       "(2921, 33)"
      ]
     },
     "execution_count": 12,
     "metadata": {},
     "output_type": "execute_result"
    }
   ],
   "source": [
    "dfdefense.shape"
   ]
  },
  {
   "cell_type": "code",
   "execution_count": 13,
   "metadata": {
    "colab": {
     "base_uri": "https://localhost:8080/"
    },
    "executionInfo": {
     "elapsed": 7,
     "status": "ok",
     "timestamp": 1642638407403,
     "user": {
      "displayName": "Gary Davis",
      "photoUrl": "https://lh3.googleusercontent.com/a/default-user=s64",
      "userId": "10026740531512816388"
     },
     "user_tz": 360
    },
    "id": "vZqC36KF8YqE",
    "outputId": "e7b2c3af-9206-4a99-e2f0-fa35a8ee0a46"
   },
   "outputs": [
    {
     "data": {
      "text/plain": [
       "Index(['Rk', 'Player', 'Nation', 'Pos', 'Squad', 'Comp', 'Age', 'Born', '90s',\n",
       "       'Tkl', 'TklW', 'Def 3rd', 'Mid 3rd', 'Att 3rd', 'Tkl', 'Att', 'Tkl%',\n",
       "       'Past', 'Press', 'Succ', '%', 'Def 3rd', 'Mid 3rd', 'Att 3rd', 'Blocks',\n",
       "       'Sh', 'ShSv', 'Pass', 'Int', 'Tkl+Int', 'Clr', 'Err', 'Matches'],\n",
       "      dtype='object')"
      ]
     },
     "execution_count": 13,
     "metadata": {},
     "output_type": "execute_result"
    }
   ],
   "source": [
    "dfdefense.columns"
   ]
  },
  {
   "cell_type": "code",
   "execution_count": 14,
   "metadata": {
    "executionInfo": {
     "elapsed": 6,
     "status": "ok",
     "timestamp": 1642638407404,
     "user": {
      "displayName": "Gary Davis",
      "photoUrl": "https://lh3.googleusercontent.com/a/default-user=s64",
      "userId": "10026740531512816388"
     },
     "user_tz": 360
    },
    "id": "lE8fOs1T8Ywc"
   },
   "outputs": [],
   "source": [
    "#Convert string to float\n",
    "dfdefense['90s'] = dfdefense['90s'].astype(float)\n",
    "dfdefense['Tkl'] = dfdefense['Tkl'].astype(float)\n",
    "dfdefense['TklW'] = dfdefense['TklW'].astype(float)\n",
    "dfdefense['Def 3rd'] = dfdefense['Def 3rd'].astype(float)\n",
    "dfdefense['Mid 3rd'] = dfdefense['Mid 3rd'].astype(float)\n",
    "dfdefense['Att 3rd'] = dfdefense['Att 3rd'].astype(float)\n",
    "dfdefense['Att'] = dfdefense['Att'].astype(float)\n",
    "dfdefense['Tkl%'] = dfdefense['Tkl%'].astype(float)\n",
    "dfdefense['Past'] = dfdefense['Past'].astype(float)\n",
    "dfdefense['Press'] = dfdefense['Press'].astype(float)\n",
    "dfdefense['Succ'] = dfdefense['Succ'].astype(float)\n",
    "dfdefense['%'] = dfdefense['%'].astype(float)\n",
    "dfdefense['Blocks'] = dfdefense['Blocks'].astype(float)\n",
    "dfdefense['Sh'] = dfdefense['Sh'].astype(float)\n",
    "dfdefense['ShSv'] = dfdefense['ShSv'].astype(float)\n",
    "dfdefense['Pass'] = dfdefense['Pass'].astype(float)\n",
    "dfdefense['Int'] = dfdefense['Int'].astype(float)\n",
    "dfdefense['Tkl+Int'] = dfdefense['Tkl+Int'].astype(float)\n",
    "dfdefense['Clr'] = dfdefense['Clr'].astype(float)\n",
    "dfdefense['Err'] = dfdefense['Err'].astype(float)"
   ]
  },
  {
   "cell_type": "code",
   "execution_count": 15,
   "metadata": {
    "executionInfo": {
     "elapsed": 6,
     "status": "ok",
     "timestamp": 1642638407404,
     "user": {
      "displayName": "Gary Davis",
      "photoUrl": "https://lh3.googleusercontent.com/a/default-user=s64",
      "userId": "10026740531512816388"
     },
     "user_tz": 360
    },
    "id": "MxbQETvym0T6"
   },
   "outputs": [],
   "source": [
    "#rename duplicate columns but not the first\n",
    "cols = []\n",
    "count = 1\n",
    "for column in dfdefense.columns:\n",
    "    if column == 'Def 3rd':\n",
    "        cols.append(f'Def 3rd_{count}')\n",
    "        count+=1\n",
    "        continue\n",
    "    cols.append(column)\n",
    "dfdefense.columns = cols"
   ]
  },
  {
   "cell_type": "code",
   "execution_count": 16,
   "metadata": {
    "executionInfo": {
     "elapsed": 6,
     "status": "ok",
     "timestamp": 1642638407404,
     "user": {
      "displayName": "Gary Davis",
      "photoUrl": "https://lh3.googleusercontent.com/a/default-user=s64",
      "userId": "10026740531512816388"
     },
     "user_tz": 360
    },
    "id": "MvK5RTPrm8Dv"
   },
   "outputs": [],
   "source": [
    "#rename duplicate columns but not the first\n",
    "cols = []\n",
    "count = 1\n",
    "for column in dfdefense.columns:\n",
    "    if column == 'Mid 3rd':\n",
    "        cols.append(f'Mid 3rd_{count}')\n",
    "        count+=1\n",
    "        continue\n",
    "    cols.append(column)\n",
    "dfdefense.columns = cols"
   ]
  },
  {
   "cell_type": "code",
   "execution_count": 17,
   "metadata": {
    "executionInfo": {
     "elapsed": 7,
     "status": "ok",
     "timestamp": 1642638407405,
     "user": {
      "displayName": "Gary Davis",
      "photoUrl": "https://lh3.googleusercontent.com/a/default-user=s64",
      "userId": "10026740531512816388"
     },
     "user_tz": 360
    },
    "id": "JLdrVpfLnCSb"
   },
   "outputs": [],
   "source": [
    "cols = []\n",
    "count = 1\n",
    "for column in dfdefense.columns:\n",
    "    if column == 'Att 3rd':\n",
    "        cols.append(f'Att 3rd_{count}')\n",
    "        count+=1\n",
    "        continue\n",
    "    cols.append(column)\n",
    "dfdefense.columns = cols"
   ]
  },
  {
   "cell_type": "code",
   "execution_count": 18,
   "metadata": {
    "executionInfo": {
     "elapsed": 148,
     "status": "ok",
     "timestamp": 1642638407547,
     "user": {
      "displayName": "Gary Davis",
      "photoUrl": "https://lh3.googleusercontent.com/a/default-user=s64",
      "userId": "10026740531512816388"
     },
     "user_tz": 360
    },
    "id": "LLT_mpWanKOY"
   },
   "outputs": [],
   "source": [
    "cols = []\n",
    "count = 1\n",
    "for column in dfdefense.columns:\n",
    "    if column == 'Tkl':\n",
    "        cols.append(f'Tkl_{count}')\n",
    "        count+=1\n",
    "        continue\n",
    "    cols.append(column)\n",
    "dfdefense.columns = cols"
   ]
  },
  {
   "cell_type": "code",
   "execution_count": 19,
   "metadata": {
    "executionInfo": {
     "elapsed": 6,
     "status": "ok",
     "timestamp": 1642638407548,
     "user": {
      "displayName": "Gary Davis",
      "photoUrl": "https://lh3.googleusercontent.com/a/default-user=s64",
      "userId": "10026740531512816388"
     },
     "user_tz": 360
    },
    "id": "tAKvZSmo8c9F"
   },
   "outputs": [],
   "source": [
    "#turn data into p 90\n",
    "dfdefense['Tkl_1'] = dfdefense['Tkl_1'] / dfdefense['90s']\n",
    "dfdefense['TklW'] = dfdefense['TklW'] / dfdefense['90s']\n",
    "dfdefense['Def 3rd_1'] = dfdefense['Def 3rd_1'] / dfdefense['90s']\n",
    "dfdefense['Mid 3rd_1'] = dfdefense['Mid 3rd_1'] / dfdefense['90s']\n",
    "dfdefense['Att 3rd_1'] = dfdefense['Att 3rd_1'] / dfdefense['90s']\n",
    "dfdefense['Tkl_2'] = dfdefense['Tkl_2'] / dfdefense['90s']\n",
    "dfdefense['Att'] = dfdefense['Att'] / dfdefense['90s']\n",
    "dfdefense['Past'] = dfdefense['Past'] / dfdefense['90s']\n",
    "dfdefense['Press'] = dfdefense['Press'] / dfdefense['90s']\n",
    "dfdefense['Succ'] = dfdefense['Succ'] / dfdefense['90s']\n",
    "dfdefense['Def 3rd_2'] = dfdefense['Def 3rd_2'] / dfdefense['90s']\n",
    "dfdefense['Mid 3rd_2'] = dfdefense['Mid 3rd_2'] / dfdefense['90s']\n",
    "dfdefense['Att 3rd_2'] = dfdefense['Att 3rd_2'] / dfdefense['90s']\n",
    "dfdefense['Blocks'] = dfdefense['Blocks'] / dfdefense['90s']\n",
    "dfdefense['Sh'] = dfdefense['Sh'] / dfdefense['90s']\n",
    "dfdefense['ShSv'] = dfdefense['ShSv'] / dfdefense['90s']\n",
    "dfdefense['Pass'] = dfdefense['Pass'] / dfdefense['90s']\n",
    "dfdefense['Int'] = dfdefense['Int'] / dfdefense['90s']\n",
    "dfdefense['Tkl+Int'] = dfdefense['Tkl+Int'] / dfdefense['90s']\n",
    "dfdefense['Clr'] = dfdefense['Clr'] / dfdefense['90s']\n",
    "dfdefense['Err'] = dfdefense['Err'] / dfdefense['90s']"
   ]
  },
  {
   "cell_type": "code",
   "execution_count": 20,
   "metadata": {
    "colab": {
     "base_uri": "https://localhost:8080/",
     "height": 392
    },
    "executionInfo": {
     "elapsed": 7,
     "status": "ok",
     "timestamp": 1642638407549,
     "user": {
      "displayName": "Gary Davis",
      "photoUrl": "https://lh3.googleusercontent.com/a/default-user=s64",
      "userId": "10026740531512816388"
     },
     "user_tz": 360
    },
    "id": "NXoH9Vn1uyWI",
    "outputId": "edca2b7b-43dd-4c11-8d7e-2a275abaf891"
   },
   "outputs": [
    {
     "data": {
      "text/html": [
       "<div>\n",
       "<style scoped>\n",
       "    .dataframe tbody tr th:only-of-type {\n",
       "        vertical-align: middle;\n",
       "    }\n",
       "\n",
       "    .dataframe tbody tr th {\n",
       "        vertical-align: top;\n",
       "    }\n",
       "\n",
       "    .dataframe thead th {\n",
       "        text-align: right;\n",
       "    }\n",
       "</style>\n",
       "<table border=\"1\" class=\"dataframe\">\n",
       "  <thead>\n",
       "    <tr style=\"text-align: right;\">\n",
       "      <th></th>\n",
       "      <th>Rk</th>\n",
       "      <th>Player</th>\n",
       "      <th>Nation</th>\n",
       "      <th>Pos</th>\n",
       "      <th>Squad</th>\n",
       "      <th>Comp</th>\n",
       "      <th>Age</th>\n",
       "      <th>Born</th>\n",
       "      <th>90s</th>\n",
       "      <th>Tkl_1</th>\n",
       "      <th>...</th>\n",
       "      <th>Att 3rd_2</th>\n",
       "      <th>Blocks</th>\n",
       "      <th>Sh</th>\n",
       "      <th>ShSv</th>\n",
       "      <th>Pass</th>\n",
       "      <th>Int</th>\n",
       "      <th>Tkl+Int</th>\n",
       "      <th>Clr</th>\n",
       "      <th>Err</th>\n",
       "      <th>Matches</th>\n",
       "    </tr>\n",
       "  </thead>\n",
       "  <tbody>\n",
       "    <tr>\n",
       "      <th>0</th>\n",
       "      <td>1</td>\n",
       "      <td>Max Aarons</td>\n",
       "      <td>eng ENG</td>\n",
       "      <td>DF</td>\n",
       "      <td>Norwich City</td>\n",
       "      <td>eng Premier League</td>\n",
       "      <td>21</td>\n",
       "      <td>2000</td>\n",
       "      <td>32.0</td>\n",
       "      <td>2.156250</td>\n",
       "      <td>...</td>\n",
       "      <td>1.218750</td>\n",
       "      <td>2.687500</td>\n",
       "      <td>0.687500</td>\n",
       "      <td>0.031250</td>\n",
       "      <td>2.000000</td>\n",
       "      <td>1.750000</td>\n",
       "      <td>3.906250</td>\n",
       "      <td>2.187500</td>\n",
       "      <td>0.0</td>\n",
       "      <td>Matches</td>\n",
       "    </tr>\n",
       "    <tr>\n",
       "      <th>1</th>\n",
       "      <td>2</td>\n",
       "      <td>Yunis Abdelhamid</td>\n",
       "      <td>ma MAR</td>\n",
       "      <td>DF</td>\n",
       "      <td>Reims</td>\n",
       "      <td>fr Ligue 1</td>\n",
       "      <td>33</td>\n",
       "      <td>1987</td>\n",
       "      <td>33.1</td>\n",
       "      <td>1.873112</td>\n",
       "      <td>...</td>\n",
       "      <td>0.876133</td>\n",
       "      <td>1.873112</td>\n",
       "      <td>0.785498</td>\n",
       "      <td>0.060423</td>\n",
       "      <td>1.087613</td>\n",
       "      <td>3.111782</td>\n",
       "      <td>4.984894</td>\n",
       "      <td>3.202417</td>\n",
       "      <td>0.0</td>\n",
       "      <td>Matches</td>\n",
       "    </tr>\n",
       "    <tr>\n",
       "      <th>2</th>\n",
       "      <td>3</td>\n",
       "      <td>Salis Abdul Samed</td>\n",
       "      <td>gh GHA</td>\n",
       "      <td>MF</td>\n",
       "      <td>Clermont Foot</td>\n",
       "      <td>fr Ligue 1</td>\n",
       "      <td>21</td>\n",
       "      <td>2000</td>\n",
       "      <td>27.4</td>\n",
       "      <td>2.007299</td>\n",
       "      <td>...</td>\n",
       "      <td>3.941606</td>\n",
       "      <td>0.985401</td>\n",
       "      <td>0.036496</td>\n",
       "      <td>0.000000</td>\n",
       "      <td>0.948905</td>\n",
       "      <td>1.861314</td>\n",
       "      <td>3.868613</td>\n",
       "      <td>0.547445</td>\n",
       "      <td>0.0</td>\n",
       "      <td>Matches</td>\n",
       "    </tr>\n",
       "    <tr>\n",
       "      <th>3</th>\n",
       "      <td>4</td>\n",
       "      <td>Laurent Abergel</td>\n",
       "      <td>fr FRA</td>\n",
       "      <td>MF</td>\n",
       "      <td>Lorient</td>\n",
       "      <td>fr Ligue 1</td>\n",
       "      <td>28</td>\n",
       "      <td>1993</td>\n",
       "      <td>32.8</td>\n",
       "      <td>3.567073</td>\n",
       "      <td>...</td>\n",
       "      <td>3.414634</td>\n",
       "      <td>1.676829</td>\n",
       "      <td>0.091463</td>\n",
       "      <td>0.000000</td>\n",
       "      <td>1.585366</td>\n",
       "      <td>2.560976</td>\n",
       "      <td>6.128049</td>\n",
       "      <td>0.335366</td>\n",
       "      <td>0.0</td>\n",
       "      <td>Matches</td>\n",
       "    </tr>\n",
       "    <tr>\n",
       "      <th>4</th>\n",
       "      <td>5</td>\n",
       "      <td>Charles Abi</td>\n",
       "      <td>fr FRA</td>\n",
       "      <td>FW</td>\n",
       "      <td>Saint-Étienne</td>\n",
       "      <td>fr Ligue 1</td>\n",
       "      <td>21</td>\n",
       "      <td>2000</td>\n",
       "      <td>0.5</td>\n",
       "      <td>0.000000</td>\n",
       "      <td>...</td>\n",
       "      <td>6.000000</td>\n",
       "      <td>2.000000</td>\n",
       "      <td>0.000000</td>\n",
       "      <td>0.000000</td>\n",
       "      <td>2.000000</td>\n",
       "      <td>0.000000</td>\n",
       "      <td>0.000000</td>\n",
       "      <td>0.000000</td>\n",
       "      <td>0.0</td>\n",
       "      <td>Matches</td>\n",
       "    </tr>\n",
       "  </tbody>\n",
       "</table>\n",
       "<p>5 rows × 33 columns</p>\n",
       "</div>"
      ],
      "text/plain": [
       "  Rk             Player   Nation Pos          Squad                Comp Age  \\\n",
       "0  1         Max Aarons  eng ENG  DF   Norwich City  eng Premier League  21   \n",
       "1  2   Yunis Abdelhamid   ma MAR  DF          Reims          fr Ligue 1  33   \n",
       "2  3  Salis Abdul Samed   gh GHA  MF  Clermont Foot          fr Ligue 1  21   \n",
       "3  4    Laurent Abergel   fr FRA  MF        Lorient          fr Ligue 1  28   \n",
       "4  5        Charles Abi   fr FRA  FW  Saint-Étienne          fr Ligue 1  21   \n",
       "\n",
       "   Born   90s     Tkl_1  ...  Att 3rd_2    Blocks        Sh      ShSv  \\\n",
       "0  2000  32.0  2.156250  ...   1.218750  2.687500  0.687500  0.031250   \n",
       "1  1987  33.1  1.873112  ...   0.876133  1.873112  0.785498  0.060423   \n",
       "2  2000  27.4  2.007299  ...   3.941606  0.985401  0.036496  0.000000   \n",
       "3  1993  32.8  3.567073  ...   3.414634  1.676829  0.091463  0.000000   \n",
       "4  2000   0.5  0.000000  ...   6.000000  2.000000  0.000000  0.000000   \n",
       "\n",
       "       Pass       Int   Tkl+Int       Clr  Err  Matches  \n",
       "0  2.000000  1.750000  3.906250  2.187500  0.0  Matches  \n",
       "1  1.087613  3.111782  4.984894  3.202417  0.0  Matches  \n",
       "2  0.948905  1.861314  3.868613  0.547445  0.0  Matches  \n",
       "3  1.585366  2.560976  6.128049  0.335366  0.0  Matches  \n",
       "4  2.000000  0.000000  0.000000  0.000000  0.0  Matches  \n",
       "\n",
       "[5 rows x 33 columns]"
      ]
     },
     "execution_count": 20,
     "metadata": {},
     "output_type": "execute_result"
    }
   ],
   "source": [
    "dfdefense.head()"
   ]
  },
  {
   "cell_type": "code",
   "execution_count": 21,
   "metadata": {},
   "outputs": [],
   "source": [
    "dfdefense['PlSqu'] = dfdefense['Player'] + dfdefense['Squad']"
   ]
  },
  {
   "cell_type": "code",
   "execution_count": 22,
   "metadata": {},
   "outputs": [],
   "source": [
    "dfdefense['Player'] = dfdefense['Player'].apply(unidecode)"
   ]
  },
  {
   "cell_type": "code",
   "execution_count": 23,
   "metadata": {},
   "outputs": [],
   "source": [
    "dfdefense['Squad'] = dfdefense['Squad'].apply(unidecode)"
   ]
  },
  {
   "cell_type": "code",
   "execution_count": 24,
   "metadata": {
    "executionInfo": {
     "elapsed": 120,
     "status": "ok",
     "timestamp": 1642638407664,
     "user": {
      "displayName": "Gary Davis",
      "photoUrl": "https://lh3.googleusercontent.com/a/default-user=s64",
      "userId": "10026740531512816388"
     },
     "user_tz": 360
    },
    "id": "xhSx7BPdvSjB"
   },
   "outputs": [],
   "source": [
    "dfdefense.to_csv('fbrefBig5Defense.csv', index=False)"
   ]
  }
 ],
 "metadata": {
  "colab": {
   "collapsed_sections": [],
   "name": "Scrape MLS Defense Stats.ipynb",
   "provenance": []
  },
  "kernelspec": {
   "display_name": "Python 3 (ipykernel)",
   "language": "python",
   "name": "python3"
  },
  "language_info": {
   "codemirror_mode": {
    "name": "ipython",
    "version": 3
   },
   "file_extension": ".py",
   "mimetype": "text/x-python",
   "name": "python",
   "nbconvert_exporter": "python",
   "pygments_lexer": "ipython3",
   "version": "3.9.7"
  }
 },
 "nbformat": 4,
 "nbformat_minor": 1
}
